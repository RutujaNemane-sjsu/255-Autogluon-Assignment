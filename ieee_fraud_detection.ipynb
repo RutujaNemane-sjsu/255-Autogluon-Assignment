{
  "cells": [
    {
      "cell_type": "code",
      "execution_count": null,
      "metadata": {
        "colab": {
          "base_uri": "https://localhost:8080/",
          "height": 1000
        },
        "id": "1fK26uE6P6o4",
        "outputId": "5b334eb3-05c0-42f5-f150-1b4e244a6264"
      },
      "outputs": [
        {
          "output_type": "stream",
          "name": "stdout",
          "text": [
            "Collecting autogluon\n",
            "  Downloading autogluon-1.1.1-py3-none-any.whl.metadata (11 kB)\n",
            "Collecting autogluon.core==1.1.1 (from autogluon.core[all]==1.1.1->autogluon)\n",
            "  Downloading autogluon.core-1.1.1-py3-none-any.whl.metadata (11 kB)\n",
            "Collecting autogluon.features==1.1.1 (from autogluon)\n",
            "  Downloading autogluon.features-1.1.1-py3-none-any.whl.metadata (11 kB)\n",
            "Collecting autogluon.tabular==1.1.1 (from autogluon.tabular[all]==1.1.1->autogluon)\n",
            "  Downloading autogluon.tabular-1.1.1-py3-none-any.whl.metadata (13 kB)\n",
            "Collecting autogluon.multimodal==1.1.1 (from autogluon)\n",
            "  Downloading autogluon.multimodal-1.1.1-py3-none-any.whl.metadata (12 kB)\n",
            "Collecting autogluon.timeseries==1.1.1 (from autogluon.timeseries[all]==1.1.1->autogluon)\n",
            "  Downloading autogluon.timeseries-1.1.1-py3-none-any.whl.metadata (12 kB)\n",
            "Requirement already satisfied: numpy<1.29,>=1.21 in /usr/local/lib/python3.10/dist-packages (from autogluon.core==1.1.1->autogluon.core[all]==1.1.1->autogluon) (1.26.4)\n",
            "Collecting scipy<1.13,>=1.5.4 (from autogluon.core==1.1.1->autogluon.core[all]==1.1.1->autogluon)\n",
            "  Downloading scipy-1.12.0-cp310-cp310-manylinux_2_17_x86_64.manylinux2014_x86_64.whl.metadata (60 kB)\n",
            "\u001b[2K     \u001b[90m━━━━━━━━━━━━━━━━━━━━━━━━━━━━━━━━━━━━━━━━\u001b[0m \u001b[32m60.4/60.4 kB\u001b[0m \u001b[31m2.6 MB/s\u001b[0m eta \u001b[36m0:00:00\u001b[0m\n",
            "\u001b[?25hRequirement already satisfied: scikit-learn<1.4.1,>=1.3.0 in /usr/local/lib/python3.10/dist-packages (from autogluon.core==1.1.1->autogluon.core[all]==1.1.1->autogluon) (1.3.2)\n",
            "Requirement already satisfied: networkx<4,>=3.0 in /usr/local/lib/python3.10/dist-packages (from autogluon.core==1.1.1->autogluon.core[all]==1.1.1->autogluon) (3.3)\n",
            "Requirement already satisfied: pandas<2.3.0,>=2.0.0 in /usr/local/lib/python3.10/dist-packages (from autogluon.core==1.1.1->autogluon.core[all]==1.1.1->autogluon) (2.1.4)\n",
            "Requirement already satisfied: tqdm<5,>=4.38 in /usr/local/lib/python3.10/dist-packages (from autogluon.core==1.1.1->autogluon.core[all]==1.1.1->autogluon) (4.66.5)\n",
            "Requirement already satisfied: requests in /usr/local/lib/python3.10/dist-packages (from autogluon.core==1.1.1->autogluon.core[all]==1.1.1->autogluon) (2.32.3)\n",
            "Requirement already satisfied: matplotlib in /usr/local/lib/python3.10/dist-packages (from autogluon.core==1.1.1->autogluon.core[all]==1.1.1->autogluon) (3.7.1)\n",
            "Collecting boto3<2,>=1.10 (from autogluon.core==1.1.1->autogluon.core[all]==1.1.1->autogluon)\n",
            "  Downloading boto3-1.35.19-py3-none-any.whl.metadata (6.6 kB)\n",
            "Collecting autogluon.common==1.1.1 (from autogluon.core==1.1.1->autogluon.core[all]==1.1.1->autogluon)\n",
            "  Downloading autogluon.common-1.1.1-py3-none-any.whl.metadata (11 kB)\n",
            "Collecting ray<2.11,>=2.10.0 (from ray[default,tune]<2.11,>=2.10.0; extra == \"all\"->autogluon.core[all]==1.1.1->autogluon)\n",
            "  Downloading ray-2.10.0-cp310-cp310-manylinux2014_x86_64.whl.metadata (13 kB)\n",
            "Requirement already satisfied: hyperopt<0.2.8,>=0.2.7 in /usr/local/lib/python3.10/dist-packages (from autogluon.core[all]==1.1.1->autogluon) (0.2.7)\n",
            "Collecting Pillow<11,>=10.0.1 (from autogluon.multimodal==1.1.1->autogluon)\n",
            "  Downloading pillow-10.4.0-cp310-cp310-manylinux_2_28_x86_64.whl.metadata (9.2 kB)\n",
            "Collecting torch<2.4,>=2.2 (from autogluon.multimodal==1.1.1->autogluon)\n",
            "  Downloading torch-2.3.1-cp310-cp310-manylinux1_x86_64.whl.metadata (26 kB)\n",
            "Collecting lightning<2.4,>=2.2 (from autogluon.multimodal==1.1.1->autogluon)\n",
            "  Downloading lightning-2.3.3-py3-none-any.whl.metadata (35 kB)\n",
            "Collecting transformers<4.41.0,>=4.38.0 (from transformers[sentencepiece]<4.41.0,>=4.38.0->autogluon.multimodal==1.1.1->autogluon)\n",
            "  Downloading transformers-4.40.2-py3-none-any.whl.metadata (137 kB)\n",
            "\u001b[2K     \u001b[90m━━━━━━━━━━━━━━━━━━━━━━━━━━━━━━━━━━━━━━━━\u001b[0m \u001b[32m138.0/138.0 kB\u001b[0m \u001b[31m6.4 MB/s\u001b[0m eta \u001b[36m0:00:00\u001b[0m\n",
            "\u001b[?25hCollecting accelerate<0.22.0,>=0.21.0 (from autogluon.multimodal==1.1.1->autogluon)\n",
            "  Downloading accelerate-0.21.0-py3-none-any.whl.metadata (17 kB)\n",
            "Collecting jsonschema<4.22,>=4.18 (from autogluon.multimodal==1.1.1->autogluon)\n",
            "  Downloading jsonschema-4.21.1-py3-none-any.whl.metadata (7.8 kB)\n",
            "Collecting seqeval<1.3.0,>=1.2.2 (from autogluon.multimodal==1.1.1->autogluon)\n",
            "  Downloading seqeval-1.2.2.tar.gz (43 kB)\n",
            "\u001b[2K     \u001b[90m━━━━━━━━━━━━━━━━━━━━━━━━━━━━━━━━━━━━━━━━\u001b[0m \u001b[32m43.6/43.6 kB\u001b[0m \u001b[31m2.6 MB/s\u001b[0m eta \u001b[36m0:00:00\u001b[0m\n",
            "\u001b[?25h  Preparing metadata (setup.py) ... \u001b[?25l\u001b[?25hdone\n",
            "Collecting evaluate<0.5.0,>=0.4.0 (from autogluon.multimodal==1.1.1->autogluon)\n",
            "  Downloading evaluate-0.4.3-py3-none-any.whl.metadata (9.2 kB)\n",
            "Collecting timm<0.10.0,>=0.9.5 (from autogluon.multimodal==1.1.1->autogluon)\n",
            "  Downloading timm-0.9.16-py3-none-any.whl.metadata (38 kB)\n",
            "Collecting torchvision<0.19.0,>=0.16.0 (from autogluon.multimodal==1.1.1->autogluon)\n",
            "  Downloading torchvision-0.18.1-cp310-cp310-manylinux1_x86_64.whl.metadata (6.6 kB)\n",
            "Collecting scikit-image<0.21.0,>=0.19.1 (from autogluon.multimodal==1.1.1->autogluon)\n",
            "  Downloading scikit_image-0.20.0-cp310-cp310-manylinux_2_17_x86_64.manylinux2014_x86_64.whl.metadata (16 kB)\n",
            "Requirement already satisfied: text-unidecode<1.4,>=1.3 in /usr/local/lib/python3.10/dist-packages (from autogluon.multimodal==1.1.1->autogluon) (1.3)\n",
            "Collecting torchmetrics<1.3.0,>=1.2.0 (from autogluon.multimodal==1.1.1->autogluon)\n",
            "  Downloading torchmetrics-1.2.1-py3-none-any.whl.metadata (20 kB)\n",
            "Collecting nptyping<2.5.0,>=1.4.4 (from autogluon.multimodal==1.1.1->autogluon)\n",
            "  Downloading nptyping-2.4.1-py3-none-any.whl.metadata (7.7 kB)\n",
            "Collecting omegaconf<2.3.0,>=2.1.1 (from autogluon.multimodal==1.1.1->autogluon)\n",
            "  Downloading omegaconf-2.2.3-py3-none-any.whl.metadata (3.9 kB)\n",
            "Collecting pytorch-metric-learning<2.4,>=1.3.0 (from autogluon.multimodal==1.1.1->autogluon)\n",
            "  Downloading pytorch_metric_learning-2.3.0-py3-none-any.whl.metadata (17 kB)\n",
            "Collecting nlpaug<1.2.0,>=1.1.10 (from autogluon.multimodal==1.1.1->autogluon)\n",
            "  Downloading nlpaug-1.1.11-py3-none-any.whl.metadata (14 kB)\n",
            "Requirement already satisfied: nltk<4.0.0,>=3.4.5 in /usr/local/lib/python3.10/dist-packages (from autogluon.multimodal==1.1.1->autogluon) (3.8.1)\n",
            "Collecting openmim<0.4.0,>=0.3.7 (from autogluon.multimodal==1.1.1->autogluon)\n",
            "  Downloading openmim-0.3.9-py2.py3-none-any.whl.metadata (16 kB)\n",
            "Requirement already satisfied: defusedxml<0.7.2,>=0.7.1 in /usr/local/lib/python3.10/dist-packages (from autogluon.multimodal==1.1.1->autogluon) (0.7.1)\n",
            "Requirement already satisfied: jinja2<3.2,>=3.0.3 in /usr/local/lib/python3.10/dist-packages (from autogluon.multimodal==1.1.1->autogluon) (3.1.4)\n",
            "Requirement already satisfied: tensorboard<3,>=2.9 in /usr/local/lib/python3.10/dist-packages (from autogluon.multimodal==1.1.1->autogluon) (2.17.0)\n",
            "Collecting pytesseract<0.3.11,>=0.3.9 (from autogluon.multimodal==1.1.1->autogluon)\n",
            "  Downloading pytesseract-0.3.10-py3-none-any.whl.metadata (11 kB)\n",
            "Collecting nvidia-ml-py3==7.352.0 (from autogluon.multimodal==1.1.1->autogluon)\n",
            "  Downloading nvidia-ml-py3-7.352.0.tar.gz (19 kB)\n",
            "  Preparing metadata (setup.py) ... \u001b[?25l\u001b[?25hdone\n",
            "Collecting pdf2image<1.19,>=1.17.0 (from autogluon.multimodal==1.1.1->autogluon)\n",
            "  Downloading pdf2image-1.17.0-py3-none-any.whl.metadata (6.2 kB)\n",
            "Collecting xgboost<2.1,>=1.6 (from autogluon.tabular[all]==1.1.1->autogluon)\n",
            "  Downloading xgboost-2.0.3-py3-none-manylinux2014_x86_64.whl.metadata (2.0 kB)\n",
            "Requirement already satisfied: fastai<2.8,>=2.3.1 in /usr/local/lib/python3.10/dist-packages (from autogluon.tabular[all]==1.1.1->autogluon) (2.7.17)\n",
            "Collecting lightgbm<4.4,>=3.3 (from autogluon.tabular[all]==1.1.1->autogluon)\n",
            "  Downloading lightgbm-4.3.0-py3-none-manylinux_2_28_x86_64.whl.metadata (19 kB)\n",
            "Collecting catboost<1.3,>=1.1 (from autogluon.tabular[all]==1.1.1->autogluon)\n",
            "  Downloading catboost-1.2.7-cp310-cp310-manylinux2014_x86_64.whl.metadata (1.2 kB)\n",
            "Requirement already satisfied: joblib<2,>=1.1 in /usr/local/lib/python3.10/dist-packages (from autogluon.timeseries==1.1.1->autogluon.timeseries[all]==1.1.1->autogluon) (1.4.2)\n",
            "Collecting pytorch-lightning<2.4,>=2.2 (from autogluon.timeseries==1.1.1->autogluon.timeseries[all]==1.1.1->autogluon)\n",
            "  Downloading pytorch_lightning-2.3.3-py3-none-any.whl.metadata (21 kB)\n",
            "Collecting gluonts==0.15.1 (from autogluon.timeseries==1.1.1->autogluon.timeseries[all]==1.1.1->autogluon)\n",
            "  Downloading gluonts-0.15.1-py3-none-any.whl.metadata (9.9 kB)\n",
            "Collecting statsforecast<1.5,>=1.4.0 (from autogluon.timeseries==1.1.1->autogluon.timeseries[all]==1.1.1->autogluon)\n",
            "  Downloading statsforecast-1.4.0-py3-none-any.whl.metadata (19 kB)\n",
            "Collecting mlforecast<0.10.1,>=0.10.0 (from autogluon.timeseries==1.1.1->autogluon.timeseries[all]==1.1.1->autogluon)\n",
            "  Downloading mlforecast-0.10.0-py3-none-any.whl.metadata (11 kB)\n",
            "Collecting utilsforecast<0.0.11,>=0.0.10 (from autogluon.timeseries==1.1.1->autogluon.timeseries[all]==1.1.1->autogluon)\n",
            "  Downloading utilsforecast-0.0.10-py3-none-any.whl.metadata (7.0 kB)\n",
            "Collecting orjson~=3.9 (from autogluon.timeseries==1.1.1->autogluon.timeseries[all]==1.1.1->autogluon)\n",
            "  Downloading orjson-3.10.7-cp310-cp310-manylinux_2_17_x86_64.manylinux2014_x86_64.whl.metadata (50 kB)\n",
            "\u001b[2K     \u001b[90m━━━━━━━━━━━━━━━━━━━━━━━━━━━━━━━━━━━━━━━━\u001b[0m \u001b[32m50.4/50.4 kB\u001b[0m \u001b[31m2.2 MB/s\u001b[0m eta \u001b[36m0:00:00\u001b[0m\n",
            "\u001b[?25hCollecting optimum<1.19,>=1.17 (from optimum[onnxruntime]<1.19,>=1.17; extra == \"all\"->autogluon.timeseries[all]==1.1.1->autogluon)\n",
            "  Downloading optimum-1.18.1-py3-none-any.whl.metadata (18 kB)\n",
            "Requirement already satisfied: psutil<6,>=5.7.3 in /usr/local/lib/python3.10/dist-packages (from autogluon.common==1.1.1->autogluon.core==1.1.1->autogluon.core[all]==1.1.1->autogluon) (5.9.5)\n",
            "Requirement already satisfied: setuptools in /usr/local/lib/python3.10/dist-packages (from autogluon.common==1.1.1->autogluon.core==1.1.1->autogluon.core[all]==1.1.1->autogluon) (71.0.4)\n",
            "Requirement already satisfied: pydantic<3,>=1.7 in /usr/local/lib/python3.10/dist-packages (from gluonts==0.15.1->autogluon.timeseries==1.1.1->autogluon.timeseries[all]==1.1.1->autogluon) (2.9.1)\n",
            "Requirement already satisfied: toolz~=0.10 in /usr/local/lib/python3.10/dist-packages (from gluonts==0.15.1->autogluon.timeseries==1.1.1->autogluon.timeseries[all]==1.1.1->autogluon) (0.12.1)\n",
            "Requirement already satisfied: typing-extensions~=4.0 in /usr/local/lib/python3.10/dist-packages (from gluonts==0.15.1->autogluon.timeseries==1.1.1->autogluon.timeseries[all]==1.1.1->autogluon) (4.12.2)\n",
            "Requirement already satisfied: packaging>=20.0 in /usr/local/lib/python3.10/dist-packages (from accelerate<0.22.0,>=0.21.0->autogluon.multimodal==1.1.1->autogluon) (24.1)\n",
            "Requirement already satisfied: pyyaml in /usr/local/lib/python3.10/dist-packages (from accelerate<0.22.0,>=0.21.0->autogluon.multimodal==1.1.1->autogluon) (6.0.2)\n",
            "Collecting botocore<1.36.0,>=1.35.19 (from boto3<2,>=1.10->autogluon.core==1.1.1->autogluon.core[all]==1.1.1->autogluon)\n",
            "  Downloading botocore-1.35.19-py3-none-any.whl.metadata (5.7 kB)\n",
            "Collecting jmespath<2.0.0,>=0.7.1 (from boto3<2,>=1.10->autogluon.core==1.1.1->autogluon.core[all]==1.1.1->autogluon)\n",
            "  Downloading jmespath-1.0.1-py3-none-any.whl.metadata (7.6 kB)\n",
            "Collecting s3transfer<0.11.0,>=0.10.0 (from boto3<2,>=1.10->autogluon.core==1.1.1->autogluon.core[all]==1.1.1->autogluon)\n",
            "  Downloading s3transfer-0.10.2-py3-none-any.whl.metadata (1.7 kB)\n",
            "Requirement already satisfied: graphviz in /usr/local/lib/python3.10/dist-packages (from catboost<1.3,>=1.1->autogluon.tabular[all]==1.1.1->autogluon) (0.20.3)\n",
            "Requirement already satisfied: plotly in /usr/local/lib/python3.10/dist-packages (from catboost<1.3,>=1.1->autogluon.tabular[all]==1.1.1->autogluon) (5.15.0)\n",
            "Requirement already satisfied: six in /usr/local/lib/python3.10/dist-packages (from catboost<1.3,>=1.1->autogluon.tabular[all]==1.1.1->autogluon) (1.16.0)\n",
            "Collecting datasets>=2.0.0 (from evaluate<0.5.0,>=0.4.0->autogluon.multimodal==1.1.1->autogluon)\n",
            "  Downloading datasets-3.0.0-py3-none-any.whl.metadata (19 kB)\n",
            "Collecting dill (from evaluate<0.5.0,>=0.4.0->autogluon.multimodal==1.1.1->autogluon)\n",
            "  Downloading dill-0.3.8-py3-none-any.whl.metadata (10 kB)\n",
            "Collecting xxhash (from evaluate<0.5.0,>=0.4.0->autogluon.multimodal==1.1.1->autogluon)\n",
            "  Downloading xxhash-3.5.0-cp310-cp310-manylinux_2_17_x86_64.manylinux2014_x86_64.whl.metadata (12 kB)\n",
            "Collecting multiprocess (from evaluate<0.5.0,>=0.4.0->autogluon.multimodal==1.1.1->autogluon)\n",
            "  Downloading multiprocess-0.70.16-py310-none-any.whl.metadata (7.2 kB)\n",
            "Requirement already satisfied: fsspec>=2021.05.0 in /usr/local/lib/python3.10/dist-packages (from fsspec[http]>=2021.05.0->evaluate<0.5.0,>=0.4.0->autogluon.multimodal==1.1.1->autogluon) (2024.6.1)\n",
            "Requirement already satisfied: huggingface-hub>=0.7.0 in /usr/local/lib/python3.10/dist-packages (from evaluate<0.5.0,>=0.4.0->autogluon.multimodal==1.1.1->autogluon) (0.24.6)\n",
            "Requirement already satisfied: pip in /usr/local/lib/python3.10/dist-packages (from fastai<2.8,>=2.3.1->autogluon.tabular[all]==1.1.1->autogluon) (24.1.2)\n",
            "Requirement already satisfied: fastdownload<2,>=0.0.5 in /usr/local/lib/python3.10/dist-packages (from fastai<2.8,>=2.3.1->autogluon.tabular[all]==1.1.1->autogluon) (0.0.7)\n",
            "Requirement already satisfied: fastcore<1.8,>=1.5.29 in /usr/local/lib/python3.10/dist-packages (from fastai<2.8,>=2.3.1->autogluon.tabular[all]==1.1.1->autogluon) (1.7.5)\n",
            "Requirement already satisfied: fastprogress>=0.2.4 in /usr/local/lib/python3.10/dist-packages (from fastai<2.8,>=2.3.1->autogluon.tabular[all]==1.1.1->autogluon) (1.0.3)\n",
            "Requirement already satisfied: spacy<4 in /usr/local/lib/python3.10/dist-packages (from fastai<2.8,>=2.3.1->autogluon.tabular[all]==1.1.1->autogluon) (3.7.6)\n",
            "Requirement already satisfied: future in /usr/local/lib/python3.10/dist-packages (from hyperopt<0.2.8,>=0.2.7->autogluon.core[all]==1.1.1->autogluon) (1.0.0)\n",
            "Requirement already satisfied: cloudpickle in /usr/local/lib/python3.10/dist-packages (from hyperopt<0.2.8,>=0.2.7->autogluon.core[all]==1.1.1->autogluon) (2.2.1)\n",
            "Requirement already satisfied: py4j in /usr/local/lib/python3.10/dist-packages (from hyperopt<0.2.8,>=0.2.7->autogluon.core[all]==1.1.1->autogluon) (0.10.9.7)\n",
            "Requirement already satisfied: MarkupSafe>=2.0 in /usr/local/lib/python3.10/dist-packages (from jinja2<3.2,>=3.0.3->autogluon.multimodal==1.1.1->autogluon) (2.1.5)\n",
            "Requirement already satisfied: attrs>=22.2.0 in /usr/local/lib/python3.10/dist-packages (from jsonschema<4.22,>=4.18->autogluon.multimodal==1.1.1->autogluon) (24.2.0)\n",
            "Requirement already satisfied: jsonschema-specifications>=2023.03.6 in /usr/local/lib/python3.10/dist-packages (from jsonschema<4.22,>=4.18->autogluon.multimodal==1.1.1->autogluon) (2023.12.1)\n",
            "Requirement already satisfied: referencing>=0.28.4 in /usr/local/lib/python3.10/dist-packages (from jsonschema<4.22,>=4.18->autogluon.multimodal==1.1.1->autogluon) (0.35.1)\n",
            "Requirement already satisfied: rpds-py>=0.7.1 in /usr/local/lib/python3.10/dist-packages (from jsonschema<4.22,>=4.18->autogluon.multimodal==1.1.1->autogluon) (0.20.0)\n",
            "Collecting lightning-utilities<2.0,>=0.10.0 (from lightning<2.4,>=2.2->autogluon.multimodal==1.1.1->autogluon)\n",
            "  Downloading lightning_utilities-0.11.7-py3-none-any.whl.metadata (5.2 kB)\n",
            "Requirement already satisfied: numba in /usr/local/lib/python3.10/dist-packages (from mlforecast<0.10.1,>=0.10.0->autogluon.timeseries==1.1.1->autogluon.timeseries[all]==1.1.1->autogluon) (0.60.0)\n",
            "Collecting window-ops (from mlforecast<0.10.1,>=0.10.0->autogluon.timeseries==1.1.1->autogluon.timeseries[all]==1.1.1->autogluon)\n",
            "  Downloading window_ops-0.0.15-py3-none-any.whl.metadata (6.8 kB)\n",
            "Requirement already satisfied: gdown>=4.0.0 in /usr/local/lib/python3.10/dist-packages (from nlpaug<1.2.0,>=1.1.10->autogluon.multimodal==1.1.1->autogluon) (5.1.0)\n",
            "Requirement already satisfied: click in /usr/local/lib/python3.10/dist-packages (from nltk<4.0.0,>=3.4.5->autogluon.multimodal==1.1.1->autogluon) (8.1.7)\n",
            "Requirement already satisfied: regex>=2021.8.3 in /usr/local/lib/python3.10/dist-packages (from nltk<4.0.0,>=3.4.5->autogluon.multimodal==1.1.1->autogluon) (2024.5.15)\n",
            "Collecting antlr4-python3-runtime==4.9.* (from omegaconf<2.3.0,>=2.1.1->autogluon.multimodal==1.1.1->autogluon)\n",
            "  Downloading antlr4-python3-runtime-4.9.3.tar.gz (117 kB)\n",
            "\u001b[2K     \u001b[90m━━━━━━━━━━━━━━━━━━━━━━━━━━━━━━━━━━━━━━━━\u001b[0m \u001b[32m117.0/117.0 kB\u001b[0m \u001b[31m7.9 MB/s\u001b[0m eta \u001b[36m0:00:00\u001b[0m\n",
            "\u001b[?25h  Preparing metadata (setup.py) ... \u001b[?25l\u001b[?25hdone\n",
            "Collecting colorama (from openmim<0.4.0,>=0.3.7->autogluon.multimodal==1.1.1->autogluon)\n",
            "  Downloading colorama-0.4.6-py2.py3-none-any.whl.metadata (17 kB)\n",
            "Collecting model-index (from openmim<0.4.0,>=0.3.7->autogluon.multimodal==1.1.1->autogluon)\n",
            "  Downloading model_index-0.1.11-py3-none-any.whl.metadata (3.9 kB)\n",
            "Collecting opendatalab (from openmim<0.4.0,>=0.3.7->autogluon.multimodal==1.1.1->autogluon)\n",
            "  Downloading opendatalab-0.0.10-py3-none-any.whl.metadata (6.4 kB)\n",
            "Requirement already satisfied: rich in /usr/local/lib/python3.10/dist-packages (from openmim<0.4.0,>=0.3.7->autogluon.multimodal==1.1.1->autogluon) (13.8.1)\n",
            "Requirement already satisfied: tabulate in /usr/local/lib/python3.10/dist-packages (from openmim<0.4.0,>=0.3.7->autogluon.multimodal==1.1.1->autogluon) (0.9.0)\n",
            "Collecting coloredlogs (from optimum<1.19,>=1.17->optimum[onnxruntime]<1.19,>=1.17; extra == \"all\"->autogluon.timeseries[all]==1.1.1->autogluon)\n",
            "  Downloading coloredlogs-15.0.1-py2.py3-none-any.whl.metadata (12 kB)\n",
            "Requirement already satisfied: sympy in /usr/local/lib/python3.10/dist-packages (from optimum<1.19,>=1.17->optimum[onnxruntime]<1.19,>=1.17; extra == \"all\"->autogluon.timeseries[all]==1.1.1->autogluon) (1.13.2)\n",
            "Collecting transformers<4.41.0,>=4.38.0 (from transformers[sentencepiece]<4.41.0,>=4.38.0->autogluon.multimodal==1.1.1->autogluon)\n",
            "  Downloading transformers-4.39.3-py3-none-any.whl.metadata (134 kB)\n",
            "\u001b[2K     \u001b[90m━━━━━━━━━━━━━━━━━━━━━━━━━━━━━━━━━━━━━━━━\u001b[0m \u001b[32m134.8/134.8 kB\u001b[0m \u001b[31m8.4 MB/s\u001b[0m eta \u001b[36m0:00:00\u001b[0m\n",
            "\u001b[?25hCollecting onnx (from optimum[onnxruntime]<1.19,>=1.17; extra == \"all\"->autogluon.timeseries[all]==1.1.1->autogluon)\n",
            "  Downloading onnx-1.16.2-cp310-cp310-manylinux_2_17_x86_64.manylinux2014_x86_64.whl.metadata (16 kB)\n",
            "Collecting onnxruntime>=1.11.0 (from optimum[onnxruntime]<1.19,>=1.17; extra == \"all\"->autogluon.timeseries[all]==1.1.1->autogluon)\n",
            "  Downloading onnxruntime-1.19.2-cp310-cp310-manylinux_2_27_x86_64.manylinux_2_28_x86_64.whl.metadata (4.5 kB)\n",
            "Requirement already satisfied: protobuf>=3.20.1 in /usr/local/lib/python3.10/dist-packages (from optimum[onnxruntime]<1.19,>=1.17; extra == \"all\"->autogluon.timeseries[all]==1.1.1->autogluon) (3.20.3)\n",
            "Requirement already satisfied: python-dateutil>=2.8.2 in /usr/local/lib/python3.10/dist-packages (from pandas<2.3.0,>=2.0.0->autogluon.core==1.1.1->autogluon.core[all]==1.1.1->autogluon) (2.8.2)\n",
            "Requirement already satisfied: pytz>=2020.1 in /usr/local/lib/python3.10/dist-packages (from pandas<2.3.0,>=2.0.0->autogluon.core==1.1.1->autogluon.core[all]==1.1.1->autogluon) (2024.2)\n",
            "Requirement already satisfied: tzdata>=2022.1 in /usr/local/lib/python3.10/dist-packages (from pandas<2.3.0,>=2.0.0->autogluon.core==1.1.1->autogluon.core[all]==1.1.1->autogluon) (2024.1)\n",
            "Requirement already satisfied: filelock in /usr/local/lib/python3.10/dist-packages (from ray<2.11,>=2.10.0->ray[default,tune]<2.11,>=2.10.0; extra == \"all\"->autogluon.core[all]==1.1.1->autogluon) (3.16.0)\n",
            "Requirement already satisfied: msgpack<2.0.0,>=1.0.0 in /usr/local/lib/python3.10/dist-packages (from ray<2.11,>=2.10.0->ray[default,tune]<2.11,>=2.10.0; extra == \"all\"->autogluon.core[all]==1.1.1->autogluon) (1.0.8)\n",
            "Requirement already satisfied: aiosignal in /usr/local/lib/python3.10/dist-packages (from ray<2.11,>=2.10.0->ray[default,tune]<2.11,>=2.10.0; extra == \"all\"->autogluon.core[all]==1.1.1->autogluon) (1.3.1)\n",
            "Requirement already satisfied: frozenlist in /usr/local/lib/python3.10/dist-packages (from ray<2.11,>=2.10.0->ray[default,tune]<2.11,>=2.10.0; extra == \"all\"->autogluon.core[all]==1.1.1->autogluon) (1.4.1)\n",
            "Requirement already satisfied: aiohttp>=3.7 in /usr/local/lib/python3.10/dist-packages (from ray[default,tune]<2.11,>=2.10.0; extra == \"all\"->autogluon.core[all]==1.1.1->autogluon) (3.10.5)\n",
            "Collecting aiohttp-cors (from ray[default,tune]<2.11,>=2.10.0; extra == \"all\"->autogluon.core[all]==1.1.1->autogluon)\n",
            "  Downloading aiohttp_cors-0.7.0-py3-none-any.whl.metadata (20 kB)\n",
            "Collecting colorful (from ray[default,tune]<2.11,>=2.10.0; extra == \"all\"->autogluon.core[all]==1.1.1->autogluon)\n",
            "  Downloading colorful-0.5.6-py2.py3-none-any.whl.metadata (16 kB)\n",
            "Collecting py-spy>=0.2.0 (from ray[default,tune]<2.11,>=2.10.0; extra == \"all\"->autogluon.core[all]==1.1.1->autogluon)\n",
            "  Downloading py_spy-0.3.14-py2.py3-none-manylinux_2_5_x86_64.manylinux1_x86_64.whl.metadata (16 kB)\n",
            "Collecting opencensus (from ray[default,tune]<2.11,>=2.10.0; extra == \"all\"->autogluon.core[all]==1.1.1->autogluon)\n",
            "  Downloading opencensus-0.11.4-py2.py3-none-any.whl.metadata (12 kB)\n",
            "Requirement already satisfied: prometheus-client>=0.7.1 in /usr/local/lib/python3.10/dist-packages (from ray[default,tune]<2.11,>=2.10.0; extra == \"all\"->autogluon.core[all]==1.1.1->autogluon) (0.20.0)\n",
            "Requirement already satisfied: smart-open in /usr/local/lib/python3.10/dist-packages (from ray[default,tune]<2.11,>=2.10.0; extra == \"all\"->autogluon.core[all]==1.1.1->autogluon) (7.0.4)\n",
            "Collecting virtualenv!=20.21.1,>=20.0.24 (from ray[default,tune]<2.11,>=2.10.0; extra == \"all\"->autogluon.core[all]==1.1.1->autogluon)\n",
            "  Downloading virtualenv-20.26.4-py3-none-any.whl.metadata (4.5 kB)\n",
            "Requirement already satisfied: grpcio>=1.42.0 in /usr/local/lib/python3.10/dist-packages (from ray[default,tune]<2.11,>=2.10.0; extra == \"all\"->autogluon.core[all]==1.1.1->autogluon) (1.64.1)\n",
            "Collecting tensorboardX>=1.9 (from ray[default,tune]<2.11,>=2.10.0; extra == \"all\"->autogluon.core[all]==1.1.1->autogluon)\n",
            "  Downloading tensorboardX-2.6.2.2-py2.py3-none-any.whl.metadata (5.8 kB)\n",
            "Requirement already satisfied: pyarrow>=6.0.1 in /usr/local/lib/python3.10/dist-packages (from ray[default,tune]<2.11,>=2.10.0; extra == \"all\"->autogluon.core[all]==1.1.1->autogluon) (14.0.2)\n",
            "Requirement already satisfied: charset-normalizer<4,>=2 in /usr/local/lib/python3.10/dist-packages (from requests->autogluon.core==1.1.1->autogluon.core[all]==1.1.1->autogluon) (3.3.2)\n",
            "Requirement already satisfied: idna<4,>=2.5 in /usr/local/lib/python3.10/dist-packages (from requests->autogluon.core==1.1.1->autogluon.core[all]==1.1.1->autogluon) (3.8)\n",
            "Requirement already satisfied: urllib3<3,>=1.21.1 in /usr/local/lib/python3.10/dist-packages (from requests->autogluon.core==1.1.1->autogluon.core[all]==1.1.1->autogluon) (2.0.7)\n",
            "Requirement already satisfied: certifi>=2017.4.17 in /usr/local/lib/python3.10/dist-packages (from requests->autogluon.core==1.1.1->autogluon.core[all]==1.1.1->autogluon) (2024.8.30)\n",
            "Requirement already satisfied: imageio>=2.4.1 in /usr/local/lib/python3.10/dist-packages (from scikit-image<0.21.0,>=0.19.1->autogluon.multimodal==1.1.1->autogluon) (2.34.2)\n",
            "Requirement already satisfied: tifffile>=2019.7.26 in /usr/local/lib/python3.10/dist-packages (from scikit-image<0.21.0,>=0.19.1->autogluon.multimodal==1.1.1->autogluon) (2024.8.30)\n",
            "Collecting PyWavelets>=1.1.1 (from scikit-image<0.21.0,>=0.19.1->autogluon.multimodal==1.1.1->autogluon)\n",
            "  Downloading pywavelets-1.7.0-cp310-cp310-manylinux_2_17_x86_64.manylinux2014_x86_64.whl.metadata (9.0 kB)\n",
            "Requirement already satisfied: lazy_loader>=0.1 in /usr/local/lib/python3.10/dist-packages (from scikit-image<0.21.0,>=0.19.1->autogluon.multimodal==1.1.1->autogluon) (0.4)\n",
            "Requirement already satisfied: threadpoolctl>=2.0.0 in /usr/local/lib/python3.10/dist-packages (from scikit-learn<1.4.1,>=1.3.0->autogluon.core==1.1.1->autogluon.core[all]==1.1.1->autogluon) (3.5.0)\n",
            "Requirement already satisfied: statsmodels>=0.13.2 in /usr/local/lib/python3.10/dist-packages (from statsforecast<1.5,>=1.4.0->autogluon.timeseries==1.1.1->autogluon.timeseries[all]==1.1.1->autogluon) (0.14.2)\n",
            "Requirement already satisfied: absl-py>=0.4 in /usr/local/lib/python3.10/dist-packages (from tensorboard<3,>=2.9->autogluon.multimodal==1.1.1->autogluon) (1.4.0)\n",
            "Requirement already satisfied: markdown>=2.6.8 in /usr/local/lib/python3.10/dist-packages (from tensorboard<3,>=2.9->autogluon.multimodal==1.1.1->autogluon) (3.7)\n",
            "Requirement already satisfied: tensorboard-data-server<0.8.0,>=0.7.0 in /usr/local/lib/python3.10/dist-packages (from tensorboard<3,>=2.9->autogluon.multimodal==1.1.1->autogluon) (0.7.2)\n",
            "Requirement already satisfied: werkzeug>=1.0.1 in /usr/local/lib/python3.10/dist-packages (from tensorboard<3,>=2.9->autogluon.multimodal==1.1.1->autogluon) (3.0.4)\n",
            "Requirement already satisfied: safetensors in /usr/local/lib/python3.10/dist-packages (from timm<0.10.0,>=0.9.5->autogluon.multimodal==1.1.1->autogluon) (0.4.5)\n",
            "Collecting nvidia-cuda-nvrtc-cu12==12.1.105 (from torch<2.4,>=2.2->autogluon.multimodal==1.1.1->autogluon)\n",
            "  Downloading nvidia_cuda_nvrtc_cu12-12.1.105-py3-none-manylinux1_x86_64.whl.metadata (1.5 kB)\n",
            "Collecting nvidia-cuda-runtime-cu12==12.1.105 (from torch<2.4,>=2.2->autogluon.multimodal==1.1.1->autogluon)\n",
            "  Downloading nvidia_cuda_runtime_cu12-12.1.105-py3-none-manylinux1_x86_64.whl.metadata (1.5 kB)\n",
            "Collecting nvidia-cuda-cupti-cu12==12.1.105 (from torch<2.4,>=2.2->autogluon.multimodal==1.1.1->autogluon)\n",
            "  Downloading nvidia_cuda_cupti_cu12-12.1.105-py3-none-manylinux1_x86_64.whl.metadata (1.6 kB)\n",
            "Collecting nvidia-cudnn-cu12==8.9.2.26 (from torch<2.4,>=2.2->autogluon.multimodal==1.1.1->autogluon)\n",
            "  Downloading nvidia_cudnn_cu12-8.9.2.26-py3-none-manylinux1_x86_64.whl.metadata (1.6 kB)\n",
            "Collecting nvidia-cublas-cu12==12.1.3.1 (from torch<2.4,>=2.2->autogluon.multimodal==1.1.1->autogluon)\n",
            "  Downloading nvidia_cublas_cu12-12.1.3.1-py3-none-manylinux1_x86_64.whl.metadata (1.5 kB)\n",
            "Collecting nvidia-cufft-cu12==11.0.2.54 (from torch<2.4,>=2.2->autogluon.multimodal==1.1.1->autogluon)\n",
            "  Downloading nvidia_cufft_cu12-11.0.2.54-py3-none-manylinux1_x86_64.whl.metadata (1.5 kB)\n",
            "Collecting nvidia-curand-cu12==10.3.2.106 (from torch<2.4,>=2.2->autogluon.multimodal==1.1.1->autogluon)\n",
            "  Downloading nvidia_curand_cu12-10.3.2.106-py3-none-manylinux1_x86_64.whl.metadata (1.5 kB)\n",
            "Collecting nvidia-cusolver-cu12==11.4.5.107 (from torch<2.4,>=2.2->autogluon.multimodal==1.1.1->autogluon)\n",
            "  Downloading nvidia_cusolver_cu12-11.4.5.107-py3-none-manylinux1_x86_64.whl.metadata (1.6 kB)\n",
            "Collecting nvidia-cusparse-cu12==12.1.0.106 (from torch<2.4,>=2.2->autogluon.multimodal==1.1.1->autogluon)\n",
            "  Downloading nvidia_cusparse_cu12-12.1.0.106-py3-none-manylinux1_x86_64.whl.metadata (1.6 kB)\n",
            "Collecting nvidia-nccl-cu12==2.20.5 (from torch<2.4,>=2.2->autogluon.multimodal==1.1.1->autogluon)\n",
            "  Downloading nvidia_nccl_cu12-2.20.5-py3-none-manylinux2014_x86_64.whl.metadata (1.8 kB)\n",
            "Collecting nvidia-nvtx-cu12==12.1.105 (from torch<2.4,>=2.2->autogluon.multimodal==1.1.1->autogluon)\n",
            "  Downloading nvidia_nvtx_cu12-12.1.105-py3-none-manylinux1_x86_64.whl.metadata (1.7 kB)\n",
            "Collecting triton==2.3.1 (from torch<2.4,>=2.2->autogluon.multimodal==1.1.1->autogluon)\n",
            "  Downloading triton-2.3.1-cp310-cp310-manylinux_2_17_x86_64.manylinux2014_x86_64.whl.metadata (1.4 kB)\n",
            "Collecting nvidia-nvjitlink-cu12 (from nvidia-cusolver-cu12==11.4.5.107->torch<2.4,>=2.2->autogluon.multimodal==1.1.1->autogluon)\n",
            "  Downloading nvidia_nvjitlink_cu12-12.6.68-py3-none-manylinux2014_x86_64.whl.metadata (1.5 kB)\n",
            "Collecting tokenizers<0.19,>=0.14 (from transformers<4.41.0,>=4.38.0->transformers[sentencepiece]<4.41.0,>=4.38.0->autogluon.multimodal==1.1.1->autogluon)\n",
            "  Downloading tokenizers-0.15.2-cp310-cp310-manylinux_2_17_x86_64.manylinux2014_x86_64.whl.metadata (6.7 kB)\n",
            "Requirement already satisfied: sentencepiece!=0.1.92,>=0.1.91 in /usr/local/lib/python3.10/dist-packages (from transformers[sentencepiece]<4.41.0,>=4.38.0->autogluon.multimodal==1.1.1->autogluon) (0.1.99)\n",
            "Requirement already satisfied: contourpy>=1.0.1 in /usr/local/lib/python3.10/dist-packages (from matplotlib->autogluon.core==1.1.1->autogluon.core[all]==1.1.1->autogluon) (1.3.0)\n",
            "Requirement already satisfied: cycler>=0.10 in /usr/local/lib/python3.10/dist-packages (from matplotlib->autogluon.core==1.1.1->autogluon.core[all]==1.1.1->autogluon) (0.12.1)\n",
            "Requirement already satisfied: fonttools>=4.22.0 in /usr/local/lib/python3.10/dist-packages (from matplotlib->autogluon.core==1.1.1->autogluon.core[all]==1.1.1->autogluon) (4.53.1)\n",
            "Requirement already satisfied: kiwisolver>=1.0.1 in /usr/local/lib/python3.10/dist-packages (from matplotlib->autogluon.core==1.1.1->autogluon.core[all]==1.1.1->autogluon) (1.4.7)\n",
            "Requirement already satisfied: pyparsing>=2.3.1 in /usr/local/lib/python3.10/dist-packages (from matplotlib->autogluon.core==1.1.1->autogluon.core[all]==1.1.1->autogluon) (3.1.4)\n",
            "Requirement already satisfied: aiohappyeyeballs>=2.3.0 in /usr/local/lib/python3.10/dist-packages (from aiohttp>=3.7->ray[default,tune]<2.11,>=2.10.0; extra == \"all\"->autogluon.core[all]==1.1.1->autogluon) (2.4.0)\n",
            "Requirement already satisfied: multidict<7.0,>=4.5 in /usr/local/lib/python3.10/dist-packages (from aiohttp>=3.7->ray[default,tune]<2.11,>=2.10.0; extra == \"all\"->autogluon.core[all]==1.1.1->autogluon) (6.1.0)\n",
            "Requirement already satisfied: yarl<2.0,>=1.0 in /usr/local/lib/python3.10/dist-packages (from aiohttp>=3.7->ray[default,tune]<2.11,>=2.10.0; extra == \"all\"->autogluon.core[all]==1.1.1->autogluon) (1.11.1)\n",
            "Requirement already satisfied: async-timeout<5.0,>=4.0 in /usr/local/lib/python3.10/dist-packages (from aiohttp>=3.7->ray[default,tune]<2.11,>=2.10.0; extra == \"all\"->autogluon.core[all]==1.1.1->autogluon) (4.0.3)\n",
            "Collecting pyarrow>=6.0.1 (from ray[default,tune]<2.11,>=2.10.0; extra == \"all\"->autogluon.core[all]==1.1.1->autogluon)\n",
            "  Downloading pyarrow-17.0.0-cp310-cp310-manylinux_2_28_x86_64.whl.metadata (3.3 kB)\n",
            "Requirement already satisfied: beautifulsoup4 in /usr/local/lib/python3.10/dist-packages (from gdown>=4.0.0->nlpaug<1.2.0,>=1.1.10->autogluon.multimodal==1.1.1->autogluon) (4.12.3)\n",
            "Requirement already satisfied: llvmlite<0.44,>=0.43.0dev0 in /usr/local/lib/python3.10/dist-packages (from numba->mlforecast<0.10.1,>=0.10.0->autogluon.timeseries==1.1.1->autogluon.timeseries[all]==1.1.1->autogluon) (0.43.0)\n",
            "Requirement already satisfied: flatbuffers in /usr/local/lib/python3.10/dist-packages (from onnxruntime>=1.11.0->optimum[onnxruntime]<1.19,>=1.17; extra == \"all\"->autogluon.timeseries[all]==1.1.1->autogluon) (24.3.25)\n",
            "Requirement already satisfied: annotated-types>=0.6.0 in /usr/local/lib/python3.10/dist-packages (from pydantic<3,>=1.7->gluonts==0.15.1->autogluon.timeseries==1.1.1->autogluon.timeseries[all]==1.1.1->autogluon) (0.7.0)\n",
            "Requirement already satisfied: pydantic-core==2.23.3 in /usr/local/lib/python3.10/dist-packages (from pydantic<3,>=1.7->gluonts==0.15.1->autogluon.timeseries==1.1.1->autogluon.timeseries[all]==1.1.1->autogluon) (2.23.3)\n",
            "Requirement already satisfied: spacy-legacy<3.1.0,>=3.0.11 in /usr/local/lib/python3.10/dist-packages (from spacy<4->fastai<2.8,>=2.3.1->autogluon.tabular[all]==1.1.1->autogluon) (3.0.12)\n",
            "Requirement already satisfied: spacy-loggers<2.0.0,>=1.0.0 in /usr/local/lib/python3.10/dist-packages (from spacy<4->fastai<2.8,>=2.3.1->autogluon.tabular[all]==1.1.1->autogluon) (1.0.5)\n",
            "Requirement already satisfied: murmurhash<1.1.0,>=0.28.0 in /usr/local/lib/python3.10/dist-packages (from spacy<4->fastai<2.8,>=2.3.1->autogluon.tabular[all]==1.1.1->autogluon) (1.0.10)\n",
            "Requirement already satisfied: cymem<2.1.0,>=2.0.2 in /usr/local/lib/python3.10/dist-packages (from spacy<4->fastai<2.8,>=2.3.1->autogluon.tabular[all]==1.1.1->autogluon) (2.0.8)\n",
            "Requirement already satisfied: preshed<3.1.0,>=3.0.2 in /usr/local/lib/python3.10/dist-packages (from spacy<4->fastai<2.8,>=2.3.1->autogluon.tabular[all]==1.1.1->autogluon) (3.0.9)\n",
            "Requirement already satisfied: thinc<8.3.0,>=8.2.2 in /usr/local/lib/python3.10/dist-packages (from spacy<4->fastai<2.8,>=2.3.1->autogluon.tabular[all]==1.1.1->autogluon) (8.2.5)\n",
            "Requirement already satisfied: wasabi<1.2.0,>=0.9.1 in /usr/local/lib/python3.10/dist-packages (from spacy<4->fastai<2.8,>=2.3.1->autogluon.tabular[all]==1.1.1->autogluon) (1.1.3)\n",
            "Requirement already satisfied: srsly<3.0.0,>=2.4.3 in /usr/local/lib/python3.10/dist-packages (from spacy<4->fastai<2.8,>=2.3.1->autogluon.tabular[all]==1.1.1->autogluon) (2.4.8)\n",
            "Requirement already satisfied: catalogue<2.1.0,>=2.0.6 in /usr/local/lib/python3.10/dist-packages (from spacy<4->fastai<2.8,>=2.3.1->autogluon.tabular[all]==1.1.1->autogluon) (2.0.10)\n",
            "Requirement already satisfied: weasel<0.5.0,>=0.1.0 in /usr/local/lib/python3.10/dist-packages (from spacy<4->fastai<2.8,>=2.3.1->autogluon.tabular[all]==1.1.1->autogluon) (0.4.1)\n",
            "Requirement already satisfied: typer<1.0.0,>=0.3.0 in /usr/local/lib/python3.10/dist-packages (from spacy<4->fastai<2.8,>=2.3.1->autogluon.tabular[all]==1.1.1->autogluon) (0.12.5)\n",
            "Requirement already satisfied: langcodes<4.0.0,>=3.2.0 in /usr/local/lib/python3.10/dist-packages (from spacy<4->fastai<2.8,>=2.3.1->autogluon.tabular[all]==1.1.1->autogluon) (3.4.0)\n",
            "Requirement already satisfied: patsy>=0.5.6 in /usr/local/lib/python3.10/dist-packages (from statsmodels>=0.13.2->statsforecast<1.5,>=1.4.0->autogluon.timeseries==1.1.1->autogluon.timeseries[all]==1.1.1->autogluon) (0.5.6)\n",
            "Collecting distlib<1,>=0.3.7 (from virtualenv!=20.21.1,>=20.0.24->ray[default,tune]<2.11,>=2.10.0; extra == \"all\"->autogluon.core[all]==1.1.1->autogluon)\n",
            "  Downloading distlib-0.3.8-py2.py3-none-any.whl.metadata (5.1 kB)\n",
            "Requirement already satisfied: platformdirs<5,>=3.9.1 in /usr/local/lib/python3.10/dist-packages (from virtualenv!=20.21.1,>=20.0.24->ray[default,tune]<2.11,>=2.10.0; extra == \"all\"->autogluon.core[all]==1.1.1->autogluon) (4.3.2)\n",
            "Collecting humanfriendly>=9.1 (from coloredlogs->optimum<1.19,>=1.17->optimum[onnxruntime]<1.19,>=1.17; extra == \"all\"->autogluon.timeseries[all]==1.1.1->autogluon)\n",
            "  Downloading humanfriendly-10.0-py2.py3-none-any.whl.metadata (9.2 kB)\n",
            "Collecting ordered-set (from model-index->openmim<0.4.0,>=0.3.7->autogluon.multimodal==1.1.1->autogluon)\n",
            "  Downloading ordered_set-4.1.0-py3-none-any.whl.metadata (5.3 kB)\n",
            "Collecting opencensus-context>=0.1.3 (from opencensus->ray[default,tune]<2.11,>=2.10.0; extra == \"all\"->autogluon.core[all]==1.1.1->autogluon)\n",
            "  Downloading opencensus_context-0.1.3-py2.py3-none-any.whl.metadata (3.3 kB)\n",
            "Requirement already satisfied: google-api-core<3.0.0,>=1.0.0 in /usr/local/lib/python3.10/dist-packages (from opencensus->ray[default,tune]<2.11,>=2.10.0; extra == \"all\"->autogluon.core[all]==1.1.1->autogluon) (2.19.2)\n",
            "Collecting pycryptodome (from opendatalab->openmim<0.4.0,>=0.3.7->autogluon.multimodal==1.1.1->autogluon)\n",
            "  Downloading pycryptodome-3.20.0-cp35-abi3-manylinux_2_17_x86_64.manylinux2014_x86_64.whl.metadata (3.4 kB)\n",
            "Collecting openxlab (from opendatalab->openmim<0.4.0,>=0.3.7->autogluon.multimodal==1.1.1->autogluon)\n",
            "  Downloading openxlab-0.1.1-py3-none-any.whl.metadata (3.8 kB)\n",
            "Requirement already satisfied: tenacity>=6.2.0 in /usr/local/lib/python3.10/dist-packages (from plotly->catboost<1.3,>=1.1->autogluon.tabular[all]==1.1.1->autogluon) (9.0.0)\n",
            "Requirement already satisfied: markdown-it-py>=2.2.0 in /usr/local/lib/python3.10/dist-packages (from rich->openmim<0.4.0,>=0.3.7->autogluon.multimodal==1.1.1->autogluon) (3.0.0)\n",
            "Requirement already satisfied: pygments<3.0.0,>=2.13.0 in /usr/local/lib/python3.10/dist-packages (from rich->openmim<0.4.0,>=0.3.7->autogluon.multimodal==1.1.1->autogluon) (2.16.1)\n",
            "Requirement already satisfied: wrapt in /usr/local/lib/python3.10/dist-packages (from smart-open->ray[default,tune]<2.11,>=2.10.0; extra == \"all\"->autogluon.core[all]==1.1.1->autogluon) (1.16.0)\n",
            "Requirement already satisfied: mpmath<1.4,>=1.1.0 in /usr/local/lib/python3.10/dist-packages (from sympy->optimum<1.19,>=1.17->optimum[onnxruntime]<1.19,>=1.17; extra == \"all\"->autogluon.timeseries[all]==1.1.1->autogluon) (1.3.0)\n",
            "Requirement already satisfied: googleapis-common-protos<2.0.dev0,>=1.56.2 in /usr/local/lib/python3.10/dist-packages (from google-api-core<3.0.0,>=1.0.0->opencensus->ray[default,tune]<2.11,>=2.10.0; extra == \"all\"->autogluon.core[all]==1.1.1->autogluon) (1.65.0)\n",
            "Requirement already satisfied: proto-plus<2.0.0dev,>=1.22.3 in /usr/local/lib/python3.10/dist-packages (from google-api-core<3.0.0,>=1.0.0->opencensus->ray[default,tune]<2.11,>=2.10.0; extra == \"all\"->autogluon.core[all]==1.1.1->autogluon) (1.24.0)\n",
            "Requirement already satisfied: google-auth<3.0.dev0,>=2.14.1 in /usr/local/lib/python3.10/dist-packages (from google-api-core<3.0.0,>=1.0.0->opencensus->ray[default,tune]<2.11,>=2.10.0; extra == \"all\"->autogluon.core[all]==1.1.1->autogluon) (2.27.0)\n",
            "Requirement already satisfied: language-data>=1.2 in /usr/local/lib/python3.10/dist-packages (from langcodes<4.0.0,>=3.2.0->spacy<4->fastai<2.8,>=2.3.1->autogluon.tabular[all]==1.1.1->autogluon) (1.2.0)\n",
            "Requirement already satisfied: mdurl~=0.1 in /usr/local/lib/python3.10/dist-packages (from markdown-it-py>=2.2.0->rich->openmim<0.4.0,>=0.3.7->autogluon.multimodal==1.1.1->autogluon) (0.1.2)\n",
            "Requirement already satisfied: blis<0.8.0,>=0.7.8 in /usr/local/lib/python3.10/dist-packages (from thinc<8.3.0,>=8.2.2->spacy<4->fastai<2.8,>=2.3.1->autogluon.tabular[all]==1.1.1->autogluon) (0.7.11)\n",
            "Requirement already satisfied: confection<1.0.0,>=0.0.1 in /usr/local/lib/python3.10/dist-packages (from thinc<8.3.0,>=8.2.2->spacy<4->fastai<2.8,>=2.3.1->autogluon.tabular[all]==1.1.1->autogluon) (0.1.5)\n",
            "Requirement already satisfied: shellingham>=1.3.0 in /usr/local/lib/python3.10/dist-packages (from typer<1.0.0,>=0.3.0->spacy<4->fastai<2.8,>=2.3.1->autogluon.tabular[all]==1.1.1->autogluon) (1.5.4)\n",
            "Requirement already satisfied: cloudpathlib<1.0.0,>=0.7.0 in /usr/local/lib/python3.10/dist-packages (from weasel<0.5.0,>=0.1.0->spacy<4->fastai<2.8,>=2.3.1->autogluon.tabular[all]==1.1.1->autogluon) (0.19.0)\n",
            "Requirement already satisfied: soupsieve>1.2 in /usr/local/lib/python3.10/dist-packages (from beautifulsoup4->gdown>=4.0.0->nlpaug<1.2.0,>=1.1.10->autogluon.multimodal==1.1.1->autogluon) (2.6)\n",
            "Collecting filelock (from ray<2.11,>=2.10.0->ray[default,tune]<2.11,>=2.10.0; extra == \"all\"->autogluon.core[all]==1.1.1->autogluon)\n",
            "  Downloading filelock-3.14.0-py3-none-any.whl.metadata (2.8 kB)\n",
            "Collecting oss2~=2.17.0 (from openxlab->opendatalab->openmim<0.4.0,>=0.3.7->autogluon.multimodal==1.1.1->autogluon)\n",
            "  Downloading oss2-2.17.0.tar.gz (259 kB)\n",
            "\u001b[2K     \u001b[90m━━━━━━━━━━━━━━━━━━━━━━━━━━━━━━━━━━━━━━━━\u001b[0m \u001b[32m259.5/259.5 kB\u001b[0m \u001b[31m14.1 MB/s\u001b[0m eta \u001b[36m0:00:00\u001b[0m\n",
            "\u001b[?25h  Preparing metadata (setup.py) ... \u001b[?25l\u001b[?25hdone\n",
            "Collecting pytz>=2020.1 (from pandas<2.3.0,>=2.0.0->autogluon.core==1.1.1->autogluon.core[all]==1.1.1->autogluon)\n",
            "  Downloading pytz-2023.4-py2.py3-none-any.whl.metadata (22 kB)\n",
            "INFO: pip is looking at multiple versions of openxlab to determine which version is compatible with other requirements. This could take a while.\n",
            "Collecting openxlab (from opendatalab->openmim<0.4.0,>=0.3.7->autogluon.multimodal==1.1.1->autogluon)\n",
            "  Downloading openxlab-0.1.0-py3-none-any.whl.metadata (3.8 kB)\n",
            "  Downloading openxlab-0.0.38-py3-none-any.whl.metadata (3.8 kB)\n",
            "  Downloading openxlab-0.0.37-py3-none-any.whl.metadata (3.8 kB)\n",
            "  Downloading openxlab-0.0.36-py3-none-any.whl.metadata (3.8 kB)\n",
            "  Downloading openxlab-0.0.35-py3-none-any.whl.metadata (3.8 kB)\n",
            "  Downloading openxlab-0.0.34-py3-none-any.whl.metadata (3.8 kB)\n",
            "  Downloading openxlab-0.0.33-py3-none-any.whl.metadata (3.8 kB)\n",
            "INFO: pip is still looking at multiple versions of openxlab to determine which version is compatible with other requirements. This could take a while.\n",
            "  Downloading openxlab-0.0.32-py3-none-any.whl.metadata (3.8 kB)\n",
            "  Downloading openxlab-0.0.31-py3-none-any.whl.metadata (3.8 kB)\n",
            "  Downloading openxlab-0.0.30-py3-none-any.whl.metadata (3.8 kB)\n",
            "  Downloading openxlab-0.0.29-py3-none-any.whl.metadata (3.8 kB)\n",
            "  Downloading openxlab-0.0.28-py3-none-any.whl.metadata (3.7 kB)\n",
            "INFO: This is taking longer than usual. You might need to provide the dependency resolver with stricter constraints to reduce runtime. See https://pip.pypa.io/warnings/backtracking for guidance. If you want to abort this run, press Ctrl + C.\n",
            "  Downloading openxlab-0.0.27-py3-none-any.whl.metadata (3.7 kB)\n",
            "  Downloading openxlab-0.0.26-py3-none-any.whl.metadata (3.7 kB)\n",
            "  Downloading openxlab-0.0.25-py3-none-any.whl.metadata (3.7 kB)\n",
            "  Downloading openxlab-0.0.24-py3-none-any.whl.metadata (3.7 kB)\n",
            "  Downloading openxlab-0.0.23-py3-none-any.whl.metadata (3.7 kB)\n",
            "  Downloading openxlab-0.0.22-py3-none-any.whl.metadata (3.7 kB)\n",
            "  Downloading openxlab-0.0.21-py3-none-any.whl.metadata (3.7 kB)\n",
            "  Downloading openxlab-0.0.20-py3-none-any.whl.metadata (3.7 kB)\n",
            "  Downloading openxlab-0.0.19-py3-none-any.whl.metadata (3.7 kB)\n",
            "  Downloading openxlab-0.0.18-py3-none-any.whl.metadata (3.7 kB)\n",
            "  Downloading openxlab-0.0.17-py3-none-any.whl.metadata (3.7 kB)\n",
            "  Downloading openxlab-0.0.16-py3-none-any.whl.metadata (3.8 kB)\n",
            "  Downloading openxlab-0.0.15-py3-none-any.whl.metadata (3.8 kB)\n",
            "  Downloading openxlab-0.0.14-py3-none-any.whl.metadata (3.8 kB)\n",
            "  Downloading openxlab-0.0.13-py3-none-any.whl.metadata (4.5 kB)\n",
            "  Downloading openxlab-0.0.12-py3-none-any.whl.metadata (4.5 kB)\n",
            "  Downloading openxlab-0.0.11-py3-none-any.whl.metadata (4.3 kB)\n",
            "Requirement already satisfied: PySocks!=1.5.7,>=1.5.6 in /usr/local/lib/python3.10/dist-packages (from requests[socks]->gdown>=4.0.0->nlpaug<1.2.0,>=1.1.10->autogluon.multimodal==1.1.1->autogluon) (1.7.1)\n",
            "Requirement already satisfied: cachetools<6.0,>=2.0.0 in /usr/local/lib/python3.10/dist-packages (from google-auth<3.0.dev0,>=2.14.1->google-api-core<3.0.0,>=1.0.0->opencensus->ray[default,tune]<2.11,>=2.10.0; extra == \"all\"->autogluon.core[all]==1.1.1->autogluon) (5.5.0)\n",
            "Requirement already satisfied: pyasn1-modules>=0.2.1 in /usr/local/lib/python3.10/dist-packages (from google-auth<3.0.dev0,>=2.14.1->google-api-core<3.0.0,>=1.0.0->opencensus->ray[default,tune]<2.11,>=2.10.0; extra == \"all\"->autogluon.core[all]==1.1.1->autogluon) (0.4.1)\n",
            "Requirement already satisfied: rsa<5,>=3.1.4 in /usr/local/lib/python3.10/dist-packages (from google-auth<3.0.dev0,>=2.14.1->google-api-core<3.0.0,>=1.0.0->opencensus->ray[default,tune]<2.11,>=2.10.0; extra == \"all\"->autogluon.core[all]==1.1.1->autogluon) (4.9)\n",
            "Requirement already satisfied: marisa-trie>=0.7.7 in /usr/local/lib/python3.10/dist-packages (from language-data>=1.2->langcodes<4.0.0,>=3.2.0->spacy<4->fastai<2.8,>=2.3.1->autogluon.tabular[all]==1.1.1->autogluon) (1.2.0)\n",
            "Requirement already satisfied: pyasn1<0.7.0,>=0.4.6 in /usr/local/lib/python3.10/dist-packages (from pyasn1-modules>=0.2.1->google-auth<3.0.dev0,>=2.14.1->google-api-core<3.0.0,>=1.0.0->opencensus->ray[default,tune]<2.11,>=2.10.0; extra == \"all\"->autogluon.core[all]==1.1.1->autogluon) (0.6.1)\n",
            "Downloading autogluon-1.1.1-py3-none-any.whl (9.7 kB)\n",
            "Downloading autogluon.core-1.1.1-py3-none-any.whl (234 kB)\n",
            "\u001b[2K   \u001b[90m━━━━━━━━━━━━━━━━━━━━━━━━━━━━━━━━━━━━━━━━\u001b[0m \u001b[32m234.8/234.8 kB\u001b[0m \u001b[31m12.5 MB/s\u001b[0m eta \u001b[36m0:00:00\u001b[0m\n",
            "\u001b[?25hDownloading autogluon.features-1.1.1-py3-none-any.whl (63 kB)\n",
            "\u001b[2K   \u001b[90m━━━━━━━━━━━━━━━━━━━━━━━━━━━━━━━━━━━━━━━━\u001b[0m \u001b[32m63.4/63.4 kB\u001b[0m \u001b[31m4.1 MB/s\u001b[0m eta \u001b[36m0:00:00\u001b[0m\n",
            "\u001b[?25hDownloading autogluon.multimodal-1.1.1-py3-none-any.whl (427 kB)\n",
            "\u001b[2K   \u001b[90m━━━━━━━━━━━━━━━━━━━━━━━━━━━━━━━━━━━━━━━━\u001b[0m \u001b[32m428.0/428.0 kB\u001b[0m \u001b[31m24.0 MB/s\u001b[0m eta \u001b[36m0:00:00\u001b[0m\n",
            "\u001b[?25hDownloading autogluon.tabular-1.1.1-py3-none-any.whl (312 kB)\n",
            "\u001b[2K   \u001b[90m━━━━━━━━━━━━━━━━━━━━━━━━━━━━━━━━━━━━━━━━\u001b[0m \u001b[32m312.1/312.1 kB\u001b[0m \u001b[31m19.4 MB/s\u001b[0m eta \u001b[36m0:00:00\u001b[0m\n",
            "\u001b[?25hDownloading autogluon.timeseries-1.1.1-py3-none-any.whl (148 kB)\n",
            "\u001b[2K   \u001b[90m━━━━━━━━━━━━━━━━━━━━━━━━━━━━━━━━━━━━━━━━\u001b[0m \u001b[32m148.2/148.2 kB\u001b[0m \u001b[31m7.9 MB/s\u001b[0m eta \u001b[36m0:00:00\u001b[0m\n",
            "\u001b[?25hDownloading autogluon.common-1.1.1-py3-none-any.whl (64 kB)\n",
            "\u001b[2K   \u001b[90m━━━━━━━━━━━━━━━━━━━━━━━━━━━━━━━━━━━━━━━━\u001b[0m \u001b[32m64.6/64.6 kB\u001b[0m \u001b[31m4.1 MB/s\u001b[0m eta \u001b[36m0:00:00\u001b[0m\n",
            "\u001b[?25hDownloading gluonts-0.15.1-py3-none-any.whl (1.5 MB)\n",
            "\u001b[2K   \u001b[90m━━━━━━━━━━━━━━━━━━━━━━━━━━━━━━━━━━━━━━━━\u001b[0m \u001b[32m1.5/1.5 MB\u001b[0m \u001b[31m38.9 MB/s\u001b[0m eta \u001b[36m0:00:00\u001b[0m\n",
            "\u001b[?25hDownloading accelerate-0.21.0-py3-none-any.whl (244 kB)\n",
            "\u001b[2K   \u001b[90m━━━━━━━━━━━━━━━━━━━━━━━━━━━━━━━━━━━━━━━━\u001b[0m \u001b[32m244.2/244.2 kB\u001b[0m \u001b[31m14.2 MB/s\u001b[0m eta \u001b[36m0:00:00\u001b[0m\n",
            "\u001b[?25hDownloading boto3-1.35.19-py3-none-any.whl (139 kB)\n",
            "\u001b[2K   \u001b[90m━━━━━━━━━━━━━━━━━━━━━━━━━━━━━━━━━━━━━━━━\u001b[0m \u001b[32m139.2/139.2 kB\u001b[0m \u001b[31m6.8 MB/s\u001b[0m eta \u001b[36m0:00:00\u001b[0m\n",
            "\u001b[?25hDownloading catboost-1.2.7-cp310-cp310-manylinux2014_x86_64.whl (98.7 MB)\n",
            "\u001b[2K   \u001b[90m━━━━━━━━━━━━━━━━━━━━━━━━━━━━━━━━━━━━━━━━\u001b[0m \u001b[32m98.7/98.7 MB\u001b[0m \u001b[31m5.9 MB/s\u001b[0m eta \u001b[36m0:00:00\u001b[0m\n",
            "\u001b[?25hDownloading evaluate-0.4.3-py3-none-any.whl (84 kB)\n",
            "\u001b[2K   \u001b[90m━━━━━━━━━━━━━━━━━━━━━━━━━━━━━━━━━━━━━━━━\u001b[0m \u001b[32m84.0/84.0 kB\u001b[0m \u001b[31m4.0 MB/s\u001b[0m eta \u001b[36m0:00:00\u001b[0m\n",
            "\u001b[?25hDownloading jsonschema-4.21.1-py3-none-any.whl (85 kB)\n",
            "\u001b[2K   \u001b[90m━━━━━━━━━━━━━━━━━━━━━━━━━━━━━━━━━━━━━━━━\u001b[0m \u001b[32m85.5/85.5 kB\u001b[0m \u001b[31m5.0 MB/s\u001b[0m eta \u001b[36m0:00:00\u001b[0m\n",
            "\u001b[?25hDownloading lightgbm-4.3.0-py3-none-manylinux_2_28_x86_64.whl (3.1 MB)\n",
            "\u001b[2K   \u001b[90m━━━━━━━━━━━━━━━━━━━━━━━━━━━━━━━━━━━━━━━━\u001b[0m \u001b[32m3.1/3.1 MB\u001b[0m \u001b[31m44.0 MB/s\u001b[0m eta \u001b[36m0:00:00\u001b[0m\n",
            "\u001b[?25hDownloading lightning-2.3.3-py3-none-any.whl (808 kB)\n",
            "\u001b[2K   \u001b[90m━━━━━━━━━━━━━━━━━━━━━━━━━━━━━━━━━━━━━━━━\u001b[0m \u001b[32m808.5/808.5 kB\u001b[0m \u001b[31m27.8 MB/s\u001b[0m eta \u001b[36m0:00:00\u001b[0m\n",
            "\u001b[?25hDownloading mlforecast-0.10.0-py3-none-any.whl (47 kB)\n",
            "\u001b[2K   \u001b[90m━━━━━━━━━━━━━━━━━━━━━━━━━━━━━━━━━━━━━━━━\u001b[0m \u001b[32m47.6/47.6 kB\u001b[0m \u001b[31m2.5 MB/s\u001b[0m eta \u001b[36m0:00:00\u001b[0m\n",
            "\u001b[?25hDownloading nlpaug-1.1.11-py3-none-any.whl (410 kB)\n",
            "\u001b[2K   \u001b[90m━━━━━━━━━━━━━━━━━━━━━━━━━━━━━━━━━━━━━━━━\u001b[0m \u001b[32m410.5/410.5 kB\u001b[0m \u001b[31m17.9 MB/s\u001b[0m eta \u001b[36m0:00:00\u001b[0m\n",
            "\u001b[?25hDownloading nptyping-2.4.1-py3-none-any.whl (36 kB)\n",
            "Downloading omegaconf-2.2.3-py3-none-any.whl (79 kB)\n",
            "\u001b[2K   \u001b[90m━━━━━━━━━━━━━━━━━━━━━━━━━━━━━━━━━━━━━━━━\u001b[0m \u001b[32m79.3/79.3 kB\u001b[0m \u001b[31m4.5 MB/s\u001b[0m eta \u001b[36m0:00:00\u001b[0m\n",
            "\u001b[?25hDownloading openmim-0.3.9-py2.py3-none-any.whl (52 kB)\n",
            "\u001b[2K   \u001b[90m━━━━━━━━━━━━━━━━━━━━━━━━━━━━━━━━━━━━━━━━\u001b[0m \u001b[32m52.7/52.7 kB\u001b[0m \u001b[31m2.8 MB/s\u001b[0m eta \u001b[36m0:00:00\u001b[0m\n",
            "\u001b[?25hDownloading optimum-1.18.1-py3-none-any.whl (410 kB)\n",
            "\u001b[2K   \u001b[90m━━━━━━━━━━━━━━━━━━━━━━━━━━━━━━━━━━━━━━━━\u001b[0m \u001b[32m410.0/410.0 kB\u001b[0m \u001b[31m18.0 MB/s\u001b[0m eta \u001b[36m0:00:00\u001b[0m\n",
            "\u001b[?25hDownloading orjson-3.10.7-cp310-cp310-manylinux_2_17_x86_64.manylinux2014_x86_64.whl (141 kB)\n",
            "\u001b[2K   \u001b[90m━━━━━━━━━━━━━━━━━━━━━━━━━━━━━━━━━━━━━━━━\u001b[0m \u001b[32m141.9/141.9 kB\u001b[0m \u001b[31m7.9 MB/s\u001b[0m eta \u001b[36m0:00:00\u001b[0m\n",
            "\u001b[?25hDownloading pdf2image-1.17.0-py3-none-any.whl (11 kB)\n",
            "Downloading pillow-10.4.0-cp310-cp310-manylinux_2_28_x86_64.whl (4.5 MB)\n",
            "\u001b[2K   \u001b[90m━━━━━━━━━━━━━━━━━━━━━━━━━━━━━━━━━━━━━━━━\u001b[0m \u001b[32m4.5/4.5 MB\u001b[0m \u001b[31m62.7 MB/s\u001b[0m eta \u001b[36m0:00:00\u001b[0m\n",
            "\u001b[?25hDownloading pytesseract-0.3.10-py3-none-any.whl (14 kB)\n",
            "Downloading pytorch_lightning-2.3.3-py3-none-any.whl (812 kB)\n",
            "\u001b[2K   \u001b[90m━━━━━━━━━━━━━━━━━━━━━━━━━━━━━━━━━━━━━━━━\u001b[0m \u001b[32m812.3/812.3 kB\u001b[0m \u001b[31m30.7 MB/s\u001b[0m eta \u001b[36m0:00:00\u001b[0m\n",
            "\u001b[?25hDownloading pytorch_metric_learning-2.3.0-py3-none-any.whl (115 kB)\n",
            "\u001b[2K   \u001b[90m━━━━━━━━━━━━━━━━━━━━━━━━━━━━━━━━━━━━━━━━\u001b[0m \u001b[32m115.3/115.3 kB\u001b[0m \u001b[31m5.7 MB/s\u001b[0m eta \u001b[36m0:00:00\u001b[0m\n",
            "\u001b[?25hDownloading ray-2.10.0-cp310-cp310-manylinux2014_x86_64.whl (65.1 MB)\n",
            "\u001b[2K   \u001b[90m━━━━━━━━━━━━━━━━━━━━━━━━━━━━━━━━━━━━━━━━\u001b[0m \u001b[32m65.1/65.1 MB\u001b[0m \u001b[31m6.0 MB/s\u001b[0m eta \u001b[36m0:00:00\u001b[0m\n",
            "\u001b[?25hDownloading scikit_image-0.20.0-cp310-cp310-manylinux_2_17_x86_64.manylinux2014_x86_64.whl (13.2 MB)\n",
            "\u001b[2K   \u001b[90m━━━━━━━━━━━━━━━━━━━━━━━━━━━━━━━━━━━━━━━━\u001b[0m \u001b[32m13.2/13.2 MB\u001b[0m \u001b[31m77.9 MB/s\u001b[0m eta \u001b[36m0:00:00\u001b[0m\n",
            "\u001b[?25hDownloading scipy-1.12.0-cp310-cp310-manylinux_2_17_x86_64.manylinux2014_x86_64.whl (38.4 MB)\n",
            "\u001b[2K   \u001b[90m━━━━━━━━━━━━━━━━━━━━━━━━━━━━━━━━━━━━━━━━\u001b[0m \u001b[32m38.4/38.4 MB\u001b[0m \u001b[31m10.9 MB/s\u001b[0m eta \u001b[36m0:00:00\u001b[0m\n",
            "\u001b[?25hDownloading statsforecast-1.4.0-py3-none-any.whl (91 kB)\n",
            "\u001b[2K   \u001b[90m━━━━━━━━━━━━━━━━━━━━━━━━━━━━━━━━━━━━━━━━\u001b[0m \u001b[32m92.0/92.0 kB\u001b[0m \u001b[31m5.9 MB/s\u001b[0m eta \u001b[36m0:00:00\u001b[0m\n",
            "\u001b[?25hDownloading timm-0.9.16-py3-none-any.whl (2.2 MB)\n",
            "\u001b[2K   \u001b[90m━━━━━━━━━━━━━━━━━━━━━━━━━━━━━━━━━━━━━━━━\u001b[0m \u001b[32m2.2/2.2 MB\u001b[0m \u001b[31m60.0 MB/s\u001b[0m eta \u001b[36m0:00:00\u001b[0m\n",
            "\u001b[?25hDownloading torch-2.3.1-cp310-cp310-manylinux1_x86_64.whl (779.1 MB)\n",
            "\u001b[2K   \u001b[90m━━━━━━━━━━━━━━━━━━━━━━━━━━━━━━━━━━━━━━━━\u001b[0m \u001b[32m779.1/779.1 MB\u001b[0m \u001b[31m792.2 kB/s\u001b[0m eta \u001b[36m0:00:00\u001b[0m\n",
            "\u001b[?25hDownloading nvidia_cublas_cu12-12.1.3.1-py3-none-manylinux1_x86_64.whl (410.6 MB)\n",
            "\u001b[2K   \u001b[90m━━━━━━━━━━━━━━━━━━━━━━━━━━━━━━━━━━━━━━━━\u001b[0m \u001b[32m410.6/410.6 MB\u001b[0m \u001b[31m1.6 MB/s\u001b[0m eta \u001b[36m0:00:00\u001b[0m\n",
            "\u001b[?25hDownloading nvidia_cuda_cupti_cu12-12.1.105-py3-none-manylinux1_x86_64.whl (14.1 MB)\n",
            "\u001b[2K   \u001b[90m━━━━━━━━━━━━━━━━━━━━━━━━━━━━━━━━━━━━━━━━\u001b[0m \u001b[32m14.1/14.1 MB\u001b[0m \u001b[31m72.1 MB/s\u001b[0m eta \u001b[36m0:00:00\u001b[0m\n",
            "\u001b[?25hDownloading nvidia_cuda_nvrtc_cu12-12.1.105-py3-none-manylinux1_x86_64.whl (23.7 MB)\n",
            "\u001b[2K   \u001b[90m━━━━━━━━━━━━━━━━━━━━━━━━━━━━━━━━━━━━━━━━\u001b[0m \u001b[32m23.7/23.7 MB\u001b[0m \u001b[31m59.4 MB/s\u001b[0m eta \u001b[36m0:00:00\u001b[0m\n",
            "\u001b[?25hDownloading nvidia_cuda_runtime_cu12-12.1.105-py3-none-manylinux1_x86_64.whl (823 kB)\n",
            "\u001b[2K   \u001b[90m━━━━━━━━━━━━━━━━━━━━━━━━━━━━━━━━━━━━━━━━\u001b[0m \u001b[32m823.6/823.6 kB\u001b[0m \u001b[31m36.5 MB/s\u001b[0m eta \u001b[36m0:00:00\u001b[0m\n",
            "\u001b[?25hDownloading nvidia_cudnn_cu12-8.9.2.26-py3-none-manylinux1_x86_64.whl (731.7 MB)\n",
            "\u001b[2K   \u001b[90m━━━━━━━━━━━━━━━━━━━━━━━━━━━━━━━━━━━━━━━━\u001b[0m \u001b[32m731.7/731.7 MB\u001b[0m \u001b[31m948.4 kB/s\u001b[0m eta \u001b[36m0:00:00\u001b[0m\n",
            "\u001b[?25hDownloading nvidia_cufft_cu12-11.0.2.54-py3-none-manylinux1_x86_64.whl (121.6 MB)\n",
            "\u001b[2K   \u001b[90m━━━━━━━━━━━━━━━━━━━━━━━━━━━━━━━━━━━━━━━━\u001b[0m \u001b[32m121.6/121.6 MB\u001b[0m \u001b[31m7.2 MB/s\u001b[0m eta \u001b[36m0:00:00\u001b[0m\n",
            "\u001b[?25hDownloading nvidia_curand_cu12-10.3.2.106-py3-none-manylinux1_x86_64.whl (56.5 MB)\n",
            "\u001b[2K   \u001b[90m━━━━━━━━━━━━━━━━━━━━━━━━━━━━━━━━━━━━━━━━\u001b[0m \u001b[32m56.5/56.5 MB\u001b[0m \u001b[31m13.3 MB/s\u001b[0m eta \u001b[36m0:00:00\u001b[0m\n",
            "\u001b[?25hDownloading nvidia_cusolver_cu12-11.4.5.107-py3-none-manylinux1_x86_64.whl (124.2 MB)\n",
            "\u001b[2K   \u001b[90m━━━━━━━━━━━━━━━━━━━━━━━━━━━━━━━━━━━━━━━━\u001b[0m \u001b[32m124.2/124.2 MB\u001b[0m \u001b[31m6.2 MB/s\u001b[0m eta \u001b[36m0:00:00\u001b[0m\n",
            "\u001b[?25hDownloading nvidia_cusparse_cu12-12.1.0.106-py3-none-manylinux1_x86_64.whl (196.0 MB)\n",
            "\u001b[2K   \u001b[90m━━━━━━━━━━━━━━━━━━━━━━━━━━━━━━━━━━━━━━━━\u001b[0m \u001b[32m196.0/196.0 MB\u001b[0m \u001b[31m5.4 MB/s\u001b[0m eta \u001b[36m0:00:00\u001b[0m\n",
            "\u001b[?25hDownloading nvidia_nccl_cu12-2.20.5-py3-none-manylinux2014_x86_64.whl (176.2 MB)\n",
            "\u001b[2K   \u001b[90m━━━━━━━━━━━━━━━━━━━━━━━━━━━━━━━━━━━━━━━━\u001b[0m \u001b[32m176.2/176.2 MB\u001b[0m \u001b[31m6.3 MB/s\u001b[0m eta \u001b[36m0:00:00\u001b[0m\n",
            "\u001b[?25hDownloading nvidia_nvtx_cu12-12.1.105-py3-none-manylinux1_x86_64.whl (99 kB)\n",
            "\u001b[2K   \u001b[90m━━━━━━━━━━━━━━━━━━━━━━━━━━━━━━━━━━━━━━━━\u001b[0m \u001b[32m99.1/99.1 kB\u001b[0m \u001b[31m6.6 MB/s\u001b[0m eta \u001b[36m0:00:00\u001b[0m\n",
            "\u001b[?25hDownloading triton-2.3.1-cp310-cp310-manylinux_2_17_x86_64.manylinux2014_x86_64.whl (168.1 MB)\n",
            "\u001b[2K   \u001b[90m━━━━━━━━━━━━━━━━━━━━━━━━━━━━━━━━━━━━━━━━\u001b[0m \u001b[32m168.1/168.1 MB\u001b[0m \u001b[31m7.2 MB/s\u001b[0m eta \u001b[36m0:00:00\u001b[0m\n",
            "\u001b[?25hDownloading torchmetrics-1.2.1-py3-none-any.whl (806 kB)\n",
            "\u001b[2K   \u001b[90m━━━━━━━━━━━━━━━━━━━━━━━━━━━━━━━━━━━━━━━━\u001b[0m \u001b[32m806.1/806.1 kB\u001b[0m \u001b[31m34.1 MB/s\u001b[0m eta \u001b[36m0:00:00\u001b[0m\n",
            "\u001b[?25hDownloading torchvision-0.18.1-cp310-cp310-manylinux1_x86_64.whl (7.0 MB)\n",
            "\u001b[2K   \u001b[90m━━━━━━━━━━━━━━━━━━━━━━━━━━━━━━━━━━━━━━━━\u001b[0m \u001b[32m7.0/7.0 MB\u001b[0m \u001b[31m73.9 MB/s\u001b[0m eta \u001b[36m0:00:00\u001b[0m\n",
            "\u001b[?25hDownloading transformers-4.39.3-py3-none-any.whl (8.8 MB)\n",
            "\u001b[2K   \u001b[90m━━━━━━━━━━━━━━━━━━━━━━━━━━━━━━━━━━━━━━━━\u001b[0m \u001b[32m8.8/8.8 MB\u001b[0m \u001b[31m67.1 MB/s\u001b[0m eta \u001b[36m0:00:00\u001b[0m\n",
            "\u001b[?25hDownloading utilsforecast-0.0.10-py3-none-any.whl (30 kB)\n",
            "Downloading xgboost-2.0.3-py3-none-manylinux2014_x86_64.whl (297.1 MB)\n",
            "\u001b[2K   \u001b[90m━━━━━━━━━━━━━━━━━━━━━━━━━━━━━━━━━━━━━━━━\u001b[0m \u001b[32m297.1/297.1 MB\u001b[0m \u001b[31m4.6 MB/s\u001b[0m eta \u001b[36m0:00:00\u001b[0m\n",
            "\u001b[?25hDownloading botocore-1.35.19-py3-none-any.whl (12.5 MB)\n",
            "\u001b[2K   \u001b[90m━━━━━━━━━━━━━━━━━━━━━━━━━━━━━━━━━━━━━━━━\u001b[0m \u001b[32m12.5/12.5 MB\u001b[0m \u001b[31m71.0 MB/s\u001b[0m eta \u001b[36m0:00:00\u001b[0m\n",
            "\u001b[?25hDownloading datasets-3.0.0-py3-none-any.whl (474 kB)\n",
            "\u001b[2K   \u001b[90m━━━━━━━━━━━━━━━━━━━━━━━━━━━━━━━━━━━━━━━━\u001b[0m \u001b[32m474.3/474.3 kB\u001b[0m \u001b[31m24.7 MB/s\u001b[0m eta \u001b[36m0:00:00\u001b[0m\n",
            "\u001b[?25hDownloading dill-0.3.8-py3-none-any.whl (116 kB)\n",
            "\u001b[2K   \u001b[90m━━━━━━━━━━━━━━━━━━━━━━━━━━━━━━━━━━━━━━━━\u001b[0m \u001b[32m116.3/116.3 kB\u001b[0m \u001b[31m6.4 MB/s\u001b[0m eta \u001b[36m0:00:00\u001b[0m\n",
            "\u001b[?25hDownloading jmespath-1.0.1-py3-none-any.whl (20 kB)\n",
            "Downloading lightning_utilities-0.11.7-py3-none-any.whl (26 kB)\n",
            "Downloading onnxruntime-1.19.2-cp310-cp310-manylinux_2_27_x86_64.manylinux_2_28_x86_64.whl (13.2 MB)\n",
            "\u001b[2K   \u001b[90m━━━━━━━━━━━━━━━━━━━━━━━━━━━━━━━━━━━━━━━━\u001b[0m \u001b[32m13.2/13.2 MB\u001b[0m \u001b[31m71.5 MB/s\u001b[0m eta \u001b[36m0:00:00\u001b[0m\n",
            "\u001b[?25hDownloading py_spy-0.3.14-py2.py3-none-manylinux_2_5_x86_64.manylinux1_x86_64.whl (3.0 MB)\n",
            "\u001b[2K   \u001b[90m━━━━━━━━━━━━━━━━━━━━━━━━━━━━━━━━━━━━━━━━\u001b[0m \u001b[32m3.0/3.0 MB\u001b[0m \u001b[31m58.9 MB/s\u001b[0m eta \u001b[36m0:00:00\u001b[0m\n",
            "\u001b[?25hDownloading pyarrow-17.0.0-cp310-cp310-manylinux_2_28_x86_64.whl (39.9 MB)\n",
            "\u001b[2K   \u001b[90m━━━━━━━━━━━━━━━━━━━━━━━━━━━━━━━━━━━━━━━━\u001b[0m \u001b[32m39.9/39.9 MB\u001b[0m \u001b[31m11.4 MB/s\u001b[0m eta \u001b[36m0:00:00\u001b[0m\n",
            "\u001b[?25hDownloading pywavelets-1.7.0-cp310-cp310-manylinux_2_17_x86_64.manylinux2014_x86_64.whl (4.5 MB)\n",
            "\u001b[2K   \u001b[90m━━━━━━━━━━━━━━━━━━━━━━━━━━━━━━━━━━━━━━━━\u001b[0m \u001b[32m4.5/4.5 MB\u001b[0m \u001b[31m69.9 MB/s\u001b[0m eta \u001b[36m0:00:00\u001b[0m\n",
            "\u001b[?25hDownloading s3transfer-0.10.2-py3-none-any.whl (82 kB)\n",
            "\u001b[2K   \u001b[90m━━━━━━━━━━━━━━━━━━━━━━━━━━━━━━━━━━━━━━━━\u001b[0m \u001b[32m82.7/82.7 kB\u001b[0m \u001b[31m5.3 MB/s\u001b[0m eta \u001b[36m0:00:00\u001b[0m\n",
            "\u001b[?25hDownloading tensorboardX-2.6.2.2-py2.py3-none-any.whl (101 kB)\n",
            "\u001b[2K   \u001b[90m━━━━━━━━━━━━━━━━━━━━━━━━━━━━━━━━━━━━━━━━\u001b[0m \u001b[32m101.7/101.7 kB\u001b[0m \u001b[31m6.5 MB/s\u001b[0m eta \u001b[36m0:00:00\u001b[0m\n",
            "\u001b[?25hDownloading tokenizers-0.15.2-cp310-cp310-manylinux_2_17_x86_64.manylinux2014_x86_64.whl (3.6 MB)\n",
            "\u001b[2K   \u001b[90m━━━━━━━━━━━━━━━━━━━━━━━━━━━━━━━━━━━━━━━━\u001b[0m \u001b[32m3.6/3.6 MB\u001b[0m \u001b[31m42.2 MB/s\u001b[0m eta \u001b[36m0:00:00\u001b[0m\n",
            "\u001b[?25hDownloading virtualenv-20.26.4-py3-none-any.whl (6.0 MB)\n",
            "\u001b[2K   \u001b[90m━━━━━━━━━━━━━━━━━━━━━━━━━━━━━━━━━━━━━━━━\u001b[0m \u001b[32m6.0/6.0 MB\u001b[0m \u001b[31m56.3 MB/s\u001b[0m eta \u001b[36m0:00:00\u001b[0m\n",
            "\u001b[?25hDownloading aiohttp_cors-0.7.0-py3-none-any.whl (27 kB)\n",
            "Downloading colorama-0.4.6-py2.py3-none-any.whl (25 kB)\n",
            "Downloading coloredlogs-15.0.1-py2.py3-none-any.whl (46 kB)\n",
            "\u001b[2K   \u001b[90m━━━━━━━━━━━━━━━━━━━━━━━━━━━━━━━━━━━━━━━━\u001b[0m \u001b[32m46.0/46.0 kB\u001b[0m \u001b[31m2.8 MB/s\u001b[0m eta \u001b[36m0:00:00\u001b[0m\n",
            "\u001b[?25hDownloading colorful-0.5.6-py2.py3-none-any.whl (201 kB)\n",
            "\u001b[2K   \u001b[90m━━━━━━━━━━━━━━━━━━━━━━━━━━━━━━━━━━━━━━━━\u001b[0m \u001b[32m201.4/201.4 kB\u001b[0m \u001b[31m12.2 MB/s\u001b[0m eta \u001b[36m0:00:00\u001b[0m\n",
            "\u001b[?25hDownloading model_index-0.1.11-py3-none-any.whl (34 kB)\n",
            "Downloading multiprocess-0.70.16-py310-none-any.whl (134 kB)\n",
            "\u001b[2K   \u001b[90m━━━━━━━━━━━━━━━━━━━━━━━━━━━━━━━━━━━━━━━━\u001b[0m \u001b[32m134.8/134.8 kB\u001b[0m \u001b[31m9.4 MB/s\u001b[0m eta \u001b[36m0:00:00\u001b[0m\n",
            "\u001b[?25hDownloading onnx-1.16.2-cp310-cp310-manylinux_2_17_x86_64.manylinux2014_x86_64.whl (15.9 MB)\n",
            "\u001b[2K   \u001b[90m━━━━━━━━━━━━━━━━━━━━━━━━━━━━━━━━━━━━━━━━\u001b[0m \u001b[32m15.9/15.9 MB\u001b[0m \u001b[31m66.9 MB/s\u001b[0m eta \u001b[36m0:00:00\u001b[0m\n",
            "\u001b[?25hDownloading opencensus-0.11.4-py2.py3-none-any.whl (128 kB)\n",
            "\u001b[2K   \u001b[90m━━━━━━━━━━━━━━━━━━━━━━━━━━━━━━━━━━━━━━━━\u001b[0m \u001b[32m128.2/128.2 kB\u001b[0m \u001b[31m7.9 MB/s\u001b[0m eta \u001b[36m0:00:00\u001b[0m\n",
            "\u001b[?25hDownloading opendatalab-0.0.10-py3-none-any.whl (29 kB)\n",
            "Downloading window_ops-0.0.15-py3-none-any.whl (15 kB)\n",
            "Downloading xxhash-3.5.0-cp310-cp310-manylinux_2_17_x86_64.manylinux2014_x86_64.whl (194 kB)\n",
            "\u001b[2K   \u001b[90m━━━━━━━━━━━━━━━━━━━━━━━━━━━━━━━━━━━━━━━━\u001b[0m \u001b[32m194.1/194.1 kB\u001b[0m \u001b[31m12.8 MB/s\u001b[0m eta \u001b[36m0:00:00\u001b[0m\n",
            "\u001b[?25hDownloading distlib-0.3.8-py2.py3-none-any.whl (468 kB)\n",
            "\u001b[2K   \u001b[90m━━━━━━━━━━━━━━━━━━━━━━━━━━━━━━━━━━━━━━━━\u001b[0m \u001b[32m468.9/468.9 kB\u001b[0m \u001b[31m22.2 MB/s\u001b[0m eta \u001b[36m0:00:00\u001b[0m\n",
            "\u001b[?25hDownloading humanfriendly-10.0-py2.py3-none-any.whl (86 kB)\n",
            "\u001b[2K   \u001b[90m━━━━━━━━━━━━━━━━━━━━━━━━━━━━━━━━━━━━━━━━\u001b[0m \u001b[32m86.8/86.8 kB\u001b[0m \u001b[31m5.3 MB/s\u001b[0m eta \u001b[36m0:00:00\u001b[0m\n",
            "\u001b[?25hDownloading opencensus_context-0.1.3-py2.py3-none-any.whl (5.1 kB)\n",
            "Downloading nvidia_nvjitlink_cu12-12.6.68-py3-none-manylinux2014_x86_64.whl (19.7 MB)\n",
            "\u001b[2K   \u001b[90m━━━━━━━━━━━━━━━━━━━━━━━━━━━━━━━━━━━━━━━━\u001b[0m \u001b[32m19.7/19.7 MB\u001b[0m \u001b[31m58.6 MB/s\u001b[0m eta \u001b[36m0:00:00\u001b[0m\n",
            "\u001b[?25hDownloading openxlab-0.0.11-py3-none-any.whl (55 kB)\n",
            "\u001b[2K   \u001b[90m━━━━━━━━━━━━━━━━━━━━━━━━━━━━━━━━━━━━━━━━\u001b[0m \u001b[32m55.3/55.3 kB\u001b[0m \u001b[31m2.8 MB/s\u001b[0m eta \u001b[36m0:00:00\u001b[0m\n",
            "\u001b[?25hDownloading ordered_set-4.1.0-py3-none-any.whl (7.6 kB)\n",
            "Downloading pycryptodome-3.20.0-cp35-abi3-manylinux_2_17_x86_64.manylinux2014_x86_64.whl (2.1 MB)\n",
            "\u001b[2K   \u001b[90m━━━━━━━━━━━━━━━━━━━━━━━━━━━━━━━━━━━━━━━━\u001b[0m \u001b[32m2.1/2.1 MB\u001b[0m \u001b[31m50.5 MB/s\u001b[0m eta \u001b[36m0:00:00\u001b[0m\n",
            "\u001b[?25hBuilding wheels for collected packages: nvidia-ml-py3, antlr4-python3-runtime, seqeval\n",
            "  Building wheel for nvidia-ml-py3 (setup.py) ... \u001b[?25l\u001b[?25hdone\n",
            "  Created wheel for nvidia-ml-py3: filename=nvidia_ml_py3-7.352.0-py3-none-any.whl size=19171 sha256=e27cb9d5ffc0675a7548d421cb9bede7ebd83369f44bd2ea6507835624d30eef\n",
            "  Stored in directory: /root/.cache/pip/wheels/5c/d8/c0/46899f8be7a75a2ffd197a23c8797700ea858b9b34819fbf9e\n",
            "  Building wheel for antlr4-python3-runtime (setup.py) ... \u001b[?25l\u001b[?25hdone\n",
            "  Created wheel for antlr4-python3-runtime: filename=antlr4_python3_runtime-4.9.3-py3-none-any.whl size=144554 sha256=49c859af951d5c1eb9b445b5adbca00fdd4cfe21ed283a5c57d693c49e60dbab\n",
            "  Stored in directory: /root/.cache/pip/wheels/12/93/dd/1f6a127edc45659556564c5730f6d4e300888f4bca2d4c5a88\n",
            "  Building wheel for seqeval (setup.py) ... \u001b[?25l\u001b[?25hdone\n",
            "  Created wheel for seqeval: filename=seqeval-1.2.2-py3-none-any.whl size=16161 sha256=4289c6780ae4e2e9ffe0661991f693fa2cf415597bf25a500bea6cee826d1be5\n",
            "  Stored in directory: /root/.cache/pip/wheels/1a/67/4a/ad4082dd7dfc30f2abfe4d80a2ed5926a506eb8a972b4767fa\n",
            "Successfully built nvidia-ml-py3 antlr4-python3-runtime seqeval\n",
            "Installing collected packages: py-spy, opencensus-context, nvidia-ml-py3, distlib, colorful, antlr4-python3-runtime, xxhash, virtualenv, triton, tensorboardX, scipy, PyWavelets, pycryptodome, pyarrow, Pillow, orjson, ordered-set, openxlab, onnx, omegaconf, nvidia-nvtx-cu12, nvidia-nvjitlink-cu12, nvidia-nccl-cu12, nvidia-curand-cu12, nvidia-cufft-cu12, nvidia-cuda-runtime-cu12, nvidia-cuda-nvrtc-cu12, nvidia-cuda-cupti-cu12, nvidia-cublas-cu12, nptyping, lightning-utilities, jmespath, humanfriendly, dill, colorama, xgboost, window-ops, pytesseract, pdf2image, nvidia-cusparse-cu12, nvidia-cudnn-cu12, multiprocess, model-index, lightgbm, coloredlogs, botocore, utilsforecast, tokenizers, seqeval, scikit-image, s3transfer, opendatalab, onnxruntime, nvidia-cusolver-cu12, jsonschema, gluonts, catboost, transformers, torch, statsforecast, ray, openmim, opencensus, nlpaug, mlforecast, boto3, aiohttp-cors, torchvision, torchmetrics, pytorch-metric-learning, datasets, autogluon.common, accelerate, timm, pytorch-lightning, optimum, evaluate, autogluon.features, autogluon.core, lightning, autogluon.tabular, autogluon.multimodal, autogluon.timeseries, autogluon\n",
            "  Attempting uninstall: scipy\n",
            "    Found existing installation: scipy 1.13.1\n",
            "    Uninstalling scipy-1.13.1:\n",
            "      Successfully uninstalled scipy-1.13.1\n",
            "  Attempting uninstall: pyarrow\n",
            "    Found existing installation: pyarrow 14.0.2\n",
            "    Uninstalling pyarrow-14.0.2:\n",
            "      Successfully uninstalled pyarrow-14.0.2\n",
            "  Attempting uninstall: Pillow\n",
            "    Found existing installation: Pillow 9.4.0\n",
            "    Uninstalling Pillow-9.4.0:\n",
            "      Successfully uninstalled Pillow-9.4.0\n",
            "  Attempting uninstall: nvidia-nccl-cu12\n",
            "    Found existing installation: nvidia-nccl-cu12 2.22.3\n",
            "    Uninstalling nvidia-nccl-cu12-2.22.3:\n",
            "      Successfully uninstalled nvidia-nccl-cu12-2.22.3\n",
            "  Attempting uninstall: xgboost\n",
            "    Found existing installation: xgboost 2.1.1\n",
            "    Uninstalling xgboost-2.1.1:\n",
            "      Successfully uninstalled xgboost-2.1.1\n",
            "  Attempting uninstall: lightgbm\n",
            "    Found existing installation: lightgbm 4.4.0\n",
            "    Uninstalling lightgbm-4.4.0:\n",
            "      Successfully uninstalled lightgbm-4.4.0\n",
            "  Attempting uninstall: tokenizers\n",
            "    Found existing installation: tokenizers 0.19.1\n",
            "    Uninstalling tokenizers-0.19.1:\n",
            "      Successfully uninstalled tokenizers-0.19.1\n",
            "  Attempting uninstall: scikit-image\n",
            "    Found existing installation: scikit-image 0.23.2\n",
            "    Uninstalling scikit-image-0.23.2:\n",
            "      Successfully uninstalled scikit-image-0.23.2\n",
            "  Attempting uninstall: jsonschema\n",
            "    Found existing installation: jsonschema 4.23.0\n",
            "    Uninstalling jsonschema-4.23.0:\n",
            "      Successfully uninstalled jsonschema-4.23.0\n",
            "  Attempting uninstall: transformers\n",
            "    Found existing installation: transformers 4.44.2\n",
            "    Uninstalling transformers-4.44.2:\n",
            "      Successfully uninstalled transformers-4.44.2\n",
            "  Attempting uninstall: torch\n",
            "    Found existing installation: torch 2.4.0+cu121\n",
            "    Uninstalling torch-2.4.0+cu121:\n",
            "      Successfully uninstalled torch-2.4.0+cu121\n",
            "  Attempting uninstall: torchvision\n",
            "    Found existing installation: torchvision 0.19.0+cu121\n",
            "    Uninstalling torchvision-0.19.0+cu121:\n",
            "      Successfully uninstalled torchvision-0.19.0+cu121\n",
            "  Attempting uninstall: accelerate\n",
            "    Found existing installation: accelerate 0.34.2\n",
            "    Uninstalling accelerate-0.34.2:\n",
            "      Successfully uninstalled accelerate-0.34.2\n",
            "\u001b[31mERROR: pip's dependency resolver does not currently take into account all the packages that are installed. This behaviour is the source of the following dependency conflicts.\n",
            "albumentations 1.4.14 requires scikit-image>=0.21.0, but you have scikit-image 0.20.0 which is incompatible.\n",
            "cudf-cu12 24.4.1 requires pyarrow<15.0.0a0,>=14.0.1, but you have pyarrow 17.0.0 which is incompatible.\n",
            "ibis-framework 8.0.0 requires pyarrow<16,>=2, but you have pyarrow 17.0.0 which is incompatible.\n",
            "osqp 0.6.7.post0 requires scipy!=1.12.0,>=0.13.2, but you have scipy 1.12.0 which is incompatible.\n",
            "torchaudio 2.4.0+cu121 requires torch==2.4.0, but you have torch 2.3.1 which is incompatible.\u001b[0m\u001b[31m\n",
            "\u001b[0mSuccessfully installed Pillow-10.4.0 PyWavelets-1.7.0 accelerate-0.21.0 aiohttp-cors-0.7.0 antlr4-python3-runtime-4.9.3 autogluon-1.1.1 autogluon.common-1.1.1 autogluon.core-1.1.1 autogluon.features-1.1.1 autogluon.multimodal-1.1.1 autogluon.tabular-1.1.1 autogluon.timeseries-1.1.1 boto3-1.35.19 botocore-1.35.19 catboost-1.2.7 colorama-0.4.6 coloredlogs-15.0.1 colorful-0.5.6 datasets-3.0.0 dill-0.3.8 distlib-0.3.8 evaluate-0.4.3 gluonts-0.15.1 humanfriendly-10.0 jmespath-1.0.1 jsonschema-4.21.1 lightgbm-4.3.0 lightning-2.3.3 lightning-utilities-0.11.7 mlforecast-0.10.0 model-index-0.1.11 multiprocess-0.70.16 nlpaug-1.1.11 nptyping-2.4.1 nvidia-cublas-cu12-12.1.3.1 nvidia-cuda-cupti-cu12-12.1.105 nvidia-cuda-nvrtc-cu12-12.1.105 nvidia-cuda-runtime-cu12-12.1.105 nvidia-cudnn-cu12-8.9.2.26 nvidia-cufft-cu12-11.0.2.54 nvidia-curand-cu12-10.3.2.106 nvidia-cusolver-cu12-11.4.5.107 nvidia-cusparse-cu12-12.1.0.106 nvidia-ml-py3-7.352.0 nvidia-nccl-cu12-2.20.5 nvidia-nvjitlink-cu12-12.6.68 nvidia-nvtx-cu12-12.1.105 omegaconf-2.2.3 onnx-1.16.2 onnxruntime-1.19.2 opencensus-0.11.4 opencensus-context-0.1.3 opendatalab-0.0.10 openmim-0.3.9 openxlab-0.0.11 optimum-1.18.1 ordered-set-4.1.0 orjson-3.10.7 pdf2image-1.17.0 py-spy-0.3.14 pyarrow-17.0.0 pycryptodome-3.20.0 pytesseract-0.3.10 pytorch-lightning-2.3.3 pytorch-metric-learning-2.3.0 ray-2.10.0 s3transfer-0.10.2 scikit-image-0.20.0 scipy-1.12.0 seqeval-1.2.2 statsforecast-1.4.0 tensorboardX-2.6.2.2 timm-0.9.16 tokenizers-0.15.2 torch-2.3.1 torchmetrics-1.2.1 torchvision-0.18.1 transformers-4.39.3 triton-2.3.1 utilsforecast-0.0.10 virtualenv-20.26.4 window-ops-0.0.15 xgboost-2.0.3 xxhash-3.5.0\n"
          ]
        },
        {
          "output_type": "display_data",
          "data": {
            "application/vnd.colab-display-data+json": {
              "pip_warning": {
                "packages": [
                  "PIL",
                  "pyarrow",
                  "pydevd_plugins"
                ]
              },
              "id": "9dc89dd02fcb4fbb92b31cab9b266e8c"
            }
          },
          "metadata": {}
        }
      ],
      "source": [
        "!pip install autogluon"
      ]
    },
    {
      "cell_type": "code",
      "execution_count": null,
      "metadata": {
        "id": "XjKBcanSed64"
      },
      "outputs": [],
      "source": [
        "import pandas as pd\n",
        "import numpy as np\n",
        "\n",
        "from autogluon.tabular import TabularPredictor\n",
        "\n",
        "directory = '/content/drive/My Drive/Colab Notebooks/Assignment2/'  # directory where you have downloaded the data CSV files from the competition\n",
        "label = 'isFraud'  # name of target variable to predict in this competition\n",
        "eval_metric = 'roc_auc'  # Optional: specify that competition evaluation metric is AUC\n",
        "save_path = directory + 'AutoGluonModels/'  # where to store trained models\n",
        "\n",
        "train_identity = pd.read_csv(directory+'train_identity.csv')\n",
        "train_transaction = pd.read_csv(directory+'train_transaction.csv')"
      ]
    },
    {
      "cell_type": "code",
      "execution_count": null,
      "metadata": {
        "id": "uyF2_QpjeZnL"
      },
      "outputs": [],
      "source": [
        "train_data = pd.merge(train_transaction, train_identity, on='TransactionID', how='left')"
      ]
    },
    {
      "cell_type": "code",
      "execution_count": null,
      "metadata": {
        "colab": {
          "base_uri": "https://localhost:8080/"
        },
        "id": "pXyylWBAYvJU",
        "outputId": "3dc31766-7027-4f35-9d18-ae8d1f7dc7cd"
      },
      "outputs": [
        {
          "metadata": {
            "tags": null
          },
          "name": "stderr",
          "output_type": "stream",
          "text": [
            "Warning: path already exists! This predictor may overwrite an existing predictor! path=\"/content/drive/My Drive/Colab Notebooks/Assignment2/AutoGluonModels/\"\n",
            "Verbosity: 3 (Detailed Logging)\n",
            "=================== System Info ===================\n",
            "AutoGluon Version:  1.1.1\n",
            "Python Version:     3.10.12\n",
            "Operating System:   Linux\n",
            "Platform Machine:   x86_64\n",
            "Platform Version:   #1 SMP PREEMPT_DYNAMIC Thu Jun 27 21:05:47 UTC 2024\n",
            "CPU Count:          2\n",
            "GPU Count:          0\n",
            "Memory Avail:       5.60 GB / 12.67 GB (44.2%)\n",
            "Disk Space Avail:   61.48 GB / 107.72 GB (57.1%)\n",
            "===================================================\n",
            "Presets specified: ['good_quality']\n",
            "============ fit kwarg info ============\n",
            "User Specified kwargs:\n",
            "{'auto_stack': True,\n",
            " 'num_bag_sets': 1,\n",
            " 'refit_full': True,\n",
            " 'save_bag_folds': False,\n",
            " 'save_space': True,\n",
            " 'set_best_to_refit_full': True}\n",
            "Full kwargs:\n",
            "{'_feature_generator_kwargs': None,\n",
            " '_save_bag_folds': None,\n",
            " 'ag_args': None,\n",
            " 'ag_args_ensemble': None,\n",
            " 'ag_args_fit': None,\n",
            " 'auto_stack': True,\n",
            " 'calibrate': 'auto',\n",
            " 'ds_args': {'clean_up_fits': True,\n",
            "             'detection_time_frac': 0.25,\n",
            "             'enable_ray_logging': True,\n",
            "             'holdout_data': None,\n",
            "             'holdout_frac': 0.1111111111111111,\n",
            "             'memory_safe_fits': True,\n",
            "             'n_folds': 2,\n",
            "             'n_repeats': 1,\n",
            "             'validation_procedure': 'holdout'},\n",
            " 'excluded_model_types': None,\n",
            " 'feature_generator': 'auto',\n",
            " 'feature_prune_kwargs': None,\n",
            " 'holdout_frac': None,\n",
            " 'hyperparameter_tune_kwargs': None,\n",
            " 'included_model_types': None,\n",
            " 'keep_only_best': False,\n",
            " 'name_suffix': None,\n",
            " 'num_bag_folds': None,\n",
            " 'num_bag_sets': 1,\n",
            " 'num_stack_levels': None,\n",
            " 'pseudo_data': None,\n",
            " 'refit_full': True,\n",
            " 'save_bag_folds': False,\n",
            " 'save_space': True,\n",
            " 'set_best_to_refit_full': True,\n",
            " 'unlabeled_data': None,\n",
            " 'use_bag_holdout': False,\n",
            " 'verbosity': 3}\n",
            "========================================\n",
            "Setting dynamic_stacking from 'auto' to True. Reason: Enable dynamic_stacking when use_bag_holdout is disabled. (use_bag_holdout=False)\n",
            "Stack configuration (auto_stack=True): num_stack_levels=1, num_bag_folds=8, num_bag_sets=1\n",
            "Note: `save_bag_folds=False`! This will greatly reduce peak disk usage during fit (by ~8x), but runs the risk of an out-of-memory error during model refit if memory is small relative to the data size.\n",
            "\tYou can avoid this risk by setting `save_bag_folds=True`.\n",
            "DyStack is enabled (dynamic_stacking=True). AutoGluon will try to determine whether the input data is affected by stacked overfitting and enable or disable stacking as a consequence.\n",
            "\tThis is used to identify the optimal `num_stack_levels` value. Copies of AutoGluon will be fit on subsets of the data. Then holdout validation data is used to detect stacked overfitting.\n",
            "\tRunning DyStack for up to 900s of the 3600s of remaining time (25%).\n",
            "/usr/local/lib/python3.10/dist-packages/autogluon/tabular/predictor/predictor.py:1242: UserWarning: Failed to use ray for memory safe fits. Falling back to normal fit. Error: AttributeError(\"partially initialized module 'charset_normalizer' has no attribute 'md__mypyc' (most likely due to a circular import)\")\n",
            "  stacked_overfitting = self._sub_fit_memory_save_wrapper(\n",
            "\t\tContext path: \"/content/drive/My Drive/Colab Notebooks/Assignment2/AutoGluonModels/ds_sub_fit/sub_fit_ho\"\n",
            "Running DyStack sub-fit ...\n",
            "Saving /content/drive/My Drive/Colab Notebooks/Assignment2/AutoGluonModels/ds_sub_fit/sub_fit_ho/learner.pkl\n",
            "Saving /content/drive/My Drive/Colab Notebooks/Assignment2/AutoGluonModels/ds_sub_fit/sub_fit_ho/predictor.pkl\n",
            "Beginning AutoGluon training ... Time limit = 900s\n",
            "AutoGluon will save models to \"/content/drive/My Drive/Colab Notebooks/Assignment2/AutoGluonModels/ds_sub_fit/sub_fit_ho\"\n",
            "Train Data Rows:    26246\n",
            "Train Data Columns: 433\n",
            "Label Column:       isFraud\n",
            "Problem Type:       binary\n",
            "Preprocessing data ...\n",
            "Selected class <--> label mapping:  class 1 = 1, class 0 = 0\n",
            "Using Feature Generators to preprocess the data ...\n",
            "Fitting AutoMLPipelineFeatureGenerator...\n",
            "\tAvailable Memory:                    5760.81 MB\n",
            "\tTrain Data (Original)  Memory Usage: 113.94 MB (2.0% of available memory)\n",
            "\tInferring data type of each feature based on column values. Set feature_metadata_in to manually specify special dtypes of the features.\n",
            "\tStage 1 Generators:\n",
            "\t\tFitting AsTypeFeatureGenerator...\n",
            "\t\t\tOriginal Features (exact raw dtype, raw dtype):\n",
            "\t\t\t\t('float64', 'float') : 398 | ['TransactionAmt', 'card2', 'card3', 'card5', 'addr1', ...]\n",
            "\t\t\t\t('int64', 'int')     :   3 | ['TransactionID', 'TransactionDT', 'card1']\n",
            "\t\t\t\t('object', 'object') :  31 | ['ProductCD', 'card4', 'card6', 'P_emaildomain', 'R_emaildomain', ...]\n",
            "\t\t\tTypes of features in original data (raw dtype, special dtypes):\n",
            "\t\t\t\t('float', [])  : 398 | ['TransactionAmt', 'card2', 'card3', 'card5', 'addr1', ...]\n",
            "\t\t\t\t('int', [])    :   3 | ['TransactionID', 'TransactionDT', 'card1']\n",
            "\t\t\t\t('object', []) :  31 | ['ProductCD', 'card4', 'card6', 'P_emaildomain', 'R_emaildomain', ...]\n",
            "\t\t\tTypes of features in processed data (raw dtype, special dtypes):\n",
            "\t\t\t\t('float', [])  : 398 | ['TransactionAmt', 'card2', 'card3', 'card5', 'addr1', ...]\n",
            "\t\t\t\t('int', [])    :   3 | ['TransactionID', 'TransactionDT', 'card1']\n",
            "\t\t\t\t('object', []) :  31 | ['ProductCD', 'card4', 'card6', 'P_emaildomain', 'R_emaildomain', ...]\n",
            "\t\t\t0.3s = Fit runtime\n",
            "\t\t\t432 features in original data used to generate 432 features in processed data.\n",
            "\tStage 2 Generators:\n",
            "\t\tFitting FillNaFeatureGenerator...\n",
            "\t\t\tTypes of features in original data (raw dtype, special dtypes):\n",
            "\t\t\t\t('float', [])  : 398 | ['TransactionAmt', 'card2', 'card3', 'card5', 'addr1', ...]\n",
            "\t\t\t\t('int', [])    :   3 | ['TransactionID', 'TransactionDT', 'card1']\n",
            "\t\t\t\t('object', []) :  31 | ['ProductCD', 'card4', 'card6', 'P_emaildomain', 'R_emaildomain', ...]\n",
            "\t\t\tTypes of features in processed data (raw dtype, special dtypes):\n",
            "\t\t\t\t('float', [])  : 398 | ['TransactionAmt', 'card2', 'card3', 'card5', 'addr1', ...]\n",
            "\t\t\t\t('int', [])    :   3 | ['TransactionID', 'TransactionDT', 'card1']\n",
            "\t\t\t\t('object', []) :  31 | ['ProductCD', 'card4', 'card6', 'P_emaildomain', 'R_emaildomain', ...]\n",
            "\t\t\t0.2s = Fit runtime\n",
            "\t\t\t432 features in original data used to generate 432 features in processed data.\n",
            "\tStage 3 Generators:\n",
            "\t\tFitting IdentityFeatureGenerator...\n",
            "\t\t\tTypes of features in original data (raw dtype, special dtypes):\n",
            "\t\t\t\t('float', []) : 398 | ['TransactionAmt', 'card2', 'card3', 'card5', 'addr1', ...]\n",
            "\t\t\t\t('int', [])   :   3 | ['TransactionID', 'TransactionDT', 'card1']\n",
            "\t\t\tTypes of features in processed data (raw dtype, special dtypes):\n",
            "\t\t\t\t('float', []) : 398 | ['TransactionAmt', 'card2', 'card3', 'card5', 'addr1', ...]\n",
            "\t\t\t\t('int', [])   :   3 | ['TransactionID', 'TransactionDT', 'card1']\n",
            "\t\t\t0.1s = Fit runtime\n",
            "\t\t\t401 features in original data used to generate 401 features in processed data.\n",
            "\t\tFitting CategoryFeatureGenerator...\n",
            "\t\t\tFitting CategoryMemoryMinimizeFeatureGenerator...\n",
            "\t\t\t\tTypes of features in original data (raw dtype, special dtypes):\n",
            "\t\t\t\t\t('category', []) : 31 | ['ProductCD', 'card4', 'card6', 'P_emaildomain', 'R_emaildomain', ...]\n",
            "\t\t\t\tTypes of features in processed data (raw dtype, special dtypes):\n",
            "\t\t\t\t\t('category', []) : 31 | ['ProductCD', 'card4', 'card6', 'P_emaildomain', 'R_emaildomain', ...]\n",
            "\t\t\t\t0.0s = Fit runtime\n",
            "\t\t\t\t31 features in original data used to generate 31 features in processed data.\n",
            "\t\t\tTypes of features in original data (raw dtype, special dtypes):\n",
            "\t\t\t\t('object', []) : 31 | ['ProductCD', 'card4', 'card6', 'P_emaildomain', 'R_emaildomain', ...]\n",
            "\t\t\tTypes of features in processed data (raw dtype, special dtypes):\n",
            "\t\t\t\t('category', []) : 31 | ['ProductCD', 'card4', 'card6', 'P_emaildomain', 'R_emaildomain', ...]\n",
            "\t\t\t0.2s = Fit runtime\n",
            "\t\t\t31 features in original data used to generate 31 features in processed data.\n",
            "\t\tSkipping DatetimeFeatureGenerator: No input feature with required dtypes.\n",
            "\t\tSkipping TextSpecialFeatureGenerator: No input feature with required dtypes.\n",
            "\t\tSkipping TextNgramFeatureGenerator: No input feature with required dtypes.\n",
            "\t\tSkipping IdentityFeatureGenerator: No input feature with required dtypes.\n",
            "\t\tSkipping IsNanFeatureGenerator: No input feature with required dtypes.\n",
            "\tStage 4 Generators:\n",
            "\t\tFitting DropUniqueFeatureGenerator...\n",
            "\t\t\tTypes of features in original data (raw dtype, special dtypes):\n",
            "\t\t\t\t('category', []) :  31 | ['ProductCD', 'card4', 'card6', 'P_emaildomain', 'R_emaildomain', ...]\n",
            "\t\t\t\t('float', [])    : 398 | ['TransactionAmt', 'card2', 'card3', 'card5', 'addr1', ...]\n",
            "\t\t\t\t('int', [])      :   3 | ['TransactionID', 'TransactionDT', 'card1']\n",
            "\t\t\tTypes of features in processed data (raw dtype, special dtypes):\n",
            "\t\t\t\t('category', []) :  31 | ['ProductCD', 'card4', 'card6', 'P_emaildomain', 'R_emaildomain', ...]\n",
            "\t\t\t\t('float', [])    : 398 | ['TransactionAmt', 'card2', 'card3', 'card5', 'addr1', ...]\n",
            "\t\t\t\t('int', [])      :   3 | ['TransactionID', 'TransactionDT', 'card1']\n",
            "\t\t\t0.3s = Fit runtime\n",
            "\t\t\t432 features in original data used to generate 432 features in processed data.\n",
            "\tStage 5 Generators:\n",
            "\t\tFitting DropDuplicatesFeatureGenerator...\n",
            "\t\t\t3 duplicate columns removed: ['V28', 'V195', 'V241']\n",
            "\t\t\tTypes of features in original data (raw dtype, special dtypes):\n",
            "\t\t\t\t('category', []) :  31 | ['ProductCD', 'card4', 'card6', 'P_emaildomain', 'R_emaildomain', ...]\n",
            "\t\t\t\t('float', [])    : 395 | ['TransactionAmt', 'card2', 'card3', 'card5', 'addr1', ...]\n",
            "\t\t\t\t('int', [])      :   3 | ['TransactionID', 'TransactionDT', 'card1']\n",
            "\t\t\tTypes of features in processed data (raw dtype, special dtypes):\n",
            "\t\t\t\t('category', []) :  31 | ['ProductCD', 'card4', 'card6', 'P_emaildomain', 'R_emaildomain', ...]\n",
            "\t\t\t\t('float', [])    : 395 | ['TransactionAmt', 'card2', 'card3', 'card5', 'addr1', ...]\n",
            "\t\t\t\t('int', [])      :   3 | ['TransactionID', 'TransactionDT', 'card1']\n",
            "\t\t\t10.0s = Fit runtime\n",
            "\t\t\t429 features in original data used to generate 429 features in processed data.\n",
            "\tUseless Original Features (Count: 1): ['V305']\n",
            "\t\tThese features carry no predictive signal and should be manually investigated.\n",
            "\t\tThis is typically a feature which has the same value for all rows.\n",
            "\t\tThese features do not need to be present at inference time.\n",
            "\tUnused Original Features (Count: 3): ['V28', 'V195', 'V241']\n",
            "\t\tThese features were not used to generate any of the output features. Add a feature generator compatible with these features to utilize them.\n",
            "\t\tFeatures can also be unused if they carry very little information, such as being categorical but having almost entirely unique values or being duplicates of other features.\n",
            "\t\tThese features do not need to be present at inference time.\n",
            "\t\t('float', []) : 3 | ['V28', 'V195', 'V241']\n",
            "\tTypes of features in original data (exact raw dtype, raw dtype):\n",
            "\t\t('float64', 'float') : 395 | ['TransactionAmt', 'card2', 'card3', 'card5', 'addr1', ...]\n",
            "\t\t('int64', 'int')     :   3 | ['TransactionID', 'TransactionDT', 'card1']\n",
            "\t\t('object', 'object') :  31 | ['ProductCD', 'card4', 'card6', 'P_emaildomain', 'R_emaildomain', ...]\n",
            "\tTypes of features in original data (raw dtype, special dtypes):\n",
            "\t\t('float', [])  : 395 | ['TransactionAmt', 'card2', 'card3', 'card5', 'addr1', ...]\n",
            "\t\t('int', [])    :   3 | ['TransactionID', 'TransactionDT', 'card1']\n",
            "\t\t('object', []) :  31 | ['ProductCD', 'card4', 'card6', 'P_emaildomain', 'R_emaildomain', ...]\n",
            "\tTypes of features in processed data (exact raw dtype, raw dtype):\n",
            "\t\t('category', 'category') :  31 | ['ProductCD', 'card4', 'card6', 'P_emaildomain', 'R_emaildomain', ...]\n",
            "\t\t('float64', 'float')     : 395 | ['TransactionAmt', 'card2', 'card3', 'card5', 'addr1', ...]\n",
            "\t\t('int64', 'int')         :   3 | ['TransactionID', 'TransactionDT', 'card1']\n",
            "\tTypes of features in processed data (raw dtype, special dtypes):\n",
            "\t\t('category', []) :  31 | ['ProductCD', 'card4', 'card6', 'P_emaildomain', 'R_emaildomain', ...]\n",
            "\t\t('float', [])    : 395 | ['TransactionAmt', 'card2', 'card3', 'card5', 'addr1', ...]\n",
            "\t\t('int', [])      :   3 | ['TransactionID', 'TransactionDT', 'card1']\n",
            "\t12.3s = Fit runtime\n",
            "\t429 features in original data used to generate 429 features in processed data.\n",
            "\tTrain Data (Processed) Memory Usage: 80.51 MB (1.4% of available memory)\n",
            "Data preprocessing and feature engineering runtime = 12.82s ...\n",
            "AutoGluon will gauge predictive performance using evaluation metric: 'roc_auc'\n",
            "\tThis metric expects predicted probabilities rather than predicted class labels, so you'll need to use predict_proba() instead of predict()\n",
            "\tTo change this, specify the eval_metric parameter of Predictor()\n",
            "Saving /content/drive/My Drive/Colab Notebooks/Assignment2/AutoGluonModels/ds_sub_fit/sub_fit_ho/learner.pkl\n",
            "User-specified model hyperparameters to be fit:\n",
            "{\n",
            "\t'NN_TORCH': {},\n",
            "\t'GBM': [{'extra_trees': True, 'ag_args': {'name_suffix': 'XT'}}, {}, 'GBMLarge'],\n",
            "\t'CAT': {},\n",
            "\t'XGB': {},\n",
            "\t'FASTAI': {},\n",
            "\t'RF': [{'criterion': 'gini', 'max_depth': 15, 'ag_args': {'name_suffix': 'Gini', 'problem_types': ['binary', 'multiclass']}}, {'criterion': 'entropy', 'max_depth': 15, 'ag_args': {'name_suffix': 'Entr', 'problem_types': ['binary', 'multiclass']}}, {'criterion': 'squared_error', 'max_depth': 15, 'ag_args': {'name_suffix': 'MSE', 'problem_types': ['regression', 'quantile']}}],\n",
            "\t'XT': [{'criterion': 'gini', 'max_depth': 15, 'ag_args': {'name_suffix': 'Gini', 'problem_types': ['binary', 'multiclass']}}, {'criterion': 'entropy', 'max_depth': 15, 'ag_args': {'name_suffix': 'Entr', 'problem_types': ['binary', 'multiclass']}}, {'criterion': 'squared_error', 'max_depth': 15, 'ag_args': {'name_suffix': 'MSE', 'problem_types': ['regression', 'quantile']}}],\n",
            "}\n",
            "Saving /content/drive/My Drive/Colab Notebooks/Assignment2/AutoGluonModels/ds_sub_fit/sub_fit_ho/utils/data/X.pkl\n",
            "Saving /content/drive/My Drive/Colab Notebooks/Assignment2/AutoGluonModels/ds_sub_fit/sub_fit_ho/utils/data/y.pkl\n",
            "AutoGluon will fit 2 stack levels (L1 to L2) ...\n",
            "Model configs that will be trained (in order):\n",
            "\tLightGBMXT_BAG_L1: \t{'extra_trees': True, 'ag_args': {'name_suffix': 'XT', 'model_type': <class 'autogluon.tabular.models.lgb.lgb_model.LGBModel'>, 'priority': 90}, 'ag_args_ensemble': {'save_bag_folds': False}}\n",
            "\tLightGBM_BAG_L1: \t{'ag_args': {'model_type': <class 'autogluon.tabular.models.lgb.lgb_model.LGBModel'>, 'priority': 90}, 'ag_args_ensemble': {'save_bag_folds': False}}\n",
            "\tRandomForestGini_BAG_L1: \t{'criterion': 'gini', 'max_depth': 15, 'ag_args': {'name_suffix': 'Gini', 'problem_types': ['binary', 'multiclass'], 'model_type': <class 'autogluon.tabular.models.rf.rf_model.RFModel'>, 'priority': 80}, 'ag_args_ensemble': {'use_child_oof': True, 'save_bag_folds': False}}\n",
            "\tRandomForestEntr_BAG_L1: \t{'criterion': 'entropy', 'max_depth': 15, 'ag_args': {'name_suffix': 'Entr', 'problem_types': ['binary', 'multiclass'], 'model_type': <class 'autogluon.tabular.models.rf.rf_model.RFModel'>, 'priority': 80}, 'ag_args_ensemble': {'use_child_oof': True, 'save_bag_folds': False}}\n",
            "\tCatBoost_BAG_L1: \t{'ag_args': {'model_type': <class 'autogluon.tabular.models.catboost.catboost_model.CatBoostModel'>, 'priority': 70}, 'ag_args_ensemble': {'save_bag_folds': False}}\n",
            "\tExtraTreesGini_BAG_L1: \t{'criterion': 'gini', 'max_depth': 15, 'ag_args': {'name_suffix': 'Gini', 'problem_types': ['binary', 'multiclass'], 'model_type': <class 'autogluon.tabular.models.xt.xt_model.XTModel'>, 'priority': 60}, 'ag_args_ensemble': {'use_child_oof': True, 'save_bag_folds': False}}\n",
            "\tExtraTreesEntr_BAG_L1: \t{'criterion': 'entropy', 'max_depth': 15, 'ag_args': {'name_suffix': 'Entr', 'problem_types': ['binary', 'multiclass'], 'model_type': <class 'autogluon.tabular.models.xt.xt_model.XTModel'>, 'priority': 60}, 'ag_args_ensemble': {'use_child_oof': True, 'save_bag_folds': False}}\n",
            "\tNeuralNetFastAI_BAG_L1: \t{'ag_args': {'model_type': <class 'autogluon.tabular.models.fastainn.tabular_nn_fastai.NNFastAiTabularModel'>, 'priority': 50}, 'ag_args_ensemble': {'save_bag_folds': False}}\n",
            "\tXGBoost_BAG_L1: \t{'ag_args': {'problem_types': ['binary', 'multiclass', 'regression', 'softclass'], 'model_type': <class 'autogluon.tabular.models.xgboost.xgboost_model.XGBoostModel'>, 'priority': 40}, 'ag_args_ensemble': {'save_bag_folds': False}}\n",
            "\tNeuralNetTorch_BAG_L1: \t{'ag_args': {'model_type': <class 'autogluon.tabular.models.tabular_nn.torch.tabular_nn_torch.TabularNeuralNetTorchModel'>, 'priority': 25}, 'ag_args_ensemble': {'save_bag_folds': False}}\n",
            "\tLightGBMLarge_BAG_L1: \t{'learning_rate': 0.03, 'num_leaves': 128, 'feature_fraction': 0.9, 'min_data_in_leaf': 5, 'ag_args': {'model_type': <class 'autogluon.tabular.models.lgb.lgb_model.LGBModel'>, 'name_suffix': 'Large', 'hyperparameter_tune_kwargs': None, 'priority': 0}, 'ag_args_ensemble': {'save_bag_folds': False}}\n",
            "Fitting 11 L1 models ...\n",
            "Fitting model: LightGBMXT_BAG_L1 ... Training model for up to 591.27s of the 887.08s of remaining time.\n",
            "\tFitting LightGBMXT_BAG_L1 with 'num_gpus': 0, 'num_cpus': 2\n",
            "Saving /content/drive/My Drive/Colab Notebooks/Assignment2/AutoGluonModels/ds_sub_fit/sub_fit_ho/models/LightGBMXT_BAG_L1/utils/model_template.pkl\n",
            "Loading: /content/drive/My Drive/Colab Notebooks/Assignment2/AutoGluonModels/ds_sub_fit/sub_fit_ho/models/LightGBMXT_BAG_L1/utils/model_template.pkl\n",
            "Will use sequential fold fitting strategy because import of ray failed. Reason: partially initialized module 'charset_normalizer' has no attribute 'md__mypyc' (most likely due to a circular import)\n",
            "\tFitting 8 child models (S1F1 - S1F8) | Fitting with SequentialLocalFoldFittingStrategy\n",
            "/usr/local/lib/python3.10/dist-packages/dask/dataframe/__init__.py:42: FutureWarning: \n",
            "Dask dataframe query planning is disabled because dask-expr is not installed.\n",
            "\n",
            "You can install it with `pip install dask[dataframe]` or `conda install dask`.\n",
            "This will raise in a future version.\n",
            "\n",
            "  warnings.warn(msg, FutureWarning)\n",
            "\tFitting 10000 rounds... Hyperparameters: {'learning_rate': 0.05, 'extra_trees': True}\n"
          ]
        },
        {
          "metadata": {
            "tags": null
          },
          "name": "stdout",
          "output_type": "stream",
          "text": [
            "[50]\tvalid_set's binary_logloss: 0.108265\n",
            "[100]\tvalid_set's binary_logloss: 0.105991\n",
            "[150]\tvalid_set's binary_logloss: 0.104853\n",
            "[200]\tvalid_set's binary_logloss: 0.104182\n",
            "[250]\tvalid_set's binary_logloss: 0.10397\n",
            "[300]\tvalid_set's binary_logloss: 0.104149\n",
            "[350]\tvalid_set's binary_logloss: 0.104999\n",
            "[400]\tvalid_set's binary_logloss: 0.105928\n"
          ]
        },
        {
          "metadata": {
            "tags": null
          },
          "name": "stderr",
          "output_type": "stream",
          "text": [
            "\tFitting 10000 rounds... Hyperparameters: {'learning_rate': 0.05, 'extra_trees': True}\n"
          ]
        },
        {
          "metadata": {
            "tags": null
          },
          "name": "stdout",
          "output_type": "stream",
          "text": [
            "[50]\tvalid_set's binary_logloss: 0.100405\n",
            "[100]\tvalid_set's binary_logloss: 0.0952024\n",
            "[150]\tvalid_set's binary_logloss: 0.0934157\n",
            "[200]\tvalid_set's binary_logloss: 0.0924756\n",
            "[250]\tvalid_set's binary_logloss: 0.0921109\n",
            "[300]\tvalid_set's binary_logloss: 0.092408\n",
            "[350]\tvalid_set's binary_logloss: 0.0928832\n"
          ]
        },
        {
          "metadata": {
            "tags": null
          },
          "name": "stderr",
          "output_type": "stream",
          "text": [
            "\tFitting 10000 rounds... Hyperparameters: {'learning_rate': 0.05, 'extra_trees': True}\n"
          ]
        },
        {
          "metadata": {
            "tags": null
          },
          "name": "stdout",
          "output_type": "stream",
          "text": [
            "[50]\tvalid_set's binary_logloss: 0.105493\n",
            "[100]\tvalid_set's binary_logloss: 0.100244\n",
            "[150]\tvalid_set's binary_logloss: 0.0992747\n",
            "[200]\tvalid_set's binary_logloss: 0.0983913\n",
            "[250]\tvalid_set's binary_logloss: 0.0981615\n",
            "[300]\tvalid_set's binary_logloss: 0.0988154\n",
            "[350]\tvalid_set's binary_logloss: 0.0999429\n"
          ]
        },
        {
          "metadata": {
            "tags": null
          },
          "name": "stderr",
          "output_type": "stream",
          "text": [
            "\tFitting 10000 rounds... Hyperparameters: {'learning_rate': 0.05, 'extra_trees': True}\n"
          ]
        },
        {
          "metadata": {
            "tags": null
          },
          "name": "stdout",
          "output_type": "stream",
          "text": [
            "[50]\tvalid_set's binary_logloss: 0.0936078\n",
            "[100]\tvalid_set's binary_logloss: 0.0876035\n",
            "[150]\tvalid_set's binary_logloss: 0.0854118\n",
            "[200]\tvalid_set's binary_logloss: 0.0850199\n",
            "[250]\tvalid_set's binary_logloss: 0.0850653\n",
            "[300]\tvalid_set's binary_logloss: 0.0858443\n"
          ]
        },
        {
          "metadata": {
            "tags": null
          },
          "name": "stderr",
          "output_type": "stream",
          "text": [
            "\tFitting 10000 rounds... Hyperparameters: {'learning_rate': 0.05, 'extra_trees': True}\n"
          ]
        },
        {
          "metadata": {
            "tags": null
          },
          "name": "stdout",
          "output_type": "stream",
          "text": [
            "[50]\tvalid_set's binary_logloss: 0.0997281\n",
            "[100]\tvalid_set's binary_logloss: 0.0939103\n",
            "[150]\tvalid_set's binary_logloss: 0.0910833\n",
            "[200]\tvalid_set's binary_logloss: 0.0894268\n",
            "[250]\tvalid_set's binary_logloss: 0.0900665\n",
            "[300]\tvalid_set's binary_logloss: 0.0901194\n"
          ]
        },
        {
          "metadata": {
            "tags": null
          },
          "name": "stderr",
          "output_type": "stream",
          "text": [
            "\tFitting 10000 rounds... Hyperparameters: {'learning_rate': 0.05, 'extra_trees': True}\n"
          ]
        },
        {
          "metadata": {
            "tags": null
          },
          "name": "stdout",
          "output_type": "stream",
          "text": [
            "[50]\tvalid_set's binary_logloss: 0.0981665\n",
            "[100]\tvalid_set's binary_logloss: 0.0916731\n",
            "[150]\tvalid_set's binary_logloss: 0.0891778\n",
            "[200]\tvalid_set's binary_logloss: 0.0885595\n",
            "[250]\tvalid_set's binary_logloss: 0.0875819\n",
            "[300]\tvalid_set's binary_logloss: 0.0872565\n",
            "[350]\tvalid_set's binary_logloss: 0.0872243\n",
            "[400]\tvalid_set's binary_logloss: 0.0876062\n",
            "[450]\tvalid_set's binary_logloss: 0.0882324\n"
          ]
        },
        {
          "metadata": {
            "tags": null
          },
          "name": "stderr",
          "output_type": "stream",
          "text": [
            "\tFitting 10000 rounds... Hyperparameters: {'learning_rate': 0.05, 'extra_trees': True}\n"
          ]
        },
        {
          "metadata": {
            "tags": null
          },
          "name": "stdout",
          "output_type": "stream",
          "text": [
            "[50]\tvalid_set's binary_logloss: 0.103102\n",
            "[100]\tvalid_set's binary_logloss: 0.0984507\n",
            "[150]\tvalid_set's binary_logloss: 0.0965183\n",
            "[200]\tvalid_set's binary_logloss: 0.0962831\n",
            "[250]\tvalid_set's binary_logloss: 0.097002\n",
            "[300]\tvalid_set's binary_logloss: 0.0979568\n"
          ]
        },
        {
          "metadata": {
            "tags": null
          },
          "name": "stderr",
          "output_type": "stream",
          "text": [
            "\tFitting 10000 rounds... Hyperparameters: {'learning_rate': 0.05, 'extra_trees': True}\n"
          ]
        },
        {
          "metadata": {
            "tags": null
          },
          "name": "stdout",
          "output_type": "stream",
          "text": [
            "[50]\tvalid_set's binary_logloss: 0.112908\n",
            "[100]\tvalid_set's binary_logloss: 0.108135\n",
            "[150]\tvalid_set's binary_logloss: 0.105838\n",
            "[200]\tvalid_set's binary_logloss: 0.10502\n",
            "[250]\tvalid_set's binary_logloss: 0.105222\n",
            "[300]\tvalid_set's binary_logloss: 0.105995\n"
          ]
        },
        {
          "metadata": {
            "tags": null
          },
          "name": "stderr",
          "output_type": "stream",
          "text": [
            "Saving /content/drive/My Drive/Colab Notebooks/Assignment2/AutoGluonModels/ds_sub_fit/sub_fit_ho/models/LightGBMXT_BAG_L1/utils/oof.pkl\n",
            "Saving /content/drive/My Drive/Colab Notebooks/Assignment2/AutoGluonModels/ds_sub_fit/sub_fit_ho/models/LightGBMXT_BAG_L1/model.pkl\n",
            "\t0.8864\t = Validation score   (roc_auc)\n",
            "\t114.43s\t = Training   runtime\n",
            "\t1.29s\t = Validation runtime\n",
            "\t2534.4\t = Inference  throughput (rows/s | 3281 batch size)\n",
            "Saving /content/drive/My Drive/Colab Notebooks/Assignment2/AutoGluonModels/ds_sub_fit/sub_fit_ho/models/trainer.pkl\n",
            "Fitting model: LightGBM_BAG_L1 ... Training model for up to 474.58s of the 770.39s of remaining time.\n",
            "\tFitting LightGBM_BAG_L1 with 'num_gpus': 0, 'num_cpus': 2\n",
            "Saving /content/drive/My Drive/Colab Notebooks/Assignment2/AutoGluonModels/ds_sub_fit/sub_fit_ho/models/LightGBM_BAG_L1/utils/model_template.pkl\n",
            "Loading: /content/drive/My Drive/Colab Notebooks/Assignment2/AutoGluonModels/ds_sub_fit/sub_fit_ho/models/LightGBM_BAG_L1/utils/model_template.pkl\n",
            "\tFitting 8 child models (S1F1 - S1F8) | Fitting with SequentialLocalFoldFittingStrategy\n",
            "\tFitting 10000 rounds... Hyperparameters: {'learning_rate': 0.05}\n"
          ]
        },
        {
          "metadata": {
            "tags": null
          },
          "name": "stdout",
          "output_type": "stream",
          "text": [
            "[50]\tvalid_set's binary_logloss: 0.101827\n",
            "[100]\tvalid_set's binary_logloss: 0.0998653\n",
            "[150]\tvalid_set's binary_logloss: 0.0999824\n",
            "[200]\tvalid_set's binary_logloss: 0.100064\n",
            "[250]\tvalid_set's binary_logloss: 0.101509\n"
          ]
        },
        {
          "metadata": {
            "tags": null
          },
          "name": "stderr",
          "output_type": "stream",
          "text": [
            "\tFitting 10000 rounds... Hyperparameters: {'learning_rate': 0.05}\n"
          ]
        },
        {
          "metadata": {
            "tags": null
          },
          "name": "stdout",
          "output_type": "stream",
          "text": [
            "[50]\tvalid_set's binary_logloss: 0.0991442\n",
            "[100]\tvalid_set's binary_logloss: 0.0959814\n",
            "[150]\tvalid_set's binary_logloss: 0.0952838\n",
            "[200]\tvalid_set's binary_logloss: 0.0960687\n",
            "[250]\tvalid_set's binary_logloss: 0.0962241\n"
          ]
        },
        {
          "metadata": {
            "tags": null
          },
          "name": "stderr",
          "output_type": "stream",
          "text": [
            "\tFitting 10000 rounds... Hyperparameters: {'learning_rate': 0.05}\n"
          ]
        },
        {
          "metadata": {
            "tags": null
          },
          "name": "stdout",
          "output_type": "stream",
          "text": [
            "[50]\tvalid_set's binary_logloss: 0.100375\n",
            "[100]\tvalid_set's binary_logloss: 0.0974526\n",
            "[150]\tvalid_set's binary_logloss: 0.0964938\n",
            "[200]\tvalid_set's binary_logloss: 0.096412\n",
            "[250]\tvalid_set's binary_logloss: 0.0972806\n",
            "[300]\tvalid_set's binary_logloss: 0.0991801\n"
          ]
        },
        {
          "metadata": {
            "tags": null
          },
          "name": "stderr",
          "output_type": "stream",
          "text": [
            "\tFitting 10000 rounds... Hyperparameters: {'learning_rate': 0.05}\n"
          ]
        },
        {
          "metadata": {
            "tags": null
          },
          "name": "stdout",
          "output_type": "stream",
          "text": [
            "[50]\tvalid_set's binary_logloss: 0.0891313\n",
            "[100]\tvalid_set's binary_logloss: 0.0841159\n",
            "[150]\tvalid_set's binary_logloss: 0.0831806\n",
            "[200]\tvalid_set's binary_logloss: 0.0840812\n",
            "[250]\tvalid_set's binary_logloss: 0.0846596\n"
          ]
        },
        {
          "metadata": {
            "tags": null
          },
          "name": "stderr",
          "output_type": "stream",
          "text": [
            "\tFitting 10000 rounds... Hyperparameters: {'learning_rate': 0.05}\n"
          ]
        },
        {
          "metadata": {
            "tags": null
          },
          "name": "stdout",
          "output_type": "stream",
          "text": [
            "[50]\tvalid_set's binary_logloss: 0.0965609\n",
            "[100]\tvalid_set's binary_logloss: 0.0901871\n",
            "[150]\tvalid_set's binary_logloss: 0.0887722\n",
            "[200]\tvalid_set's binary_logloss: 0.0883282\n",
            "[250]\tvalid_set's binary_logloss: 0.0889737\n",
            "[300]\tvalid_set's binary_logloss: 0.0899917\n"
          ]
        },
        {
          "metadata": {
            "tags": null
          },
          "name": "stderr",
          "output_type": "stream",
          "text": [
            "\tFitting 10000 rounds... Hyperparameters: {'learning_rate': 0.05}\n"
          ]
        },
        {
          "metadata": {
            "tags": null
          },
          "name": "stdout",
          "output_type": "stream",
          "text": [
            "[50]\tvalid_set's binary_logloss: 0.0940575\n",
            "[100]\tvalid_set's binary_logloss: 0.0890384\n",
            "[150]\tvalid_set's binary_logloss: 0.0873297\n",
            "[200]\tvalid_set's binary_logloss: 0.0866383\n",
            "[250]\tvalid_set's binary_logloss: 0.0875213\n",
            "[300]\tvalid_set's binary_logloss: 0.0878606\n"
          ]
        },
        {
          "metadata": {
            "tags": null
          },
          "name": "stderr",
          "output_type": "stream",
          "text": [
            "\tFitting 10000 rounds... Hyperparameters: {'learning_rate': 0.05}\n"
          ]
        },
        {
          "metadata": {
            "tags": null
          },
          "name": "stdout",
          "output_type": "stream",
          "text": [
            "[50]\tvalid_set's binary_logloss: 0.0992431\n",
            "[100]\tvalid_set's binary_logloss: 0.0952016\n",
            "[150]\tvalid_set's binary_logloss: 0.0954754\n",
            "[200]\tvalid_set's binary_logloss: 0.0965259\n",
            "[250]\tvalid_set's binary_logloss: 0.0985112\n"
          ]
        },
        {
          "metadata": {
            "tags": null
          },
          "name": "stderr",
          "output_type": "stream",
          "text": [
            "\tFitting 10000 rounds... Hyperparameters: {'learning_rate': 0.05}\n"
          ]
        },
        {
          "metadata": {
            "tags": null
          },
          "name": "stdout",
          "output_type": "stream",
          "text": [
            "[50]\tvalid_set's binary_logloss: 0.107222\n",
            "[100]\tvalid_set's binary_logloss: 0.104127\n",
            "[150]\tvalid_set's binary_logloss: 0.103877\n",
            "[200]\tvalid_set's binary_logloss: 0.103946\n",
            "[250]\tvalid_set's binary_logloss: 0.105075\n",
            "[300]\tvalid_set's binary_logloss: 0.107495\n"
          ]
        },
        {
          "metadata": {
            "tags": null
          },
          "name": "stderr",
          "output_type": "stream",
          "text": [
            "Saving /content/drive/My Drive/Colab Notebooks/Assignment2/AutoGluonModels/ds_sub_fit/sub_fit_ho/models/LightGBM_BAG_L1/utils/oof.pkl\n",
            "Saving /content/drive/My Drive/Colab Notebooks/Assignment2/AutoGluonModels/ds_sub_fit/sub_fit_ho/models/LightGBM_BAG_L1/model.pkl\n",
            "\t0.8926\t = Validation score   (roc_auc)\n",
            "\t105.4s\t = Training   runtime\n",
            "\t0.87s\t = Validation runtime\n",
            "\t3768.8\t = Inference  throughput (rows/s | 3281 batch size)\n",
            "Saving /content/drive/My Drive/Colab Notebooks/Assignment2/AutoGluonModels/ds_sub_fit/sub_fit_ho/models/trainer.pkl\n",
            "Fitting model: RandomForestGini_BAG_L1 ... Training model for up to 367.18s of the 662.99s of remaining time.\n",
            "\tFitting RandomForestGini_BAG_L1 with 'num_gpus': 0, 'num_cpus': 2\n",
            "Saving /content/drive/My Drive/Colab Notebooks/Assignment2/AutoGluonModels/ds_sub_fit/sub_fit_ho/models/RandomForestGini_BAG_L1/utils/model_template.pkl\n",
            "Loading: /content/drive/My Drive/Colab Notebooks/Assignment2/AutoGluonModels/ds_sub_fit/sub_fit_ho/models/RandomForestGini_BAG_L1/utils/model_template.pkl\n",
            "\t6.78s\t= Estimated out-of-fold prediction time...\n",
            "\t`use_child_oof` was specified for this model. It will function similarly to a bagged model, but will only fit one child model.\n",
            "Saving /content/drive/My Drive/Colab Notebooks/Assignment2/AutoGluonModels/ds_sub_fit/sub_fit_ho/models/RandomForestGini_BAG_L1/utils/oof.pkl\n",
            "Saving /content/drive/My Drive/Colab Notebooks/Assignment2/AutoGluonModels/ds_sub_fit/sub_fit_ho/models/RandomForestGini_BAG_L1/model.pkl\n",
            "\t0.8702\t = Validation score   (roc_auc)\n",
            "\t22.66s\t = Training   runtime\n",
            "\t10.22s\t = Validation runtime\n",
            "\t2567.7\t = Inference  throughput (rows/s | 26246 batch size)\n",
            "Saving /content/drive/My Drive/Colab Notebooks/Assignment2/AutoGluonModels/ds_sub_fit/sub_fit_ho/models/trainer.pkl\n",
            "Fitting model: RandomForestEntr_BAG_L1 ... Training model for up to 333.55s of the 629.37s of remaining time.\n",
            "\tFitting RandomForestEntr_BAG_L1 with 'num_gpus': 0, 'num_cpus': 2\n",
            "Saving /content/drive/My Drive/Colab Notebooks/Assignment2/AutoGluonModels/ds_sub_fit/sub_fit_ho/models/RandomForestEntr_BAG_L1/utils/model_template.pkl\n",
            "Loading: /content/drive/My Drive/Colab Notebooks/Assignment2/AutoGluonModels/ds_sub_fit/sub_fit_ho/models/RandomForestEntr_BAG_L1/utils/model_template.pkl\n",
            "\t8.21s\t= Estimated out-of-fold prediction time...\n",
            "\t`use_child_oof` was specified for this model. It will function similarly to a bagged model, but will only fit one child model.\n",
            "Saving /content/drive/My Drive/Colab Notebooks/Assignment2/AutoGluonModels/ds_sub_fit/sub_fit_ho/models/RandomForestEntr_BAG_L1/utils/oof.pkl\n",
            "Saving /content/drive/My Drive/Colab Notebooks/Assignment2/AutoGluonModels/ds_sub_fit/sub_fit_ho/models/RandomForestEntr_BAG_L1/model.pkl\n",
            "\t0.8774\t = Validation score   (roc_auc)\n",
            "\t24.06s\t = Training   runtime\n",
            "\t9.75s\t = Validation runtime\n",
            "\t2692.4\t = Inference  throughput (rows/s | 26246 batch size)\n",
            "Saving /content/drive/My Drive/Colab Notebooks/Assignment2/AutoGluonModels/ds_sub_fit/sub_fit_ho/models/trainer.pkl\n",
            "Fitting model: CatBoost_BAG_L1 ... Training model for up to 298.98s of the 594.8s of remaining time.\n",
            "\tFitting CatBoost_BAG_L1 with 'num_gpus': 0, 'num_cpus': 2\n",
            "Saving /content/drive/My Drive/Colab Notebooks/Assignment2/AutoGluonModels/ds_sub_fit/sub_fit_ho/models/CatBoost_BAG_L1/utils/model_template.pkl\n",
            "Loading: /content/drive/My Drive/Colab Notebooks/Assignment2/AutoGluonModels/ds_sub_fit/sub_fit_ho/models/CatBoost_BAG_L1/utils/model_template.pkl\n",
            "\tFitting 8 child models (S1F1 - S1F8) | Fitting with SequentialLocalFoldFittingStrategy\n",
            "\tCatboost model hyperparameters: {'iterations': 10000, 'learning_rate': 0.05, 'random_seed': 0, 'allow_writing_files': False, 'eval_metric': 'Logloss', 'thread_count': 1}\n"
          ]
        },
        {
          "metadata": {
            "tags": null
          },
          "name": "stdout",
          "output_type": "stream",
          "text": [
            "0:\tlearn: 0.6133338\ttest: 0.6132380\tbest: 0.6132380 (0)\ttotal: 380ms\tremaining: 1h 3m 21s\n",
            "20:\tlearn: 0.1528819\ttest: 0.1548177\tbest: 0.1548177 (20)\ttotal: 8.53s\tremaining: 1h 7m 34s\n",
            "40:\tlearn: 0.1129557\ttest: 0.1181088\tbest: 0.1181088 (40)\ttotal: 15.4s\tremaining: 1h 2m 13s\n",
            "60:\tlearn: 0.1027614\ttest: 0.1118037\tbest: 0.1118037 (60)\ttotal: 23.5s\tremaining: 1h 3m 53s\n"
          ]
        },
        {
          "metadata": {
            "tags": null
          },
          "name": "stderr",
          "output_type": "stream",
          "text": [
            "\tRan out of time, early stopping on iteration 74.\n"
          ]
        },
        {
          "metadata": {
            "tags": null
          },
          "name": "stdout",
          "output_type": "stream",
          "text": [
            "\n",
            "bestTest = 0.1099267816\n",
            "bestIteration = 73\n",
            "\n",
            "Shrink model to first 74 iterations.\n"
          ]
        },
        {
          "metadata": {
            "tags": null
          },
          "name": "stderr",
          "output_type": "stream",
          "text": [
            "\tCatboost model hyperparameters: {'iterations': 10000, 'learning_rate': 0.05, 'random_seed': 0, 'allow_writing_files': False, 'eval_metric': 'Logloss', 'thread_count': 1}\n"
          ]
        },
        {
          "metadata": {
            "tags": null
          },
          "name": "stdout",
          "output_type": "stream",
          "text": [
            "0:\tlearn: 0.6167855\ttest: 0.6169111\tbest: 0.6169111 (0)\ttotal: 334ms\tremaining: 55m 35s\n",
            "20:\tlearn: 0.1524294\ttest: 0.1548373\tbest: 0.1548373 (20)\ttotal: 8.53s\tremaining: 1h 7m 35s\n",
            "40:\tlearn: 0.1120660\ttest: 0.1166128\tbest: 0.1166128 (40)\ttotal: 15.3s\tremaining: 1h 1m 57s\n",
            "60:\tlearn: 0.1025992\ttest: 0.1088867\tbest: 0.1088867 (60)\ttotal: 23.5s\tremaining: 1h 3m 54s\n"
          ]
        },
        {
          "metadata": {
            "tags": null
          },
          "name": "stderr",
          "output_type": "stream",
          "text": [
            "\tRan out of time, early stopping on iteration 78.\n"
          ]
        },
        {
          "metadata": {
            "tags": null
          },
          "name": "stdout",
          "output_type": "stream",
          "text": [
            "\n",
            "bestTest = 0.106188971\n",
            "bestIteration = 77\n",
            "\n",
            "Shrink model to first 78 iterations.\n"
          ]
        },
        {
          "metadata": {
            "tags": null
          },
          "name": "stderr",
          "output_type": "stream",
          "text": [
            "\tCatboost model hyperparameters: {'iterations': 10000, 'learning_rate': 0.05, 'random_seed': 0, 'allow_writing_files': False, 'eval_metric': 'Logloss', 'thread_count': 1}\n"
          ]
        },
        {
          "metadata": {
            "tags": null
          },
          "name": "stdout",
          "output_type": "stream",
          "text": [
            "0:\tlearn: 0.6164402\ttest: 0.6165048\tbest: 0.6165048 (0)\ttotal: 326ms\tremaining: 54m 19s\n",
            "20:\tlearn: 0.1527305\ttest: 0.1537162\tbest: 0.1537162 (20)\ttotal: 8.55s\tremaining: 1h 7m 42s\n",
            "40:\tlearn: 0.1126717\ttest: 0.1154631\tbest: 0.1154631 (40)\ttotal: 15.5s\tremaining: 1h 2m 54s\n",
            "60:\tlearn: 0.1027151\ttest: 0.1077745\tbest: 0.1077745 (60)\ttotal: 23.9s\tremaining: 1h 4m 57s\n"
          ]
        },
        {
          "metadata": {
            "tags": null
          },
          "name": "stderr",
          "output_type": "stream",
          "text": [
            "\tRan out of time, early stopping on iteration 80.\n"
          ]
        },
        {
          "metadata": {
            "tags": null
          },
          "name": "stdout",
          "output_type": "stream",
          "text": [
            "\n",
            "bestTest = 0.1052656525\n",
            "bestIteration = 79\n",
            "\n",
            "Shrink model to first 80 iterations.\n"
          ]
        },
        {
          "metadata": {
            "tags": null
          },
          "name": "stderr",
          "output_type": "stream",
          "text": [
            "\tCatboost model hyperparameters: {'iterations': 10000, 'learning_rate': 0.05, 'random_seed': 0, 'allow_writing_files': False, 'eval_metric': 'Logloss', 'thread_count': 1}\n"
          ]
        },
        {
          "metadata": {
            "tags": null
          },
          "name": "stdout",
          "output_type": "stream",
          "text": [
            "0:\tlearn: 0.6152286\ttest: 0.6146632\tbest: 0.6146632 (0)\ttotal: 323ms\tremaining: 53m 49s\n",
            "20:\tlearn: 0.1536095\ttest: 0.1476666\tbest: 0.1476666 (20)\ttotal: 8.42s\tremaining: 1h 6m 43s\n",
            "40:\tlearn: 0.1148963\ttest: 0.1073945\tbest: 0.1073945 (40)\ttotal: 15.2s\tremaining: 1h 1m 37s\n",
            "60:\tlearn: 0.1047675\ttest: 0.0984785\tbest: 0.0984785 (60)\ttotal: 23.6s\tremaining: 1h 4m 4s\n",
            "80:\tlearn: 0.1003480\ttest: 0.0959561\tbest: 0.0959561 (80)\ttotal: 30.4s\tremaining: 1h 1m 58s\n"
          ]
        },
        {
          "metadata": {
            "tags": null
          },
          "name": "stderr",
          "output_type": "stream",
          "text": [
            "\tRan out of time, early stopping on iteration 84.\n"
          ]
        },
        {
          "metadata": {
            "tags": null
          },
          "name": "stdout",
          "output_type": "stream",
          "text": [
            "\n",
            "bestTest = 0.09575691982\n",
            "bestIteration = 83\n",
            "\n",
            "Shrink model to first 84 iterations.\n"
          ]
        },
        {
          "metadata": {
            "tags": null
          },
          "name": "stderr",
          "output_type": "stream",
          "text": [
            "\tCatboost model hyperparameters: {'iterations': 10000, 'learning_rate': 0.05, 'random_seed': 0, 'allow_writing_files': False, 'eval_metric': 'Logloss', 'thread_count': 1}\n"
          ]
        },
        {
          "metadata": {
            "tags": null
          },
          "name": "stdout",
          "output_type": "stream",
          "text": [
            "0:\tlearn: 0.6129548\ttest: 0.6128887\tbest: 0.6128887 (0)\ttotal: 446ms\tremaining: 1h 14m 19s\n",
            "20:\tlearn: 0.1522026\ttest: 0.1522953\tbest: 0.1522953 (20)\ttotal: 7.59s\tremaining: 1h 7s\n",
            "40:\tlearn: 0.1124680\ttest: 0.1153090\tbest: 0.1153090 (40)\ttotal: 15.5s\tremaining: 1h 2m 56s\n",
            "60:\tlearn: 0.1034531\ttest: 0.1078105\tbest: 0.1078105 (60)\ttotal: 22.6s\tremaining: 1h 1m 18s\n",
            "80:\tlearn: 0.0987866\ttest: 0.1045184\tbest: 0.1045184 (80)\ttotal: 30.2s\tremaining: 1h 1m 43s\n"
          ]
        },
        {
          "metadata": {
            "tags": null
          },
          "name": "stderr",
          "output_type": "stream",
          "text": [
            "\tRan out of time, early stopping on iteration 88.\n"
          ]
        },
        {
          "metadata": {
            "tags": null
          },
          "name": "stdout",
          "output_type": "stream",
          "text": [
            "\n",
            "bestTest = 0.1039632748\n",
            "bestIteration = 87\n",
            "\n",
            "Shrink model to first 88 iterations.\n"
          ]
        },
        {
          "metadata": {
            "tags": null
          },
          "name": "stderr",
          "output_type": "stream",
          "text": [
            "\tCatboost model hyperparameters: {'iterations': 10000, 'learning_rate': 0.05, 'random_seed': 0, 'allow_writing_files': False, 'eval_metric': 'Logloss', 'thread_count': 1}\n"
          ]
        },
        {
          "metadata": {
            "tags": null
          },
          "name": "stdout",
          "output_type": "stream",
          "text": [
            "0:\tlearn: 0.6145956\ttest: 0.6149271\tbest: 0.6149271 (0)\ttotal: 322ms\tremaining: 53m 40s\n",
            "20:\tlearn: 0.1525705\ttest: 0.1543648\tbest: 0.1543648 (20)\ttotal: 7.09s\tremaining: 56m 11s\n",
            "40:\tlearn: 0.1137512\ttest: 0.1160032\tbest: 0.1160032 (40)\ttotal: 15.4s\tremaining: 1h 2m 14s\n",
            "60:\tlearn: 0.1034751\ttest: 0.1063747\tbest: 0.1063747 (60)\ttotal: 22.3s\tremaining: 1h 40s\n",
            "80:\tlearn: 0.0991056\ttest: 0.1030146\tbest: 0.1030146 (80)\ttotal: 30.6s\tremaining: 1h 2m 29s\n"
          ]
        },
        {
          "metadata": {
            "tags": null
          },
          "name": "stderr",
          "output_type": "stream",
          "text": [
            "\tRan out of time, early stopping on iteration 93.\n"
          ]
        },
        {
          "metadata": {
            "tags": null
          },
          "name": "stdout",
          "output_type": "stream",
          "text": [
            "\n",
            "bestTest = 0.1010084796\n",
            "bestIteration = 92\n",
            "\n",
            "Shrink model to first 93 iterations.\n"
          ]
        },
        {
          "metadata": {
            "tags": null
          },
          "name": "stderr",
          "output_type": "stream",
          "text": [
            "\tCatboost model hyperparameters: {'iterations': 10000, 'learning_rate': 0.05, 'random_seed': 0, 'allow_writing_files': False, 'eval_metric': 'Logloss', 'thread_count': 1}\n"
          ]
        },
        {
          "metadata": {
            "tags": null
          },
          "name": "stdout",
          "output_type": "stream",
          "text": [
            "0:\tlearn: 0.6129897\ttest: 0.6128287\tbest: 0.6128287 (0)\ttotal: 777ms\tremaining: 2h 9m 25s\n",
            "20:\tlearn: 0.1541238\ttest: 0.1561870\tbest: 0.1561870 (20)\ttotal: 10.7s\tremaining: 1h 24m 41s\n",
            "40:\tlearn: 0.1129725\ttest: 0.1170709\tbest: 0.1170709 (40)\ttotal: 17.9s\tremaining: 1h 12m 17s\n",
            "60:\tlearn: 0.1032568\ttest: 0.1089073\tbest: 0.1089073 (60)\ttotal: 26s\tremaining: 1h 10m 39s\n",
            "80:\tlearn: 0.0985771\ttest: 0.1056399\tbest: 0.1056399 (80)\ttotal: 33.4s\tremaining: 1h 8m 6s\n"
          ]
        },
        {
          "metadata": {
            "tags": null
          },
          "name": "stderr",
          "output_type": "stream",
          "text": [
            "\tRan out of time, early stopping on iteration 92.\n"
          ]
        },
        {
          "metadata": {
            "tags": null
          },
          "name": "stdout",
          "output_type": "stream",
          "text": [
            "\n",
            "bestTest = 0.1047309161\n",
            "bestIteration = 91\n",
            "\n",
            "Shrink model to first 92 iterations.\n"
          ]
        },
        {
          "metadata": {
            "tags": null
          },
          "name": "stderr",
          "output_type": "stream",
          "text": [
            "\tCatboost model hyperparameters: {'iterations': 10000, 'learning_rate': 0.05, 'random_seed': 0, 'allow_writing_files': False, 'eval_metric': 'Logloss', 'thread_count': 1}\n"
          ]
        },
        {
          "metadata": {
            "tags": null
          },
          "name": "stdout",
          "output_type": "stream",
          "text": [
            "0:\tlearn: 0.6124688\ttest: 0.6131011\tbest: 0.6131011 (0)\ttotal: 362ms\tremaining: 1h 20s\n",
            "20:\tlearn: 0.1519475\ttest: 0.1592373\tbest: 0.1592373 (20)\ttotal: 6.99s\tremaining: 55m 20s\n",
            "40:\tlearn: 0.1120817\ttest: 0.1246471\tbest: 0.1246471 (40)\ttotal: 15.4s\tremaining: 1h 2m 32s\n",
            "60:\tlearn: 0.1021580\ttest: 0.1179469\tbest: 0.1179469 (60)\ttotal: 22.6s\tremaining: 1h 1m 16s\n",
            "80:\tlearn: 0.0973170\ttest: 0.1157813\tbest: 0.1157813 (80)\ttotal: 31.2s\tremaining: 1h 3m 37s\n",
            "100:\tlearn: 0.0939654\ttest: 0.1140761\tbest: 0.1140761 (100)\ttotal: 38.4s\tremaining: 1h 2m 46s\n",
            "120:\tlearn: 0.0913157\ttest: 0.1127669\tbest: 0.1127669 (120)\ttotal: 46.6s\tremaining: 1h 3m 26s\n"
          ]
        },
        {
          "metadata": {
            "tags": null
          },
          "name": "stderr",
          "output_type": "stream",
          "text": [
            "\tRan out of time, early stopping on iteration 123.\n",
            "Saving /content/drive/My Drive/Colab Notebooks/Assignment2/AutoGluonModels/ds_sub_fit/sub_fit_ho/models/CatBoost_BAG_L1/utils/oof.pkl\n",
            "Saving /content/drive/My Drive/Colab Notebooks/Assignment2/AutoGluonModels/ds_sub_fit/sub_fit_ho/models/CatBoost_BAG_L1/model.pkl\n",
            "\t0.8638\t = Validation score   (roc_auc)\n",
            "\t285.07s\t = Training   runtime\n"
          ]
        },
        {
          "metadata": {
            "tags": null
          },
          "name": "stdout",
          "output_type": "stream",
          "text": [
            "\n",
            "bestTest = 0.1126911042\n",
            "bestIteration = 122\n",
            "\n",
            "Shrink model to first 123 iterations.\n"
          ]
        },
        {
          "metadata": {
            "tags": null
          },
          "name": "stderr",
          "output_type": "stream",
          "text": [
            "\t0.84s\t = Validation runtime\n",
            "\t3899.6\t = Inference  throughput (rows/s | 3281 batch size)\n",
            "Saving /content/drive/My Drive/Colab Notebooks/Assignment2/AutoGluonModels/ds_sub_fit/sub_fit_ho/models/trainer.pkl\n",
            "Fitting model: ExtraTreesGini_BAG_L1 ... Training model for up to 12.07s of the 307.88s of remaining time.\n",
            "\tFitting ExtraTreesGini_BAG_L1 with 'num_gpus': 0, 'num_cpus': 2\n",
            "Saving /content/drive/My Drive/Colab Notebooks/Assignment2/AutoGluonModels/ds_sub_fit/sub_fit_ho/models/ExtraTreesGini_BAG_L1/utils/model_template.pkl\n",
            "Loading: /content/drive/My Drive/Colab Notebooks/Assignment2/AutoGluonModels/ds_sub_fit/sub_fit_ho/models/ExtraTreesGini_BAG_L1/utils/model_template.pkl\n",
            "\t6.9s\t= Estimated out-of-fold prediction time...\n",
            "\t`use_child_oof` was specified for this model. It will function similarly to a bagged model, but will only fit one child model.\n",
            "Saving /content/drive/My Drive/Colab Notebooks/Assignment2/AutoGluonModels/ds_sub_fit/sub_fit_ho/models/ExtraTreesGini_BAG_L1/utils/oof.pkl\n",
            "Saving /content/drive/My Drive/Colab Notebooks/Assignment2/AutoGluonModels/ds_sub_fit/sub_fit_ho/models/ExtraTreesGini_BAG_L1/model.pkl\n",
            "\t0.8563\t = Validation score   (roc_auc)\n",
            "\t17.05s\t = Training   runtime\n",
            "\t9.89s\t = Validation runtime\n",
            "\t2652.5\t = Inference  throughput (rows/s | 26246 batch size)\n",
            "Saving /content/drive/My Drive/Colab Notebooks/Assignment2/AutoGluonModels/ds_sub_fit/sub_fit_ho/models/trainer.pkl\n",
            "Skipping ExtraTreesEntr_BAG_L1 due to lack of time remaining.\n",
            "Saving /content/drive/My Drive/Colab Notebooks/Assignment2/AutoGluonModels/ds_sub_fit/sub_fit_ho/models/trainer.pkl\n",
            "Skipping NeuralNetFastAI_BAG_L1 due to lack of time remaining.\n",
            "Saving /content/drive/My Drive/Colab Notebooks/Assignment2/AutoGluonModels/ds_sub_fit/sub_fit_ho/models/trainer.pkl\n",
            "Skipping XGBoost_BAG_L1 due to lack of time remaining.\n",
            "Saving /content/drive/My Drive/Colab Notebooks/Assignment2/AutoGluonModels/ds_sub_fit/sub_fit_ho/models/trainer.pkl\n",
            "Skipping NeuralNetTorch_BAG_L1 due to lack of time remaining.\n",
            "Saving /content/drive/My Drive/Colab Notebooks/Assignment2/AutoGluonModels/ds_sub_fit/sub_fit_ho/models/trainer.pkl\n",
            "Skipping LightGBMLarge_BAG_L1 due to lack of time remaining.\n",
            "Saving /content/drive/My Drive/Colab Notebooks/Assignment2/AutoGluonModels/ds_sub_fit/sub_fit_ho/models/trainer.pkl\n",
            "Loading: /content/drive/My Drive/Colab Notebooks/Assignment2/AutoGluonModels/ds_sub_fit/sub_fit_ho/models/LightGBMXT_BAG_L1/utils/oof.pkl\n",
            "Loading: /content/drive/My Drive/Colab Notebooks/Assignment2/AutoGluonModels/ds_sub_fit/sub_fit_ho/models/LightGBM_BAG_L1/utils/oof.pkl\n",
            "Loading: /content/drive/My Drive/Colab Notebooks/Assignment2/AutoGluonModels/ds_sub_fit/sub_fit_ho/models/RandomForestGini_BAG_L1/utils/oof.pkl\n",
            "Loading: /content/drive/My Drive/Colab Notebooks/Assignment2/AutoGluonModels/ds_sub_fit/sub_fit_ho/models/RandomForestEntr_BAG_L1/utils/oof.pkl\n",
            "Loading: /content/drive/My Drive/Colab Notebooks/Assignment2/AutoGluonModels/ds_sub_fit/sub_fit_ho/models/CatBoost_BAG_L1/utils/oof.pkl\n",
            "Loading: /content/drive/My Drive/Colab Notebooks/Assignment2/AutoGluonModels/ds_sub_fit/sub_fit_ho/models/ExtraTreesGini_BAG_L1/utils/oof.pkl\n",
            "Model configs that will be trained (in order):\n",
            "\tWeightedEnsemble_L2: \t{'ag_args': {'valid_base': False, 'name_bag_suffix': '', 'model_type': <class 'autogluon.core.models.greedy_ensemble.greedy_weighted_ensemble_model.GreedyWeightedEnsembleModel'>, 'priority': 0}, 'ag_args_ensemble': {'save_bag_folds': False}}\n",
            "Fitting model: WeightedEnsemble_L2 ... Training model for up to 360.0s of the 280.01s of remaining time.\n",
            "\tFitting WeightedEnsemble_L2 with 'num_gpus': 0, 'num_cpus': 2\n",
            "Saving /content/drive/My Drive/Colab Notebooks/Assignment2/AutoGluonModels/ds_sub_fit/sub_fit_ho/models/WeightedEnsemble_L2/utils/model_template.pkl\n",
            "Loading: /content/drive/My Drive/Colab Notebooks/Assignment2/AutoGluonModels/ds_sub_fit/sub_fit_ho/models/WeightedEnsemble_L2/utils/model_template.pkl\n",
            "Ensemble size: 17\n",
            "Ensemble weights: \n",
            "[0.17647059 0.58823529 0.         0.11764706 0.05882353 0.05882353]\n",
            "\t0.3s\t= Estimated out-of-fold prediction time...\n",
            "Saving /content/drive/My Drive/Colab Notebooks/Assignment2/AutoGluonModels/ds_sub_fit/sub_fit_ho/models/WeightedEnsemble_L2/utils/oof.pkl\n",
            "Saving /content/drive/My Drive/Colab Notebooks/Assignment2/AutoGluonModels/ds_sub_fit/sub_fit_ho/models/WeightedEnsemble_L2/model.pkl\n",
            "\tEnsemble Weights: {'LightGBM_BAG_L1': 0.588, 'LightGBMXT_BAG_L1': 0.176, 'RandomForestEntr_BAG_L1': 0.118, 'CatBoost_BAG_L1': 0.059, 'ExtraTreesGini_BAG_L1': 0.059}\n",
            "\t0.8964\t = Validation score   (roc_auc)\n",
            "\t0.81s\t = Training   runtime\n",
            "\t0.01s\t = Validation runtime\n",
            "\t600.6\t = Inference  throughput (rows/s | 3281 batch size)\n",
            "Saving /content/drive/My Drive/Colab Notebooks/Assignment2/AutoGluonModels/ds_sub_fit/sub_fit_ho/models/trainer.pkl\n",
            "Model configs that will be trained (in order):\n",
            "\tLightGBMXT_BAG_L2: \t{'extra_trees': True, 'ag_args': {'name_suffix': 'XT', 'model_type': <class 'autogluon.tabular.models.lgb.lgb_model.LGBModel'>, 'priority': 90}, 'ag_args_ensemble': {'save_bag_folds': False}}\n",
            "\tLightGBM_BAG_L2: \t{'ag_args': {'model_type': <class 'autogluon.tabular.models.lgb.lgb_model.LGBModel'>, 'priority': 90}, 'ag_args_ensemble': {'save_bag_folds': False}}\n",
            "\tRandomForestGini_BAG_L2: \t{'criterion': 'gini', 'max_depth': 15, 'ag_args': {'name_suffix': 'Gini', 'problem_types': ['binary', 'multiclass'], 'model_type': <class 'autogluon.tabular.models.rf.rf_model.RFModel'>, 'priority': 80}, 'ag_args_ensemble': {'use_child_oof': True, 'save_bag_folds': False}}\n",
            "\tRandomForestEntr_BAG_L2: \t{'criterion': 'entropy', 'max_depth': 15, 'ag_args': {'name_suffix': 'Entr', 'problem_types': ['binary', 'multiclass'], 'model_type': <class 'autogluon.tabular.models.rf.rf_model.RFModel'>, 'priority': 80}, 'ag_args_ensemble': {'use_child_oof': True, 'save_bag_folds': False}}\n",
            "\tCatBoost_BAG_L2: \t{'ag_args': {'model_type': <class 'autogluon.tabular.models.catboost.catboost_model.CatBoostModel'>, 'priority': 70}, 'ag_args_ensemble': {'save_bag_folds': False}}\n",
            "\tExtraTreesGini_BAG_L2: \t{'criterion': 'gini', 'max_depth': 15, 'ag_args': {'name_suffix': 'Gini', 'problem_types': ['binary', 'multiclass'], 'model_type': <class 'autogluon.tabular.models.xt.xt_model.XTModel'>, 'priority': 60}, 'ag_args_ensemble': {'use_child_oof': True, 'save_bag_folds': False}}\n",
            "\tExtraTreesEntr_BAG_L2: \t{'criterion': 'entropy', 'max_depth': 15, 'ag_args': {'name_suffix': 'Entr', 'problem_types': ['binary', 'multiclass'], 'model_type': <class 'autogluon.tabular.models.xt.xt_model.XTModel'>, 'priority': 60}, 'ag_args_ensemble': {'use_child_oof': True, 'save_bag_folds': False}}\n",
            "\tNeuralNetFastAI_BAG_L2: \t{'ag_args': {'model_type': <class 'autogluon.tabular.models.fastainn.tabular_nn_fastai.NNFastAiTabularModel'>, 'priority': 50}, 'ag_args_ensemble': {'save_bag_folds': False}}\n",
            "\tXGBoost_BAG_L2: \t{'ag_args': {'problem_types': ['binary', 'multiclass', 'regression', 'softclass'], 'model_type': <class 'autogluon.tabular.models.xgboost.xgboost_model.XGBoostModel'>, 'priority': 40}, 'ag_args_ensemble': {'save_bag_folds': False}}\n",
            "\tNeuralNetTorch_BAG_L2: \t{'ag_args': {'model_type': <class 'autogluon.tabular.models.tabular_nn.torch.tabular_nn_torch.TabularNeuralNetTorchModel'>, 'priority': 25}, 'ag_args_ensemble': {'save_bag_folds': False}}\n",
            "\tLightGBMLarge_BAG_L2: \t{'learning_rate': 0.03, 'num_leaves': 128, 'feature_fraction': 0.9, 'min_data_in_leaf': 5, 'ag_args': {'model_type': <class 'autogluon.tabular.models.lgb.lgb_model.LGBModel'>, 'name_suffix': 'Large', 'hyperparameter_tune_kwargs': None, 'priority': 0}, 'ag_args_ensemble': {'save_bag_folds': False}}\n",
            "Fitting 11 L2 models ...\n",
            "Loading: /content/drive/My Drive/Colab Notebooks/Assignment2/AutoGluonModels/ds_sub_fit/sub_fit_ho/models/LightGBMXT_BAG_L1/utils/oof.pkl\n",
            "Loading: /content/drive/My Drive/Colab Notebooks/Assignment2/AutoGluonModels/ds_sub_fit/sub_fit_ho/models/LightGBM_BAG_L1/utils/oof.pkl\n",
            "Loading: /content/drive/My Drive/Colab Notebooks/Assignment2/AutoGluonModels/ds_sub_fit/sub_fit_ho/models/RandomForestGini_BAG_L1/utils/oof.pkl\n",
            "Loading: /content/drive/My Drive/Colab Notebooks/Assignment2/AutoGluonModels/ds_sub_fit/sub_fit_ho/models/RandomForestEntr_BAG_L1/utils/oof.pkl\n",
            "Loading: /content/drive/My Drive/Colab Notebooks/Assignment2/AutoGluonModels/ds_sub_fit/sub_fit_ho/models/CatBoost_BAG_L1/utils/oof.pkl\n",
            "Loading: /content/drive/My Drive/Colab Notebooks/Assignment2/AutoGluonModels/ds_sub_fit/sub_fit_ho/models/ExtraTreesGini_BAG_L1/utils/oof.pkl\n",
            "Fitting model: LightGBMXT_BAG_L2 ... Training model for up to 279.05s of the 278.86s of remaining time.\n",
            "\tFitting LightGBMXT_BAG_L2 with 'num_gpus': 0, 'num_cpus': 2\n",
            "Saving /content/drive/My Drive/Colab Notebooks/Assignment2/AutoGluonModels/ds_sub_fit/sub_fit_ho/models/LightGBMXT_BAG_L2/utils/model_template.pkl\n",
            "Loading: /content/drive/My Drive/Colab Notebooks/Assignment2/AutoGluonModels/ds_sub_fit/sub_fit_ho/models/LightGBMXT_BAG_L2/utils/model_template.pkl\n",
            "\tFitting 8 child models (S1F1 - S1F8) | Fitting with SequentialLocalFoldFittingStrategy\n",
            "\tFitting 10000 rounds... Hyperparameters: {'learning_rate': 0.05, 'extra_trees': True}\n"
          ]
        },
        {
          "metadata": {
            "tags": null
          },
          "name": "stdout",
          "output_type": "stream",
          "text": [
            "[50]\tvalid_set's binary_logloss: 0.09975\n",
            "[100]\tvalid_set's binary_logloss: 0.099795\n",
            "[150]\tvalid_set's binary_logloss: 0.0994805\n",
            "[200]\tvalid_set's binary_logloss: 0.0996067\n",
            "[250]\tvalid_set's binary_logloss: 0.100635\n",
            "[300]\tvalid_set's binary_logloss: 0.101501\n"
          ]
        },
        {
          "metadata": {
            "tags": null
          },
          "name": "stderr",
          "output_type": "stream",
          "text": [
            "\tFitting 10000 rounds... Hyperparameters: {'learning_rate': 0.05, 'extra_trees': True}\n"
          ]
        },
        {
          "metadata": {
            "tags": null
          },
          "name": "stdout",
          "output_type": "stream",
          "text": [
            "[50]\tvalid_set's binary_logloss: 0.0949783\n",
            "[100]\tvalid_set's binary_logloss: 0.094844\n",
            "[150]\tvalid_set's binary_logloss: 0.0961189\n"
          ]
        },
        {
          "metadata": {
            "tags": null
          },
          "name": "stderr",
          "output_type": "stream",
          "text": [
            "\tFitting 10000 rounds... Hyperparameters: {'learning_rate': 0.05, 'extra_trees': True}\n"
          ]
        },
        {
          "metadata": {
            "tags": null
          },
          "name": "stdout",
          "output_type": "stream",
          "text": [
            "[50]\tvalid_set's binary_logloss: 0.0885437\n",
            "[100]\tvalid_set's binary_logloss: 0.0864075\n",
            "[150]\tvalid_set's binary_logloss: 0.0862817\n",
            "[200]\tvalid_set's binary_logloss: 0.0862363\n",
            "[250]\tvalid_set's binary_logloss: 0.0864655\n",
            "[300]\tvalid_set's binary_logloss: 0.0871702\n"
          ]
        },
        {
          "metadata": {
            "tags": null
          },
          "name": "stderr",
          "output_type": "stream",
          "text": [
            "\tFitting 10000 rounds... Hyperparameters: {'learning_rate': 0.05, 'extra_trees': True}\n"
          ]
        },
        {
          "metadata": {
            "tags": null
          },
          "name": "stdout",
          "output_type": "stream",
          "text": [
            "[50]\tvalid_set's binary_logloss: 0.0979399\n",
            "[100]\tvalid_set's binary_logloss: 0.0976672\n",
            "[150]\tvalid_set's binary_logloss: 0.0980992\n"
          ]
        },
        {
          "metadata": {
            "tags": null
          },
          "name": "stderr",
          "output_type": "stream",
          "text": [
            "\tFitting 10000 rounds... Hyperparameters: {'learning_rate': 0.05, 'extra_trees': True}\n"
          ]
        },
        {
          "metadata": {
            "tags": null
          },
          "name": "stdout",
          "output_type": "stream",
          "text": [
            "[50]\tvalid_set's binary_logloss: 0.0913905\n",
            "[100]\tvalid_set's binary_logloss: 0.0903439\n",
            "[150]\tvalid_set's binary_logloss: 0.0917282\n",
            "[200]\tvalid_set's binary_logloss: 0.0926814\n"
          ]
        },
        {
          "metadata": {
            "tags": null
          },
          "name": "stderr",
          "output_type": "stream",
          "text": [
            "\tFitting 10000 rounds... Hyperparameters: {'learning_rate': 0.05, 'extra_trees': True}\n"
          ]
        },
        {
          "metadata": {
            "tags": null
          },
          "name": "stdout",
          "output_type": "stream",
          "text": [
            "[50]\tvalid_set's binary_logloss: 0.0926761\n",
            "[100]\tvalid_set's binary_logloss: 0.0923208\n",
            "[150]\tvalid_set's binary_logloss: 0.0923656\n",
            "[200]\tvalid_set's binary_logloss: 0.0920706\n",
            "[250]\tvalid_set's binary_logloss: 0.0931499\n",
            "[300]\tvalid_set's binary_logloss: 0.0935996\n"
          ]
        },
        {
          "metadata": {
            "tags": null
          },
          "name": "stderr",
          "output_type": "stream",
          "text": [
            "\tFitting 10000 rounds... Hyperparameters: {'learning_rate': 0.05, 'extra_trees': True}\n"
          ]
        },
        {
          "metadata": {
            "tags": null
          },
          "name": "stdout",
          "output_type": "stream",
          "text": [
            "[50]\tvalid_set's binary_logloss: 0.0968\n",
            "[100]\tvalid_set's binary_logloss: 0.0963618\n",
            "[150]\tvalid_set's binary_logloss: 0.0971502\n",
            "[200]\tvalid_set's binary_logloss: 0.0979979\n"
          ]
        },
        {
          "metadata": {
            "tags": null
          },
          "name": "stderr",
          "output_type": "stream",
          "text": [
            "\tFitting 10000 rounds... Hyperparameters: {'learning_rate': 0.05, 'extra_trees': True}\n"
          ]
        },
        {
          "metadata": {
            "tags": null
          },
          "name": "stdout",
          "output_type": "stream",
          "text": [
            "[50]\tvalid_set's binary_logloss: 0.091889\n",
            "[100]\tvalid_set's binary_logloss: 0.0907722\n",
            "[150]\tvalid_set's binary_logloss: 0.0913489\n",
            "[200]\tvalid_set's binary_logloss: 0.0913951\n"
          ]
        },
        {
          "metadata": {
            "tags": null
          },
          "name": "stderr",
          "output_type": "stream",
          "text": [
            "Saving /content/drive/My Drive/Colab Notebooks/Assignment2/AutoGluonModels/ds_sub_fit/sub_fit_ho/models/LightGBMXT_BAG_L2/utils/oof.pkl\n",
            "Saving /content/drive/My Drive/Colab Notebooks/Assignment2/AutoGluonModels/ds_sub_fit/sub_fit_ho/models/LightGBMXT_BAG_L2/model.pkl\n",
            "\t0.8856\t = Validation score   (roc_auc)\n",
            "\t81.19s\t = Training   runtime\n",
            "\t0.63s\t = Validation runtime\n",
            "\t445.1\t = Inference  throughput (rows/s | 3281 batch size)\n",
            "Saving /content/drive/My Drive/Colab Notebooks/Assignment2/AutoGluonModels/ds_sub_fit/sub_fit_ho/models/trainer.pkl\n",
            "Fitting model: LightGBM_BAG_L2 ... Training model for up to 196.22s of the 196.02s of remaining time.\n",
            "\tFitting LightGBM_BAG_L2 with 'num_gpus': 0, 'num_cpus': 2\n",
            "Saving /content/drive/My Drive/Colab Notebooks/Assignment2/AutoGluonModels/ds_sub_fit/sub_fit_ho/models/LightGBM_BAG_L2/utils/model_template.pkl\n",
            "Loading: /content/drive/My Drive/Colab Notebooks/Assignment2/AutoGluonModels/ds_sub_fit/sub_fit_ho/models/LightGBM_BAG_L2/utils/model_template.pkl\n",
            "\tFitting 8 child models (S1F1 - S1F8) | Fitting with SequentialLocalFoldFittingStrategy\n",
            "\tFitting 10000 rounds... Hyperparameters: {'learning_rate': 0.05}\n"
          ]
        },
        {
          "metadata": {
            "tags": null
          },
          "name": "stdout",
          "output_type": "stream",
          "text": [
            "[50]\tvalid_set's binary_logloss: 0.0978355\n",
            "[100]\tvalid_set's binary_logloss: 0.0994871\n",
            "[150]\tvalid_set's binary_logloss: 0.101619\n"
          ]
        },
        {
          "metadata": {
            "tags": null
          },
          "name": "stderr",
          "output_type": "stream",
          "text": [
            "\tFitting 10000 rounds... Hyperparameters: {'learning_rate': 0.05}\n"
          ]
        },
        {
          "metadata": {
            "tags": null
          },
          "name": "stdout",
          "output_type": "stream",
          "text": [
            "[50]\tvalid_set's binary_logloss: 0.0942\n",
            "[100]\tvalid_set's binary_logloss: 0.0956248\n",
            "[150]\tvalid_set's binary_logloss: 0.0980604\n"
          ]
        },
        {
          "metadata": {
            "tags": null
          },
          "name": "stderr",
          "output_type": "stream",
          "text": [
            "\tFitting 10000 rounds... Hyperparameters: {'learning_rate': 0.05}\n"
          ]
        },
        {
          "metadata": {
            "tags": null
          },
          "name": "stdout",
          "output_type": "stream",
          "text": [
            "[50]\tvalid_set's binary_logloss: 0.0860111\n",
            "[100]\tvalid_set's binary_logloss: 0.0852753\n",
            "[150]\tvalid_set's binary_logloss: 0.0856973\n",
            "[200]\tvalid_set's binary_logloss: 0.0871055\n"
          ]
        },
        {
          "metadata": {
            "tags": null
          },
          "name": "stderr",
          "output_type": "stream",
          "text": [
            "\tFitting 10000 rounds... Hyperparameters: {'learning_rate': 0.05}\n"
          ]
        },
        {
          "metadata": {
            "tags": null
          },
          "name": "stdout",
          "output_type": "stream",
          "text": [
            "[50]\tvalid_set's binary_logloss: 0.0976779\n",
            "[100]\tvalid_set's binary_logloss: 0.0978183\n",
            "[150]\tvalid_set's binary_logloss: 0.098379\n",
            "[200]\tvalid_set's binary_logloss: 0.100698\n"
          ]
        },
        {
          "metadata": {
            "tags": null
          },
          "name": "stderr",
          "output_type": "stream",
          "text": [
            "\tFitting 10000 rounds... Hyperparameters: {'learning_rate': 0.05}\n"
          ]
        },
        {
          "metadata": {
            "tags": null
          },
          "name": "stdout",
          "output_type": "stream",
          "text": [
            "[50]\tvalid_set's binary_logloss: 0.0919621\n",
            "[100]\tvalid_set's binary_logloss: 0.0931732\n",
            "[150]\tvalid_set's binary_logloss: 0.0955466\n",
            "[200]\tvalid_set's binary_logloss: 0.0975881\n"
          ]
        },
        {
          "metadata": {
            "tags": null
          },
          "name": "stderr",
          "output_type": "stream",
          "text": [
            "\tFitting 10000 rounds... Hyperparameters: {'learning_rate': 0.05}\n"
          ]
        },
        {
          "metadata": {
            "tags": null
          },
          "name": "stdout",
          "output_type": "stream",
          "text": [
            "[50]\tvalid_set's binary_logloss: 0.0892438\n",
            "[100]\tvalid_set's binary_logloss: 0.0905894\n",
            "[150]\tvalid_set's binary_logloss: 0.091457\n"
          ]
        },
        {
          "metadata": {
            "tags": null
          },
          "name": "stderr",
          "output_type": "stream",
          "text": [
            "\tFitting 10000 rounds... Hyperparameters: {'learning_rate': 0.05}\n"
          ]
        },
        {
          "metadata": {
            "tags": null
          },
          "name": "stdout",
          "output_type": "stream",
          "text": [
            "[50]\tvalid_set's binary_logloss: 0.0954575\n",
            "[100]\tvalid_set's binary_logloss: 0.0972151\n",
            "[150]\tvalid_set's binary_logloss: 0.0989788\n"
          ]
        },
        {
          "metadata": {
            "tags": null
          },
          "name": "stderr",
          "output_type": "stream",
          "text": [
            "\tFitting 10000 rounds... Hyperparameters: {'learning_rate': 0.05}\n"
          ]
        },
        {
          "metadata": {
            "tags": null
          },
          "name": "stdout",
          "output_type": "stream",
          "text": [
            "[50]\tvalid_set's binary_logloss: 0.0920498\n",
            "[100]\tvalid_set's binary_logloss: 0.0928959\n",
            "[150]\tvalid_set's binary_logloss: 0.0940935\n"
          ]
        },
        {
          "metadata": {
            "tags": null
          },
          "name": "stderr",
          "output_type": "stream",
          "text": [
            "Saving /content/drive/My Drive/Colab Notebooks/Assignment2/AutoGluonModels/ds_sub_fit/sub_fit_ho/models/LightGBM_BAG_L2/utils/oof.pkl\n",
            "Saving /content/drive/My Drive/Colab Notebooks/Assignment2/AutoGluonModels/ds_sub_fit/sub_fit_ho/models/LightGBM_BAG_L2/model.pkl\n",
            "\t0.8861\t = Validation score   (roc_auc)\n",
            "\t76.73s\t = Training   runtime\n",
            "\t0.43s\t = Validation runtime\n",
            "\t457.7\t = Inference  throughput (rows/s | 3281 batch size)\n",
            "Saving /content/drive/My Drive/Colab Notebooks/Assignment2/AutoGluonModels/ds_sub_fit/sub_fit_ho/models/trainer.pkl\n",
            "Fitting model: RandomForestGini_BAG_L2 ... Training model for up to 117.97s of the 117.77s of remaining time.\n",
            "\tFitting RandomForestGini_BAG_L2 with 'num_gpus': 0, 'num_cpus': 2\n",
            "Saving /content/drive/My Drive/Colab Notebooks/Assignment2/AutoGluonModels/ds_sub_fit/sub_fit_ho/models/RandomForestGini_BAG_L2/utils/model_template.pkl\n",
            "Loading: /content/drive/My Drive/Colab Notebooks/Assignment2/AutoGluonModels/ds_sub_fit/sub_fit_ho/models/RandomForestGini_BAG_L2/utils/model_template.pkl\n",
            "\t6.98s\t= Estimated out-of-fold prediction time...\n",
            "\t`use_child_oof` was specified for this model. It will function similarly to a bagged model, but will only fit one child model.\n",
            "Saving /content/drive/My Drive/Colab Notebooks/Assignment2/AutoGluonModels/ds_sub_fit/sub_fit_ho/models/RandomForestGini_BAG_L2/utils/oof.pkl\n",
            "Saving /content/drive/My Drive/Colab Notebooks/Assignment2/AutoGluonModels/ds_sub_fit/sub_fit_ho/models/RandomForestGini_BAG_L2/model.pkl\n",
            "\t0.8836\t = Validation score   (roc_auc)\n",
            "\t25.45s\t = Training   runtime\n",
            "\t9.74s\t = Validation runtime\n",
            "\t412.3\t = Inference  throughput (rows/s | 3281 batch size)\n",
            "Saving /content/drive/My Drive/Colab Notebooks/Assignment2/AutoGluonModels/ds_sub_fit/sub_fit_ho/models/trainer.pkl\n",
            "Fitting model: RandomForestEntr_BAG_L2 ... Training model for up to 81.99s of the 81.8s of remaining time.\n",
            "\tFitting RandomForestEntr_BAG_L2 with 'num_gpus': 0, 'num_cpus': 2\n",
            "Saving /content/drive/My Drive/Colab Notebooks/Assignment2/AutoGluonModels/ds_sub_fit/sub_fit_ho/models/RandomForestEntr_BAG_L2/utils/model_template.pkl\n",
            "Loading: /content/drive/My Drive/Colab Notebooks/Assignment2/AutoGluonModels/ds_sub_fit/sub_fit_ho/models/RandomForestEntr_BAG_L2/utils/model_template.pkl\n",
            "\t6.97s\t= Estimated out-of-fold prediction time...\n",
            "\t`use_child_oof` was specified for this model. It will function similarly to a bagged model, but will only fit one child model.\n",
            "Saving /content/drive/My Drive/Colab Notebooks/Assignment2/AutoGluonModels/ds_sub_fit/sub_fit_ho/models/RandomForestEntr_BAG_L2/utils/oof.pkl\n",
            "Saving /content/drive/My Drive/Colab Notebooks/Assignment2/AutoGluonModels/ds_sub_fit/sub_fit_ho/models/RandomForestEntr_BAG_L2/model.pkl\n",
            "\t0.887\t = Validation score   (roc_auc)\n",
            "\t28.2s\t = Training   runtime\n",
            "\t8.48s\t = Validation runtime\n",
            "\t420.6\t = Inference  throughput (rows/s | 3281 batch size)\n",
            "Saving /content/drive/My Drive/Colab Notebooks/Assignment2/AutoGluonModels/ds_sub_fit/sub_fit_ho/models/trainer.pkl\n",
            "Fitting model: CatBoost_BAG_L2 ... Training model for up to 44.54s of the 44.34s of remaining time.\n",
            "\tFitting CatBoost_BAG_L2 with 'num_gpus': 0, 'num_cpus': 2\n",
            "Saving /content/drive/My Drive/Colab Notebooks/Assignment2/AutoGluonModels/ds_sub_fit/sub_fit_ho/models/CatBoost_BAG_L2/utils/model_template.pkl\n",
            "Loading: /content/drive/My Drive/Colab Notebooks/Assignment2/AutoGluonModels/ds_sub_fit/sub_fit_ho/models/CatBoost_BAG_L2/utils/model_template.pkl\n",
            "\tFitting 8 child models (S1F1 - S1F8) | Fitting with SequentialLocalFoldFittingStrategy\n",
            "\tCatboost model hyperparameters: {'iterations': 10000, 'learning_rate': 0.05, 'random_seed': 0, 'allow_writing_files': False, 'eval_metric': 'Logloss', 'thread_count': 1}\n"
          ]
        },
        {
          "metadata": {
            "tags": null
          },
          "name": "stdout",
          "output_type": "stream",
          "text": [
            "0:\tlearn: 0.5994743\ttest: 0.5996764\tbest: 0.5996764 (0)\ttotal: 529ms\tremaining: 1h 28m 8s\n"
          ]
        },
        {
          "metadata": {
            "tags": null
          },
          "name": "stderr",
          "output_type": "stream",
          "text": [
            "\tRan out of time, early stopping on iteration 5.\n"
          ]
        },
        {
          "metadata": {
            "tags": null
          },
          "name": "stdout",
          "output_type": "stream",
          "text": [
            "\n",
            "bestTest = 0.3668210909\n",
            "bestIteration = 4\n",
            "\n",
            "Shrink model to first 5 iterations.\n"
          ]
        },
        {
          "metadata": {
            "tags": null
          },
          "name": "stderr",
          "output_type": "stream",
          "text": [
            "\tCatboost model hyperparameters: {'iterations': 10000, 'learning_rate': 0.05, 'random_seed': 0, 'allow_writing_files': False, 'eval_metric': 'Logloss', 'thread_count': 1}\n"
          ]
        },
        {
          "metadata": {
            "tags": null
          },
          "name": "stdout",
          "output_type": "stream",
          "text": [
            "0:\tlearn: 0.6060401\ttest: 0.6064989\tbest: 0.6064989 (0)\ttotal: 444ms\tremaining: 1h 14m 4s\n"
          ]
        },
        {
          "metadata": {
            "tags": null
          },
          "name": "stderr",
          "output_type": "stream",
          "text": [
            "\tRan out of time, early stopping on iteration 10.\n"
          ]
        },
        {
          "metadata": {
            "tags": null
          },
          "name": "stdout",
          "output_type": "stream",
          "text": [
            "\n",
            "bestTest = 0.2252385908\n",
            "bestIteration = 9\n",
            "\n",
            "Shrink model to first 10 iterations.\n"
          ]
        },
        {
          "metadata": {
            "tags": null
          },
          "name": "stderr",
          "output_type": "stream",
          "text": [
            "\tCatboost model hyperparameters: {'iterations': 10000, 'learning_rate': 0.05, 'random_seed': 0, 'allow_writing_files': False, 'eval_metric': 'Logloss', 'thread_count': 1}\n"
          ]
        },
        {
          "metadata": {
            "tags": null
          },
          "name": "stdout",
          "output_type": "stream",
          "text": [
            "0:\tlearn: 0.5999444\ttest: 0.5999161\tbest: 0.5999161 (0)\ttotal: 329ms\tremaining: 54m 53s\n"
          ]
        },
        {
          "metadata": {
            "tags": null
          },
          "name": "stderr",
          "output_type": "stream",
          "text": [
            "\tRan out of time, early stopping on iteration 10.\n"
          ]
        },
        {
          "metadata": {
            "tags": null
          },
          "name": "stdout",
          "output_type": "stream",
          "text": [
            "\n",
            "bestTest = 0.2271183287\n",
            "bestIteration = 9\n",
            "\n",
            "Shrink model to first 10 iterations.\n"
          ]
        },
        {
          "metadata": {
            "tags": null
          },
          "name": "stderr",
          "output_type": "stream",
          "text": [
            "\tCatboost model hyperparameters: {'iterations': 10000, 'learning_rate': 0.05, 'random_seed': 0, 'allow_writing_files': False, 'eval_metric': 'Logloss', 'thread_count': 1}\n"
          ]
        },
        {
          "metadata": {
            "tags": null
          },
          "name": "stdout",
          "output_type": "stream",
          "text": [
            "0:\tlearn: 0.6023254\ttest: 0.6027735\tbest: 0.6027735 (0)\ttotal: 322ms\tremaining: 53m 41s\n"
          ]
        },
        {
          "metadata": {
            "tags": null
          },
          "name": "stderr",
          "output_type": "stream",
          "text": [
            "\tRan out of time, early stopping on iteration 8.\n"
          ]
        },
        {
          "metadata": {
            "tags": null
          },
          "name": "stdout",
          "output_type": "stream",
          "text": [
            "\n",
            "bestTest = 0.2728794025\n",
            "bestIteration = 7\n",
            "\n",
            "Shrink model to first 8 iterations.\n"
          ]
        },
        {
          "metadata": {
            "tags": null
          },
          "name": "stderr",
          "output_type": "stream",
          "text": [
            "\tCatboost model hyperparameters: {'iterations': 10000, 'learning_rate': 0.05, 'random_seed': 0, 'allow_writing_files': False, 'eval_metric': 'Logloss', 'thread_count': 1}\n"
          ]
        },
        {
          "metadata": {
            "tags": null
          },
          "name": "stdout",
          "output_type": "stream",
          "text": [
            "0:\tlearn: 0.5993944\ttest: 0.5992063\tbest: 0.5992063 (0)\ttotal: 463ms\tremaining: 1h 17m 9s\n"
          ]
        },
        {
          "metadata": {
            "tags": null
          },
          "name": "stderr",
          "output_type": "stream",
          "text": [
            "\tRan out of time, early stopping on iteration 11.\n"
          ]
        },
        {
          "metadata": {
            "tags": null
          },
          "name": "stdout",
          "output_type": "stream",
          "text": [
            "\n",
            "bestTest = 0.2112517811\n",
            "bestIteration = 10\n",
            "\n",
            "Shrink model to first 11 iterations.\n"
          ]
        },
        {
          "metadata": {
            "tags": null
          },
          "name": "stderr",
          "output_type": "stream",
          "text": [
            "\tCatboost model hyperparameters: {'iterations': 10000, 'learning_rate': 0.05, 'random_seed': 0, 'allow_writing_files': False, 'eval_metric': 'Logloss', 'thread_count': 1}\n"
          ]
        },
        {
          "metadata": {
            "tags": null
          },
          "name": "stdout",
          "output_type": "stream",
          "text": [
            "0:\tlearn: 0.6028792\ttest: 0.6028949\tbest: 0.6028949 (0)\ttotal: 332ms\tremaining: 55m 24s\n"
          ]
        },
        {
          "metadata": {
            "tags": null
          },
          "name": "stderr",
          "output_type": "stream",
          "text": [
            "\tRan out of time, early stopping on iteration 14.\n"
          ]
        },
        {
          "metadata": {
            "tags": null
          },
          "name": "stdout",
          "output_type": "stream",
          "text": [
            "\n",
            "bestTest = 0.1715208835\n",
            "bestIteration = 13\n",
            "\n",
            "Shrink model to first 14 iterations.\n"
          ]
        },
        {
          "metadata": {
            "tags": null
          },
          "name": "stderr",
          "output_type": "stream",
          "text": [
            "\tCatboost model hyperparameters: {'iterations': 10000, 'learning_rate': 0.05, 'random_seed': 0, 'allow_writing_files': False, 'eval_metric': 'Logloss', 'thread_count': 1}\n"
          ]
        },
        {
          "metadata": {
            "tags": null
          },
          "name": "stdout",
          "output_type": "stream",
          "text": [
            "0:\tlearn: 0.6080869\ttest: 0.6079905\tbest: 0.6079905 (0)\ttotal: 499ms\tremaining: 1h 23m 13s\n"
          ]
        },
        {
          "metadata": {
            "tags": null
          },
          "name": "stderr",
          "output_type": "stream",
          "text": [
            "\tRan out of time, early stopping on iteration 10.\n"
          ]
        },
        {
          "metadata": {
            "tags": null
          },
          "name": "stdout",
          "output_type": "stream",
          "text": [
            "\n",
            "bestTest = 0.2256042778\n",
            "bestIteration = 9\n",
            "\n",
            "Shrink model to first 10 iterations.\n"
          ]
        },
        {
          "metadata": {
            "tags": null
          },
          "name": "stderr",
          "output_type": "stream",
          "text": [
            "\tCatboost model hyperparameters: {'iterations': 10000, 'learning_rate': 0.05, 'random_seed': 0, 'allow_writing_files': False, 'eval_metric': 'Logloss', 'thread_count': 1}\n"
          ]
        },
        {
          "metadata": {
            "tags": null
          },
          "name": "stdout",
          "output_type": "stream",
          "text": [
            "0:\tlearn: 0.6076580\ttest: 0.6075001\tbest: 0.6075001 (0)\ttotal: 355ms\tremaining: 59m 12s\n"
          ]
        },
        {
          "metadata": {
            "tags": null
          },
          "name": "stderr",
          "output_type": "stream",
          "text": [
            "\tRan out of time, early stopping on iteration 21.\n",
            "Saving /content/drive/My Drive/Colab Notebooks/Assignment2/AutoGluonModels/ds_sub_fit/sub_fit_ho/models/CatBoost_BAG_L2/utils/oof.pkl\n",
            "Saving /content/drive/My Drive/Colab Notebooks/Assignment2/AutoGluonModels/ds_sub_fit/sub_fit_ho/models/CatBoost_BAG_L2/model.pkl\n",
            "\t0.7891\t = Validation score   (roc_auc)\n",
            "\t41.32s\t = Training   runtime\n",
            "\t0.5s\t = Validation runtime\n",
            "\t453.4\t = Inference  throughput (rows/s | 3281 batch size)\n",
            "Saving /content/drive/My Drive/Colab Notebooks/Assignment2/AutoGluonModels/ds_sub_fit/sub_fit_ho/models/trainer.pkl\n",
            "Skipping ExtraTreesGini_BAG_L2 due to lack of time remaining.\n",
            "Saving /content/drive/My Drive/Colab Notebooks/Assignment2/AutoGluonModels/ds_sub_fit/sub_fit_ho/models/trainer.pkl\n"
          ]
        },
        {
          "metadata": {
            "tags": null
          },
          "name": "stdout",
          "output_type": "stream",
          "text": [
            "20:\tlearn: 0.1267584\ttest: 0.1262886\tbest: 0.1262886 (20)\ttotal: 6.68s\tremaining: 52m 56s\n",
            "\n",
            "bestTest = 0.1262885812\n",
            "bestIteration = 20\n",
            "\n",
            "Shrink model to first 21 iterations.\n"
          ]
        },
        {
          "metadata": {
            "tags": null
          },
          "name": "stderr",
          "output_type": "stream",
          "text": [
            "Skipping ExtraTreesEntr_BAG_L2 due to lack of time remaining.\n",
            "Saving /content/drive/My Drive/Colab Notebooks/Assignment2/AutoGluonModels/ds_sub_fit/sub_fit_ho/models/trainer.pkl\n",
            "Skipping NeuralNetFastAI_BAG_L2 due to lack of time remaining.\n",
            "Saving /content/drive/My Drive/Colab Notebooks/Assignment2/AutoGluonModels/ds_sub_fit/sub_fit_ho/models/trainer.pkl\n",
            "Skipping XGBoost_BAG_L2 due to lack of time remaining.\n",
            "Saving /content/drive/My Drive/Colab Notebooks/Assignment2/AutoGluonModels/ds_sub_fit/sub_fit_ho/models/trainer.pkl\n",
            "Skipping NeuralNetTorch_BAG_L2 due to lack of time remaining.\n",
            "Saving /content/drive/My Drive/Colab Notebooks/Assignment2/AutoGluonModels/ds_sub_fit/sub_fit_ho/models/trainer.pkl\n",
            "Skipping LightGBMLarge_BAG_L2 due to lack of time remaining.\n",
            "Saving /content/drive/My Drive/Colab Notebooks/Assignment2/AutoGluonModels/ds_sub_fit/sub_fit_ho/models/trainer.pkl\n",
            "Loading: /content/drive/My Drive/Colab Notebooks/Assignment2/AutoGluonModels/ds_sub_fit/sub_fit_ho/models/LightGBMXT_BAG_L1/utils/oof.pkl\n",
            "Loading: /content/drive/My Drive/Colab Notebooks/Assignment2/AutoGluonModels/ds_sub_fit/sub_fit_ho/models/LightGBM_BAG_L1/utils/oof.pkl\n",
            "Loading: /content/drive/My Drive/Colab Notebooks/Assignment2/AutoGluonModels/ds_sub_fit/sub_fit_ho/models/RandomForestGini_BAG_L1/utils/oof.pkl\n",
            "Loading: /content/drive/My Drive/Colab Notebooks/Assignment2/AutoGluonModels/ds_sub_fit/sub_fit_ho/models/RandomForestEntr_BAG_L1/utils/oof.pkl\n",
            "Loading: /content/drive/My Drive/Colab Notebooks/Assignment2/AutoGluonModels/ds_sub_fit/sub_fit_ho/models/CatBoost_BAG_L1/utils/oof.pkl\n",
            "Loading: /content/drive/My Drive/Colab Notebooks/Assignment2/AutoGluonModels/ds_sub_fit/sub_fit_ho/models/ExtraTreesGini_BAG_L1/utils/oof.pkl\n",
            "Loading: /content/drive/My Drive/Colab Notebooks/Assignment2/AutoGluonModels/ds_sub_fit/sub_fit_ho/models/LightGBMXT_BAG_L2/utils/oof.pkl\n",
            "Loading: /content/drive/My Drive/Colab Notebooks/Assignment2/AutoGluonModels/ds_sub_fit/sub_fit_ho/models/LightGBM_BAG_L2/utils/oof.pkl\n",
            "Loading: /content/drive/My Drive/Colab Notebooks/Assignment2/AutoGluonModels/ds_sub_fit/sub_fit_ho/models/RandomForestGini_BAG_L2/utils/oof.pkl\n",
            "Loading: /content/drive/My Drive/Colab Notebooks/Assignment2/AutoGluonModels/ds_sub_fit/sub_fit_ho/models/RandomForestEntr_BAG_L2/utils/oof.pkl\n",
            "Loading: /content/drive/My Drive/Colab Notebooks/Assignment2/AutoGluonModels/ds_sub_fit/sub_fit_ho/models/CatBoost_BAG_L2/utils/oof.pkl\n",
            "Model configs that will be trained (in order):\n",
            "\tWeightedEnsemble_L3: \t{'ag_args': {'valid_base': False, 'name_bag_suffix': '', 'model_type': <class 'autogluon.core.models.greedy_ensemble.greedy_weighted_ensemble_model.GreedyWeightedEnsembleModel'>, 'priority': 0}, 'ag_args_ensemble': {'save_bag_folds': False}}\n",
            "Fitting model: WeightedEnsemble_L3 ... Training model for up to 360.0s of the 1.09s of remaining time.\n",
            "\tFitting WeightedEnsemble_L3 with 'num_gpus': 0, 'num_cpus': 2\n",
            "Saving /content/drive/My Drive/Colab Notebooks/Assignment2/AutoGluonModels/ds_sub_fit/sub_fit_ho/models/WeightedEnsemble_L3/utils/model_template.pkl\n",
            "Loading: /content/drive/My Drive/Colab Notebooks/Assignment2/AutoGluonModels/ds_sub_fit/sub_fit_ho/models/WeightedEnsemble_L3/utils/model_template.pkl\n",
            "Ensemble size: 18\n",
            "Ensemble weights: \n",
            "[0.16666667 0.44444444 0.         0.05555556 0.05555556 0.05555556\n",
            " 0.         0.11111111 0.         0.11111111 0.        ]\n",
            "\t0.29s\t= Estimated out-of-fold prediction time...\n",
            "Saving /content/drive/My Drive/Colab Notebooks/Assignment2/AutoGluonModels/ds_sub_fit/sub_fit_ho/models/WeightedEnsemble_L3/utils/oof.pkl\n",
            "Saving /content/drive/My Drive/Colab Notebooks/Assignment2/AutoGluonModels/ds_sub_fit/sub_fit_ho/models/WeightedEnsemble_L3/model.pkl\n",
            "\tEnsemble Weights: {'LightGBM_BAG_L1': 0.444, 'LightGBMXT_BAG_L1': 0.167, 'LightGBM_BAG_L2': 0.111, 'RandomForestEntr_BAG_L2': 0.111, 'RandomForestEntr_BAG_L1': 0.056, 'CatBoost_BAG_L1': 0.056, 'ExtraTreesGini_BAG_L1': 0.056}\n",
            "\t0.897\t = Validation score   (roc_auc)\n",
            "\t1.41s\t = Training   runtime\n",
            "\t0.01s\t = Validation runtime\n",
            "\t398.7\t = Inference  throughput (rows/s | 3281 batch size)\n",
            "Saving /content/drive/My Drive/Colab Notebooks/Assignment2/AutoGluonModels/ds_sub_fit/sub_fit_ho/models/trainer.pkl\n",
            "Saving /content/drive/My Drive/Colab Notebooks/Assignment2/AutoGluonModels/ds_sub_fit/sub_fit_ho/models/trainer.pkl\n",
            "Saving /content/drive/My Drive/Colab Notebooks/Assignment2/AutoGluonModels/ds_sub_fit/sub_fit_ho/models/trainer.pkl\n",
            "AutoGluon training complete, total runtime = 901.33s ... Best model: WeightedEnsemble_L3 | Estimated inference throughput: 398.7 rows/s (3281 batch size)\n",
            "Loading: /content/drive/My Drive/Colab Notebooks/Assignment2/AutoGluonModels/ds_sub_fit/sub_fit_ho/models/trainer.pkl\n",
            "Automatically performing refit_full as a post-fit operation (due to `.fit(..., refit_full=True)`\n",
            "Refitting models via `predictor.refit_full` using all of the data (combined train and validation)...\n",
            "\tModels trained in this way will have the suffix \"_FULL\" and have NaN validation score.\n",
            "\tThis process is not bound by time_limit, but should take less time than the original `predictor.fit` call.\n",
            "\tTo learn more, refer to the `.refit_full` method docstring which explains how \"_FULL\" models differ from normal models.\n",
            "Loading: /content/drive/My Drive/Colab Notebooks/Assignment2/AutoGluonModels/ds_sub_fit/sub_fit_ho/utils/data/X.pkl\n",
            "Loading: /content/drive/My Drive/Colab Notebooks/Assignment2/AutoGluonModels/ds_sub_fit/sub_fit_ho/utils/data/y.pkl\n",
            "Loading: /content/drive/My Drive/Colab Notebooks/Assignment2/AutoGluonModels/ds_sub_fit/sub_fit_ho/models/LightGBMXT_BAG_L1/model.pkl\n",
            "Loading: /content/drive/My Drive/Colab Notebooks/Assignment2/AutoGluonModels/ds_sub_fit/sub_fit_ho/models/LightGBMXT_BAG_L1/utils/model_template.pkl\n",
            "Loading: /content/drive/My Drive/Colab Notebooks/Assignment2/AutoGluonModels/ds_sub_fit/sub_fit_ho/models/LightGBMXT_BAG_L1/utils/model_template.pkl\n",
            "Loading: /content/drive/My Drive/Colab Notebooks/Assignment2/AutoGluonModels/ds_sub_fit/sub_fit_ho/models/LightGBMXT_BAG_L1/utils/model_template.pkl\n",
            "Fitting 1 L1 models ...\n",
            "Fitting model: LightGBMXT_BAG_L1_FULL ...\n",
            "\tFitting LightGBMXT_BAG_L1_FULL with 'num_gpus': 0, 'num_cpus': 1\n",
            "Saving /content/drive/My Drive/Colab Notebooks/Assignment2/AutoGluonModels/ds_sub_fit/sub_fit_ho/models/LightGBMXT_BAG_L1_FULL/utils/model_template.pkl\n",
            "Loading: /content/drive/My Drive/Colab Notebooks/Assignment2/AutoGluonModels/ds_sub_fit/sub_fit_ho/models/LightGBMXT_BAG_L1_FULL/utils/model_template.pkl\n",
            "\tFitting 243 rounds... Hyperparameters: {'learning_rate': 0.05, 'extra_trees': True}\n",
            "Saving /content/drive/My Drive/Colab Notebooks/Assignment2/AutoGluonModels/ds_sub_fit/sub_fit_ho/models/LightGBMXT_BAG_L1_FULL/model.pkl\n",
            "\t10.73s\t = Training   runtime\n",
            "Saving /content/drive/My Drive/Colab Notebooks/Assignment2/AutoGluonModels/ds_sub_fit/sub_fit_ho/models/trainer.pkl\n",
            "Loading: /content/drive/My Drive/Colab Notebooks/Assignment2/AutoGluonModels/ds_sub_fit/sub_fit_ho/models/LightGBM_BAG_L1/model.pkl\n",
            "Loading: /content/drive/My Drive/Colab Notebooks/Assignment2/AutoGluonModels/ds_sub_fit/sub_fit_ho/models/LightGBM_BAG_L1/utils/model_template.pkl\n",
            "Loading: /content/drive/My Drive/Colab Notebooks/Assignment2/AutoGluonModels/ds_sub_fit/sub_fit_ho/models/LightGBM_BAG_L1/utils/model_template.pkl\n",
            "Loading: /content/drive/My Drive/Colab Notebooks/Assignment2/AutoGluonModels/ds_sub_fit/sub_fit_ho/models/LightGBM_BAG_L1/utils/model_template.pkl\n",
            "Fitting 1 L1 models ...\n",
            "Fitting model: LightGBM_BAG_L1_FULL ...\n",
            "\tFitting LightGBM_BAG_L1_FULL with 'num_gpus': 0, 'num_cpus': 1\n",
            "Saving /content/drive/My Drive/Colab Notebooks/Assignment2/AutoGluonModels/ds_sub_fit/sub_fit_ho/models/LightGBM_BAG_L1_FULL/utils/model_template.pkl\n",
            "Loading: /content/drive/My Drive/Colab Notebooks/Assignment2/AutoGluonModels/ds_sub_fit/sub_fit_ho/models/LightGBM_BAG_L1_FULL/utils/model_template.pkl\n",
            "\tFitting 157 rounds... Hyperparameters: {'learning_rate': 0.05}\n",
            "Saving /content/drive/My Drive/Colab Notebooks/Assignment2/AutoGluonModels/ds_sub_fit/sub_fit_ho/models/LightGBM_BAG_L1_FULL/model.pkl\n",
            "\t9.57s\t = Training   runtime\n",
            "Saving /content/drive/My Drive/Colab Notebooks/Assignment2/AutoGluonModels/ds_sub_fit/sub_fit_ho/models/trainer.pkl\n",
            "Loading: /content/drive/My Drive/Colab Notebooks/Assignment2/AutoGluonModels/ds_sub_fit/sub_fit_ho/models/RandomForestGini_BAG_L1/model.pkl\n",
            "Fitting model: RandomForestGini_BAG_L1_FULL | Skipping fit via cloning parent ...\n",
            "\t22.66s\t = Training   runtime\n",
            "\t10.22s\t = Validation runtime\n",
            "\t2567.7\t = Inference  throughput (rows/s | 26246 batch size)\n",
            "Saving /content/drive/My Drive/Colab Notebooks/Assignment2/AutoGluonModels/ds_sub_fit/sub_fit_ho/models/RandomForestGini_BAG_L1_FULL/model.pkl\n",
            "Loading: /content/drive/My Drive/Colab Notebooks/Assignment2/AutoGluonModels/ds_sub_fit/sub_fit_ho/models/RandomForestEntr_BAG_L1/model.pkl\n",
            "Fitting model: RandomForestEntr_BAG_L1_FULL | Skipping fit via cloning parent ...\n",
            "\t24.06s\t = Training   runtime\n",
            "\t9.75s\t = Validation runtime\n",
            "\t2692.4\t = Inference  throughput (rows/s | 26246 batch size)\n",
            "Saving /content/drive/My Drive/Colab Notebooks/Assignment2/AutoGluonModels/ds_sub_fit/sub_fit_ho/models/RandomForestEntr_BAG_L1_FULL/model.pkl\n",
            "Loading: /content/drive/My Drive/Colab Notebooks/Assignment2/AutoGluonModels/ds_sub_fit/sub_fit_ho/models/CatBoost_BAG_L1/model.pkl\n",
            "Loading: /content/drive/My Drive/Colab Notebooks/Assignment2/AutoGluonModels/ds_sub_fit/sub_fit_ho/models/CatBoost_BAG_L1/utils/model_template.pkl\n",
            "Loading: /content/drive/My Drive/Colab Notebooks/Assignment2/AutoGluonModels/ds_sub_fit/sub_fit_ho/models/CatBoost_BAG_L1/utils/model_template.pkl\n",
            "Loading: /content/drive/My Drive/Colab Notebooks/Assignment2/AutoGluonModels/ds_sub_fit/sub_fit_ho/models/CatBoost_BAG_L1/utils/model_template.pkl\n",
            "Fitting 1 L1 models ...\n",
            "Fitting model: CatBoost_BAG_L1_FULL ...\n",
            "\tFitting CatBoost_BAG_L1_FULL with 'num_gpus': 0, 'num_cpus': 1\n",
            "Saving /content/drive/My Drive/Colab Notebooks/Assignment2/AutoGluonModels/ds_sub_fit/sub_fit_ho/models/CatBoost_BAG_L1_FULL/utils/model_template.pkl\n",
            "Loading: /content/drive/My Drive/Colab Notebooks/Assignment2/AutoGluonModels/ds_sub_fit/sub_fit_ho/models/CatBoost_BAG_L1_FULL/utils/model_template.pkl\n",
            "\tCatboost model hyperparameters: {'iterations': 89, 'learning_rate': 0.05, 'random_seed': 0, 'allow_writing_files': False, 'eval_metric': 'Logloss', 'thread_count': 1}\n"
          ]
        },
        {
          "metadata": {
            "tags": null
          },
          "name": "stdout",
          "output_type": "stream",
          "text": [
            "0:\tlearn: 0.6191286\ttotal: 248ms\tremaining: 21.8s\n",
            "20:\tlearn: 0.1535529\ttotal: 3.79s\tremaining: 12.3s\n",
            "40:\tlearn: 0.1130684\ttotal: 7.75s\tremaining: 9.07s\n",
            "60:\tlearn: 0.1037799\ttotal: 12.7s\tremaining: 5.82s\n",
            "80:\tlearn: 0.0990926\ttotal: 16.2s\tremaining: 1.6s\n"
          ]
        },
        {
          "metadata": {
            "tags": null
          },
          "name": "stderr",
          "output_type": "stream",
          "text": [
            "Saving /content/drive/My Drive/Colab Notebooks/Assignment2/AutoGluonModels/ds_sub_fit/sub_fit_ho/models/CatBoost_BAG_L1_FULL/model.pkl\n",
            "\t18.57s\t = Training   runtime\n",
            "Saving /content/drive/My Drive/Colab Notebooks/Assignment2/AutoGluonModels/ds_sub_fit/sub_fit_ho/models/trainer.pkl\n",
            "Loading: /content/drive/My Drive/Colab Notebooks/Assignment2/AutoGluonModels/ds_sub_fit/sub_fit_ho/models/ExtraTreesGini_BAG_L1/model.pkl\n"
          ]
        },
        {
          "metadata": {
            "tags": null
          },
          "name": "stdout",
          "output_type": "stream",
          "text": [
            "88:\tlearn: 0.0981809\ttotal: 17.6s\tremaining: 0us\n"
          ]
        },
        {
          "metadata": {
            "tags": null
          },
          "name": "stderr",
          "output_type": "stream",
          "text": [
            "Fitting model: ExtraTreesGini_BAG_L1_FULL | Skipping fit via cloning parent ...\n",
            "\t17.05s\t = Training   runtime\n",
            "\t9.89s\t = Validation runtime\n",
            "\t2652.5\t = Inference  throughput (rows/s | 26246 batch size)\n",
            "Saving /content/drive/My Drive/Colab Notebooks/Assignment2/AutoGluonModels/ds_sub_fit/sub_fit_ho/models/ExtraTreesGini_BAG_L1_FULL/model.pkl\n",
            "Loading: /content/drive/My Drive/Colab Notebooks/Assignment2/AutoGluonModels/ds_sub_fit/sub_fit_ho/models/WeightedEnsemble_L2/model.pkl\n",
            "Fitting model: WeightedEnsemble_L2_FULL | Skipping fit via cloning parent ...\n",
            "\tEnsemble Weights: {'LightGBM_BAG_L1': 0.588, 'LightGBMXT_BAG_L1': 0.176, 'RandomForestEntr_BAG_L1': 0.118, 'CatBoost_BAG_L1': 0.059, 'ExtraTreesGini_BAG_L1': 0.059}\n",
            "\t0.81s\t = Training   runtime\n",
            "Saving /content/drive/My Drive/Colab Notebooks/Assignment2/AutoGluonModels/ds_sub_fit/sub_fit_ho/models/WeightedEnsemble_L2_FULL/model.pkl\n",
            "Loading: /content/drive/My Drive/Colab Notebooks/Assignment2/AutoGluonModels/ds_sub_fit/sub_fit_ho/models/LightGBMXT_BAG_L2/model.pkl\n",
            "Loading: /content/drive/My Drive/Colab Notebooks/Assignment2/AutoGluonModels/ds_sub_fit/sub_fit_ho/models/LightGBMXT_BAG_L2/utils/model_template.pkl\n",
            "Loading: /content/drive/My Drive/Colab Notebooks/Assignment2/AutoGluonModels/ds_sub_fit/sub_fit_ho/models/LightGBMXT_BAG_L2/utils/model_template.pkl\n",
            "Loading: /content/drive/My Drive/Colab Notebooks/Assignment2/AutoGluonModels/ds_sub_fit/sub_fit_ho/models/LightGBMXT_BAG_L2/utils/model_template.pkl\n",
            "Fitting 1 L2 models ...\n",
            "Loading: /content/drive/My Drive/Colab Notebooks/Assignment2/AutoGluonModels/ds_sub_fit/sub_fit_ho/models/LightGBMXT_BAG_L1/utils/oof.pkl\n",
            "Loading: /content/drive/My Drive/Colab Notebooks/Assignment2/AutoGluonModels/ds_sub_fit/sub_fit_ho/models/LightGBM_BAG_L1/utils/oof.pkl\n",
            "Loading: /content/drive/My Drive/Colab Notebooks/Assignment2/AutoGluonModels/ds_sub_fit/sub_fit_ho/models/RandomForestGini_BAG_L1/utils/oof.pkl\n",
            "Loading: /content/drive/My Drive/Colab Notebooks/Assignment2/AutoGluonModels/ds_sub_fit/sub_fit_ho/models/RandomForestEntr_BAG_L1/utils/oof.pkl\n",
            "Loading: /content/drive/My Drive/Colab Notebooks/Assignment2/AutoGluonModels/ds_sub_fit/sub_fit_ho/models/CatBoost_BAG_L1/utils/oof.pkl\n",
            "Loading: /content/drive/My Drive/Colab Notebooks/Assignment2/AutoGluonModels/ds_sub_fit/sub_fit_ho/models/ExtraTreesGini_BAG_L1/utils/oof.pkl\n",
            "Fitting model: LightGBMXT_BAG_L2_FULL ...\n",
            "\tFitting LightGBMXT_BAG_L2_FULL with 'num_gpus': 0, 'num_cpus': 1\n",
            "Saving /content/drive/My Drive/Colab Notebooks/Assignment2/AutoGluonModels/ds_sub_fit/sub_fit_ho/models/LightGBMXT_BAG_L2_FULL/utils/model_template.pkl\n",
            "Loading: /content/drive/My Drive/Colab Notebooks/Assignment2/AutoGluonModels/ds_sub_fit/sub_fit_ho/models/LightGBMXT_BAG_L2_FULL/utils/model_template.pkl\n",
            "\tFitting 115 rounds... Hyperparameters: {'learning_rate': 0.05, 'extra_trees': True}\n",
            "Saving /content/drive/My Drive/Colab Notebooks/Assignment2/AutoGluonModels/ds_sub_fit/sub_fit_ho/models/LightGBMXT_BAG_L2_FULL/model.pkl\n",
            "\t6.89s\t = Training   runtime\n",
            "Saving /content/drive/My Drive/Colab Notebooks/Assignment2/AutoGluonModels/ds_sub_fit/sub_fit_ho/models/trainer.pkl\n",
            "Loading: /content/drive/My Drive/Colab Notebooks/Assignment2/AutoGluonModels/ds_sub_fit/sub_fit_ho/models/LightGBM_BAG_L2/model.pkl\n",
            "Loading: /content/drive/My Drive/Colab Notebooks/Assignment2/AutoGluonModels/ds_sub_fit/sub_fit_ho/models/LightGBM_BAG_L2/utils/model_template.pkl\n",
            "Loading: /content/drive/My Drive/Colab Notebooks/Assignment2/AutoGluonModels/ds_sub_fit/sub_fit_ho/models/LightGBM_BAG_L2/utils/model_template.pkl\n",
            "Loading: /content/drive/My Drive/Colab Notebooks/Assignment2/AutoGluonModels/ds_sub_fit/sub_fit_ho/models/LightGBM_BAG_L2/utils/model_template.pkl\n",
            "Fitting 1 L2 models ...\n",
            "Loading: /content/drive/My Drive/Colab Notebooks/Assignment2/AutoGluonModels/ds_sub_fit/sub_fit_ho/models/LightGBMXT_BAG_L1/utils/oof.pkl\n",
            "Loading: /content/drive/My Drive/Colab Notebooks/Assignment2/AutoGluonModels/ds_sub_fit/sub_fit_ho/models/LightGBM_BAG_L1/utils/oof.pkl\n",
            "Loading: /content/drive/My Drive/Colab Notebooks/Assignment2/AutoGluonModels/ds_sub_fit/sub_fit_ho/models/RandomForestGini_BAG_L1/utils/oof.pkl\n",
            "Loading: /content/drive/My Drive/Colab Notebooks/Assignment2/AutoGluonModels/ds_sub_fit/sub_fit_ho/models/RandomForestEntr_BAG_L1/utils/oof.pkl\n",
            "Loading: /content/drive/My Drive/Colab Notebooks/Assignment2/AutoGluonModels/ds_sub_fit/sub_fit_ho/models/CatBoost_BAG_L1/utils/oof.pkl\n",
            "Loading: /content/drive/My Drive/Colab Notebooks/Assignment2/AutoGluonModels/ds_sub_fit/sub_fit_ho/models/ExtraTreesGini_BAG_L1/utils/oof.pkl\n",
            "Fitting model: LightGBM_BAG_L2_FULL ...\n",
            "\tFitting LightGBM_BAG_L2_FULL with 'num_gpus': 0, 'num_cpus': 1\n",
            "Saving /content/drive/My Drive/Colab Notebooks/Assignment2/AutoGluonModels/ds_sub_fit/sub_fit_ho/models/LightGBM_BAG_L2_FULL/utils/model_template.pkl\n",
            "Loading: /content/drive/My Drive/Colab Notebooks/Assignment2/AutoGluonModels/ds_sub_fit/sub_fit_ho/models/LightGBM_BAG_L2_FULL/utils/model_template.pkl\n",
            "\tFitting 60 rounds... Hyperparameters: {'learning_rate': 0.05}\n",
            "Saving /content/drive/My Drive/Colab Notebooks/Assignment2/AutoGluonModels/ds_sub_fit/sub_fit_ho/models/LightGBM_BAG_L2_FULL/model.pkl\n",
            "\t4.53s\t = Training   runtime\n",
            "Saving /content/drive/My Drive/Colab Notebooks/Assignment2/AutoGluonModels/ds_sub_fit/sub_fit_ho/models/trainer.pkl\n",
            "Loading: /content/drive/My Drive/Colab Notebooks/Assignment2/AutoGluonModels/ds_sub_fit/sub_fit_ho/models/RandomForestGini_BAG_L2/model.pkl\n",
            "Fitting model: RandomForestGini_BAG_L2_FULL | Skipping fit via cloning parent ...\n",
            "\t25.45s\t = Training   runtime\n",
            "\t9.74s\t = Validation runtime\n",
            "\t412.3\t = Inference  throughput (rows/s | 3281 batch size)\n",
            "Saving /content/drive/My Drive/Colab Notebooks/Assignment2/AutoGluonModels/ds_sub_fit/sub_fit_ho/models/RandomForestGini_BAG_L2_FULL/model.pkl\n",
            "Loading: /content/drive/My Drive/Colab Notebooks/Assignment2/AutoGluonModels/ds_sub_fit/sub_fit_ho/models/RandomForestEntr_BAG_L2/model.pkl\n",
            "Fitting model: RandomForestEntr_BAG_L2_FULL | Skipping fit via cloning parent ...\n",
            "\t28.2s\t = Training   runtime\n",
            "\t8.48s\t = Validation runtime\n",
            "\t420.6\t = Inference  throughput (rows/s | 3281 batch size)\n",
            "Saving /content/drive/My Drive/Colab Notebooks/Assignment2/AutoGluonModels/ds_sub_fit/sub_fit_ho/models/RandomForestEntr_BAG_L2_FULL/model.pkl\n",
            "Loading: /content/drive/My Drive/Colab Notebooks/Assignment2/AutoGluonModels/ds_sub_fit/sub_fit_ho/models/CatBoost_BAG_L2/model.pkl\n",
            "Loading: /content/drive/My Drive/Colab Notebooks/Assignment2/AutoGluonModels/ds_sub_fit/sub_fit_ho/models/CatBoost_BAG_L2/utils/model_template.pkl\n",
            "Loading: /content/drive/My Drive/Colab Notebooks/Assignment2/AutoGluonModels/ds_sub_fit/sub_fit_ho/models/CatBoost_BAG_L2/utils/model_template.pkl\n",
            "Loading: /content/drive/My Drive/Colab Notebooks/Assignment2/AutoGluonModels/ds_sub_fit/sub_fit_ho/models/CatBoost_BAG_L2/utils/model_template.pkl\n",
            "Fitting 1 L2 models ...\n",
            "Loading: /content/drive/My Drive/Colab Notebooks/Assignment2/AutoGluonModels/ds_sub_fit/sub_fit_ho/models/LightGBMXT_BAG_L1/utils/oof.pkl\n",
            "Loading: /content/drive/My Drive/Colab Notebooks/Assignment2/AutoGluonModels/ds_sub_fit/sub_fit_ho/models/LightGBM_BAG_L1/utils/oof.pkl\n",
            "Loading: /content/drive/My Drive/Colab Notebooks/Assignment2/AutoGluonModels/ds_sub_fit/sub_fit_ho/models/RandomForestGini_BAG_L1/utils/oof.pkl\n",
            "Loading: /content/drive/My Drive/Colab Notebooks/Assignment2/AutoGluonModels/ds_sub_fit/sub_fit_ho/models/RandomForestEntr_BAG_L1/utils/oof.pkl\n",
            "Loading: /content/drive/My Drive/Colab Notebooks/Assignment2/AutoGluonModels/ds_sub_fit/sub_fit_ho/models/CatBoost_BAG_L1/utils/oof.pkl\n",
            "Loading: /content/drive/My Drive/Colab Notebooks/Assignment2/AutoGluonModels/ds_sub_fit/sub_fit_ho/models/ExtraTreesGini_BAG_L1/utils/oof.pkl\n",
            "Fitting model: CatBoost_BAG_L2_FULL ...\n",
            "\tFitting CatBoost_BAG_L2_FULL with 'num_gpus': 0, 'num_cpus': 1\n",
            "Saving /content/drive/My Drive/Colab Notebooks/Assignment2/AutoGluonModels/ds_sub_fit/sub_fit_ho/models/CatBoost_BAG_L2_FULL/utils/model_template.pkl\n",
            "Loading: /content/drive/My Drive/Colab Notebooks/Assignment2/AutoGluonModels/ds_sub_fit/sub_fit_ho/models/CatBoost_BAG_L2_FULL/utils/model_template.pkl\n",
            "\tCatboost model hyperparameters: {'iterations': 11, 'learning_rate': 0.05, 'random_seed': 0, 'allow_writing_files': False, 'eval_metric': 'Logloss', 'thread_count': 1}\n"
          ]
        },
        {
          "metadata": {
            "tags": null
          },
          "name": "stdout",
          "output_type": "stream",
          "text": [
            "0:\tlearn: 0.6013158\ttotal: 248ms\tremaining: 2.48s\n"
          ]
        },
        {
          "metadata": {
            "tags": null
          },
          "name": "stderr",
          "output_type": "stream",
          "text": [
            "Saving /content/drive/My Drive/Colab Notebooks/Assignment2/AutoGluonModels/ds_sub_fit/sub_fit_ho/models/CatBoost_BAG_L2_FULL/model.pkl\n",
            "\t3.06s\t = Training   runtime\n",
            "Saving /content/drive/My Drive/Colab Notebooks/Assignment2/AutoGluonModels/ds_sub_fit/sub_fit_ho/models/trainer.pkl\n",
            "Loading: /content/drive/My Drive/Colab Notebooks/Assignment2/AutoGluonModels/ds_sub_fit/sub_fit_ho/models/WeightedEnsemble_L3/model.pkl\n",
            "Fitting model: WeightedEnsemble_L3_FULL | Skipping fit via cloning parent ...\n",
            "\tEnsemble Weights: {'LightGBM_BAG_L1': 0.444, 'LightGBMXT_BAG_L1': 0.167, 'LightGBM_BAG_L2': 0.111, 'RandomForestEntr_BAG_L2': 0.111, 'RandomForestEntr_BAG_L1': 0.056, 'CatBoost_BAG_L1': 0.056, 'ExtraTreesGini_BAG_L1': 0.056}\n",
            "\t1.41s\t = Training   runtime\n",
            "Saving /content/drive/My Drive/Colab Notebooks/Assignment2/AutoGluonModels/ds_sub_fit/sub_fit_ho/models/WeightedEnsemble_L3_FULL/model.pkl\n",
            "Saving /content/drive/My Drive/Colab Notebooks/Assignment2/AutoGluonModels/ds_sub_fit/sub_fit_ho/models/trainer.pkl\n",
            "Loading: /content/drive/My Drive/Colab Notebooks/Assignment2/AutoGluonModels/ds_sub_fit/sub_fit_ho/models/LightGBMXT_BAG_L1_FULL/model.pkl\n",
            "Saving /content/drive/My Drive/Colab Notebooks/Assignment2/AutoGluonModels/ds_sub_fit/sub_fit_ho/models/LightGBMXT_BAG_L1_FULL/model.pkl\n",
            "Loading: /content/drive/My Drive/Colab Notebooks/Assignment2/AutoGluonModels/ds_sub_fit/sub_fit_ho/models/LightGBM_BAG_L1_FULL/model.pkl\n",
            "Saving /content/drive/My Drive/Colab Notebooks/Assignment2/AutoGluonModels/ds_sub_fit/sub_fit_ho/models/LightGBM_BAG_L1_FULL/model.pkl\n",
            "Loading: /content/drive/My Drive/Colab Notebooks/Assignment2/AutoGluonModels/ds_sub_fit/sub_fit_ho/models/RandomForestGini_BAG_L1_FULL/model.pkl\n",
            "Saving /content/drive/My Drive/Colab Notebooks/Assignment2/AutoGluonModels/ds_sub_fit/sub_fit_ho/models/RandomForestGini_BAG_L1_FULL/model.pkl\n"
          ]
        },
        {
          "metadata": {
            "tags": null
          },
          "name": "stdout",
          "output_type": "stream",
          "text": [
            "10:\tlearn: 0.2097758\ttotal: 2.09s\tremaining: 0us\n"
          ]
        },
        {
          "metadata": {
            "tags": null
          },
          "name": "stderr",
          "output_type": "stream",
          "text": [
            "Loading: /content/drive/My Drive/Colab Notebooks/Assignment2/AutoGluonModels/ds_sub_fit/sub_fit_ho/models/RandomForestEntr_BAG_L1_FULL/model.pkl\n",
            "Saving /content/drive/My Drive/Colab Notebooks/Assignment2/AutoGluonModels/ds_sub_fit/sub_fit_ho/models/RandomForestEntr_BAG_L1_FULL/model.pkl\n",
            "Loading: /content/drive/My Drive/Colab Notebooks/Assignment2/AutoGluonModels/ds_sub_fit/sub_fit_ho/models/CatBoost_BAG_L1_FULL/model.pkl\n",
            "Saving /content/drive/My Drive/Colab Notebooks/Assignment2/AutoGluonModels/ds_sub_fit/sub_fit_ho/models/CatBoost_BAG_L1_FULL/model.pkl\n",
            "Loading: /content/drive/My Drive/Colab Notebooks/Assignment2/AutoGluonModels/ds_sub_fit/sub_fit_ho/models/ExtraTreesGini_BAG_L1_FULL/model.pkl\n",
            "Saving /content/drive/My Drive/Colab Notebooks/Assignment2/AutoGluonModels/ds_sub_fit/sub_fit_ho/models/ExtraTreesGini_BAG_L1_FULL/model.pkl\n",
            "Loading: /content/drive/My Drive/Colab Notebooks/Assignment2/AutoGluonModels/ds_sub_fit/sub_fit_ho/models/WeightedEnsemble_L2_FULL/model.pkl\n",
            "Saving /content/drive/My Drive/Colab Notebooks/Assignment2/AutoGluonModels/ds_sub_fit/sub_fit_ho/models/WeightedEnsemble_L2_FULL/model.pkl\n",
            "Loading: /content/drive/My Drive/Colab Notebooks/Assignment2/AutoGluonModels/ds_sub_fit/sub_fit_ho/models/LightGBMXT_BAG_L2_FULL/model.pkl\n",
            "Saving /content/drive/My Drive/Colab Notebooks/Assignment2/AutoGluonModels/ds_sub_fit/sub_fit_ho/models/LightGBMXT_BAG_L2_FULL/model.pkl\n",
            "Loading: /content/drive/My Drive/Colab Notebooks/Assignment2/AutoGluonModels/ds_sub_fit/sub_fit_ho/models/LightGBM_BAG_L2_FULL/model.pkl\n",
            "Saving /content/drive/My Drive/Colab Notebooks/Assignment2/AutoGluonModels/ds_sub_fit/sub_fit_ho/models/LightGBM_BAG_L2_FULL/model.pkl\n",
            "Loading: /content/drive/My Drive/Colab Notebooks/Assignment2/AutoGluonModels/ds_sub_fit/sub_fit_ho/models/RandomForestGini_BAG_L2_FULL/model.pkl\n",
            "Saving /content/drive/My Drive/Colab Notebooks/Assignment2/AutoGluonModels/ds_sub_fit/sub_fit_ho/models/RandomForestGini_BAG_L2_FULL/model.pkl\n",
            "Loading: /content/drive/My Drive/Colab Notebooks/Assignment2/AutoGluonModels/ds_sub_fit/sub_fit_ho/models/RandomForestEntr_BAG_L2_FULL/model.pkl\n",
            "Saving /content/drive/My Drive/Colab Notebooks/Assignment2/AutoGluonModels/ds_sub_fit/sub_fit_ho/models/RandomForestEntr_BAG_L2_FULL/model.pkl\n",
            "Loading: /content/drive/My Drive/Colab Notebooks/Assignment2/AutoGluonModels/ds_sub_fit/sub_fit_ho/models/CatBoost_BAG_L2_FULL/model.pkl\n",
            "Saving /content/drive/My Drive/Colab Notebooks/Assignment2/AutoGluonModels/ds_sub_fit/sub_fit_ho/models/CatBoost_BAG_L2_FULL/model.pkl\n",
            "Loading: /content/drive/My Drive/Colab Notebooks/Assignment2/AutoGluonModels/ds_sub_fit/sub_fit_ho/models/WeightedEnsemble_L3_FULL/model.pkl\n",
            "Saving /content/drive/My Drive/Colab Notebooks/Assignment2/AutoGluonModels/ds_sub_fit/sub_fit_ho/models/WeightedEnsemble_L3_FULL/model.pkl\n",
            "Saving /content/drive/My Drive/Colab Notebooks/Assignment2/AutoGluonModels/ds_sub_fit/sub_fit_ho/models/trainer.pkl\n",
            "Saving /content/drive/My Drive/Colab Notebooks/Assignment2/AutoGluonModels/ds_sub_fit/sub_fit_ho/models/trainer.pkl\n",
            "Updated best model to \"WeightedEnsemble_L3_FULL\" (Previously \"WeightedEnsemble_L3\"). AutoGluon will default to using \"WeightedEnsemble_L3_FULL\" for predict() and predict_proba().\n",
            "Refit complete, total runtime = 59.62s ... Best model: \"WeightedEnsemble_L3_FULL\"\n",
            "Loading: /content/drive/My Drive/Colab Notebooks/Assignment2/AutoGluonModels/ds_sub_fit/sub_fit_ho/models/LightGBMXT_BAG_L1/model.pkl\n",
            "Saving /content/drive/My Drive/Colab Notebooks/Assignment2/AutoGluonModels/ds_sub_fit/sub_fit_ho/models/LightGBMXT_BAG_L1/model.pkl\n",
            "Loading: /content/drive/My Drive/Colab Notebooks/Assignment2/AutoGluonModels/ds_sub_fit/sub_fit_ho/models/LightGBM_BAG_L1/model.pkl\n",
            "Saving /content/drive/My Drive/Colab Notebooks/Assignment2/AutoGluonModels/ds_sub_fit/sub_fit_ho/models/LightGBM_BAG_L1/model.pkl\n",
            "Loading: /content/drive/My Drive/Colab Notebooks/Assignment2/AutoGluonModels/ds_sub_fit/sub_fit_ho/models/RandomForestGini_BAG_L1/model.pkl\n",
            "Saving /content/drive/My Drive/Colab Notebooks/Assignment2/AutoGluonModels/ds_sub_fit/sub_fit_ho/models/RandomForestGini_BAG_L1/model.pkl\n",
            "Loading: /content/drive/My Drive/Colab Notebooks/Assignment2/AutoGluonModels/ds_sub_fit/sub_fit_ho/models/RandomForestEntr_BAG_L1/model.pkl\n",
            "Saving /content/drive/My Drive/Colab Notebooks/Assignment2/AutoGluonModels/ds_sub_fit/sub_fit_ho/models/RandomForestEntr_BAG_L1/model.pkl\n",
            "Loading: /content/drive/My Drive/Colab Notebooks/Assignment2/AutoGluonModels/ds_sub_fit/sub_fit_ho/models/CatBoost_BAG_L1/model.pkl\n",
            "Saving /content/drive/My Drive/Colab Notebooks/Assignment2/AutoGluonModels/ds_sub_fit/sub_fit_ho/models/CatBoost_BAG_L1/model.pkl\n",
            "Loading: /content/drive/My Drive/Colab Notebooks/Assignment2/AutoGluonModels/ds_sub_fit/sub_fit_ho/models/ExtraTreesGini_BAG_L1/model.pkl\n",
            "Saving /content/drive/My Drive/Colab Notebooks/Assignment2/AutoGluonModels/ds_sub_fit/sub_fit_ho/models/ExtraTreesGini_BAG_L1/model.pkl\n",
            "Loading: /content/drive/My Drive/Colab Notebooks/Assignment2/AutoGluonModels/ds_sub_fit/sub_fit_ho/models/WeightedEnsemble_L2/model.pkl\n",
            "Saving /content/drive/My Drive/Colab Notebooks/Assignment2/AutoGluonModels/ds_sub_fit/sub_fit_ho/models/WeightedEnsemble_L2/model.pkl\n",
            "Loading: /content/drive/My Drive/Colab Notebooks/Assignment2/AutoGluonModels/ds_sub_fit/sub_fit_ho/models/LightGBMXT_BAG_L2/model.pkl\n",
            "Saving /content/drive/My Drive/Colab Notebooks/Assignment2/AutoGluonModels/ds_sub_fit/sub_fit_ho/models/LightGBMXT_BAG_L2/model.pkl\n",
            "Loading: /content/drive/My Drive/Colab Notebooks/Assignment2/AutoGluonModels/ds_sub_fit/sub_fit_ho/models/LightGBM_BAG_L2/model.pkl\n",
            "Saving /content/drive/My Drive/Colab Notebooks/Assignment2/AutoGluonModels/ds_sub_fit/sub_fit_ho/models/LightGBM_BAG_L2/model.pkl\n",
            "Loading: /content/drive/My Drive/Colab Notebooks/Assignment2/AutoGluonModels/ds_sub_fit/sub_fit_ho/models/RandomForestGini_BAG_L2/model.pkl\n",
            "Saving /content/drive/My Drive/Colab Notebooks/Assignment2/AutoGluonModels/ds_sub_fit/sub_fit_ho/models/RandomForestGini_BAG_L2/model.pkl\n",
            "Loading: /content/drive/My Drive/Colab Notebooks/Assignment2/AutoGluonModels/ds_sub_fit/sub_fit_ho/models/RandomForestEntr_BAG_L2/model.pkl\n",
            "Saving /content/drive/My Drive/Colab Notebooks/Assignment2/AutoGluonModels/ds_sub_fit/sub_fit_ho/models/RandomForestEntr_BAG_L2/model.pkl\n",
            "Loading: /content/drive/My Drive/Colab Notebooks/Assignment2/AutoGluonModels/ds_sub_fit/sub_fit_ho/models/CatBoost_BAG_L2/model.pkl\n",
            "Saving /content/drive/My Drive/Colab Notebooks/Assignment2/AutoGluonModels/ds_sub_fit/sub_fit_ho/models/CatBoost_BAG_L2/model.pkl\n",
            "Loading: /content/drive/My Drive/Colab Notebooks/Assignment2/AutoGluonModels/ds_sub_fit/sub_fit_ho/models/WeightedEnsemble_L3/model.pkl\n",
            "Saving /content/drive/My Drive/Colab Notebooks/Assignment2/AutoGluonModels/ds_sub_fit/sub_fit_ho/models/WeightedEnsemble_L3/model.pkl\n",
            "Loading: /content/drive/My Drive/Colab Notebooks/Assignment2/AutoGluonModels/ds_sub_fit/sub_fit_ho/models/LightGBMXT_BAG_L1_FULL/model.pkl\n",
            "Saving /content/drive/My Drive/Colab Notebooks/Assignment2/AutoGluonModels/ds_sub_fit/sub_fit_ho/models/LightGBMXT_BAG_L1_FULL/model.pkl\n",
            "Loading: /content/drive/My Drive/Colab Notebooks/Assignment2/AutoGluonModels/ds_sub_fit/sub_fit_ho/models/LightGBM_BAG_L1_FULL/model.pkl\n",
            "Saving /content/drive/My Drive/Colab Notebooks/Assignment2/AutoGluonModels/ds_sub_fit/sub_fit_ho/models/LightGBM_BAG_L1_FULL/model.pkl\n",
            "Loading: /content/drive/My Drive/Colab Notebooks/Assignment2/AutoGluonModels/ds_sub_fit/sub_fit_ho/models/RandomForestGini_BAG_L1_FULL/model.pkl\n",
            "Saving /content/drive/My Drive/Colab Notebooks/Assignment2/AutoGluonModels/ds_sub_fit/sub_fit_ho/models/RandomForestGini_BAG_L1_FULL/model.pkl\n",
            "Loading: /content/drive/My Drive/Colab Notebooks/Assignment2/AutoGluonModels/ds_sub_fit/sub_fit_ho/models/RandomForestEntr_BAG_L1_FULL/model.pkl\n",
            "Saving /content/drive/My Drive/Colab Notebooks/Assignment2/AutoGluonModels/ds_sub_fit/sub_fit_ho/models/RandomForestEntr_BAG_L1_FULL/model.pkl\n",
            "Loading: /content/drive/My Drive/Colab Notebooks/Assignment2/AutoGluonModels/ds_sub_fit/sub_fit_ho/models/CatBoost_BAG_L1_FULL/model.pkl\n",
            "Saving /content/drive/My Drive/Colab Notebooks/Assignment2/AutoGluonModels/ds_sub_fit/sub_fit_ho/models/CatBoost_BAG_L1_FULL/model.pkl\n",
            "Loading: /content/drive/My Drive/Colab Notebooks/Assignment2/AutoGluonModels/ds_sub_fit/sub_fit_ho/models/ExtraTreesGini_BAG_L1_FULL/model.pkl\n",
            "Saving /content/drive/My Drive/Colab Notebooks/Assignment2/AutoGluonModels/ds_sub_fit/sub_fit_ho/models/ExtraTreesGini_BAG_L1_FULL/model.pkl\n",
            "Loading: /content/drive/My Drive/Colab Notebooks/Assignment2/AutoGluonModels/ds_sub_fit/sub_fit_ho/models/WeightedEnsemble_L2_FULL/model.pkl\n",
            "Saving /content/drive/My Drive/Colab Notebooks/Assignment2/AutoGluonModels/ds_sub_fit/sub_fit_ho/models/WeightedEnsemble_L2_FULL/model.pkl\n",
            "Loading: /content/drive/My Drive/Colab Notebooks/Assignment2/AutoGluonModels/ds_sub_fit/sub_fit_ho/models/LightGBMXT_BAG_L2_FULL/model.pkl\n",
            "Saving /content/drive/My Drive/Colab Notebooks/Assignment2/AutoGluonModels/ds_sub_fit/sub_fit_ho/models/LightGBMXT_BAG_L2_FULL/model.pkl\n",
            "Loading: /content/drive/My Drive/Colab Notebooks/Assignment2/AutoGluonModels/ds_sub_fit/sub_fit_ho/models/LightGBM_BAG_L2_FULL/model.pkl\n",
            "Saving /content/drive/My Drive/Colab Notebooks/Assignment2/AutoGluonModels/ds_sub_fit/sub_fit_ho/models/LightGBM_BAG_L2_FULL/model.pkl\n",
            "Loading: /content/drive/My Drive/Colab Notebooks/Assignment2/AutoGluonModels/ds_sub_fit/sub_fit_ho/models/RandomForestGini_BAG_L2_FULL/model.pkl\n",
            "Saving /content/drive/My Drive/Colab Notebooks/Assignment2/AutoGluonModels/ds_sub_fit/sub_fit_ho/models/RandomForestGini_BAG_L2_FULL/model.pkl\n",
            "Loading: /content/drive/My Drive/Colab Notebooks/Assignment2/AutoGluonModels/ds_sub_fit/sub_fit_ho/models/RandomForestEntr_BAG_L2_FULL/model.pkl\n",
            "Saving /content/drive/My Drive/Colab Notebooks/Assignment2/AutoGluonModels/ds_sub_fit/sub_fit_ho/models/RandomForestEntr_BAG_L2_FULL/model.pkl\n",
            "Loading: /content/drive/My Drive/Colab Notebooks/Assignment2/AutoGluonModels/ds_sub_fit/sub_fit_ho/models/CatBoost_BAG_L2_FULL/model.pkl\n",
            "Saving /content/drive/My Drive/Colab Notebooks/Assignment2/AutoGluonModels/ds_sub_fit/sub_fit_ho/models/CatBoost_BAG_L2_FULL/model.pkl\n",
            "Loading: /content/drive/My Drive/Colab Notebooks/Assignment2/AutoGluonModels/ds_sub_fit/sub_fit_ho/models/WeightedEnsemble_L3_FULL/model.pkl\n",
            "Saving /content/drive/My Drive/Colab Notebooks/Assignment2/AutoGluonModels/ds_sub_fit/sub_fit_ho/models/WeightedEnsemble_L3_FULL/model.pkl\n",
            "Saving /content/drive/My Drive/Colab Notebooks/Assignment2/AutoGluonModels/ds_sub_fit/sub_fit_ho/models/trainer.pkl\n",
            "Saving /content/drive/My Drive/Colab Notebooks/Assignment2/AutoGluonModels/ds_sub_fit/sub_fit_ho/models/trainer.pkl\n",
            "Saving /content/drive/My Drive/Colab Notebooks/Assignment2/AutoGluonModels/ds_sub_fit/sub_fit_ho/learner.pkl\n",
            "Saving /content/drive/My Drive/Colab Notebooks/Assignment2/AutoGluonModels/ds_sub_fit/sub_fit_ho/predictor.pkl\n",
            "Saving /content/drive/My Drive/Colab Notebooks/Assignment2/AutoGluonModels/ds_sub_fit/sub_fit_ho/version.txt with contents \"1.1.1\"\n",
            "Saving /content/drive/My Drive/Colab Notebooks/Assignment2/AutoGluonModels/ds_sub_fit/sub_fit_ho/metadata.json\n",
            "TabularPredictor saved. To load, use: predictor = TabularPredictor.load(\"/content/drive/My Drive/Colab Notebooks/Assignment2/AutoGluonModels/ds_sub_fit/sub_fit_ho\")\n",
            "Loading: /content/drive/My Drive/Colab Notebooks/Assignment2/AutoGluonModels/ds_sub_fit/sub_fit_ho/models/LightGBMXT_BAG_L1_FULL/model.pkl\n",
            "Loading: /content/drive/My Drive/Colab Notebooks/Assignment2/AutoGluonModels/ds_sub_fit/sub_fit_ho/models/LightGBM_BAG_L1_FULL/model.pkl\n",
            "Loading: /content/drive/My Drive/Colab Notebooks/Assignment2/AutoGluonModels/ds_sub_fit/sub_fit_ho/models/RandomForestGini_BAG_L1_FULL/model.pkl\n",
            "Loading: /content/drive/My Drive/Colab Notebooks/Assignment2/AutoGluonModels/ds_sub_fit/sub_fit_ho/models/RandomForestEntr_BAG_L1_FULL/model.pkl\n",
            "Loading: /content/drive/My Drive/Colab Notebooks/Assignment2/AutoGluonModels/ds_sub_fit/sub_fit_ho/models/CatBoost_BAG_L1_FULL/model.pkl\n",
            "Loading: /content/drive/My Drive/Colab Notebooks/Assignment2/AutoGluonModels/ds_sub_fit/sub_fit_ho/models/ExtraTreesGini_BAG_L1_FULL/model.pkl\n",
            "Loading: /content/drive/My Drive/Colab Notebooks/Assignment2/AutoGluonModels/ds_sub_fit/sub_fit_ho/models/WeightedEnsemble_L2_FULL/model.pkl\n",
            "Loading: /content/drive/My Drive/Colab Notebooks/Assignment2/AutoGluonModels/ds_sub_fit/sub_fit_ho/models/LightGBMXT_BAG_L2_FULL/model.pkl\n",
            "Loading: /content/drive/My Drive/Colab Notebooks/Assignment2/AutoGluonModels/ds_sub_fit/sub_fit_ho/models/LightGBM_BAG_L2_FULL/model.pkl\n",
            "Loading: /content/drive/My Drive/Colab Notebooks/Assignment2/AutoGluonModels/ds_sub_fit/sub_fit_ho/models/RandomForestGini_BAG_L2_FULL/model.pkl\n",
            "Loading: /content/drive/My Drive/Colab Notebooks/Assignment2/AutoGluonModels/ds_sub_fit/sub_fit_ho/models/RandomForestEntr_BAG_L2_FULL/model.pkl\n",
            "Loading: /content/drive/My Drive/Colab Notebooks/Assignment2/AutoGluonModels/ds_sub_fit/sub_fit_ho/models/CatBoost_BAG_L2_FULL/model.pkl\n",
            "Loading: /content/drive/My Drive/Colab Notebooks/Assignment2/AutoGluonModels/ds_sub_fit/sub_fit_ho/models/WeightedEnsemble_L3_FULL/model.pkl\n",
            "Deleting DyStack predictor artifacts (clean_up_fits=True) ...\n",
            "Leaderboard on holdout data (DyStack):\n",
            "                           model  score_holdout  score_val eval_metric  pred_time_test  pred_time_val    fit_time  pred_time_test_marginal  pred_time_val_marginal  fit_time_marginal  stack_level  can_infer  fit_order\n",
            "0       WeightedEnsemble_L2_FULL       0.913368   0.896402     roc_auc        1.953331            NaN   80.802426                 0.021074                     NaN           0.814409            2       True          7\n",
            "1       WeightedEnsemble_L3_FULL       0.913253   0.896952     roc_auc        3.477348            NaN  136.783980                 0.021012                     NaN           1.410253            3       True         13\n",
            "2         LightGBMXT_BAG_L2_FULL       0.911803   0.885624     roc_auc        2.668839            NaN  109.534647                 0.138409                     NaN           6.887527            2       True          8\n",
            "3           LightGBM_BAG_L1_FULL       0.909638   0.892647     roc_auc        0.179204            NaN    9.573540                 0.179204                     NaN           9.573540            1       True          2\n",
            "4         LightGBMXT_BAG_L1_FULL       0.909633   0.886356     roc_auc        0.222415            NaN   10.727369                 0.222415                     NaN          10.727369            1       True          1\n",
            "5   RandomForestEntr_BAG_L2_FULL       0.907259   0.887012     roc_auc        3.360659            NaN  130.847082                 0.830228                8.480618          28.199962            2       True         11\n",
            "6           LightGBM_BAG_L2_FULL       0.906796   0.886145     roc_auc        2.626108            NaN  107.173764                 0.095677                     NaN           4.526645            2       True          9\n",
            "7   RandomForestGini_BAG_L2_FULL       0.903398   0.883595     roc_auc        3.446395            NaN  128.092209                 0.915965                9.743293          25.445089            2       True         10\n",
            "8   RandomForestEntr_BAG_L1_FULL       0.895272   0.877411     roc_auc        0.758482       9.748227   24.064020                 0.758482                9.748227          24.064020            1       True          4\n",
            "9   RandomForestGini_BAG_L1_FULL       0.881623   0.870213     roc_auc        0.598174      10.221694   22.659103                 0.598174               10.221694          22.659103            1       True          3\n",
            "10          CatBoost_BAG_L1_FULL       0.876738   0.863828     roc_auc        0.116983            NaN   18.571881                 0.116983                     NaN          18.571881            1       True          5\n",
            "11          CatBoost_BAG_L2_FULL       0.865556   0.789148     roc_auc        2.632609            NaN  105.710982                 0.102179                     NaN           3.063863            2       True         12\n",
            "12    ExtraTreesGini_BAG_L1_FULL       0.860715   0.856275     roc_auc        0.655173       9.894942   17.051207                 0.655173                9.894942          17.051207            1       True          6\n",
            "\t0\t = Optimal   num_stack_levels (Stacked Overfitting Occurred: True)\n",
            "\t968s\t = DyStack   runtime |\t2632s\t = Remaining runtime\n",
            "Starting main fit with num_stack_levels=0.\n",
            "\tFor future fit calls on this dataset, you can skip DyStack to save time: `predictor.fit(..., dynamic_stacking=False, num_stack_levels=0)`\n",
            "Saving /content/drive/My Drive/Colab Notebooks/Assignment2/AutoGluonModels/learner.pkl\n",
            "Saving /content/drive/My Drive/Colab Notebooks/Assignment2/AutoGluonModels/predictor.pkl\n",
            "Beginning AutoGluon training ... Time limit = 2632s\n",
            "AutoGluon will save models to \"/content/drive/My Drive/Colab Notebooks/Assignment2/AutoGluonModels/\"\n",
            "Train Data Rows:    29527\n",
            "Train Data Columns: 433\n",
            "Label Column:       isFraud\n",
            "Problem Type:       binary\n",
            "Preprocessing data ...\n",
            "Selected class <--> label mapping:  class 1 = 1, class 0 = 0\n",
            "Using Feature Generators to preprocess the data ...\n",
            "Fitting AutoMLPipelineFeatureGenerator...\n",
            "\tAvailable Memory:                    5736.19 MB\n",
            "\tTrain Data (Original)  Memory Usage: 128.08 MB (2.2% of available memory)\n",
            "\tInferring data type of each feature based on column values. Set feature_metadata_in to manually specify special dtypes of the features.\n",
            "\tStage 1 Generators:\n",
            "\t\tFitting AsTypeFeatureGenerator...\n",
            "\t\t\tOriginal Features (exact raw dtype, raw dtype):\n",
            "\t\t\t\t('float64', 'float') : 398 | ['TransactionAmt', 'card2', 'card3', 'card5', 'addr1', ...]\n",
            "\t\t\t\t('int64', 'int')     :   3 | ['TransactionID', 'TransactionDT', 'card1']\n",
            "\t\t\t\t('object', 'object') :  31 | ['ProductCD', 'card4', 'card6', 'P_emaildomain', 'R_emaildomain', ...]\n",
            "\t\t\tTypes of features in original data (raw dtype, special dtypes):\n",
            "\t\t\t\t('float', [])  : 398 | ['TransactionAmt', 'card2', 'card3', 'card5', 'addr1', ...]\n",
            "\t\t\t\t('int', [])    :   3 | ['TransactionID', 'TransactionDT', 'card1']\n",
            "\t\t\t\t('object', []) :  31 | ['ProductCD', 'card4', 'card6', 'P_emaildomain', 'R_emaildomain', ...]\n",
            "\t\t\tTypes of features in processed data (raw dtype, special dtypes):\n",
            "\t\t\t\t('float', [])  : 398 | ['TransactionAmt', 'card2', 'card3', 'card5', 'addr1', ...]\n",
            "\t\t\t\t('int', [])    :   3 | ['TransactionID', 'TransactionDT', 'card1']\n",
            "\t\t\t\t('object', []) :  31 | ['ProductCD', 'card4', 'card6', 'P_emaildomain', 'R_emaildomain', ...]\n",
            "\t\t\t0.5s = Fit runtime\n",
            "\t\t\t432 features in original data used to generate 432 features in processed data.\n",
            "\tStage 2 Generators:\n",
            "\t\tFitting FillNaFeatureGenerator...\n",
            "\t\t\tTypes of features in original data (raw dtype, special dtypes):\n",
            "\t\t\t\t('float', [])  : 398 | ['TransactionAmt', 'card2', 'card3', 'card5', 'addr1', ...]\n",
            "\t\t\t\t('int', [])    :   3 | ['TransactionID', 'TransactionDT', 'card1']\n",
            "\t\t\t\t('object', []) :  31 | ['ProductCD', 'card4', 'card6', 'P_emaildomain', 'R_emaildomain', ...]\n",
            "\t\t\tTypes of features in processed data (raw dtype, special dtypes):\n",
            "\t\t\t\t('float', [])  : 398 | ['TransactionAmt', 'card2', 'card3', 'card5', 'addr1', ...]\n",
            "\t\t\t\t('int', [])    :   3 | ['TransactionID', 'TransactionDT', 'card1']\n",
            "\t\t\t\t('object', []) :  31 | ['ProductCD', 'card4', 'card6', 'P_emaildomain', 'R_emaildomain', ...]\n",
            "\t\t\t0.2s = Fit runtime\n",
            "\t\t\t432 features in original data used to generate 432 features in processed data.\n",
            "\tStage 3 Generators:\n",
            "\t\tFitting IdentityFeatureGenerator...\n",
            "\t\t\tTypes of features in original data (raw dtype, special dtypes):\n",
            "\t\t\t\t('float', []) : 398 | ['TransactionAmt', 'card2', 'card3', 'card5', 'addr1', ...]\n",
            "\t\t\t\t('int', [])   :   3 | ['TransactionID', 'TransactionDT', 'card1']\n",
            "\t\t\tTypes of features in processed data (raw dtype, special dtypes):\n",
            "\t\t\t\t('float', []) : 398 | ['TransactionAmt', 'card2', 'card3', 'card5', 'addr1', ...]\n",
            "\t\t\t\t('int', [])   :   3 | ['TransactionID', 'TransactionDT', 'card1']\n",
            "\t\t\t0.1s = Fit runtime\n",
            "\t\t\t401 features in original data used to generate 401 features in processed data.\n",
            "\t\tFitting CategoryFeatureGenerator...\n",
            "\t\t\tFitting CategoryMemoryMinimizeFeatureGenerator...\n",
            "\t\t\t\tTypes of features in original data (raw dtype, special dtypes):\n",
            "\t\t\t\t\t('category', []) : 31 | ['ProductCD', 'card4', 'card6', 'P_emaildomain', 'R_emaildomain', ...]\n",
            "\t\t\t\tTypes of features in processed data (raw dtype, special dtypes):\n",
            "\t\t\t\t\t('category', []) : 31 | ['ProductCD', 'card4', 'card6', 'P_emaildomain', 'R_emaildomain', ...]\n",
            "\t\t\t\t0.0s = Fit runtime\n",
            "\t\t\t\t31 features in original data used to generate 31 features in processed data.\n",
            "\t\t\tTypes of features in original data (raw dtype, special dtypes):\n",
            "\t\t\t\t('object', []) : 31 | ['ProductCD', 'card4', 'card6', 'P_emaildomain', 'R_emaildomain', ...]\n",
            "\t\t\tTypes of features in processed data (raw dtype, special dtypes):\n",
            "\t\t\t\t('category', []) : 31 | ['ProductCD', 'card4', 'card6', 'P_emaildomain', 'R_emaildomain', ...]\n",
            "\t\t\t0.2s = Fit runtime\n",
            "\t\t\t31 features in original data used to generate 31 features in processed data.\n",
            "\t\tSkipping DatetimeFeatureGenerator: No input feature with required dtypes.\n",
            "\t\tSkipping TextSpecialFeatureGenerator: No input feature with required dtypes.\n",
            "\t\tSkipping TextNgramFeatureGenerator: No input feature with required dtypes.\n",
            "\t\tSkipping IdentityFeatureGenerator: No input feature with required dtypes.\n",
            "\t\tSkipping IsNanFeatureGenerator: No input feature with required dtypes.\n",
            "\tStage 4 Generators:\n",
            "\t\tFitting DropUniqueFeatureGenerator...\n",
            "\t\t\tTypes of features in original data (raw dtype, special dtypes):\n",
            "\t\t\t\t('category', []) :  31 | ['ProductCD', 'card4', 'card6', 'P_emaildomain', 'R_emaildomain', ...]\n",
            "\t\t\t\t('float', [])    : 398 | ['TransactionAmt', 'card2', 'card3', 'card5', 'addr1', ...]\n",
            "\t\t\t\t('int', [])      :   3 | ['TransactionID', 'TransactionDT', 'card1']\n",
            "\t\t\tTypes of features in processed data (raw dtype, special dtypes):\n",
            "\t\t\t\t('category', []) :  31 | ['ProductCD', 'card4', 'card6', 'P_emaildomain', 'R_emaildomain', ...]\n",
            "\t\t\t\t('float', [])    : 398 | ['TransactionAmt', 'card2', 'card3', 'card5', 'addr1', ...]\n",
            "\t\t\t\t('int', [])      :   3 | ['TransactionID', 'TransactionDT', 'card1']\n",
            "\t\t\t0.5s = Fit runtime\n",
            "\t\t\t432 features in original data used to generate 432 features in processed data.\n",
            "\tStage 5 Generators:\n",
            "\t\tFitting DropDuplicatesFeatureGenerator...\n",
            "\t\t\t2 duplicate columns removed: ['V28', 'V241']\n",
            "\t\t\tTypes of features in original data (raw dtype, special dtypes):\n",
            "\t\t\t\t('category', []) :  31 | ['ProductCD', 'card4', 'card6', 'P_emaildomain', 'R_emaildomain', ...]\n",
            "\t\t\t\t('float', [])    : 396 | ['TransactionAmt', 'card2', 'card3', 'card5', 'addr1', ...]\n",
            "\t\t\t\t('int', [])      :   3 | ['TransactionID', 'TransactionDT', 'card1']\n",
            "\t\t\tTypes of features in processed data (raw dtype, special dtypes):\n",
            "\t\t\t\t('category', []) :  31 | ['ProductCD', 'card4', 'card6', 'P_emaildomain', 'R_emaildomain', ...]\n",
            "\t\t\t\t('float', [])    : 396 | ['TransactionAmt', 'card2', 'card3', 'card5', 'addr1', ...]\n",
            "\t\t\t\t('int', [])      :   3 | ['TransactionID', 'TransactionDT', 'card1']\n",
            "\t\t\t7.3s = Fit runtime\n",
            "\t\t\t430 features in original data used to generate 430 features in processed data.\n",
            "\tUseless Original Features (Count: 1): ['V305']\n",
            "\t\tThese features carry no predictive signal and should be manually investigated.\n",
            "\t\tThis is typically a feature which has the same value for all rows.\n",
            "\t\tThese features do not need to be present at inference time.\n",
            "\tUnused Original Features (Count: 2): ['V28', 'V241']\n",
            "\t\tThese features were not used to generate any of the output features. Add a feature generator compatible with these features to utilize them.\n",
            "\t\tFeatures can also be unused if they carry very little information, such as being categorical but having almost entirely unique values or being duplicates of other features.\n",
            "\t\tThese features do not need to be present at inference time.\n",
            "\t\t('float', []) : 2 | ['V28', 'V241']\n",
            "\tTypes of features in original data (exact raw dtype, raw dtype):\n",
            "\t\t('float64', 'float') : 396 | ['TransactionAmt', 'card2', 'card3', 'card5', 'addr1', ...]\n",
            "\t\t('int64', 'int')     :   3 | ['TransactionID', 'TransactionDT', 'card1']\n",
            "\t\t('object', 'object') :  31 | ['ProductCD', 'card4', 'card6', 'P_emaildomain', 'R_emaildomain', ...]\n",
            "\tTypes of features in original data (raw dtype, special dtypes):\n",
            "\t\t('float', [])  : 396 | ['TransactionAmt', 'card2', 'card3', 'card5', 'addr1', ...]\n",
            "\t\t('int', [])    :   3 | ['TransactionID', 'TransactionDT', 'card1']\n",
            "\t\t('object', []) :  31 | ['ProductCD', 'card4', 'card6', 'P_emaildomain', 'R_emaildomain', ...]\n",
            "\tTypes of features in processed data (exact raw dtype, raw dtype):\n",
            "\t\t('category', 'category') :  31 | ['ProductCD', 'card4', 'card6', 'P_emaildomain', 'R_emaildomain', ...]\n",
            "\t\t('float64', 'float')     : 396 | ['TransactionAmt', 'card2', 'card3', 'card5', 'addr1', ...]\n",
            "\t\t('int64', 'int')         :   3 | ['TransactionID', 'TransactionDT', 'card1']\n",
            "\tTypes of features in processed data (raw dtype, special dtypes):\n",
            "\t\t('category', []) :  31 | ['ProductCD', 'card4', 'card6', 'P_emaildomain', 'R_emaildomain', ...]\n",
            "\t\t('float', [])    : 396 | ['TransactionAmt', 'card2', 'card3', 'card5', 'addr1', ...]\n",
            "\t\t('int', [])      :   3 | ['TransactionID', 'TransactionDT', 'card1']\n",
            "\t10.1s = Fit runtime\n",
            "\t430 features in original data used to generate 430 features in processed data.\n",
            "\tTrain Data (Processed) Memory Usage: 90.80 MB (1.6% of available memory)\n",
            "Data preprocessing and feature engineering runtime = 10.61s ...\n",
            "AutoGluon will gauge predictive performance using evaluation metric: 'roc_auc'\n",
            "\tThis metric expects predicted probabilities rather than predicted class labels, so you'll need to use predict_proba() instead of predict()\n",
            "\tTo change this, specify the eval_metric parameter of Predictor()\n",
            "Saving /content/drive/My Drive/Colab Notebooks/Assignment2/AutoGluonModels/learner.pkl\n",
            "User-specified model hyperparameters to be fit:\n",
            "{\n",
            "\t'NN_TORCH': {},\n",
            "\t'GBM': [{'extra_trees': True, 'ag_args': {'name_suffix': 'XT'}}, {}, 'GBMLarge'],\n",
            "\t'CAT': {},\n",
            "\t'XGB': {},\n",
            "\t'FASTAI': {},\n",
            "\t'RF': [{'criterion': 'gini', 'max_depth': 15, 'ag_args': {'name_suffix': 'Gini', 'problem_types': ['binary', 'multiclass']}}, {'criterion': 'entropy', 'max_depth': 15, 'ag_args': {'name_suffix': 'Entr', 'problem_types': ['binary', 'multiclass']}}, {'criterion': 'squared_error', 'max_depth': 15, 'ag_args': {'name_suffix': 'MSE', 'problem_types': ['regression', 'quantile']}}],\n",
            "\t'XT': [{'criterion': 'gini', 'max_depth': 15, 'ag_args': {'name_suffix': 'Gini', 'problem_types': ['binary', 'multiclass']}}, {'criterion': 'entropy', 'max_depth': 15, 'ag_args': {'name_suffix': 'Entr', 'problem_types': ['binary', 'multiclass']}}, {'criterion': 'squared_error', 'max_depth': 15, 'ag_args': {'name_suffix': 'MSE', 'problem_types': ['regression', 'quantile']}}],\n",
            "}\n",
            "Saving /content/drive/My Drive/Colab Notebooks/Assignment2/AutoGluonModels/utils/data/X.pkl\n",
            "Saving /content/drive/My Drive/Colab Notebooks/Assignment2/AutoGluonModels/utils/data/y.pkl\n",
            "Model configs that will be trained (in order):\n",
            "\tLightGBMXT_BAG_L1: \t{'extra_trees': True, 'ag_args': {'name_suffix': 'XT', 'model_type': <class 'autogluon.tabular.models.lgb.lgb_model.LGBModel'>, 'priority': 90}, 'ag_args_ensemble': {'save_bag_folds': False}}\n",
            "\tLightGBM_BAG_L1: \t{'ag_args': {'model_type': <class 'autogluon.tabular.models.lgb.lgb_model.LGBModel'>, 'priority': 90}, 'ag_args_ensemble': {'save_bag_folds': False}}\n",
            "\tRandomForestGini_BAG_L1: \t{'criterion': 'gini', 'max_depth': 15, 'ag_args': {'name_suffix': 'Gini', 'problem_types': ['binary', 'multiclass'], 'model_type': <class 'autogluon.tabular.models.rf.rf_model.RFModel'>, 'priority': 80}, 'ag_args_ensemble': {'use_child_oof': True, 'save_bag_folds': False}}\n",
            "\tRandomForestEntr_BAG_L1: \t{'criterion': 'entropy', 'max_depth': 15, 'ag_args': {'name_suffix': 'Entr', 'problem_types': ['binary', 'multiclass'], 'model_type': <class 'autogluon.tabular.models.rf.rf_model.RFModel'>, 'priority': 80}, 'ag_args_ensemble': {'use_child_oof': True, 'save_bag_folds': False}}\n",
            "\tCatBoost_BAG_L1: \t{'ag_args': {'model_type': <class 'autogluon.tabular.models.catboost.catboost_model.CatBoostModel'>, 'priority': 70}, 'ag_args_ensemble': {'save_bag_folds': False}}\n",
            "\tExtraTreesGini_BAG_L1: \t{'criterion': 'gini', 'max_depth': 15, 'ag_args': {'name_suffix': 'Gini', 'problem_types': ['binary', 'multiclass'], 'model_type': <class 'autogluon.tabular.models.xt.xt_model.XTModel'>, 'priority': 60}, 'ag_args_ensemble': {'use_child_oof': True, 'save_bag_folds': False}}\n",
            "\tExtraTreesEntr_BAG_L1: \t{'criterion': 'entropy', 'max_depth': 15, 'ag_args': {'name_suffix': 'Entr', 'problem_types': ['binary', 'multiclass'], 'model_type': <class 'autogluon.tabular.models.xt.xt_model.XTModel'>, 'priority': 60}, 'ag_args_ensemble': {'use_child_oof': True, 'save_bag_folds': False}}\n",
            "\tNeuralNetFastAI_BAG_L1: \t{'ag_args': {'model_type': <class 'autogluon.tabular.models.fastainn.tabular_nn_fastai.NNFastAiTabularModel'>, 'priority': 50}, 'ag_args_ensemble': {'save_bag_folds': False}}\n",
            "\tXGBoost_BAG_L1: \t{'ag_args': {'problem_types': ['binary', 'multiclass', 'regression', 'softclass'], 'model_type': <class 'autogluon.tabular.models.xgboost.xgboost_model.XGBoostModel'>, 'priority': 40}, 'ag_args_ensemble': {'save_bag_folds': False}}\n",
            "\tNeuralNetTorch_BAG_L1: \t{'ag_args': {'model_type': <class 'autogluon.tabular.models.tabular_nn.torch.tabular_nn_torch.TabularNeuralNetTorchModel'>, 'priority': 25}, 'ag_args_ensemble': {'save_bag_folds': False}}\n",
            "\tLightGBMLarge_BAG_L1: \t{'learning_rate': 0.03, 'num_leaves': 128, 'feature_fraction': 0.9, 'min_data_in_leaf': 5, 'ag_args': {'model_type': <class 'autogluon.tabular.models.lgb.lgb_model.LGBModel'>, 'name_suffix': 'Large', 'hyperparameter_tune_kwargs': None, 'priority': 0}, 'ag_args_ensemble': {'save_bag_folds': False}}\n",
            "Fitting 11 L1 models ...\n",
            "Fitting model: LightGBMXT_BAG_L1 ... Training model for up to 2621.48s of the 2621.41s of remaining time.\n",
            "\tFitting LightGBMXT_BAG_L1 with 'num_gpus': 0, 'num_cpus': 2\n",
            "Saving /content/drive/My Drive/Colab Notebooks/Assignment2/AutoGluonModels/models/LightGBMXT_BAG_L1/utils/model_template.pkl\n",
            "Loading: /content/drive/My Drive/Colab Notebooks/Assignment2/AutoGluonModels/models/LightGBMXT_BAG_L1/utils/model_template.pkl\n",
            "\tFitting 8 child models (S1F1 - S1F8) | Fitting with SequentialLocalFoldFittingStrategy\n",
            "\tFitting 10000 rounds... Hyperparameters: {'learning_rate': 0.05, 'extra_trees': True}\n"
          ]
        },
        {
          "metadata": {
            "tags": null
          },
          "name": "stdout",
          "output_type": "stream",
          "text": [
            "[50]\tvalid_set's binary_logloss: 0.107989\n",
            "[100]\tvalid_set's binary_logloss: 0.104006\n",
            "[150]\tvalid_set's binary_logloss: 0.102921\n",
            "[200]\tvalid_set's binary_logloss: 0.101422\n",
            "[250]\tvalid_set's binary_logloss: 0.101275\n",
            "[300]\tvalid_set's binary_logloss: 0.102114\n",
            "[350]\tvalid_set's binary_logloss: 0.102751\n"
          ]
        },
        {
          "metadata": {
            "tags": null
          },
          "name": "stderr",
          "output_type": "stream",
          "text": [
            "\tFitting 10000 rounds... Hyperparameters: {'learning_rate': 0.05, 'extra_trees': True}\n"
          ]
        },
        {
          "metadata": {
            "tags": null
          },
          "name": "stdout",
          "output_type": "stream",
          "text": [
            "[50]\tvalid_set's binary_logloss: 0.107793\n",
            "[100]\tvalid_set's binary_logloss: 0.103497\n",
            "[150]\tvalid_set's binary_logloss: 0.10093\n",
            "[200]\tvalid_set's binary_logloss: 0.100644\n",
            "[250]\tvalid_set's binary_logloss: 0.100314\n",
            "[300]\tvalid_set's binary_logloss: 0.100361\n",
            "[350]\tvalid_set's binary_logloss: 0.101516\n"
          ]
        },
        {
          "metadata": {
            "tags": null
          },
          "name": "stderr",
          "output_type": "stream",
          "text": [
            "\tFitting 10000 rounds... Hyperparameters: {'learning_rate': 0.05, 'extra_trees': True}\n"
          ]
        },
        {
          "metadata": {
            "tags": null
          },
          "name": "stdout",
          "output_type": "stream",
          "text": [
            "[50]\tvalid_set's binary_logloss: 0.109067\n",
            "[100]\tvalid_set's binary_logloss: 0.103056\n",
            "[150]\tvalid_set's binary_logloss: 0.100448\n",
            "[200]\tvalid_set's binary_logloss: 0.100135\n",
            "[250]\tvalid_set's binary_logloss: 0.0999821\n",
            "[300]\tvalid_set's binary_logloss: 0.0996295\n",
            "[350]\tvalid_set's binary_logloss: 0.100506\n",
            "[400]\tvalid_set's binary_logloss: 0.100743\n"
          ]
        },
        {
          "metadata": {
            "tags": null
          },
          "name": "stderr",
          "output_type": "stream",
          "text": [
            "\tFitting 10000 rounds... Hyperparameters: {'learning_rate': 0.05, 'extra_trees': True}\n"
          ]
        },
        {
          "metadata": {
            "tags": null
          },
          "name": "stdout",
          "output_type": "stream",
          "text": [
            "[50]\tvalid_set's binary_logloss: 0.0918785\n",
            "[100]\tvalid_set's binary_logloss: 0.0852694\n",
            "[150]\tvalid_set's binary_logloss: 0.0827926\n",
            "[200]\tvalid_set's binary_logloss: 0.0808194\n",
            "[250]\tvalid_set's binary_logloss: 0.0800191\n",
            "[300]\tvalid_set's binary_logloss: 0.0794475\n",
            "[350]\tvalid_set's binary_logloss: 0.0788933\n",
            "[400]\tvalid_set's binary_logloss: 0.0790475\n",
            "[450]\tvalid_set's binary_logloss: 0.0790477\n"
          ]
        },
        {
          "metadata": {
            "tags": null
          },
          "name": "stderr",
          "output_type": "stream",
          "text": [
            "\tFitting 10000 rounds... Hyperparameters: {'learning_rate': 0.05, 'extra_trees': True}\n"
          ]
        },
        {
          "metadata": {
            "tags": null
          },
          "name": "stdout",
          "output_type": "stream",
          "text": [
            "[50]\tvalid_set's binary_logloss: 0.095411\n",
            "[100]\tvalid_set's binary_logloss: 0.0893143\n",
            "[150]\tvalid_set's binary_logloss: 0.0867106\n",
            "[200]\tvalid_set's binary_logloss: 0.0858536\n",
            "[250]\tvalid_set's binary_logloss: 0.0848951\n",
            "[300]\tvalid_set's binary_logloss: 0.0842235\n",
            "[350]\tvalid_set's binary_logloss: 0.0841794\n",
            "[400]\tvalid_set's binary_logloss: 0.0842796\n",
            "[450]\tvalid_set's binary_logloss: 0.084624\n"
          ]
        },
        {
          "metadata": {
            "tags": null
          },
          "name": "stderr",
          "output_type": "stream",
          "text": [
            "\tFitting 10000 rounds... Hyperparameters: {'learning_rate': 0.05, 'extra_trees': True}\n"
          ]
        },
        {
          "metadata": {
            "tags": null
          },
          "name": "stdout",
          "output_type": "stream",
          "text": [
            "[50]\tvalid_set's binary_logloss: 0.0924884\n",
            "[100]\tvalid_set's binary_logloss: 0.0844655\n",
            "[150]\tvalid_set's binary_logloss: 0.0813513\n",
            "[200]\tvalid_set's binary_logloss: 0.0795312\n",
            "[250]\tvalid_set's binary_logloss: 0.0784414\n",
            "[300]\tvalid_set's binary_logloss: 0.0780162\n",
            "[350]\tvalid_set's binary_logloss: 0.0780313\n"
          ]
        },
        {
          "metadata": {
            "tags": null
          },
          "name": "stderr",
          "output_type": "stream",
          "text": [
            "\tFitting 10000 rounds... Hyperparameters: {'learning_rate': 0.05, 'extra_trees': True}\n"
          ]
        },
        {
          "metadata": {
            "tags": null
          },
          "name": "stdout",
          "output_type": "stream",
          "text": [
            "[50]\tvalid_set's binary_logloss: 0.0948405\n",
            "[100]\tvalid_set's binary_logloss: 0.0886121\n",
            "[150]\tvalid_set's binary_logloss: 0.0868829\n",
            "[200]\tvalid_set's binary_logloss: 0.0858127\n",
            "[250]\tvalid_set's binary_logloss: 0.0853423\n",
            "[300]\tvalid_set's binary_logloss: 0.085711\n",
            "[350]\tvalid_set's binary_logloss: 0.0863254\n"
          ]
        },
        {
          "metadata": {
            "tags": null
          },
          "name": "stderr",
          "output_type": "stream",
          "text": [
            "\tFitting 10000 rounds... Hyperparameters: {'learning_rate': 0.05, 'extra_trees': True}\n"
          ]
        },
        {
          "metadata": {
            "tags": null
          },
          "name": "stdout",
          "output_type": "stream",
          "text": [
            "[50]\tvalid_set's binary_logloss: 0.108481\n",
            "[100]\tvalid_set's binary_logloss: 0.102265\n",
            "[150]\tvalid_set's binary_logloss: 0.0989842\n",
            "[200]\tvalid_set's binary_logloss: 0.0974537\n",
            "[250]\tvalid_set's binary_logloss: 0.096887\n",
            "[300]\tvalid_set's binary_logloss: 0.0966644\n",
            "[350]\tvalid_set's binary_logloss: 0.0965835\n",
            "[400]\tvalid_set's binary_logloss: 0.0966085\n",
            "[450]\tvalid_set's binary_logloss: 0.0969867\n"
          ]
        },
        {
          "metadata": {
            "tags": null
          },
          "name": "stderr",
          "output_type": "stream",
          "text": [
            "Saving /content/drive/My Drive/Colab Notebooks/Assignment2/AutoGluonModels/models/LightGBMXT_BAG_L1/utils/oof.pkl\n",
            "Saving /content/drive/My Drive/Colab Notebooks/Assignment2/AutoGluonModels/models/LightGBMXT_BAG_L1/model.pkl\n",
            "\t0.8983\t = Validation score   (roc_auc)\n",
            "\t136.16s\t = Training   runtime\n",
            "\t1.63s\t = Validation runtime\n",
            "\t2262.7\t = Inference  throughput (rows/s | 3691 batch size)\n",
            "Saving /content/drive/My Drive/Colab Notebooks/Assignment2/AutoGluonModels/models/trainer.pkl\n",
            "Fitting model: LightGBM_BAG_L1 ... Training model for up to 2478.34s of the 2478.27s of remaining time.\n",
            "\tFitting LightGBM_BAG_L1 with 'num_gpus': 0, 'num_cpus': 2\n",
            "Saving /content/drive/My Drive/Colab Notebooks/Assignment2/AutoGluonModels/models/LightGBM_BAG_L1/utils/model_template.pkl\n",
            "Loading: /content/drive/My Drive/Colab Notebooks/Assignment2/AutoGluonModels/models/LightGBM_BAG_L1/utils/model_template.pkl\n",
            "\tFitting 8 child models (S1F1 - S1F8) | Fitting with SequentialLocalFoldFittingStrategy\n",
            "\tFitting 10000 rounds... Hyperparameters: {'learning_rate': 0.05}\n"
          ]
        },
        {
          "metadata": {
            "tags": null
          },
          "name": "stdout",
          "output_type": "stream",
          "text": [
            "[50]\tvalid_set's binary_logloss: 0.105268\n",
            "[100]\tvalid_set's binary_logloss: 0.102076\n",
            "[150]\tvalid_set's binary_logloss: 0.101264\n",
            "[200]\tvalid_set's binary_logloss: 0.101666\n",
            "[250]\tvalid_set's binary_logloss: 0.10349\n"
          ]
        },
        {
          "metadata": {
            "tags": null
          },
          "name": "stderr",
          "output_type": "stream",
          "text": [
            "\tFitting 10000 rounds... Hyperparameters: {'learning_rate': 0.05}\n"
          ]
        },
        {
          "metadata": {
            "tags": null
          },
          "name": "stdout",
          "output_type": "stream",
          "text": [
            "[50]\tvalid_set's binary_logloss: 0.103304\n",
            "[100]\tvalid_set's binary_logloss: 0.0983889\n",
            "[150]\tvalid_set's binary_logloss: 0.0965054\n",
            "[200]\tvalid_set's binary_logloss: 0.097012\n",
            "[250]\tvalid_set's binary_logloss: 0.097327\n"
          ]
        },
        {
          "metadata": {
            "tags": null
          },
          "name": "stderr",
          "output_type": "stream",
          "text": [
            "\tFitting 10000 rounds... Hyperparameters: {'learning_rate': 0.05}\n"
          ]
        },
        {
          "metadata": {
            "tags": null
          },
          "name": "stdout",
          "output_type": "stream",
          "text": [
            "[50]\tvalid_set's binary_logloss: 0.10633\n",
            "[100]\tvalid_set's binary_logloss: 0.102125\n",
            "[150]\tvalid_set's binary_logloss: 0.100525\n",
            "[200]\tvalid_set's binary_logloss: 0.101146\n",
            "[250]\tvalid_set's binary_logloss: 0.102361\n"
          ]
        },
        {
          "metadata": {
            "tags": null
          },
          "name": "stderr",
          "output_type": "stream",
          "text": [
            "\tFitting 10000 rounds... Hyperparameters: {'learning_rate': 0.05}\n"
          ]
        },
        {
          "metadata": {
            "tags": null
          },
          "name": "stdout",
          "output_type": "stream",
          "text": [
            "[50]\tvalid_set's binary_logloss: 0.0905658\n",
            "[100]\tvalid_set's binary_logloss: 0.0850417\n",
            "[150]\tvalid_set's binary_logloss: 0.0831057\n",
            "[200]\tvalid_set's binary_logloss: 0.0814709\n",
            "[250]\tvalid_set's binary_logloss: 0.0807552\n",
            "[300]\tvalid_set's binary_logloss: 0.0812451\n",
            "[350]\tvalid_set's binary_logloss: 0.0819383\n"
          ]
        },
        {
          "metadata": {
            "tags": null
          },
          "name": "stderr",
          "output_type": "stream",
          "text": [
            "\tFitting 10000 rounds... Hyperparameters: {'learning_rate': 0.05}\n"
          ]
        },
        {
          "metadata": {
            "tags": null
          },
          "name": "stdout",
          "output_type": "stream",
          "text": [
            "[50]\tvalid_set's binary_logloss: 0.0891543\n",
            "[100]\tvalid_set's binary_logloss: 0.0844442\n",
            "[150]\tvalid_set's binary_logloss: 0.0824806\n",
            "[200]\tvalid_set's binary_logloss: 0.081785\n",
            "[250]\tvalid_set's binary_logloss: 0.0818136\n",
            "[300]\tvalid_set's binary_logloss: 0.0823386\n"
          ]
        },
        {
          "metadata": {
            "tags": null
          },
          "name": "stderr",
          "output_type": "stream",
          "text": [
            "\tFitting 10000 rounds... Hyperparameters: {'learning_rate': 0.05}\n"
          ]
        },
        {
          "metadata": {
            "tags": null
          },
          "name": "stdout",
          "output_type": "stream",
          "text": [
            "[50]\tvalid_set's binary_logloss: 0.0860279\n",
            "[100]\tvalid_set's binary_logloss: 0.0807246\n",
            "[150]\tvalid_set's binary_logloss: 0.0777511\n",
            "[200]\tvalid_set's binary_logloss: 0.077061\n",
            "[250]\tvalid_set's binary_logloss: 0.0765354\n",
            "[300]\tvalid_set's binary_logloss: 0.0762452\n",
            "[350]\tvalid_set's binary_logloss: 0.0769026\n",
            "[400]\tvalid_set's binary_logloss: 0.0778267\n"
          ]
        },
        {
          "metadata": {
            "tags": null
          },
          "name": "stderr",
          "output_type": "stream",
          "text": [
            "\tFitting 10000 rounds... Hyperparameters: {'learning_rate': 0.05}\n"
          ]
        },
        {
          "metadata": {
            "tags": null
          },
          "name": "stdout",
          "output_type": "stream",
          "text": [
            "[50]\tvalid_set's binary_logloss: 0.088879\n",
            "[100]\tvalid_set's binary_logloss: 0.0854258\n",
            "[150]\tvalid_set's binary_logloss: 0.0852991\n",
            "[200]\tvalid_set's binary_logloss: 0.0853028\n"
          ]
        },
        {
          "metadata": {
            "tags": null
          },
          "name": "stderr",
          "output_type": "stream",
          "text": [
            "\tFitting 10000 rounds... Hyperparameters: {'learning_rate': 0.05}\n"
          ]
        },
        {
          "metadata": {
            "tags": null
          },
          "name": "stdout",
          "output_type": "stream",
          "text": [
            "[50]\tvalid_set's binary_logloss: 0.106358\n",
            "[100]\tvalid_set's binary_logloss: 0.10034\n",
            "[150]\tvalid_set's binary_logloss: 0.0989673\n",
            "[200]\tvalid_set's binary_logloss: 0.0987597\n",
            "[250]\tvalid_set's binary_logloss: 0.0992887\n",
            "[300]\tvalid_set's binary_logloss: 0.100111\n"
          ]
        },
        {
          "metadata": {
            "tags": null
          },
          "name": "stderr",
          "output_type": "stream",
          "text": [
            "Saving /content/drive/My Drive/Colab Notebooks/Assignment2/AutoGluonModels/models/LightGBM_BAG_L1/utils/oof.pkl\n",
            "Saving /content/drive/My Drive/Colab Notebooks/Assignment2/AutoGluonModels/models/LightGBM_BAG_L1/model.pkl\n",
            "\t0.899\t = Validation score   (roc_auc)\n",
            "\t119.64s\t = Training   runtime\n",
            "\t1.16s\t = Validation runtime\n",
            "\t3192.9\t = Inference  throughput (rows/s | 3691 batch size)\n",
            "Saving /content/drive/My Drive/Colab Notebooks/Assignment2/AutoGluonModels/models/trainer.pkl\n",
            "Fitting model: RandomForestGini_BAG_L1 ... Training model for up to 2353.3s of the 2353.23s of remaining time.\n",
            "\tFitting RandomForestGini_BAG_L1 with 'num_gpus': 0, 'num_cpus': 2\n",
            "Saving /content/drive/My Drive/Colab Notebooks/Assignment2/AutoGluonModels/models/RandomForestGini_BAG_L1/utils/model_template.pkl\n",
            "Loading: /content/drive/My Drive/Colab Notebooks/Assignment2/AutoGluonModels/models/RandomForestGini_BAG_L1/utils/model_template.pkl\n",
            "\t8.09s\t= Estimated out-of-fold prediction time...\n",
            "\t`use_child_oof` was specified for this model. It will function similarly to a bagged model, but will only fit one child model.\n",
            "Saving /content/drive/My Drive/Colab Notebooks/Assignment2/AutoGluonModels/models/RandomForestGini_BAG_L1/utils/oof.pkl\n",
            "Saving /content/drive/My Drive/Colab Notebooks/Assignment2/AutoGluonModels/models/RandomForestGini_BAG_L1/model.pkl\n",
            "\t0.8704\t = Validation score   (roc_auc)\n",
            "\t26.55s\t = Training   runtime\n",
            "\t10.07s\t = Validation runtime\n",
            "\t2931.6\t = Inference  throughput (rows/s | 29527 batch size)\n",
            "Saving /content/drive/My Drive/Colab Notebooks/Assignment2/AutoGluonModels/models/trainer.pkl\n",
            "Fitting model: RandomForestEntr_BAG_L1 ... Training model for up to 2314.96s of the 2314.89s of remaining time.\n",
            "\tFitting RandomForestEntr_BAG_L1 with 'num_gpus': 0, 'num_cpus': 2\n",
            "Saving /content/drive/My Drive/Colab Notebooks/Assignment2/AutoGluonModels/models/RandomForestEntr_BAG_L1/utils/model_template.pkl\n",
            "Loading: /content/drive/My Drive/Colab Notebooks/Assignment2/AutoGluonModels/models/RandomForestEntr_BAG_L1/utils/model_template.pkl\n",
            "\t10.02s\t= Estimated out-of-fold prediction time...\n",
            "\t`use_child_oof` was specified for this model. It will function similarly to a bagged model, but will only fit one child model.\n",
            "Saving /content/drive/My Drive/Colab Notebooks/Assignment2/AutoGluonModels/models/RandomForestEntr_BAG_L1/utils/oof.pkl\n",
            "Saving /content/drive/My Drive/Colab Notebooks/Assignment2/AutoGluonModels/models/RandomForestEntr_BAG_L1/model.pkl\n",
            "\t0.8828\t = Validation score   (roc_auc)\n",
            "\t27.31s\t = Training   runtime\n",
            "\t10.78s\t = Validation runtime\n",
            "\t2739.3\t = Inference  throughput (rows/s | 29527 batch size)\n",
            "Saving /content/drive/My Drive/Colab Notebooks/Assignment2/AutoGluonModels/models/trainer.pkl\n",
            "Fitting model: CatBoost_BAG_L1 ... Training model for up to 2274.22s of the 2274.15s of remaining time.\n",
            "\tFitting CatBoost_BAG_L1 with 'num_gpus': 0, 'num_cpus': 2\n",
            "Saving /content/drive/My Drive/Colab Notebooks/Assignment2/AutoGluonModels/models/CatBoost_BAG_L1/utils/model_template.pkl\n",
            "Loading: /content/drive/My Drive/Colab Notebooks/Assignment2/AutoGluonModels/models/CatBoost_BAG_L1/utils/model_template.pkl\n",
            "\tFitting 8 child models (S1F1 - S1F8) | Fitting with SequentialLocalFoldFittingStrategy\n",
            "\tCatboost model hyperparameters: {'iterations': 10000, 'learning_rate': 0.05, 'random_seed': 0, 'allow_writing_files': False, 'eval_metric': 'Logloss', 'thread_count': 1}\n"
          ]
        },
        {
          "metadata": {
            "tags": null
          },
          "name": "stdout",
          "output_type": "stream",
          "text": [
            "0:\tlearn: 0.6142686\ttest: 0.6142593\tbest: 0.6142593 (0)\ttotal: 584ms\tremaining: 1h 37m 16s\n",
            "20:\tlearn: 0.1523477\ttest: 0.1549139\tbest: 0.1549139 (20)\ttotal: 8.62s\tremaining: 1h 8m 15s\n",
            "40:\tlearn: 0.1130906\ttest: 0.1200983\tbest: 0.1200983 (40)\ttotal: 17.2s\tremaining: 1h 9m 30s\n",
            "60:\tlearn: 0.1028373\ttest: 0.1133615\tbest: 0.1133615 (60)\ttotal: 24.5s\tremaining: 1h 6m 33s\n",
            "80:\tlearn: 0.0982650\ttest: 0.1110854\tbest: 0.1110854 (80)\ttotal: 33.1s\tremaining: 1h 7m 36s\n",
            "100:\tlearn: 0.0953368\ttest: 0.1098965\tbest: 0.1098965 (100)\ttotal: 40.2s\tremaining: 1h 5m 42s\n",
            "120:\tlearn: 0.0924324\ttest: 0.1092475\tbest: 0.1092475 (120)\ttotal: 48.9s\tremaining: 1h 6m 32s\n",
            "140:\tlearn: 0.0903151\ttest: 0.1081391\tbest: 0.1081129 (138)\ttotal: 56.1s\tremaining: 1h 5m 23s\n",
            "160:\tlearn: 0.0887700\ttest: 0.1076723\tbest: 0.1076677 (158)\ttotal: 1m 4s\tremaining: 1h 5m 34s\n",
            "180:\tlearn: 0.0871713\ttest: 0.1075156\tbest: 0.1075156 (180)\ttotal: 1m 11s\tremaining: 1h 4m 43s\n",
            "200:\tlearn: 0.0860188\ttest: 0.1070134\tbest: 0.1070134 (200)\ttotal: 1m 19s\tremaining: 1h 4m 53s\n",
            "220:\tlearn: 0.0847098\ttest: 0.1067294\tbest: 0.1066811 (210)\ttotal: 1m 27s\tremaining: 1h 4m 22s\n",
            "240:\tlearn: 0.0834981\ttest: 0.1067216\tbest: 0.1066811 (210)\ttotal: 1m 35s\tremaining: 1h 4m 29s\n",
            "260:\tlearn: 0.0822601\ttest: 0.1066475\tbest: 0.1065281 (254)\ttotal: 1m 43s\tremaining: 1h 4m 23s\n",
            "280:\tlearn: 0.0810844\ttest: 0.1064241\tbest: 0.1064241 (280)\ttotal: 1m 51s\tremaining: 1h 4m 11s\n",
            "300:\tlearn: 0.0801008\ttest: 0.1061096\tbest: 0.1061096 (300)\ttotal: 1m 59s\tremaining: 1h 4m 23s\n",
            "320:\tlearn: 0.0788418\ttest: 0.1059909\tbest: 0.1059232 (316)\ttotal: 2m 7s\tremaining: 1h 4m 2s\n",
            "340:\tlearn: 0.0778831\ttest: 0.1058423\tbest: 0.1057874 (336)\ttotal: 2m 15s\tremaining: 1h 4m 10s\n",
            "360:\tlearn: 0.0766979\ttest: 0.1055870\tbest: 0.1055575 (358)\ttotal: 2m 23s\tremaining: 1h 3m 47s\n",
            "380:\tlearn: 0.0757931\ttest: 0.1056900\tbest: 0.1055575 (358)\ttotal: 2m 31s\tremaining: 1h 3m 55s\n",
            "400:\tlearn: 0.0746502\ttest: 0.1056388\tbest: 0.1055376 (393)\ttotal: 2m 39s\tremaining: 1h 3m 35s\n",
            "420:\tlearn: 0.0736275\ttest: 0.1055704\tbest: 0.1055288 (415)\ttotal: 2m 48s\tremaining: 1h 3m 45s\n",
            "440:\tlearn: 0.0725606\ttest: 0.1055996\tbest: 0.1055288 (415)\ttotal: 2m 56s\tremaining: 1h 3m 44s\n",
            "460:\tlearn: 0.0715912\ttest: 0.1055946\tbest: 0.1055288 (415)\ttotal: 3m 4s\tremaining: 1h 3m 37s\n",
            "480:\tlearn: 0.0706354\ttest: 0.1054623\tbest: 0.1054480 (475)\ttotal: 3m 12s\tremaining: 1h 3m 37s\n",
            "500:\tlearn: 0.0696575\ttest: 0.1052715\tbest: 0.1052715 (500)\ttotal: 3m 20s\tremaining: 1h 3m 28s\n",
            "520:\tlearn: 0.0691017\ttest: 0.1051024\tbest: 0.1050980 (518)\ttotal: 3m 29s\tremaining: 1h 3m 34s\n",
            "540:\tlearn: 0.0684076\ttest: 0.1049830\tbest: 0.1049636 (539)\ttotal: 3m 36s\tremaining: 1h 3m 9s\n"
          ]
        },
        {
          "metadata": {
            "tags": null
          },
          "name": "stderr",
          "output_type": "stream",
          "text": [
            "\tRan out of time, early stopping on iteration 561.\n"
          ]
        },
        {
          "metadata": {
            "tags": null
          },
          "name": "stdout",
          "output_type": "stream",
          "text": [
            "560:\tlearn: 0.0676288\ttest: 0.1050171\tbest: 0.1049636 (539)\ttotal: 3m 45s\tremaining: 1h 3m 11s\n",
            "\n",
            "bestTest = 0.1049635963\n",
            "bestIteration = 539\n",
            "\n",
            "Shrink model to first 540 iterations.\n"
          ]
        },
        {
          "metadata": {
            "tags": null
          },
          "name": "stderr",
          "output_type": "stream",
          "text": [
            "\tCatboost model hyperparameters: {'iterations': 10000, 'learning_rate': 0.05, 'random_seed': 0, 'allow_writing_files': False, 'eval_metric': 'Logloss', 'thread_count': 1}\n"
          ]
        },
        {
          "metadata": {
            "tags": null
          },
          "name": "stdout",
          "output_type": "stream",
          "text": [
            "0:\tlearn: 0.6132281\ttest: 0.6132271\tbest: 0.6132271 (0)\ttotal: 174ms\tremaining: 28m 59s\n",
            "20:\tlearn: 0.1526416\ttest: 0.1583930\tbest: 0.1583930 (20)\ttotal: 7.95s\tremaining: 1h 2m 59s\n",
            "40:\tlearn: 0.1121677\ttest: 0.1212968\tbest: 0.1212968 (40)\ttotal: 16s\tremaining: 1h 4m 43s\n",
            "60:\tlearn: 0.1033056\ttest: 0.1153820\tbest: 0.1153820 (60)\ttotal: 23.9s\tremaining: 1h 4m 59s\n",
            "80:\tlearn: 0.0990051\ttest: 0.1124295\tbest: 0.1124295 (80)\ttotal: 31.5s\tremaining: 1h 4m 17s\n",
            "100:\tlearn: 0.0954914\ttest: 0.1101551\tbest: 0.1101551 (100)\ttotal: 39.9s\tremaining: 1h 5m 11s\n",
            "120:\tlearn: 0.0927054\ttest: 0.1085507\tbest: 0.1085507 (120)\ttotal: 47.5s\tremaining: 1h 4m 39s\n",
            "140:\tlearn: 0.0903317\ttest: 0.1076360\tbest: 0.1076360 (140)\ttotal: 55.8s\tremaining: 1h 5m 1s\n",
            "160:\tlearn: 0.0885780\ttest: 0.1067807\tbest: 0.1067807 (160)\ttotal: 1m 2s\tremaining: 1h 4m 3s\n",
            "180:\tlearn: 0.0869458\ttest: 0.1063230\tbest: 0.1063230 (180)\ttotal: 1m 11s\tremaining: 1h 4m 32s\n",
            "200:\tlearn: 0.0853487\ttest: 0.1057885\tbest: 0.1057885 (200)\ttotal: 1m 18s\tremaining: 1h 3m 41s\n",
            "220:\tlearn: 0.0838107\ttest: 0.1053104\tbest: 0.1053104 (220)\ttotal: 1m 26s\tremaining: 1h 3m 56s\n",
            "240:\tlearn: 0.0825836\ttest: 0.1049655\tbest: 0.1049655 (240)\ttotal: 1m 33s\tremaining: 1h 3m 24s\n",
            "260:\tlearn: 0.0814648\ttest: 0.1048044\tbest: 0.1047551 (256)\ttotal: 1m 42s\tremaining: 1h 3m 39s\n",
            "280:\tlearn: 0.0803552\ttest: 0.1044801\tbest: 0.1043914 (274)\ttotal: 1m 49s\tremaining: 1h 3m 1s\n",
            "300:\tlearn: 0.0791821\ttest: 0.1041520\tbest: 0.1041520 (300)\ttotal: 1m 57s\tremaining: 1h 3m 16s\n",
            "320:\tlearn: 0.0779913\ttest: 0.1038139\tbest: 0.1038139 (320)\ttotal: 2m 5s\tremaining: 1h 2m 54s\n",
            "340:\tlearn: 0.0770597\ttest: 0.1035798\tbest: 0.1035560 (336)\ttotal: 2m 13s\tremaining: 1h 2m 57s\n",
            "360:\tlearn: 0.0758562\ttest: 0.1031548\tbest: 0.1031548 (360)\ttotal: 2m 21s\tremaining: 1h 2m 51s\n",
            "380:\tlearn: 0.0747791\ttest: 0.1027275\tbest: 0.1027100 (377)\ttotal: 2m 29s\tremaining: 1h 2m 42s\n",
            "400:\tlearn: 0.0737358\ttest: 0.1024118\tbest: 0.1024118 (400)\ttotal: 2m 37s\tremaining: 1h 2m 42s\n",
            "420:\tlearn: 0.0726698\ttest: 0.1020935\tbest: 0.1020935 (420)\ttotal: 2m 44s\tremaining: 1h 2m 22s\n",
            "440:\tlearn: 0.0718620\ttest: 0.1018158\tbest: 0.1018158 (440)\ttotal: 2m 52s\tremaining: 1h 2m 25s\n",
            "460:\tlearn: 0.0712407\ttest: 0.1016117\tbest: 0.1016073 (459)\ttotal: 2m 59s\tremaining: 1h 2m\n",
            "480:\tlearn: 0.0702153\ttest: 0.1013319\tbest: 0.1013296 (479)\ttotal: 3m 8s\tremaining: 1h 2m 6s\n",
            "500:\tlearn: 0.0694623\ttest: 0.1011106\tbest: 0.1010636 (498)\ttotal: 3m 15s\tremaining: 1h 1m 44s\n",
            "520:\tlearn: 0.0687589\ttest: 0.1011063\tbest: 0.1010636 (498)\ttotal: 3m 23s\tremaining: 1h 1m 49s\n",
            "540:\tlearn: 0.0680773\ttest: 0.1008011\tbest: 0.1007454 (538)\ttotal: 3m 31s\tremaining: 1h 1m 35s\n",
            "560:\tlearn: 0.0674721\ttest: 0.1007148\tbest: 0.1007122 (559)\ttotal: 3m 39s\tremaining: 1h 1m 37s\n",
            "580:\tlearn: 0.0668795\ttest: 0.1007513\tbest: 0.1006889 (569)\ttotal: 3m 47s\tremaining: 1h 1m 20s\n"
          ]
        },
        {
          "metadata": {
            "tags": null
          },
          "name": "stderr",
          "output_type": "stream",
          "text": [
            "\tRan out of time, early stopping on iteration 591.\n"
          ]
        },
        {
          "metadata": {
            "tags": null
          },
          "name": "stdout",
          "output_type": "stream",
          "text": [
            "\n",
            "bestTest = 0.1006888888\n",
            "bestIteration = 569\n",
            "\n",
            "Shrink model to first 570 iterations.\n"
          ]
        },
        {
          "metadata": {
            "tags": null
          },
          "name": "stderr",
          "output_type": "stream",
          "text": [
            "\tCatboost model hyperparameters: {'iterations': 10000, 'learning_rate': 0.05, 'random_seed': 0, 'allow_writing_files': False, 'eval_metric': 'Logloss', 'thread_count': 1}\n"
          ]
        },
        {
          "metadata": {
            "tags": null
          },
          "name": "stdout",
          "output_type": "stream",
          "text": [
            "0:\tlearn: 0.6122670\ttest: 0.6128413\tbest: 0.6128413 (0)\ttotal: 390ms\tremaining: 1h 5m 4s\n",
            "20:\tlearn: 0.1515905\ttest: 0.1583022\tbest: 0.1583022 (20)\ttotal: 6.92s\tremaining: 54m 50s\n",
            "40:\tlearn: 0.1118902\ttest: 0.1249595\tbest: 0.1249595 (40)\ttotal: 15.5s\tremaining: 1h 2m 55s\n",
            "60:\tlearn: 0.1020419\ttest: 0.1188617\tbest: 0.1188617 (60)\ttotal: 22.6s\tremaining: 1h 1m 29s\n",
            "80:\tlearn: 0.0974965\ttest: 0.1161221\tbest: 0.1161221 (80)\ttotal: 31.2s\tremaining: 1h 3m 42s\n",
            "100:\tlearn: 0.0941894\ttest: 0.1143532\tbest: 0.1143532 (100)\ttotal: 38.8s\tremaining: 1h 3m 19s\n",
            "120:\tlearn: 0.0914474\ttest: 0.1129597\tbest: 0.1129597 (120)\ttotal: 46.9s\tremaining: 1h 3m 49s\n",
            "140:\tlearn: 0.0897822\ttest: 0.1121121\tbest: 0.1121121 (140)\ttotal: 54.8s\tremaining: 1h 3m 48s\n",
            "160:\tlearn: 0.0881885\ttest: 0.1113185\tbest: 0.1113185 (160)\ttotal: 1m 2s\tremaining: 1h 3m 33s\n",
            "180:\tlearn: 0.0869281\ttest: 0.1106224\tbest: 0.1106224 (180)\ttotal: 1m 10s\tremaining: 1h 3m 22s\n",
            "200:\tlearn: 0.0852944\ttest: 0.1100324\tbest: 0.1100324 (200)\ttotal: 1m 17s\tremaining: 1h 3m\n",
            "220:\tlearn: 0.0844692\ttest: 0.1097661\tbest: 0.1097661 (220)\ttotal: 1m 25s\tremaining: 1h 2m 59s\n",
            "240:\tlearn: 0.0832516\ttest: 0.1094462\tbest: 0.1094462 (240)\ttotal: 1m 32s\tremaining: 1h 2m 42s\n",
            "260:\tlearn: 0.0821949\ttest: 0.1090354\tbest: 0.1090354 (260)\ttotal: 1m 41s\tremaining: 1h 3m\n",
            "280:\tlearn: 0.0813917\ttest: 0.1085959\tbest: 0.1085956 (278)\ttotal: 1m 48s\tremaining: 1h 2m 25s\n",
            "300:\tlearn: 0.0803243\ttest: 0.1081621\tbest: 0.1081621 (300)\ttotal: 1m 56s\tremaining: 1h 2m 39s\n",
            "320:\tlearn: 0.0792978\ttest: 0.1076527\tbest: 0.1076527 (320)\ttotal: 2m 3s\tremaining: 1h 2m 9s\n",
            "340:\tlearn: 0.0781455\ttest: 0.1071972\tbest: 0.1071935 (338)\ttotal: 2m 12s\tremaining: 1h 2m 26s\n",
            "360:\tlearn: 0.0773258\ttest: 0.1070688\tbest: 0.1070619 (352)\ttotal: 2m 19s\tremaining: 1h 1m 59s\n",
            "380:\tlearn: 0.0764266\ttest: 0.1067789\tbest: 0.1067789 (380)\ttotal: 2m 27s\tremaining: 1h 2m 6s\n",
            "400:\tlearn: 0.0752904\ttest: 0.1064328\tbest: 0.1064328 (400)\ttotal: 2m 34s\tremaining: 1h 1m 41s\n",
            "420:\tlearn: 0.0746996\ttest: 0.1063641\tbest: 0.1063619 (416)\ttotal: 2m 43s\tremaining: 1h 1m 50s\n",
            "440:\tlearn: 0.0735936\ttest: 0.1062525\tbest: 0.1061848 (436)\ttotal: 2m 50s\tremaining: 1h 1m 33s\n",
            "460:\tlearn: 0.0728556\ttest: 0.1059446\tbest: 0.1059446 (460)\ttotal: 2m 58s\tremaining: 1h 1m 35s\n",
            "480:\tlearn: 0.0718667\ttest: 0.1054676\tbest: 0.1054676 (480)\ttotal: 3m 6s\tremaining: 1h 1m 29s\n",
            "500:\tlearn: 0.0710163\ttest: 0.1051272\tbest: 0.1051272 (500)\ttotal: 3m 14s\tremaining: 1h 1m 24s\n",
            "520:\tlearn: 0.0702343\ttest: 0.1048175\tbest: 0.1048175 (520)\ttotal: 3m 22s\tremaining: 1h 1m 17s\n",
            "540:\tlearn: 0.0697521\ttest: 0.1046808\tbest: 0.1046808 (540)\ttotal: 3m 29s\tremaining: 1h 1m 3s\n",
            "560:\tlearn: 0.0687846\ttest: 0.1043818\tbest: 0.1043701 (558)\ttotal: 3m 38s\tremaining: 1h 1m 11s\n",
            "580:\tlearn: 0.0682142\ttest: 0.1040215\tbest: 0.1040215 (580)\ttotal: 3m 45s\tremaining: 1h 52s\n",
            "600:\tlearn: 0.0676273\ttest: 0.1039323\tbest: 0.1039124 (597)\ttotal: 3m 53s\tremaining: 1h 57s\n"
          ]
        },
        {
          "metadata": {
            "tags": null
          },
          "name": "stderr",
          "output_type": "stream",
          "text": [
            "\tRan out of time, early stopping on iteration 617.\n"
          ]
        },
        {
          "metadata": {
            "tags": null
          },
          "name": "stdout",
          "output_type": "stream",
          "text": [
            "\n",
            "bestTest = 0.1037347409\n",
            "bestIteration = 610\n",
            "\n",
            "Shrink model to first 611 iterations.\n"
          ]
        },
        {
          "metadata": {
            "tags": null
          },
          "name": "stderr",
          "output_type": "stream",
          "text": [
            "\tCatboost model hyperparameters: {'iterations': 10000, 'learning_rate': 0.05, 'random_seed': 0, 'allow_writing_files': False, 'eval_metric': 'Logloss', 'thread_count': 1}\n"
          ]
        },
        {
          "metadata": {
            "tags": null
          },
          "name": "stdout",
          "output_type": "stream",
          "text": [
            "0:\tlearn: 0.6143338\ttest: 0.6143268\tbest: 0.6143268 (0)\ttotal: 404ms\tremaining: 1h 7m 14s\n",
            "20:\tlearn: 0.1547310\ttest: 0.1494034\tbest: 0.1494034 (20)\ttotal: 9.33s\tremaining: 1h 13m 54s\n",
            "40:\tlearn: 0.1151423\ttest: 0.1090936\tbest: 0.1090936 (40)\ttotal: 17.2s\tremaining: 1h 9m 41s\n",
            "60:\tlearn: 0.1044098\ttest: 0.1004691\tbest: 0.1004691 (60)\ttotal: 26s\tremaining: 1h 10m 43s\n",
            "80:\tlearn: 0.0997973\ttest: 0.0973679\tbest: 0.0973679 (80)\ttotal: 34.6s\tremaining: 1h 10m 40s\n",
            "100:\tlearn: 0.0966203\ttest: 0.0960484\tbest: 0.0960484 (100)\ttotal: 42.4s\tremaining: 1h 9m 19s\n",
            "120:\tlearn: 0.0942599\ttest: 0.0946964\tbest: 0.0946964 (120)\ttotal: 51.9s\tremaining: 1h 10m 34s\n",
            "140:\tlearn: 0.0923198\ttest: 0.0937807\tbest: 0.0937787 (139)\ttotal: 59.2s\tremaining: 1h 9m 1s\n",
            "160:\tlearn: 0.0909926\ttest: 0.0931010\tbest: 0.0930930 (159)\ttotal: 1m 7s\tremaining: 1h 8m 56s\n",
            "180:\tlearn: 0.0892619\ttest: 0.0923720\tbest: 0.0923720 (180)\ttotal: 1m 14s\tremaining: 1h 7m 43s\n",
            "200:\tlearn: 0.0880421\ttest: 0.0919154\tbest: 0.0919154 (200)\ttotal: 1m 23s\tremaining: 1h 7m 49s\n",
            "220:\tlearn: 0.0862660\ttest: 0.0910985\tbest: 0.0910985 (220)\ttotal: 1m 31s\tremaining: 1h 7m 21s\n",
            "240:\tlearn: 0.0850067\ttest: 0.0906289\tbest: 0.0906289 (240)\ttotal: 1m 39s\tremaining: 1h 7m 21s\n",
            "260:\tlearn: 0.0836679\ttest: 0.0900779\tbest: 0.0900779 (260)\ttotal: 1m 48s\tremaining: 1h 7m 24s\n",
            "280:\tlearn: 0.0824333\ttest: 0.0895799\tbest: 0.0895697 (277)\ttotal: 1m 56s\tremaining: 1h 6m 54s\n",
            "300:\tlearn: 0.0811487\ttest: 0.0891857\tbest: 0.0891857 (300)\ttotal: 2m 5s\tremaining: 1h 7m 8s\n",
            "320:\tlearn: 0.0798342\ttest: 0.0886391\tbest: 0.0886391 (320)\ttotal: 2m 12s\tremaining: 1h 6m 44s\n",
            "340:\tlearn: 0.0787189\ttest: 0.0882939\tbest: 0.0882831 (338)\ttotal: 2m 21s\tremaining: 1h 6m 57s\n",
            "360:\tlearn: 0.0775842\ttest: 0.0879821\tbest: 0.0879752 (358)\ttotal: 2m 30s\tremaining: 1h 6m 51s\n",
            "380:\tlearn: 0.0765014\ttest: 0.0876747\tbest: 0.0876670 (370)\ttotal: 2m 38s\tremaining: 1h 6m 44s\n",
            "400:\tlearn: 0.0755698\ttest: 0.0872396\tbest: 0.0872396 (400)\ttotal: 2m 47s\tremaining: 1h 6m 53s\n",
            "420:\tlearn: 0.0746085\ttest: 0.0870226\tbest: 0.0870010 (417)\ttotal: 2m 55s\tremaining: 1h 6m 32s\n",
            "440:\tlearn: 0.0736836\ttest: 0.0866984\tbest: 0.0866907 (437)\ttotal: 3m 8s\tremaining: 1h 7m 56s\n",
            "460:\tlearn: 0.0728596\ttest: 0.0863947\tbest: 0.0863908 (459)\ttotal: 3m 16s\tremaining: 1h 7m 39s\n",
            "480:\tlearn: 0.0720185\ttest: 0.0861052\tbest: 0.0861052 (480)\ttotal: 3m 24s\tremaining: 1h 7m 32s\n",
            "500:\tlearn: 0.0710031\ttest: 0.0858194\tbest: 0.0857937 (495)\ttotal: 3m 33s\tremaining: 1h 7m 19s\n",
            "520:\tlearn: 0.0702270\ttest: 0.0856981\tbest: 0.0856981 (520)\ttotal: 3m 41s\tremaining: 1h 7m 3s\n",
            "540:\tlearn: 0.0696085\ttest: 0.0856194\tbest: 0.0856194 (540)\ttotal: 3m 50s\tremaining: 1h 7m 1s\n",
            "560:\tlearn: 0.0687414\ttest: 0.0853328\tbest: 0.0853328 (560)\ttotal: 3m 57s\tremaining: 1h 6m 40s\n",
            "580:\tlearn: 0.0678120\ttest: 0.0850971\tbest: 0.0850971 (580)\ttotal: 4m 6s\tremaining: 1h 6m 40s\n"
          ]
        },
        {
          "metadata": {
            "tags": null
          },
          "name": "stderr",
          "output_type": "stream",
          "text": [
            "\tRan out of time, early stopping on iteration 587.\n"
          ]
        },
        {
          "metadata": {
            "tags": null
          },
          "name": "stdout",
          "output_type": "stream",
          "text": [
            "\n",
            "bestTest = 0.0850130785\n",
            "bestIteration = 585\n",
            "\n",
            "Shrink model to first 586 iterations.\n"
          ]
        },
        {
          "metadata": {
            "tags": null
          },
          "name": "stderr",
          "output_type": "stream",
          "text": [
            "\tCatboost model hyperparameters: {'iterations': 10000, 'learning_rate': 0.05, 'random_seed': 0, 'allow_writing_files': False, 'eval_metric': 'Logloss', 'thread_count': 1}\n"
          ]
        },
        {
          "metadata": {
            "tags": null
          },
          "name": "stdout",
          "output_type": "stream",
          "text": [
            "0:\tlearn: 0.6133785\ttest: 0.6134701\tbest: 0.6134701 (0)\ttotal: 403ms\tremaining: 1h 7m 10s\n",
            "20:\tlearn: 0.1524423\ttest: 0.1504057\tbest: 0.1504057 (20)\ttotal: 9.23s\tremaining: 1h 13m 6s\n",
            "40:\tlearn: 0.1146016\ttest: 0.1128638\tbest: 0.1128638 (40)\ttotal: 16.8s\tremaining: 1h 7m 49s\n",
            "60:\tlearn: 0.1048116\ttest: 0.1037663\tbest: 0.1037663 (60)\ttotal: 25.5s\tremaining: 1h 9m 12s\n",
            "80:\tlearn: 0.1005696\ttest: 0.1004485\tbest: 0.1004485 (80)\ttotal: 32.9s\tremaining: 1h 7m 8s\n",
            "100:\tlearn: 0.0974779\ttest: 0.0982567\tbest: 0.0982567 (100)\ttotal: 41.3s\tremaining: 1h 7m 29s\n",
            "120:\tlearn: 0.0948560\ttest: 0.0965064\tbest: 0.0965064 (120)\ttotal: 48.6s\tremaining: 1h 6m 5s\n",
            "140:\tlearn: 0.0932236\ttest: 0.0956398\tbest: 0.0956398 (140)\ttotal: 56.6s\tremaining: 1h 5m 58s\n",
            "160:\tlearn: 0.0915987\ttest: 0.0947708\tbest: 0.0947708 (160)\ttotal: 1m 4s\tremaining: 1h 6m 8s\n",
            "180:\tlearn: 0.0900566\ttest: 0.0940091\tbest: 0.0940091 (180)\ttotal: 1m 12s\tremaining: 1h 5m 49s\n",
            "200:\tlearn: 0.0884319\ttest: 0.0932671\tbest: 0.0932671 (200)\ttotal: 1m 21s\tremaining: 1h 6m 11s\n",
            "220:\tlearn: 0.0867263\ttest: 0.0925498\tbest: 0.0925158 (218)\ttotal: 1m 28s\tremaining: 1h 5m 32s\n",
            "240:\tlearn: 0.0853501\ttest: 0.0918082\tbest: 0.0918077 (239)\ttotal: 1m 37s\tremaining: 1h 5m 46s\n",
            "260:\tlearn: 0.0838900\ttest: 0.0911304\tbest: 0.0911304 (260)\ttotal: 1m 44s\tremaining: 1h 5m 8s\n",
            "280:\tlearn: 0.0825296\ttest: 0.0906968\tbest: 0.0906968 (280)\ttotal: 1m 53s\tremaining: 1h 5m 24s\n",
            "300:\tlearn: 0.0815281\ttest: 0.0903786\tbest: 0.0903656 (296)\ttotal: 2m\tremaining: 1h 4m 52s\n",
            "320:\tlearn: 0.0802786\ttest: 0.0900763\tbest: 0.0900689 (319)\ttotal: 2m 9s\tremaining: 1h 4m 59s\n",
            "340:\tlearn: 0.0794914\ttest: 0.0899498\tbest: 0.0899493 (338)\ttotal: 2m 17s\tremaining: 1h 4m 51s\n",
            "360:\tlearn: 0.0783381\ttest: 0.0896981\tbest: 0.0896667 (359)\ttotal: 2m 25s\tremaining: 1h 4m 42s\n",
            "380:\tlearn: 0.0775798\ttest: 0.0894983\tbest: 0.0894983 (380)\ttotal: 2m 33s\tremaining: 1h 4m 43s\n",
            "400:\tlearn: 0.0767602\ttest: 0.0892600\tbest: 0.0892432 (399)\ttotal: 2m 41s\tremaining: 1h 4m 15s\n",
            "420:\tlearn: 0.0758571\ttest: 0.0887953\tbest: 0.0887949 (419)\ttotal: 2m 49s\tremaining: 1h 4m 18s\n",
            "440:\tlearn: 0.0749865\ttest: 0.0887496\tbest: 0.0887496 (440)\ttotal: 2m 56s\tremaining: 1h 3m 52s\n",
            "460:\tlearn: 0.0741709\ttest: 0.0885753\tbest: 0.0885629 (458)\ttotal: 3m 5s\tremaining: 1h 3m 57s\n",
            "480:\tlearn: 0.0733094\ttest: 0.0885118\tbest: 0.0884840 (478)\ttotal: 3m 12s\tremaining: 1h 3m 37s\n",
            "500:\tlearn: 0.0724096\ttest: 0.0885084\tbest: 0.0884404 (486)\ttotal: 3m 21s\tremaining: 1h 3m 45s\n",
            "520:\tlearn: 0.0717502\ttest: 0.0884641\tbest: 0.0884404 (486)\ttotal: 3m 29s\tremaining: 1h 3m 27s\n",
            "540:\tlearn: 0.0709525\ttest: 0.0881459\tbest: 0.0881459 (540)\ttotal: 3m 37s\tremaining: 1h 3m 24s\n",
            "560:\tlearn: 0.0703507\ttest: 0.0879568\tbest: 0.0879208 (557)\ttotal: 3m 45s\tremaining: 1h 3m 19s\n",
            "580:\tlearn: 0.0696415\ttest: 0.0877281\tbest: 0.0877281 (580)\ttotal: 3m 53s\tremaining: 1h 3m 10s\n",
            "600:\tlearn: 0.0688026\ttest: 0.0874131\tbest: 0.0874131 (600)\ttotal: 4m 2s\tremaining: 1h 3m 12s\n",
            "620:\tlearn: 0.0679574\ttest: 0.0872657\tbest: 0.0872657 (620)\ttotal: 4m 9s\tremaining: 1h 2m 55s\n",
            "640:\tlearn: 0.0671030\ttest: 0.0870736\tbest: 0.0870262 (631)\ttotal: 4m 18s\tremaining: 1h 2m 55s\n"
          ]
        },
        {
          "metadata": {
            "tags": null
          },
          "name": "stderr",
          "output_type": "stream",
          "text": [
            "\tRan out of time, early stopping on iteration 649.\n"
          ]
        },
        {
          "metadata": {
            "tags": null
          },
          "name": "stdout",
          "output_type": "stream",
          "text": [
            "\n",
            "bestTest = 0.08697816757\n",
            "bestIteration = 648\n",
            "\n",
            "Shrink model to first 649 iterations.\n"
          ]
        },
        {
          "metadata": {
            "tags": null
          },
          "name": "stderr",
          "output_type": "stream",
          "text": [
            "\tCatboost model hyperparameters: {'iterations': 10000, 'learning_rate': 0.05, 'random_seed': 0, 'allow_writing_files': False, 'eval_metric': 'Logloss', 'thread_count': 1}\n"
          ]
        },
        {
          "output_type": "stream",
          "name": "stdout",
          "text": [
            "0:\tlearn: 0.6130723\ttest: 0.6127878\tbest: 0.6127878 (0)\ttotal: 417ms\tremaining: 1h 9m 28s\n",
            "20:\tlearn: 0.1537862\ttest: 0.1511507\tbest: 0.1511507 (20)\ttotal: 9.16s\tremaining: 1h 12m 31s\n",
            "40:\tlearn: 0.1139953\ttest: 0.1097499\tbest: 0.1097499 (40)\ttotal: 16.8s\tremaining: 1h 8m 9s\n",
            "60:\tlearn: 0.1047951\ttest: 0.1008635\tbest: 0.1008635 (60)\ttotal: 25.5s\tremaining: 1h 9m 19s\n",
            "80:\tlearn: 0.1001896\ttest: 0.0962296\tbest: 0.0962296 (80)\ttotal: 32.7s\tremaining: 1h 6m 40s\n",
            "100:\tlearn: 0.0970289\ttest: 0.0931132\tbest: 0.0931132 (100)\ttotal: 41.4s\tremaining: 1h 7m 39s\n",
            "120:\tlearn: 0.0948048\ttest: 0.0917080\tbest: 0.0915797 (119)\ttotal: 49.3s\tremaining: 1h 7m 3s\n",
            "140:\tlearn: 0.0929415\ttest: 0.0902025\tbest: 0.0901874 (139)\ttotal: 57.4s\tremaining: 1h 6m 51s\n",
            "160:\tlearn: 0.0912635\ttest: 0.0887989\tbest: 0.0887989 (160)\ttotal: 1m 5s\tremaining: 1h 6m 46s\n",
            "180:\tlearn: 0.0896291\ttest: 0.0876261\tbest: 0.0876261 (180)\ttotal: 1m 13s\tremaining: 1h 6m 2s\n",
            "200:\tlearn: 0.0885600\ttest: 0.0868855\tbest: 0.0868855 (200)\ttotal: 1m 21s\tremaining: 1h 6m 8s\n",
            "220:\tlearn: 0.0871788\ttest: 0.0861688\tbest: 0.0861688 (220)\ttotal: 1m 28s\tremaining: 1h 5m 15s\n",
            "240:\tlearn: 0.0860929\ttest: 0.0852446\tbest: 0.0852446 (240)\ttotal: 1m 37s\tremaining: 1h 5m 27s\n",
            "260:\tlearn: 0.0848813\ttest: 0.0843838\tbest: 0.0843838 (260)\ttotal: 1m 44s\tremaining: 1h 4m 44s\n",
            "280:\tlearn: 0.0837615\ttest: 0.0838727\tbest: 0.0838727 (280)\ttotal: 1m 52s\tremaining: 1h 4m 56s\n",
            "300:\tlearn: 0.0825319\ttest: 0.0833453\tbest: 0.0833453 (300)\ttotal: 1m 59s\tremaining: 1h 4m 20s\n",
            "320:\tlearn: 0.0814331\ttest: 0.0830518\tbest: 0.0830354 (314)\ttotal: 2m 8s\tremaining: 1h 4m 33s\n",
            "340:\tlearn: 0.0800141\ttest: 0.0823149\tbest: 0.0823149 (340)\ttotal: 2m 16s\tremaining: 1h 4m 15s\n",
            "360:\tlearn: 0.0785800\ttest: 0.0817582\tbest: 0.0817582 (360)\ttotal: 2m 24s\tremaining: 1h 4m 9s\n",
            "380:\tlearn: 0.0777140\ttest: 0.0814951\tbest: 0.0814861 (378)\ttotal: 2m 32s\tremaining: 1h 4m 1s\n",
            "400:\tlearn: 0.0765927\ttest: 0.0811725\tbest: 0.0811218 (397)\ttotal: 2m 39s\tremaining: 1h 3m 43s\n",
            "420:\tlearn: 0.0758544\ttest: 0.0810198\tbest: 0.0809880 (413)\ttotal: 2m 48s\tremaining: 1h 3m 45s\n",
            "440:\tlearn: 0.0749343\ttest: 0.0805972\tbest: 0.0805820 (436)\ttotal: 2m 55s\tremaining: 1h 3m 22s\n",
            "460:\tlearn: 0.0742199\ttest: 0.0805142\tbest: 0.0804608 (448)\ttotal: 3m 3s\tremaining: 1h 3m 26s\n",
            "480:\tlearn: 0.0734053\ttest: 0.0802163\tbest: 0.0801642 (477)\ttotal: 3m 11s\tremaining: 1h 3m 4s\n",
            "500:\tlearn: 0.0726469\ttest: 0.0799566\tbest: 0.0799566 (500)\ttotal: 3m 19s\tremaining: 1h 3m 6s\n",
            "520:\tlearn: 0.0721100\ttest: 0.0797226\tbest: 0.0797226 (520)\ttotal: 3m 26s\tremaining: 1h 2m 44s\n",
            "540:\tlearn: 0.0713947\ttest: 0.0795774\tbest: 0.0795774 (540)\ttotal: 3m 35s\tremaining: 1h 2m 46s\n",
            "560:\tlearn: 0.0706178\ttest: 0.0794115\tbest: 0.0794115 (560)\ttotal: 3m 42s\tremaining: 1h 2m 28s\n",
            "580:\tlearn: 0.0698131\ttest: 0.0790901\tbest: 0.0790252 (575)\ttotal: 3m 51s\tremaining: 1h 2m 26s\n",
            "600:\tlearn: 0.0689651\ttest: 0.0786728\tbest: 0.0786728 (600)\ttotal: 3m 58s\tremaining: 1h 2m 16s\n",
            "620:\tlearn: 0.0683280\ttest: 0.0785785\tbest: 0.0785566 (618)\ttotal: 4m 6s\tremaining: 1h 2m 7s\n",
            "640:\tlearn: 0.0677592\ttest: 0.0785803\tbest: 0.0785502 (624)\ttotal: 4m 15s\tremaining: 1h 2m 7s\n",
            "660:\tlearn: 0.0670183\ttest: 0.0784517\tbest: 0.0784430 (659)\ttotal: 4m 22s\tremaining: 1h 1m 52s\n",
            "680:\tlearn: 0.0665240\ttest: 0.0784267\tbest: 0.0784267 (680)\ttotal: 4m 31s\tremaining: 1h 1m 51s\n",
            "700:\tlearn: 0.0658123\ttest: 0.0781825\tbest: 0.0780872 (693)\ttotal: 4m 38s\tremaining: 1h 1m 35s\n"
          ]
        },
        {
          "output_type": "stream",
          "name": "stderr",
          "text": [
            "\tRan out of time, early stopping on iteration 703.\n"
          ]
        },
        {
          "output_type": "stream",
          "name": "stdout",
          "text": [
            "\n",
            "bestTest = 0.07808722104\n",
            "bestIteration = 693\n",
            "\n",
            "Shrink model to first 694 iterations.\n"
          ]
        },
        {
          "output_type": "stream",
          "name": "stderr",
          "text": [
            "\tCatboost model hyperparameters: {'iterations': 10000, 'learning_rate': 0.05, 'random_seed': 0, 'allow_writing_files': False, 'eval_metric': 'Logloss', 'thread_count': 1}\n"
          ]
        },
        {
          "output_type": "stream",
          "name": "stdout",
          "text": [
            "0:\tlearn: 0.6133212\ttest: 0.6132282\tbest: 0.6132282 (0)\ttotal: 564ms\tremaining: 1h 34m 3s\n",
            "20:\tlearn: 0.1543475\ttest: 0.1530400\tbest: 0.1530400 (20)\ttotal: 8.8s\tremaining: 1h 9m 41s\n",
            "40:\tlearn: 0.1130582\ttest: 0.1105103\tbest: 0.1105103 (40)\ttotal: 16.9s\tremaining: 1h 8m 14s\n",
            "60:\tlearn: 0.1035236\ttest: 0.1016219\tbest: 0.1016219 (60)\ttotal: 24.6s\tremaining: 1h 6m 49s\n",
            "80:\tlearn: 0.0990011\ttest: 0.0983972\tbest: 0.0983972 (80)\ttotal: 33.5s\tremaining: 1h 8m 20s\n",
            "100:\tlearn: 0.0960887\ttest: 0.0965685\tbest: 0.0965685 (100)\ttotal: 40.7s\tremaining: 1h 6m 30s\n",
            "120:\tlearn: 0.0937049\ttest: 0.0948283\tbest: 0.0948283 (120)\ttotal: 49.1s\tremaining: 1h 6m 52s\n",
            "140:\tlearn: 0.0918848\ttest: 0.0936094\tbest: 0.0936094 (140)\ttotal: 56.4s\tremaining: 1h 5m 41s\n",
            "160:\tlearn: 0.0900771\ttest: 0.0924922\tbest: 0.0924922 (160)\ttotal: 1m 4s\tremaining: 1h 5m 56s\n",
            "180:\tlearn: 0.0883470\ttest: 0.0919915\tbest: 0.0919554 (178)\ttotal: 1m 11s\tremaining: 1h 4m 52s\n",
            "200:\tlearn: 0.0867623\ttest: 0.0914847\tbest: 0.0914401 (197)\ttotal: 1m 20s\tremaining: 1h 5m 8s\n",
            "220:\tlearn: 0.0854928\ttest: 0.0909628\tbest: 0.0909628 (220)\ttotal: 1m 27s\tremaining: 1h 4m 34s\n",
            "240:\tlearn: 0.0843865\ttest: 0.0906451\tbest: 0.0906046 (235)\ttotal: 1m 35s\tremaining: 1h 4m 32s\n",
            "260:\tlearn: 0.0830135\ttest: 0.0902265\tbest: 0.0902265 (260)\ttotal: 1m 43s\tremaining: 1h 4m 12s\n",
            "280:\tlearn: 0.0815893\ttest: 0.0900432\tbest: 0.0899650 (272)\ttotal: 1m 51s\tremaining: 1h 4m 16s\n",
            "300:\tlearn: 0.0803979\ttest: 0.0895882\tbest: 0.0895882 (300)\ttotal: 1m 59s\tremaining: 1h 4m 18s\n",
            "320:\tlearn: 0.0791862\ttest: 0.0891557\tbest: 0.0891557 (320)\ttotal: 2m 7s\tremaining: 1h 4m 2s\n",
            "340:\tlearn: 0.0779444\ttest: 0.0888259\tbest: 0.0888259 (340)\ttotal: 2m 15s\tremaining: 1h 4m 10s\n",
            "360:\tlearn: 0.0768117\ttest: 0.0885488\tbest: 0.0885488 (360)\ttotal: 2m 23s\tremaining: 1h 3m 46s\n",
            "380:\tlearn: 0.0757872\ttest: 0.0882647\tbest: 0.0882523 (379)\ttotal: 2m 31s\tremaining: 1h 3m 54s\n",
            "400:\tlearn: 0.0750612\ttest: 0.0881850\tbest: 0.0880992 (396)\ttotal: 2m 39s\tremaining: 1h 3m 29s\n",
            "420:\tlearn: 0.0738553\ttest: 0.0880638\tbest: 0.0880638 (420)\ttotal: 2m 47s\tremaining: 1h 3m 32s\n",
            "440:\tlearn: 0.0729456\ttest: 0.0878753\tbest: 0.0878616 (439)\ttotal: 2m 54s\tremaining: 1h 3m 5s\n",
            "460:\tlearn: 0.0720368\ttest: 0.0877752\tbest: 0.0877125 (453)\ttotal: 3m 3s\tremaining: 1h 3m 12s\n",
            "480:\tlearn: 0.0712231\ttest: 0.0875283\tbest: 0.0875283 (480)\ttotal: 3m 10s\tremaining: 1h 2m 53s\n",
            "500:\tlearn: 0.0705051\ttest: 0.0874790\tbest: 0.0874689 (491)\ttotal: 3m 18s\tremaining: 1h 2m 48s\n",
            "520:\tlearn: 0.0698146\ttest: 0.0875187\tbest: 0.0874527 (501)\ttotal: 3m 26s\tremaining: 1h 2m 41s\n",
            "540:\tlearn: 0.0690932\ttest: 0.0873852\tbest: 0.0873676 (536)\ttotal: 3m 34s\tremaining: 1h 2m 36s\n",
            "560:\tlearn: 0.0680213\ttest: 0.0872126\tbest: 0.0872126 (560)\ttotal: 3m 43s\tremaining: 1h 2m 38s\n",
            "580:\tlearn: 0.0673224\ttest: 0.0871805\tbest: 0.0871179 (573)\ttotal: 3m 50s\tremaining: 1h 2m 19s\n",
            "600:\tlearn: 0.0666400\ttest: 0.0872918\tbest: 0.0871179 (573)\ttotal: 3m 59s\tremaining: 1h 2m 23s\n",
            "620:\tlearn: 0.0659986\ttest: 0.0871532\tbest: 0.0870457 (619)\ttotal: 4m 6s\tremaining: 1h 2m 1s\n",
            "640:\tlearn: 0.0655306\ttest: 0.0871416\tbest: 0.0870457 (619)\ttotal: 4m 14s\tremaining: 1h 2m 1s\n",
            "660:\tlearn: 0.0647677\ttest: 0.0871255\tbest: 0.0870384 (647)\ttotal: 4m 22s\tremaining: 1h 1m 44s\n",
            "680:\tlearn: 0.0641101\ttest: 0.0871092\tbest: 0.0870384 (647)\ttotal: 4m 30s\tremaining: 1h 1m 45s\n",
            "700:\tlearn: 0.0635614\ttest: 0.0871248\tbest: 0.0870384 (647)\ttotal: 4m 38s\tremaining: 1h 1m 31s\n",
            "720:\tlearn: 0.0629413\ttest: 0.0871365\tbest: 0.0870384 (647)\ttotal: 4m 47s\tremaining: 1h 1m 33s\n",
            "740:\tlearn: 0.0624514\ttest: 0.0869724\tbest: 0.0869479 (734)\ttotal: 4m 55s\tremaining: 1h 1m 31s\n",
            "760:\tlearn: 0.0618713\ttest: 0.0868740\tbest: 0.0868617 (759)\ttotal: 5m 3s\tremaining: 1h 1m 19s\n"
          ]
        },
        {
          "output_type": "stream",
          "name": "stderr",
          "text": [
            "\tRan out of time, early stopping on iteration 770.\n"
          ]
        },
        {
          "output_type": "stream",
          "name": "stdout",
          "text": [
            "\n",
            "bestTest = 0.08680458195\n",
            "bestIteration = 769\n",
            "\n",
            "Shrink model to first 770 iterations.\n"
          ]
        },
        {
          "output_type": "stream",
          "name": "stderr",
          "text": [
            "\tCatboost model hyperparameters: {'iterations': 10000, 'learning_rate': 0.05, 'random_seed': 0, 'allow_writing_files': False, 'eval_metric': 'Logloss', 'thread_count': 1}\n"
          ]
        },
        {
          "output_type": "stream",
          "name": "stdout",
          "text": [
            "0:\tlearn: 0.6148589\ttest: 0.6150930\tbest: 0.6150930 (0)\ttotal: 516ms\tremaining: 1h 26m 3s\n",
            "20:\tlearn: 0.1501848\ttest: 0.1557272\tbest: 0.1557272 (20)\ttotal: 8.11s\tremaining: 1h 4m 14s\n",
            "40:\tlearn: 0.1114724\ttest: 0.1219489\tbest: 0.1219489 (40)\ttotal: 16.5s\tremaining: 1h 6m 48s\n",
            "60:\tlearn: 0.1019413\ttest: 0.1144076\tbest: 0.1144076 (60)\ttotal: 23.8s\tremaining: 1h 4m 37s\n",
            "80:\tlearn: 0.0973325\ttest: 0.1115500\tbest: 0.1115500 (80)\ttotal: 32.3s\tremaining: 1h 5m 53s\n",
            "100:\tlearn: 0.0942032\ttest: 0.1096995\tbest: 0.1096995 (100)\ttotal: 39.5s\tremaining: 1h 4m 28s\n",
            "120:\tlearn: 0.0917282\ttest: 0.1083062\tbest: 0.1083062 (120)\ttotal: 48.1s\tremaining: 1h 5m 29s\n",
            "140:\tlearn: 0.0898175\ttest: 0.1074727\tbest: 0.1074727 (140)\ttotal: 55.4s\tremaining: 1h 4m 35s\n",
            "160:\tlearn: 0.0885914\ttest: 0.1070538\tbest: 0.1070538 (160)\ttotal: 1m 3s\tremaining: 1h 4m 47s\n",
            "180:\tlearn: 0.0869277\ttest: 0.1067100\tbest: 0.1066524 (178)\ttotal: 1m 10s\tremaining: 1h 3m 58s\n",
            "200:\tlearn: 0.0851437\ttest: 0.1058341\tbest: 0.1058341 (200)\ttotal: 1m 19s\tremaining: 1h 4m 20s\n",
            "220:\tlearn: 0.0835876\ttest: 0.1054287\tbest: 0.1054211 (216)\ttotal: 1m 26s\tremaining: 1h 4m 2s\n",
            "240:\tlearn: 0.0827374\ttest: 0.1050526\tbest: 0.1050526 (240)\ttotal: 1m 34s\tremaining: 1h 4m 5s\n",
            "260:\tlearn: 0.0813153\ttest: 0.1045863\tbest: 0.1045839 (259)\ttotal: 1m 43s\tremaining: 1h 4m 6s\n",
            "280:\tlearn: 0.0797345\ttest: 0.1042974\tbest: 0.1042889 (278)\ttotal: 1m 50s\tremaining: 1h 3m 52s\n",
            "300:\tlearn: 0.0787344\ttest: 0.1040907\tbest: 0.1040514 (298)\ttotal: 1m 59s\tremaining: 1h 4m 7s\n",
            "320:\tlearn: 0.0775172\ttest: 0.1038440\tbest: 0.1038440 (320)\ttotal: 2m 6s\tremaining: 1h 3m 46s\n",
            "340:\tlearn: 0.0764950\ttest: 0.1036802\tbest: 0.1036696 (338)\ttotal: 2m 15s\tremaining: 1h 4m 9s\n",
            "360:\tlearn: 0.0752716\ttest: 0.1032619\tbest: 0.1032619 (360)\ttotal: 2m 23s\tremaining: 1h 3m 56s\n",
            "380:\tlearn: 0.0740954\ttest: 0.1029332\tbest: 0.1029238 (373)\ttotal: 2m 32s\tremaining: 1h 4m 2s\n",
            "400:\tlearn: 0.0732137\ttest: 0.1027699\tbest: 0.1027686 (399)\ttotal: 2m 39s\tremaining: 1h 3m 46s\n",
            "420:\tlearn: 0.0723104\ttest: 0.1026126\tbest: 0.1026126 (420)\ttotal: 2m 48s\tremaining: 1h 3m 52s\n",
            "440:\tlearn: 0.0713081\ttest: 0.1024758\tbest: 0.1024188 (431)\ttotal: 2m 56s\tremaining: 1h 3m 53s\n",
            "460:\tlearn: 0.0706130\ttest: 0.1022566\tbest: 0.1021683 (458)\ttotal: 3m 4s\tremaining: 1h 3m 39s\n",
            "480:\tlearn: 0.0699806\ttest: 0.1023767\tbest: 0.1021683 (458)\ttotal: 3m 13s\tremaining: 1h 3m 48s\n",
            "500:\tlearn: 0.0692278\ttest: 0.1021867\tbest: 0.1021140 (494)\ttotal: 3m 21s\tremaining: 1h 3m 31s\n",
            "520:\tlearn: 0.0685282\ttest: 0.1019618\tbest: 0.1019199 (519)\ttotal: 3m 29s\tremaining: 1h 3m 37s\n",
            "540:\tlearn: 0.0676598\ttest: 0.1018446\tbest: 0.1017830 (536)\ttotal: 3m 37s\tremaining: 1h 3m 15s\n",
            "560:\tlearn: 0.0671472\ttest: 0.1016816\tbest: 0.1016689 (558)\ttotal: 3m 45s\tremaining: 1h 3m 18s\n",
            "580:\tlearn: 0.0662400\ttest: 0.1014123\tbest: 0.1013747 (578)\ttotal: 3m 53s\tremaining: 1h 3m 9s\n",
            "600:\tlearn: 0.0656627\ttest: 0.1012440\tbest: 0.1011933 (593)\ttotal: 4m 1s\tremaining: 1h 3m\n",
            "620:\tlearn: 0.0649240\ttest: 0.1010913\tbest: 0.1010913 (620)\ttotal: 4m 10s\tremaining: 1h 2m 58s\n",
            "640:\tlearn: 0.0645111\ttest: 0.1009773\tbest: 0.1009773 (640)\ttotal: 4m 17s\tremaining: 1h 2m 43s\n",
            "660:\tlearn: 0.0639931\ttest: 0.1009059\tbest: 0.1009004 (659)\ttotal: 4m 26s\tremaining: 1h 2m 44s\n",
            "680:\tlearn: 0.0634260\ttest: 0.1007569\tbest: 0.1007441 (679)\ttotal: 4m 33s\tremaining: 1h 2m 25s\n",
            "700:\tlearn: 0.0627482\ttest: 0.1007184\tbest: 0.1007004 (697)\ttotal: 4m 42s\tremaining: 1h 2m 25s\n",
            "720:\tlearn: 0.0621171\ttest: 0.1006452\tbest: 0.1006452 (720)\ttotal: 4m 49s\tremaining: 1h 2m 9s\n",
            "740:\tlearn: 0.0616369\ttest: 0.1004610\tbest: 0.1004028 (736)\ttotal: 4m 58s\tremaining: 1h 2m 9s\n",
            "760:\tlearn: 0.0609373\ttest: 0.1002205\tbest: 0.1001964 (758)\ttotal: 5m 6s\tremaining: 1h 1m 56s\n",
            "780:\tlearn: 0.0604294\ttest: 0.1000569\tbest: 0.1000107 (770)\ttotal: 5m 14s\tremaining: 1h 1m 48s\n",
            "800:\tlearn: 0.0599952\ttest: 0.0997921\tbest: 0.0997909 (799)\ttotal: 5m 22s\tremaining: 1h 1m 43s\n",
            "820:\tlearn: 0.0596326\ttest: 0.0998192\tbest: 0.0997864 (812)\ttotal: 5m 29s\tremaining: 1h 1m 29s\n",
            "840:\tlearn: 0.0591509\ttest: 0.0996433\tbest: 0.0996433 (840)\ttotal: 5m 38s\tremaining: 1h 1m 28s\n",
            "860:\tlearn: 0.0584246\ttest: 0.0993095\tbest: 0.0992900 (859)\ttotal: 5m 45s\tremaining: 1h 1m 12s\n",
            "880:\tlearn: 0.0578548\ttest: 0.0992149\tbest: 0.0991583 (874)\ttotal: 5m 54s\tremaining: 1h 1m 13s\n",
            "900:\tlearn: 0.0574265\ttest: 0.0993140\tbest: 0.0991583 (874)\ttotal: 6m 2s\tremaining: 1h 57s\n"
          ]
        },
        {
          "output_type": "stream",
          "name": "stderr",
          "text": [
            "\tRan out of time, early stopping on iteration 912.\n"
          ]
        },
        {
          "output_type": "stream",
          "name": "stdout",
          "text": [
            "\n",
            "bestTest = 0.09915831766\n",
            "bestIteration = 874\n",
            "\n",
            "Shrink model to first 875 iterations.\n"
          ]
        },
        {
          "output_type": "stream",
          "name": "stderr",
          "text": [
            "Saving /content/drive/My Drive/Colab Notebooks/Assignment2/AutoGluonModels/models/CatBoost_BAG_L1/utils/oof.pkl\n",
            "Saving /content/drive/My Drive/Colab Notebooks/Assignment2/AutoGluonModels/models/CatBoost_BAG_L1/model.pkl\n",
            "\t0.8898\t = Validation score   (roc_auc)\n",
            "\t2177.31s\t = Training   runtime\n",
            "\t0.78s\t = Validation runtime\n",
            "\t4710.0\t = Inference  throughput (rows/s | 3691 batch size)\n",
            "Saving /content/drive/My Drive/Colab Notebooks/Assignment2/AutoGluonModels/models/trainer.pkl\n",
            "Fitting model: ExtraTreesGini_BAG_L1 ... Training model for up to 91.32s of the 91.25s of remaining time.\n",
            "\tFitting ExtraTreesGini_BAG_L1 with 'num_gpus': 0, 'num_cpus': 2\n",
            "Saving /content/drive/My Drive/Colab Notebooks/Assignment2/AutoGluonModels/models/ExtraTreesGini_BAG_L1/utils/model_template.pkl\n",
            "Loading: /content/drive/My Drive/Colab Notebooks/Assignment2/AutoGluonModels/models/ExtraTreesGini_BAG_L1/utils/model_template.pkl\n",
            "\t7.94s\t= Estimated out-of-fold prediction time...\n",
            "\t`use_child_oof` was specified for this model. It will function similarly to a bagged model, but will only fit one child model.\n",
            "Saving /content/drive/My Drive/Colab Notebooks/Assignment2/AutoGluonModels/models/ExtraTreesGini_BAG_L1/utils/oof.pkl\n",
            "Saving /content/drive/My Drive/Colab Notebooks/Assignment2/AutoGluonModels/models/ExtraTreesGini_BAG_L1/model.pkl\n",
            "\t0.8578\t = Validation score   (roc_auc)\n",
            "\t19.04s\t = Training   runtime\n",
            "\t11.1s\t = Validation runtime\n",
            "\t2659.4\t = Inference  throughput (rows/s | 29527 batch size)\n",
            "Saving /content/drive/My Drive/Colab Notebooks/Assignment2/AutoGluonModels/models/trainer.pkl\n",
            "Fitting model: ExtraTreesEntr_BAG_L1 ... Training model for up to 58.87s of the 58.8s of remaining time.\n",
            "\tFitting ExtraTreesEntr_BAG_L1 with 'num_gpus': 0, 'num_cpus': 2\n",
            "Saving /content/drive/My Drive/Colab Notebooks/Assignment2/AutoGluonModels/models/ExtraTreesEntr_BAG_L1/utils/model_template.pkl\n",
            "Loading: /content/drive/My Drive/Colab Notebooks/Assignment2/AutoGluonModels/models/ExtraTreesEntr_BAG_L1/utils/model_template.pkl\n",
            "\t7.01s\t= Estimated out-of-fold prediction time...\n",
            "\t`use_child_oof` was specified for this model. It will function similarly to a bagged model, but will only fit one child model.\n",
            "Saving /content/drive/My Drive/Colab Notebooks/Assignment2/AutoGluonModels/models/ExtraTreesEntr_BAG_L1/utils/oof.pkl\n",
            "Saving /content/drive/My Drive/Colab Notebooks/Assignment2/AutoGluonModels/models/ExtraTreesEntr_BAG_L1/model.pkl\n",
            "\t0.8628\t = Validation score   (roc_auc)\n",
            "\t20.28s\t = Training   runtime\n",
            "\t11.22s\t = Validation runtime\n",
            "\t2632.0\t = Inference  throughput (rows/s | 29527 batch size)\n",
            "Saving /content/drive/My Drive/Colab Notebooks/Assignment2/AutoGluonModels/models/trainer.pkl\n",
            "Fitting model: NeuralNetFastAI_BAG_L1 ... Training model for up to 24.97s of the 24.9s of remaining time.\n",
            "\tFitting NeuralNetFastAI_BAG_L1 with 'num_gpus': 0, 'num_cpus': 2\n",
            "Saving /content/drive/My Drive/Colab Notebooks/Assignment2/AutoGluonModels/models/NeuralNetFastAI_BAG_L1/utils/model_template.pkl\n",
            "Loading: /content/drive/My Drive/Colab Notebooks/Assignment2/AutoGluonModels/models/NeuralNetFastAI_BAG_L1/utils/model_template.pkl\n",
            "\tFitting 8 child models (S1F1 - S1F8) | Fitting with SequentialLocalFoldFittingStrategy\n",
            "\tWarning: Exception caused NeuralNetFastAI_BAG_L1 to fail during training... Skipping this model.\n",
            "\t\tpartially initialized module 'charset_normalizer' has no attribute 'md__mypyc' (most likely due to a circular import)\n",
            "Detailed Traceback:\n",
            "Traceback (most recent call last):\n",
            "  File \"/usr/local/lib/python3.10/dist-packages/autogluon/core/trainer/abstract_trainer.py\", line 1904, in _train_and_save\n",
            "    model = self._train_single(X, y, model, X_val, y_val, total_resources=total_resources, **model_fit_kwargs)\n",
            "  File \"/usr/local/lib/python3.10/dist-packages/autogluon/core/trainer/abstract_trainer.py\", line 1844, in _train_single\n",
            "    model = model.fit(X=X, y=y, X_val=X_val, y_val=y_val, total_resources=total_resources, **model_fit_kwargs)\n",
            "  File \"/usr/local/lib/python3.10/dist-packages/autogluon/core/models/abstract/abstract_model.py\", line 856, in fit\n",
            "    out = self._fit(**kwargs)\n",
            "  File \"/usr/local/lib/python3.10/dist-packages/autogluon/core/models/ensemble/stacker_ensemble_model.py\", line 165, in _fit\n",
            "    return super()._fit(X=X, y=y, time_limit=time_limit, **kwargs)\n",
            "  File \"/usr/local/lib/python3.10/dist-packages/autogluon/core/models/ensemble/bagged_ensemble_model.py\", line 288, in _fit\n",
            "    self._fit_folds(\n",
            "  File \"/usr/local/lib/python3.10/dist-packages/autogluon/core/models/ensemble/bagged_ensemble_model.py\", line 714, in _fit_folds\n",
            "    fold_fitting_strategy.after_all_folds_scheduled()\n",
            "  File \"/usr/local/lib/python3.10/dist-packages/autogluon/core/models/ensemble/fold_fitting_strategy.py\", line 308, in after_all_folds_scheduled\n",
            "    self._fit_fold_model(job)\n",
            "  File \"/usr/local/lib/python3.10/dist-packages/autogluon/core/models/ensemble/fold_fitting_strategy.py\", line 313, in _fit_fold_model\n",
            "    fold_model = self._fit(self.model_base, time_start_fold, time_limit_fold, fold_ctx, self.model_base_kwargs)\n",
            "  File \"/usr/local/lib/python3.10/dist-packages/autogluon/core/models/ensemble/fold_fitting_strategy.py\", line 349, in _fit\n",
            "    fold_model.fit(X=X_fold, y=y_fold, X_val=X_val_fold, y_val=y_val_fold, time_limit=time_limit_fold, num_cpus=num_cpus, num_gpus=num_gpus, **kwargs_fold)\n",
            "  File \"/usr/local/lib/python3.10/dist-packages/autogluon/core/models/abstract/abstract_model.py\", line 856, in fit\n",
            "    out = self._fit(**kwargs)\n",
            "  File \"/usr/local/lib/python3.10/dist-packages/autogluon/tabular/models/fastainn/tabular_nn_fastai.py\", line 213, in _fit\n",
            "    try_import_fastai()\n",
            "  File \"/usr/local/lib/python3.10/dist-packages/autogluon/common/utils/try_import.py\", line 119, in try_import_fastai\n",
            "    import autogluon.tabular.models.fastainn.imports_helper\n",
            "  File \"/usr/local/lib/python3.10/dist-packages/autogluon/tabular/models/fastainn/imports_helper.py\", line 1, in <module>\n",
            "    from fastai.tabular.all import *\n",
            "  File \"/usr/local/lib/python3.10/dist-packages/fastai/tabular/all.py\", line 1, in <module>\n",
            "    from ..basics import *\n",
            "  File \"/usr/local/lib/python3.10/dist-packages/fastai/basics.py\", line 1, in <module>\n",
            "    from .data.all import *\n",
            "  File \"/usr/local/lib/python3.10/dist-packages/fastai/data/all.py\", line 1, in <module>\n",
            "    from ..torch_basics import *\n",
            "  File \"/usr/local/lib/python3.10/dist-packages/fastai/torch_basics.py\", line 9, in <module>\n",
            "    from .imports import *\n",
            "  File \"/usr/local/lib/python3.10/dist-packages/fastai/imports.py\", line 26, in <module>\n",
            "    import requests,yaml,matplotlib.pyplot as plt,pandas as pd,scipy\n",
            "  File \"/usr/local/lib/python3.10/dist-packages/requests/__init__.py\", line 48, in <module>\n",
            "    from charset_normalizer import __version__ as charset_normalizer_version\n",
            "  File \"/usr/local/lib/python3.10/dist-packages/charset_normalizer/__init__.py\", line 24, in <module>\n",
            "    from .api import from_bytes, from_fp, from_path, is_binary\n",
            "  File \"/usr/local/lib/python3.10/dist-packages/charset_normalizer/api.py\", line 5, in <module>\n",
            "    from .cd import (\n",
            "  File \"/usr/local/lib/python3.10/dist-packages/charset_normalizer/cd.py\", line 14, in <module>\n",
            "    from .md import is_suspiciously_successive_range\n",
            "AttributeError: partially initialized module 'charset_normalizer' has no attribute 'md__mypyc' (most likely due to a circular import)\n",
            "Loading: /content/drive/My Drive/Colab Notebooks/Assignment2/AutoGluonModels/models/NeuralNetFastAI_BAG_L1/utils/model_template.pkl\n",
            "Saving /content/drive/My Drive/Colab Notebooks/Assignment2/AutoGluonModels/models/trainer.pkl\n",
            "Fitting model: XGBoost_BAG_L1 ... Training model for up to 23.03s of the 22.96s of remaining time.\n",
            "\tFitting XGBoost_BAG_L1 with 'num_gpus': 0, 'num_cpus': 2\n",
            "Saving /content/drive/My Drive/Colab Notebooks/Assignment2/AutoGluonModels/models/XGBoost_BAG_L1/utils/model_template.pkl\n",
            "Loading: /content/drive/My Drive/Colab Notebooks/Assignment2/AutoGluonModels/models/XGBoost_BAG_L1/utils/model_template.pkl\n",
            "\tFitting 8 child models (S1F1 - S1F8) | Fitting with SequentialLocalFoldFittingStrategy\n",
            "Ran out of time, early stopping on iteration 0. Best iteration is: \t[0]\t0.19778908754034566\n",
            "\tTime limit exceeded... Skipping XGBoost_BAG_L1.\n",
            "Loading: /content/drive/My Drive/Colab Notebooks/Assignment2/AutoGluonModels/models/XGBoost_BAG_L1/utils/model_template.pkl\n",
            "Saving /content/drive/My Drive/Colab Notebooks/Assignment2/AutoGluonModels/models/trainer.pkl\n",
            "Fitting model: NeuralNetTorch_BAG_L1 ... Training model for up to 18.23s of the 18.16s of remaining time.\n",
            "\tFitting NeuralNetTorch_BAG_L1 with 'num_gpus': 0, 'num_cpus': 2\n",
            "Saving /content/drive/My Drive/Colab Notebooks/Assignment2/AutoGluonModels/models/NeuralNetTorch_BAG_L1/utils/model_template.pkl\n",
            "Loading: /content/drive/My Drive/Colab Notebooks/Assignment2/AutoGluonModels/models/NeuralNetTorch_BAG_L1/utils/model_template.pkl\n",
            "\tFitting 8 child models (S1F1 - S1F8) | Fitting with SequentialLocalFoldFittingStrategy\n",
            "Tabular Neural Network treats features as the following types:\n",
            "{\n",
            "    \"continuous\": [\n",
            "        \"TransactionID\",\n",
            "        \"TransactionDT\",\n",
            "        \"card1\",\n",
            "        \"card2\",\n",
            "        \"addr1\",\n",
            "        \"D9\",\n",
            "        \"D15\",\n",
            "        \"V4\",\n",
            "        \"V5\",\n",
            "        \"V10\",\n",
            "        \"V11\",\n",
            "        \"V12\",\n",
            "        \"V13\",\n",
            "        \"V19\",\n",
            "        \"V20\",\n",
            "        \"V29\",\n",
            "        \"V35\",\n",
            "        \"V36\",\n",
            "        \"V48\",\n",
            "        \"V53\",\n",
            "        \"V54\",\n",
            "        \"V61\",\n",
            "        \"V62\",\n",
            "        \"V69\",\n",
            "        \"V75\",\n",
            "        \"V76\",\n",
            "        \"V82\",\n",
            "        \"V83\",\n",
            "        \"V90\",\n",
            "        \"V153\",\n",
            "        \"V154\",\n",
            "        \"V194\",\n",
            "        \"V250\",\n",
            "        \"V251\",\n",
            "        \"id_07\",\n",
            "        \"id_08\",\n",
            "        \"id_17\",\n",
            "        \"id_19\",\n",
            "        \"id_20\",\n",
            "        \"id_25\",\n",
            "        \"id_26\",\n",
            "        \"id_32\"\n",
            "    ],\n",
            "    \"skewed\": [\n",
            "        \"TransactionAmt\",\n",
            "        \"card3\",\n",
            "        \"card5\",\n",
            "        \"addr2\",\n",
            "        \"dist1\",\n",
            "        \"dist2\",\n",
            "        \"C1\",\n",
            "        \"C2\",\n",
            "        \"C3\",\n",
            "        \"C4\",\n",
            "        \"C5\",\n",
            "        \"C6\",\n",
            "        \"C7\",\n",
            "        \"C8\",\n",
            "        \"C9\",\n",
            "        \"C10\",\n",
            "        \"C11\",\n",
            "        \"C12\",\n",
            "        \"C13\",\n",
            "        \"C14\",\n",
            "        \"D1\",\n",
            "        \"D2\",\n",
            "        \"D3\",\n",
            "        \"D4\",\n",
            "        \"D5\",\n",
            "        \"D6\",\n",
            "        \"D7\",\n",
            "        \"D8\",\n",
            "        \"D10\",\n",
            "        \"D11\",\n",
            "        \"D12\",\n",
            "        \"D13\",\n",
            "        \"D14\",\n",
            "        \"V1\",\n",
            "        \"V2\",\n",
            "        \"V3\",\n",
            "        \"V6\",\n",
            "        \"V7\",\n",
            "        \"V8\",\n",
            "        \"V9\",\n",
            "        \"V14\",\n",
            "        \"V15\",\n",
            "        \"V16\",\n",
            "        \"V17\",\n",
            "        \"V18\",\n",
            "        \"V21\",\n",
            "        \"V22\",\n",
            "        \"V23\",\n",
            "        \"V24\",\n",
            "        \"V25\",\n",
            "        \"V26\",\n",
            "        \"V27\",\n",
            "        \"V30\",\n",
            "        \"V31\",\n",
            "        \"V32\",\n",
            "        \"V33\",\n",
            "        \"V34\",\n",
            "        \"V37\",\n",
            "        \"V38\",\n",
            "        \"V39\",\n",
            "        \"V40\",\n",
            "        \"V41\",\n",
            "        \"V42\",\n",
            "        \"V43\",\n",
            "        \"V44\",\n",
            "        \"V45\",\n",
            "        \"V46\",\n",
            "        \"V47\",\n",
            "        \"V49\",\n",
            "        \"V50\",\n",
            "        \"V51\",\n",
            "        \"V52\",\n",
            "        \"V55\",\n",
            "        \"V56\",\n",
            "        \"V57\",\n",
            "        \"V58\",\n",
            "        \"V59\",\n",
            "        \"V60\",\n",
            "        \"V63\",\n",
            "        \"V64\",\n",
            "        \"V65\",\n",
            "        \"V66\",\n",
            "        \"V67\",\n",
            "        \"V68\",\n",
            "        \"V70\",\n",
            "        \"V71\",\n",
            "        \"V72\",\n",
            "        \"V73\",\n",
            "        \"V74\",\n",
            "        \"V77\",\n",
            "        \"V78\",\n",
            "        \"V79\",\n",
            "        \"V80\",\n",
            "        \"V81\",\n",
            "        \"V84\",\n",
            "        \"V85\",\n",
            "        \"V86\",\n",
            "        \"V87\",\n",
            "        \"V88\",\n",
            "        \"V89\",\n",
            "        \"V91\",\n",
            "        \"V92\",\n",
            "        \"V93\",\n",
            "        \"V94\",\n",
            "        \"V95\",\n",
            "        \"V96\",\n",
            "        \"V97\",\n",
            "        \"V98\",\n",
            "        \"V99\",\n",
            "        \"V100\",\n",
            "        \"V101\",\n",
            "        \"V102\",\n",
            "        \"V103\",\n",
            "        \"V104\",\n",
            "        \"V105\",\n",
            "        \"V106\",\n",
            "        \"V107\",\n",
            "        \"V108\",\n",
            "        \"V109\",\n",
            "        \"V110\",\n",
            "        \"V111\",\n",
            "        \"V112\",\n",
            "        \"V113\",\n",
            "        \"V114\",\n",
            "        \"V115\",\n",
            "        \"V116\",\n",
            "        \"V117\",\n",
            "        \"V118\",\n",
            "        \"V119\",\n",
            "        \"V120\",\n",
            "        \"V121\",\n",
            "        \"V122\",\n",
            "        \"V123\",\n",
            "        \"V124\",\n",
            "        \"V125\",\n",
            "        \"V126\",\n",
            "        \"V127\",\n",
            "        \"V128\",\n",
            "        \"V129\",\n",
            "        \"V130\",\n",
            "        \"V131\",\n",
            "        \"V132\",\n",
            "        \"V133\",\n",
            "        \"V134\",\n",
            "        \"V135\",\n",
            "        \"V136\",\n",
            "        \"V137\",\n",
            "        \"V138\",\n",
            "        \"V139\",\n",
            "        \"V140\",\n",
            "        \"V141\",\n",
            "        \"V142\",\n",
            "        \"V143\",\n",
            "        \"V144\",\n",
            "        \"V145\",\n",
            "        \"V146\",\n",
            "        \"V147\",\n",
            "        \"V148\",\n",
            "        \"V149\",\n",
            "        \"V150\",\n",
            "        \"V151\",\n",
            "        \"V152\",\n",
            "        \"V155\",\n",
            "        \"V156\",\n",
            "        \"V157\",\n",
            "        \"V158\",\n",
            "        \"V159\",\n",
            "        \"V160\",\n",
            "        \"V161\",\n",
            "        \"V162\",\n",
            "        \"V163\",\n",
            "        \"V164\",\n",
            "        \"V165\",\n",
            "        \"V166\",\n",
            "        \"V167\",\n",
            "        \"V168\",\n",
            "        \"V169\",\n",
            "        \"V170\",\n",
            "        \"V171\",\n",
            "        \"V172\",\n",
            "        \"V173\",\n",
            "        \"V174\",\n",
            "        \"V175\",\n",
            "        \"V176\",\n",
            "        \"V177\",\n",
            "        \"V178\",\n",
            "        \"V179\",\n",
            "        \"V180\",\n",
            "        \"V181\",\n",
            "        \"V182\",\n",
            "        \"V183\",\n",
            "        \"V184\",\n",
            "        \"V185\",\n",
            "        \"V186\",\n",
            "        \"V187\",\n",
            "        \"V188\",\n",
            "        \"V189\",\n",
            "        \"V190\",\n",
            "        \"V191\",\n",
            "        \"V192\",\n",
            "        \"V193\",\n",
            "        \"V195\",\n",
            "        \"V196\",\n",
            "        \"V197\",\n",
            "        \"V198\",\n",
            "        \"V199\",\n",
            "        \"V200\",\n",
            "        \"V201\",\n",
            "        \"V202\",\n",
            "        \"V203\",\n",
            "        \"V204\",\n",
            "        \"V205\",\n",
            "        \"V206\",\n",
            "        \"V207\",\n",
            "        \"V208\",\n",
            "        \"V209\",\n",
            "        \"V210\",\n",
            "        \"V211\",\n",
            "        \"V212\",\n",
            "        \"V213\",\n",
            "        \"V214\",\n",
            "        \"V215\",\n",
            "        \"V216\",\n",
            "        \"V217\",\n",
            "        \"V218\",\n",
            "        \"V219\",\n",
            "        \"V220\",\n",
            "        \"V221\",\n",
            "        \"V222\",\n",
            "        \"V223\",\n",
            "        \"V224\",\n",
            "        \"V225\",\n",
            "        \"V226\",\n",
            "        \"V227\",\n",
            "        \"V228\",\n",
            "        \"V229\",\n",
            "        \"V230\",\n",
            "        \"V231\",\n",
            "        \"V232\",\n",
            "        \"V233\",\n",
            "        \"V234\",\n",
            "        \"V235\",\n",
            "        \"V236\",\n",
            "        \"V237\",\n",
            "        \"V238\",\n",
            "        \"V239\",\n",
            "        \"V240\",\n",
            "        \"V242\",\n",
            "        \"V243\",\n",
            "        \"V244\",\n",
            "        \"V245\",\n",
            "        \"V246\",\n",
            "        \"V247\",\n",
            "        \"V248\",\n",
            "        \"V249\",\n",
            "        \"V252\",\n",
            "        \"V253\",\n",
            "        \"V254\",\n",
            "        \"V255\",\n",
            "        \"V256\",\n",
            "        \"V257\",\n",
            "        \"V258\",\n",
            "        \"V259\",\n",
            "        \"V260\",\n",
            "        \"V261\",\n",
            "        \"V262\",\n",
            "        \"V263\",\n",
            "        \"V264\",\n",
            "        \"V265\",\n",
            "        \"V266\",\n",
            "        \"V267\",\n",
            "        \"V268\",\n",
            "        \"V269\",\n",
            "        \"V270\",\n",
            "        \"V271\",\n",
            "        \"V272\",\n",
            "        \"V273\",\n",
            "        \"V274\",\n",
            "        \"V275\",\n",
            "        \"V276\",\n",
            "        \"V277\",\n",
            "        \"V278\",\n",
            "        \"V279\",\n",
            "        \"V280\",\n",
            "        \"V281\",\n",
            "        \"V282\",\n",
            "        \"V283\",\n",
            "        \"V284\",\n",
            "        \"V285\",\n",
            "        \"V286\",\n",
            "        \"V287\",\n",
            "        \"V288\",\n",
            "        \"V289\",\n",
            "        \"V290\",\n",
            "        \"V291\",\n",
            "        \"V292\",\n",
            "        \"V293\",\n",
            "        \"V294\",\n",
            "        \"V295\",\n",
            "        \"V296\",\n",
            "        \"V297\",\n",
            "        \"V298\",\n",
            "        \"V299\",\n",
            "        \"V300\",\n",
            "        \"V301\",\n",
            "        \"V302\",\n",
            "        \"V303\",\n",
            "        \"V304\",\n",
            "        \"V306\",\n",
            "        \"V307\",\n",
            "        \"V308\",\n",
            "        \"V309\",\n",
            "        \"V310\",\n",
            "        \"V311\",\n",
            "        \"V312\",\n",
            "        \"V313\",\n",
            "        \"V314\",\n",
            "        \"V315\",\n",
            "        \"V316\",\n",
            "        \"V317\",\n",
            "        \"V318\",\n",
            "        \"V319\",\n",
            "        \"V320\",\n",
            "        \"V321\",\n",
            "        \"V322\",\n",
            "        \"V323\",\n",
            "        \"V324\",\n",
            "        \"V325\",\n",
            "        \"V326\",\n",
            "        \"V327\",\n",
            "        \"V328\",\n",
            "        \"V329\",\n",
            "        \"V330\",\n",
            "        \"V331\",\n",
            "        \"V332\",\n",
            "        \"V333\",\n",
            "        \"V334\",\n",
            "        \"V335\",\n",
            "        \"V336\",\n",
            "        \"V337\",\n",
            "        \"V338\",\n",
            "        \"V339\",\n",
            "        \"id_01\",\n",
            "        \"id_02\",\n",
            "        \"id_03\",\n",
            "        \"id_04\",\n",
            "        \"id_05\",\n",
            "        \"id_06\",\n",
            "        \"id_09\",\n",
            "        \"id_10\",\n",
            "        \"id_11\",\n",
            "        \"id_13\",\n",
            "        \"id_14\",\n",
            "        \"id_18\",\n",
            "        \"id_21\",\n",
            "        \"id_22\",\n",
            "        \"id_24\"\n",
            "    ],\n",
            "    \"onehot\": [\n",
            "        \"card6\",\n",
            "        \"M1\",\n",
            "        \"M2\",\n",
            "        \"M3\",\n",
            "        \"M5\",\n",
            "        \"M6\",\n",
            "        \"M7\",\n",
            "        \"M8\",\n",
            "        \"M9\",\n",
            "        \"id_12\",\n",
            "        \"id_16\",\n",
            "        \"id_27\",\n",
            "        \"id_28\",\n",
            "        \"id_29\",\n",
            "        \"id_35\",\n",
            "        \"id_36\",\n",
            "        \"id_37\",\n",
            "        \"id_38\",\n",
            "        \"DeviceType\"\n",
            "    ],\n",
            "    \"embed\": [\n",
            "        \"ProductCD\",\n",
            "        \"card4\",\n",
            "        \"P_emaildomain\",\n",
            "        \"R_emaildomain\",\n",
            "        \"M4\",\n",
            "        \"id_15\",\n",
            "        \"id_23\",\n",
            "        \"id_30\",\n",
            "        \"id_31\",\n",
            "        \"id_33\",\n",
            "        \"id_34\",\n",
            "        \"DeviceInfo\"\n",
            "    ],\n",
            "    \"language\": [],\n",
            "    \"bool\": []\n",
            "}\n",
            "\n",
            "\n",
            "Training data for TabularNeuralNetTorchModel has: 25836 examples, 430 features (418 vector, 12 embedding)\n",
            "Training on CPU\n",
            "\tTime limit exceeded... Skipping NeuralNetTorch_BAG_L1.\n",
            "Loading: /content/drive/My Drive/Colab Notebooks/Assignment2/AutoGluonModels/models/NeuralNetTorch_BAG_L1/utils/model_template.pkl\n",
            "Saving /content/drive/My Drive/Colab Notebooks/Assignment2/AutoGluonModels/models/trainer.pkl\n",
            "Skipping LightGBMLarge_BAG_L1 due to lack of time remaining.\n",
            "Saving /content/drive/My Drive/Colab Notebooks/Assignment2/AutoGluonModels/models/trainer.pkl\n",
            "Loading: /content/drive/My Drive/Colab Notebooks/Assignment2/AutoGluonModels/models/LightGBMXT_BAG_L1/utils/oof.pkl\n",
            "Loading: /content/drive/My Drive/Colab Notebooks/Assignment2/AutoGluonModels/models/LightGBM_BAG_L1/utils/oof.pkl\n",
            "Loading: /content/drive/My Drive/Colab Notebooks/Assignment2/AutoGluonModels/models/RandomForestGini_BAG_L1/utils/oof.pkl\n",
            "Loading: /content/drive/My Drive/Colab Notebooks/Assignment2/AutoGluonModels/models/RandomForestEntr_BAG_L1/utils/oof.pkl\n",
            "Loading: /content/drive/My Drive/Colab Notebooks/Assignment2/AutoGluonModels/models/CatBoost_BAG_L1/utils/oof.pkl\n",
            "Loading: /content/drive/My Drive/Colab Notebooks/Assignment2/AutoGluonModels/models/ExtraTreesGini_BAG_L1/utils/oof.pkl\n",
            "Loading: /content/drive/My Drive/Colab Notebooks/Assignment2/AutoGluonModels/models/ExtraTreesEntr_BAG_L1/utils/oof.pkl\n",
            "Model configs that will be trained (in order):\n",
            "\tWeightedEnsemble_L2: \t{'ag_args': {'valid_base': False, 'name_bag_suffix': '', 'model_type': <class 'autogluon.core.models.greedy_ensemble.greedy_weighted_ensemble_model.GreedyWeightedEnsembleModel'>, 'priority': 0}, 'ag_args_ensemble': {'save_bag_folds': False}}\n",
            "Fitting model: WeightedEnsemble_L2 ... Training model for up to 360.0s of the 8.81s of remaining time.\n",
            "\tFitting WeightedEnsemble_L2 with 'num_gpus': 0, 'num_cpus': 2\n",
            "Saving /content/drive/My Drive/Colab Notebooks/Assignment2/AutoGluonModels/models/WeightedEnsemble_L2/utils/model_template.pkl\n",
            "Loading: /content/drive/My Drive/Colab Notebooks/Assignment2/AutoGluonModels/models/WeightedEnsemble_L2/utils/model_template.pkl\n",
            "Ensemble size: 23\n",
            "Ensemble weights: \n",
            "[0.34782609 0.43478261 0.         0.08695652 0.13043478 0.\n",
            " 0.        ]\n",
            "\t0.26s\t= Estimated out-of-fold prediction time...\n",
            "Saving /content/drive/My Drive/Colab Notebooks/Assignment2/AutoGluonModels/models/WeightedEnsemble_L2/utils/oof.pkl\n",
            "Saving /content/drive/My Drive/Colab Notebooks/Assignment2/AutoGluonModels/models/WeightedEnsemble_L2/model.pkl\n",
            "\tEnsemble Weights: {'LightGBM_BAG_L1': 0.435, 'LightGBMXT_BAG_L1': 0.348, 'CatBoost_BAG_L1': 0.13, 'RandomForestEntr_BAG_L1': 0.087}\n",
            "\t0.9035\t = Validation score   (roc_auc)\n",
            "\t1.4s\t = Training   runtime\n",
            "\t0.01s\t = Validation runtime\n",
            "\t750.3\t = Inference  throughput (rows/s | 3691 batch size)\n",
            "Saving /content/drive/My Drive/Colab Notebooks/Assignment2/AutoGluonModels/models/trainer.pkl\n",
            "Saving /content/drive/My Drive/Colab Notebooks/Assignment2/AutoGluonModels/models/trainer.pkl\n",
            "Saving /content/drive/My Drive/Colab Notebooks/Assignment2/AutoGluonModels/models/trainer.pkl\n",
            "AutoGluon training complete, total runtime = 2626.01s ... Best model: WeightedEnsemble_L2 | Estimated inference throughput: 750.3 rows/s (3691 batch size)\n",
            "Loading: /content/drive/My Drive/Colab Notebooks/Assignment2/AutoGluonModels/models/trainer.pkl\n",
            "Automatically performing refit_full as a post-fit operation (due to `.fit(..., refit_full=True)`\n",
            "Refitting models via `predictor.refit_full` using all of the data (combined train and validation)...\n",
            "\tModels trained in this way will have the suffix \"_FULL\" and have NaN validation score.\n",
            "\tThis process is not bound by time_limit, but should take less time than the original `predictor.fit` call.\n",
            "\tTo learn more, refer to the `.refit_full` method docstring which explains how \"_FULL\" models differ from normal models.\n",
            "Loading: /content/drive/My Drive/Colab Notebooks/Assignment2/AutoGluonModels/utils/data/X.pkl\n",
            "Loading: /content/drive/My Drive/Colab Notebooks/Assignment2/AutoGluonModels/utils/data/y.pkl\n",
            "Loading: /content/drive/My Drive/Colab Notebooks/Assignment2/AutoGluonModels/models/LightGBMXT_BAG_L1/model.pkl\n",
            "Loading: /content/drive/My Drive/Colab Notebooks/Assignment2/AutoGluonModels/models/LightGBMXT_BAG_L1/utils/model_template.pkl\n",
            "Loading: /content/drive/My Drive/Colab Notebooks/Assignment2/AutoGluonModels/models/LightGBMXT_BAG_L1/utils/model_template.pkl\n",
            "Loading: /content/drive/My Drive/Colab Notebooks/Assignment2/AutoGluonModels/models/LightGBMXT_BAG_L1/utils/model_template.pkl\n",
            "Fitting 1 L1 models ...\n",
            "Fitting model: LightGBMXT_BAG_L1_FULL ...\n",
            "\tFitting LightGBMXT_BAG_L1_FULL with 'num_gpus': 0, 'num_cpus': 1\n",
            "Saving /content/drive/My Drive/Colab Notebooks/Assignment2/AutoGluonModels/models/LightGBMXT_BAG_L1_FULL/utils/model_template.pkl\n",
            "Loading: /content/drive/My Drive/Colab Notebooks/Assignment2/AutoGluonModels/models/LightGBMXT_BAG_L1_FULL/utils/model_template.pkl\n",
            "\tFitting 300 rounds... Hyperparameters: {'learning_rate': 0.05, 'extra_trees': True}\n",
            "Saving /content/drive/My Drive/Colab Notebooks/Assignment2/AutoGluonModels/models/LightGBMXT_BAG_L1_FULL/model.pkl\n",
            "\t12.36s\t = Training   runtime\n",
            "Saving /content/drive/My Drive/Colab Notebooks/Assignment2/AutoGluonModels/models/trainer.pkl\n",
            "Loading: /content/drive/My Drive/Colab Notebooks/Assignment2/AutoGluonModels/models/LightGBM_BAG_L1/model.pkl\n",
            "Loading: /content/drive/My Drive/Colab Notebooks/Assignment2/AutoGluonModels/models/LightGBM_BAG_L1/utils/model_template.pkl\n",
            "Loading: /content/drive/My Drive/Colab Notebooks/Assignment2/AutoGluonModels/models/LightGBM_BAG_L1/utils/model_template.pkl\n",
            "Loading: /content/drive/My Drive/Colab Notebooks/Assignment2/AutoGluonModels/models/LightGBM_BAG_L1/utils/model_template.pkl\n",
            "Fitting 1 L1 models ...\n",
            "Fitting model: LightGBM_BAG_L1_FULL ...\n",
            "\tFitting LightGBM_BAG_L1_FULL with 'num_gpus': 0, 'num_cpus': 1\n",
            "Saving /content/drive/My Drive/Colab Notebooks/Assignment2/AutoGluonModels/models/LightGBM_BAG_L1_FULL/utils/model_template.pkl\n",
            "Loading: /content/drive/My Drive/Colab Notebooks/Assignment2/AutoGluonModels/models/LightGBM_BAG_L1_FULL/utils/model_template.pkl\n",
            "\tFitting 197 rounds... Hyperparameters: {'learning_rate': 0.05}\n",
            "Saving /content/drive/My Drive/Colab Notebooks/Assignment2/AutoGluonModels/models/LightGBM_BAG_L1_FULL/model.pkl\n",
            "\t10.42s\t = Training   runtime\n",
            "Saving /content/drive/My Drive/Colab Notebooks/Assignment2/AutoGluonModels/models/trainer.pkl\n",
            "Loading: /content/drive/My Drive/Colab Notebooks/Assignment2/AutoGluonModels/models/RandomForestGini_BAG_L1/model.pkl\n",
            "Fitting model: RandomForestGini_BAG_L1_FULL | Skipping fit via cloning parent ...\n",
            "\t26.55s\t = Training   runtime\n",
            "\t10.07s\t = Validation runtime\n",
            "\t2931.6\t = Inference  throughput (rows/s | 29527 batch size)\n",
            "Saving /content/drive/My Drive/Colab Notebooks/Assignment2/AutoGluonModels/models/RandomForestGini_BAG_L1_FULL/model.pkl\n",
            "Loading: /content/drive/My Drive/Colab Notebooks/Assignment2/AutoGluonModels/models/RandomForestEntr_BAG_L1/model.pkl\n",
            "Fitting model: RandomForestEntr_BAG_L1_FULL | Skipping fit via cloning parent ...\n",
            "\t27.31s\t = Training   runtime\n",
            "\t10.78s\t = Validation runtime\n",
            "\t2739.3\t = Inference  throughput (rows/s | 29527 batch size)\n",
            "Saving /content/drive/My Drive/Colab Notebooks/Assignment2/AutoGluonModels/models/RandomForestEntr_BAG_L1_FULL/model.pkl\n",
            "Loading: /content/drive/My Drive/Colab Notebooks/Assignment2/AutoGluonModels/models/CatBoost_BAG_L1/model.pkl\n",
            "Loading: /content/drive/My Drive/Colab Notebooks/Assignment2/AutoGluonModels/models/CatBoost_BAG_L1/utils/model_template.pkl\n",
            "Loading: /content/drive/My Drive/Colab Notebooks/Assignment2/AutoGluonModels/models/CatBoost_BAG_L1/utils/model_template.pkl\n",
            "Loading: /content/drive/My Drive/Colab Notebooks/Assignment2/AutoGluonModels/models/CatBoost_BAG_L1/utils/model_template.pkl\n",
            "Fitting 1 L1 models ...\n",
            "Fitting model: CatBoost_BAG_L1_FULL ...\n",
            "\tFitting CatBoost_BAG_L1_FULL with 'num_gpus': 0, 'num_cpus': 1\n",
            "Saving /content/drive/My Drive/Colab Notebooks/Assignment2/AutoGluonModels/models/CatBoost_BAG_L1_FULL/utils/model_template.pkl\n",
            "Loading: /content/drive/My Drive/Colab Notebooks/Assignment2/AutoGluonModels/models/CatBoost_BAG_L1_FULL/utils/model_template.pkl\n",
            "\tCatboost model hyperparameters: {'iterations': 662, 'learning_rate': 0.05, 'random_seed': 0, 'allow_writing_files': False, 'eval_metric': 'Logloss', 'thread_count': 1}\n"
          ]
        },
        {
          "output_type": "stream",
          "name": "stdout",
          "text": [
            "0:\tlearn: 0.6107297\ttotal: 428ms\tremaining: 4m 42s\n",
            "20:\tlearn: 0.1507125\ttotal: 8.29s\tremaining: 4m 13s\n",
            "40:\tlearn: 0.1124329\ttotal: 17.4s\tremaining: 4m 23s\n",
            "60:\tlearn: 0.1027543\ttotal: 25.5s\tremaining: 4m 10s\n",
            "80:\tlearn: 0.0981664\ttotal: 34.4s\tremaining: 4m 6s\n",
            "100:\tlearn: 0.0953966\ttotal: 43.2s\tremaining: 3m 59s\n",
            "120:\tlearn: 0.0931190\ttotal: 50.8s\tremaining: 3m 47s\n",
            "140:\tlearn: 0.0913543\ttotal: 59.9s\tremaining: 3m 41s\n",
            "160:\tlearn: 0.0898198\ttotal: 1m 7s\tremaining: 3m 30s\n",
            "180:\tlearn: 0.0882370\ttotal: 1m 16s\tremaining: 3m 24s\n",
            "200:\tlearn: 0.0867736\ttotal: 1m 25s\tremaining: 3m 15s\n",
            "220:\tlearn: 0.0852927\ttotal: 1m 33s\tremaining: 3m 6s\n",
            "240:\tlearn: 0.0838864\ttotal: 1m 41s\tremaining: 2m 58s\n",
            "260:\tlearn: 0.0829325\ttotal: 1m 49s\tremaining: 2m 48s\n",
            "280:\tlearn: 0.0817389\ttotal: 1m 58s\tremaining: 2m 41s\n",
            "300:\tlearn: 0.0805347\ttotal: 2m 6s\tremaining: 2m 31s\n",
            "320:\tlearn: 0.0797422\ttotal: 2m 15s\tremaining: 2m 23s\n",
            "340:\tlearn: 0.0786584\ttotal: 2m 23s\tremaining: 2m 15s\n",
            "360:\tlearn: 0.0777195\ttotal: 2m 32s\tremaining: 2m 7s\n",
            "380:\tlearn: 0.0767104\ttotal: 2m 41s\tremaining: 1m 59s\n",
            "400:\tlearn: 0.0758485\ttotal: 2m 49s\tremaining: 1m 50s\n",
            "420:\tlearn: 0.0749014\ttotal: 2m 58s\tremaining: 1m 41s\n",
            "440:\tlearn: 0.0738541\ttotal: 3m 6s\tremaining: 1m 33s\n",
            "460:\tlearn: 0.0730556\ttotal: 3m 14s\tremaining: 1m 25s\n",
            "480:\tlearn: 0.0722820\ttotal: 3m 23s\tremaining: 1m 16s\n",
            "500:\tlearn: 0.0714788\ttotal: 3m 31s\tremaining: 1m 8s\n",
            "520:\tlearn: 0.0707479\ttotal: 3m 40s\tremaining: 59.7s\n",
            "540:\tlearn: 0.0699513\ttotal: 3m 48s\tremaining: 51.1s\n",
            "560:\tlearn: 0.0689864\ttotal: 3m 57s\tremaining: 42.8s\n",
            "580:\tlearn: 0.0683015\ttotal: 4m 5s\tremaining: 34.2s\n",
            "600:\tlearn: 0.0673560\ttotal: 4m 14s\tremaining: 25.8s\n",
            "620:\tlearn: 0.0667418\ttotal: 4m 22s\tremaining: 17.4s\n",
            "640:\tlearn: 0.0659545\ttotal: 4m 30s\tremaining: 8.86s\n",
            "660:\tlearn: 0.0654404\ttotal: 4m 39s\tremaining: 422ms\n",
            "661:\tlearn: 0.0654260\ttotal: 4m 39s\tremaining: 0us\n"
          ]
        },
        {
          "output_type": "stream",
          "name": "stderr",
          "text": [
            "Saving /content/drive/My Drive/Colab Notebooks/Assignment2/AutoGluonModels/models/CatBoost_BAG_L1_FULL/model.pkl\n",
            "\t281.65s\t = Training   runtime\n",
            "Saving /content/drive/My Drive/Colab Notebooks/Assignment2/AutoGluonModels/models/trainer.pkl\n",
            "Loading: /content/drive/My Drive/Colab Notebooks/Assignment2/AutoGluonModels/models/ExtraTreesGini_BAG_L1/model.pkl\n",
            "Fitting model: ExtraTreesGini_BAG_L1_FULL | Skipping fit via cloning parent ...\n",
            "\t19.04s\t = Training   runtime\n",
            "\t11.1s\t = Validation runtime\n",
            "\t2659.4\t = Inference  throughput (rows/s | 29527 batch size)\n",
            "Saving /content/drive/My Drive/Colab Notebooks/Assignment2/AutoGluonModels/models/ExtraTreesGini_BAG_L1_FULL/model.pkl\n",
            "Loading: /content/drive/My Drive/Colab Notebooks/Assignment2/AutoGluonModels/models/ExtraTreesEntr_BAG_L1/model.pkl\n",
            "Fitting model: ExtraTreesEntr_BAG_L1_FULL | Skipping fit via cloning parent ...\n",
            "\t20.28s\t = Training   runtime\n",
            "\t11.22s\t = Validation runtime\n",
            "\t2632.0\t = Inference  throughput (rows/s | 29527 batch size)\n",
            "Saving /content/drive/My Drive/Colab Notebooks/Assignment2/AutoGluonModels/models/ExtraTreesEntr_BAG_L1_FULL/model.pkl\n",
            "Loading: /content/drive/My Drive/Colab Notebooks/Assignment2/AutoGluonModels/models/WeightedEnsemble_L2/model.pkl\n",
            "Fitting model: WeightedEnsemble_L2_FULL | Skipping fit via cloning parent ...\n",
            "\tEnsemble Weights: {'LightGBM_BAG_L1': 0.435, 'LightGBMXT_BAG_L1': 0.348, 'CatBoost_BAG_L1': 0.13, 'RandomForestEntr_BAG_L1': 0.087}\n",
            "\t1.4s\t = Training   runtime\n",
            "Saving /content/drive/My Drive/Colab Notebooks/Assignment2/AutoGluonModels/models/WeightedEnsemble_L2_FULL/model.pkl\n",
            "Saving /content/drive/My Drive/Colab Notebooks/Assignment2/AutoGluonModels/models/trainer.pkl\n",
            "Loading: /content/drive/My Drive/Colab Notebooks/Assignment2/AutoGluonModels/models/LightGBMXT_BAG_L1_FULL/model.pkl\n",
            "Saving /content/drive/My Drive/Colab Notebooks/Assignment2/AutoGluonModels/models/LightGBMXT_BAG_L1_FULL/model.pkl\n",
            "Loading: /content/drive/My Drive/Colab Notebooks/Assignment2/AutoGluonModels/models/LightGBM_BAG_L1_FULL/model.pkl\n",
            "Saving /content/drive/My Drive/Colab Notebooks/Assignment2/AutoGluonModels/models/LightGBM_BAG_L1_FULL/model.pkl\n",
            "Loading: /content/drive/My Drive/Colab Notebooks/Assignment2/AutoGluonModels/models/RandomForestGini_BAG_L1_FULL/model.pkl\n",
            "Saving /content/drive/My Drive/Colab Notebooks/Assignment2/AutoGluonModels/models/RandomForestGini_BAG_L1_FULL/model.pkl\n",
            "Loading: /content/drive/My Drive/Colab Notebooks/Assignment2/AutoGluonModels/models/RandomForestEntr_BAG_L1_FULL/model.pkl\n",
            "Saving /content/drive/My Drive/Colab Notebooks/Assignment2/AutoGluonModels/models/RandomForestEntr_BAG_L1_FULL/model.pkl\n",
            "Loading: /content/drive/My Drive/Colab Notebooks/Assignment2/AutoGluonModels/models/CatBoost_BAG_L1_FULL/model.pkl\n",
            "Saving /content/drive/My Drive/Colab Notebooks/Assignment2/AutoGluonModels/models/CatBoost_BAG_L1_FULL/model.pkl\n",
            "Loading: /content/drive/My Drive/Colab Notebooks/Assignment2/AutoGluonModels/models/ExtraTreesGini_BAG_L1_FULL/model.pkl\n",
            "Saving /content/drive/My Drive/Colab Notebooks/Assignment2/AutoGluonModels/models/ExtraTreesGini_BAG_L1_FULL/model.pkl\n",
            "Loading: /content/drive/My Drive/Colab Notebooks/Assignment2/AutoGluonModels/models/ExtraTreesEntr_BAG_L1_FULL/model.pkl\n",
            "Saving /content/drive/My Drive/Colab Notebooks/Assignment2/AutoGluonModels/models/ExtraTreesEntr_BAG_L1_FULL/model.pkl\n",
            "Loading: /content/drive/My Drive/Colab Notebooks/Assignment2/AutoGluonModels/models/WeightedEnsemble_L2_FULL/model.pkl\n",
            "Saving /content/drive/My Drive/Colab Notebooks/Assignment2/AutoGluonModels/models/WeightedEnsemble_L2_FULL/model.pkl\n",
            "Saving /content/drive/My Drive/Colab Notebooks/Assignment2/AutoGluonModels/models/trainer.pkl\n",
            "Saving /content/drive/My Drive/Colab Notebooks/Assignment2/AutoGluonModels/models/trainer.pkl\n",
            "Updated best model to \"WeightedEnsemble_L2_FULL\" (Previously \"WeightedEnsemble_L2\"). AutoGluon will default to using \"WeightedEnsemble_L2_FULL\" for predict() and predict_proba().\n",
            "Refit complete, total runtime = 317.67s ... Best model: \"WeightedEnsemble_L2_FULL\"\n",
            "Loading: /content/drive/My Drive/Colab Notebooks/Assignment2/AutoGluonModels/models/LightGBMXT_BAG_L1/model.pkl\n",
            "Saving /content/drive/My Drive/Colab Notebooks/Assignment2/AutoGluonModels/models/LightGBMXT_BAG_L1/model.pkl\n",
            "Loading: /content/drive/My Drive/Colab Notebooks/Assignment2/AutoGluonModels/models/LightGBM_BAG_L1/model.pkl\n",
            "Saving /content/drive/My Drive/Colab Notebooks/Assignment2/AutoGluonModels/models/LightGBM_BAG_L1/model.pkl\n",
            "Loading: /content/drive/My Drive/Colab Notebooks/Assignment2/AutoGluonModels/models/RandomForestGini_BAG_L1/model.pkl\n",
            "Saving /content/drive/My Drive/Colab Notebooks/Assignment2/AutoGluonModels/models/RandomForestGini_BAG_L1/model.pkl\n",
            "Loading: /content/drive/My Drive/Colab Notebooks/Assignment2/AutoGluonModels/models/RandomForestEntr_BAG_L1/model.pkl\n",
            "Saving /content/drive/My Drive/Colab Notebooks/Assignment2/AutoGluonModels/models/RandomForestEntr_BAG_L1/model.pkl\n",
            "Loading: /content/drive/My Drive/Colab Notebooks/Assignment2/AutoGluonModels/models/CatBoost_BAG_L1/model.pkl\n",
            "Saving /content/drive/My Drive/Colab Notebooks/Assignment2/AutoGluonModels/models/CatBoost_BAG_L1/model.pkl\n",
            "Loading: /content/drive/My Drive/Colab Notebooks/Assignment2/AutoGluonModels/models/ExtraTreesGini_BAG_L1/model.pkl\n",
            "Saving /content/drive/My Drive/Colab Notebooks/Assignment2/AutoGluonModels/models/ExtraTreesGini_BAG_L1/model.pkl\n",
            "Loading: /content/drive/My Drive/Colab Notebooks/Assignment2/AutoGluonModels/models/ExtraTreesEntr_BAG_L1/model.pkl\n",
            "Saving /content/drive/My Drive/Colab Notebooks/Assignment2/AutoGluonModels/models/ExtraTreesEntr_BAG_L1/model.pkl\n",
            "Loading: /content/drive/My Drive/Colab Notebooks/Assignment2/AutoGluonModels/models/WeightedEnsemble_L2/model.pkl\n",
            "Saving /content/drive/My Drive/Colab Notebooks/Assignment2/AutoGluonModels/models/WeightedEnsemble_L2/model.pkl\n",
            "Loading: /content/drive/My Drive/Colab Notebooks/Assignment2/AutoGluonModels/models/LightGBMXT_BAG_L1_FULL/model.pkl\n",
            "Saving /content/drive/My Drive/Colab Notebooks/Assignment2/AutoGluonModels/models/LightGBMXT_BAG_L1_FULL/model.pkl\n",
            "Loading: /content/drive/My Drive/Colab Notebooks/Assignment2/AutoGluonModels/models/LightGBM_BAG_L1_FULL/model.pkl\n",
            "Saving /content/drive/My Drive/Colab Notebooks/Assignment2/AutoGluonModels/models/LightGBM_BAG_L1_FULL/model.pkl\n",
            "Loading: /content/drive/My Drive/Colab Notebooks/Assignment2/AutoGluonModels/models/RandomForestGini_BAG_L1_FULL/model.pkl\n",
            "Saving /content/drive/My Drive/Colab Notebooks/Assignment2/AutoGluonModels/models/RandomForestGini_BAG_L1_FULL/model.pkl\n",
            "Loading: /content/drive/My Drive/Colab Notebooks/Assignment2/AutoGluonModels/models/RandomForestEntr_BAG_L1_FULL/model.pkl\n",
            "Saving /content/drive/My Drive/Colab Notebooks/Assignment2/AutoGluonModels/models/RandomForestEntr_BAG_L1_FULL/model.pkl\n",
            "Loading: /content/drive/My Drive/Colab Notebooks/Assignment2/AutoGluonModels/models/CatBoost_BAG_L1_FULL/model.pkl\n",
            "Saving /content/drive/My Drive/Colab Notebooks/Assignment2/AutoGluonModels/models/CatBoost_BAG_L1_FULL/model.pkl\n",
            "Loading: /content/drive/My Drive/Colab Notebooks/Assignment2/AutoGluonModels/models/ExtraTreesGini_BAG_L1_FULL/model.pkl\n",
            "Saving /content/drive/My Drive/Colab Notebooks/Assignment2/AutoGluonModels/models/ExtraTreesGini_BAG_L1_FULL/model.pkl\n",
            "Loading: /content/drive/My Drive/Colab Notebooks/Assignment2/AutoGluonModels/models/ExtraTreesEntr_BAG_L1_FULL/model.pkl\n",
            "Saving /content/drive/My Drive/Colab Notebooks/Assignment2/AutoGluonModels/models/ExtraTreesEntr_BAG_L1_FULL/model.pkl\n",
            "Loading: /content/drive/My Drive/Colab Notebooks/Assignment2/AutoGluonModels/models/WeightedEnsemble_L2_FULL/model.pkl\n",
            "Saving /content/drive/My Drive/Colab Notebooks/Assignment2/AutoGluonModels/models/WeightedEnsemble_L2_FULL/model.pkl\n",
            "Saving /content/drive/My Drive/Colab Notebooks/Assignment2/AutoGluonModels/models/trainer.pkl\n",
            "Saving /content/drive/My Drive/Colab Notebooks/Assignment2/AutoGluonModels/models/trainer.pkl\n",
            "Saving /content/drive/My Drive/Colab Notebooks/Assignment2/AutoGluonModels/learner.pkl\n",
            "Saving /content/drive/My Drive/Colab Notebooks/Assignment2/AutoGluonModels/predictor.pkl\n",
            "Saving /content/drive/My Drive/Colab Notebooks/Assignment2/AutoGluonModels/version.txt with contents \"1.1.1\"\n",
            "Saving /content/drive/My Drive/Colab Notebooks/Assignment2/AutoGluonModels/metadata.json\n",
            "TabularPredictor saved. To load, use: predictor = TabularPredictor.load(\"/content/drive/My Drive/Colab Notebooks/Assignment2/AutoGluonModels/\")\n",
            "Loading: /content/drive/My Drive/Colab Notebooks/Assignment2/AutoGluonModels/models/LightGBMXT_BAG_L1/model.pkl\n",
            "Loading: /content/drive/My Drive/Colab Notebooks/Assignment2/AutoGluonModels/models/LightGBM_BAG_L1/model.pkl\n",
            "Loading: /content/drive/My Drive/Colab Notebooks/Assignment2/AutoGluonModels/models/RandomForestGini_BAG_L1/model.pkl\n",
            "Loading: /content/drive/My Drive/Colab Notebooks/Assignment2/AutoGluonModels/models/RandomForestEntr_BAG_L1/model.pkl\n",
            "Loading: /content/drive/My Drive/Colab Notebooks/Assignment2/AutoGluonModels/models/CatBoost_BAG_L1/model.pkl\n",
            "Loading: /content/drive/My Drive/Colab Notebooks/Assignment2/AutoGluonModels/models/ExtraTreesGini_BAG_L1/model.pkl\n",
            "Loading: /content/drive/My Drive/Colab Notebooks/Assignment2/AutoGluonModels/models/ExtraTreesEntr_BAG_L1/model.pkl\n",
            "Loading: /content/drive/My Drive/Colab Notebooks/Assignment2/AutoGluonModels/models/WeightedEnsemble_L2/model.pkl\n",
            "Loading: /content/drive/My Drive/Colab Notebooks/Assignment2/AutoGluonModels/models/LightGBMXT_BAG_L1_FULL/model.pkl\n",
            "Loading: /content/drive/My Drive/Colab Notebooks/Assignment2/AutoGluonModels/models/LightGBM_BAG_L1_FULL/model.pkl\n",
            "Loading: /content/drive/My Drive/Colab Notebooks/Assignment2/AutoGluonModels/models/RandomForestGini_BAG_L1_FULL/model.pkl\n",
            "Loading: /content/drive/My Drive/Colab Notebooks/Assignment2/AutoGluonModels/models/RandomForestEntr_BAG_L1_FULL/model.pkl\n",
            "Loading: /content/drive/My Drive/Colab Notebooks/Assignment2/AutoGluonModels/models/CatBoost_BAG_L1_FULL/model.pkl\n",
            "Loading: /content/drive/My Drive/Colab Notebooks/Assignment2/AutoGluonModels/models/ExtraTreesGini_BAG_L1_FULL/model.pkl\n",
            "Loading: /content/drive/My Drive/Colab Notebooks/Assignment2/AutoGluonModels/models/ExtraTreesEntr_BAG_L1_FULL/model.pkl\n",
            "Loading: /content/drive/My Drive/Colab Notebooks/Assignment2/AutoGluonModels/models/WeightedEnsemble_L2_FULL/model.pkl\n"
          ]
        },
        {
          "output_type": "stream",
          "name": "stdout",
          "text": [
            "*** Summary of fit() ***\n",
            "Estimated performance of each model:\n",
            "                           model  score_val eval_metric  pred_time_val     fit_time  pred_time_val_marginal  fit_time_marginal  stack_level  can_infer  fit_order\n",
            "0            WeightedEnsemble_L2   0.903522     roc_auc      14.357671  2461.819827                0.007780           1.396274            2      False          8\n",
            "1                LightGBM_BAG_L1   0.898952     roc_auc       1.156016   119.642109                1.156016         119.642109            1      False          2\n",
            "2              LightGBMXT_BAG_L1   0.898299     roc_auc       1.631237   136.158472                1.631237         136.158472            1      False          1\n",
            "3                CatBoost_BAG_L1   0.889813     roc_auc       0.783646  2177.313576                0.783646        2177.313576            1      False          5\n",
            "4        RandomForestEntr_BAG_L1   0.882751     roc_auc      10.778992    27.309397               10.778992          27.309397            1       True          4\n",
            "5        RandomForestGini_BAG_L1   0.870441     roc_auc      10.071839    26.545606               10.071839          26.545606            1       True          3\n",
            "6          ExtraTreesEntr_BAG_L1   0.862807     roc_auc      11.218274    20.281450               11.218274          20.281450            1       True          7\n",
            "7          ExtraTreesGini_BAG_L1   0.857824     roc_auc      11.102743    19.043598               11.102743          19.043598            1       True          6\n",
            "8   RandomForestGini_BAG_L1_FULL        NaN     roc_auc      10.071839    26.545606               10.071839          26.545606            1       True         11\n",
            "9   RandomForestEntr_BAG_L1_FULL        NaN     roc_auc      10.778992    27.309397               10.778992          27.309397            1       True         12\n",
            "10    ExtraTreesGini_BAG_L1_FULL        NaN     roc_auc      11.102743    19.043598               11.102743          19.043598            1       True         14\n",
            "11    ExtraTreesEntr_BAG_L1_FULL        NaN     roc_auc      11.218274    20.281450               11.218274          20.281450            1       True         15\n",
            "12      WeightedEnsemble_L2_FULL        NaN     roc_auc            NaN   333.129411                     NaN           1.396274            2       True         16\n",
            "13          LightGBM_BAG_L1_FULL        NaN     roc_auc            NaN    10.416615                     NaN          10.416615            1       True         10\n",
            "14        LightGBMXT_BAG_L1_FULL        NaN     roc_auc            NaN    12.360212                     NaN          12.360212            1       True          9\n",
            "15          CatBoost_BAG_L1_FULL        NaN     roc_auc            NaN   281.646914                     NaN         281.646914            1       True         13\n",
            "Number of models trained: 16\n",
            "Types of models trained:\n",
            "{'StackerEnsembleModel_XT', 'WeightedEnsembleModel', 'StackerEnsembleModel_CatBoost', 'StackerEnsembleModel_LGB', 'StackerEnsembleModel_RF'}\n",
            "Bagging used: True  (with 8 folds)\n",
            "Multi-layer stack-ensembling used: False \n",
            "Feature Metadata (Processed):\n",
            "(raw dtype, special dtypes):\n",
            "('category', []) :  31 | ['ProductCD', 'card4', 'card6', 'P_emaildomain', 'R_emaildomain', ...]\n",
            "('float', [])    : 396 | ['TransactionAmt', 'card2', 'card3', 'card5', 'addr1', ...]\n",
            "('int', [])      :   3 | ['TransactionID', 'TransactionDT', 'card1']\n",
            "Plot summary of models saved to file: /content/drive/My Drive/Colab Notebooks/Assignment2/AutoGluonModels/SummaryOfModels.html\n",
            "*** End of fit() summary ***\n"
          ]
        }
      ],
      "source": [
        "# Assuming train_data is a pandas DataFrame\n",
        "downsampled_data = train_data.sample(frac=0.05, random_state=42)  # 5% of the original data\n",
        "\n",
        "predictor = TabularPredictor(label=label, eval_metric=eval_metric, path=save_path, verbosity=3).fit(\n",
        "    downsampled_data, presets='good_quality', save_space=True, time_limit=3600\n",
        ")\n",
        "\n",
        "results = predictor.fit_summary()"
      ]
    },
    {
      "cell_type": "code",
      "execution_count": null,
      "metadata": {
        "colab": {
          "base_uri": "https://localhost:8080/",
          "height": 293
        },
        "id": "2pn9awnjJK3l",
        "outputId": "6cab1680-7550-4362-c2de-4fc1bcd7f877"
      },
      "outputs": [
        {
          "output_type": "stream",
          "name": "stderr",
          "text": [
            "Loading: /content/drive/My Drive/Colab Notebooks/Assignment2/AutoGluonModels/models/CatBoost_BAG_L1_FULL/model.pkl\n",
            "Loading: /content/drive/My Drive/Colab Notebooks/Assignment2/AutoGluonModels/models/LightGBMXT_BAG_L1_FULL/model.pkl\n",
            "Loading: /content/drive/My Drive/Colab Notebooks/Assignment2/AutoGluonModels/models/LightGBM_BAG_L1_FULL/model.pkl\n",
            "Loading: /content/drive/My Drive/Colab Notebooks/Assignment2/AutoGluonModels/models/RandomForestEntr_BAG_L1_FULL/model.pkl\n",
            "Loading: /content/drive/My Drive/Colab Notebooks/Assignment2/AutoGluonModels/models/WeightedEnsemble_L2_FULL/model.pkl\n"
          ]
        },
        {
          "output_type": "execute_result",
          "data": {
            "text/plain": [
              "          0         1\n",
              "0  0.998493  0.001507\n",
              "1  0.997059  0.002941\n",
              "2  0.989847  0.010153\n",
              "3  0.994413  0.005587\n",
              "4  0.995455  0.004545"
            ],
            "text/html": [
              "\n",
              "  <div id=\"df-0f62b956-6bfb-4cdb-8fb2-7145884a8a94\" class=\"colab-df-container\">\n",
              "    <div>\n",
              "<style scoped>\n",
              "    .dataframe tbody tr th:only-of-type {\n",
              "        vertical-align: middle;\n",
              "    }\n",
              "\n",
              "    .dataframe tbody tr th {\n",
              "        vertical-align: top;\n",
              "    }\n",
              "\n",
              "    .dataframe thead th {\n",
              "        text-align: right;\n",
              "    }\n",
              "</style>\n",
              "<table border=\"1\" class=\"dataframe\">\n",
              "  <thead>\n",
              "    <tr style=\"text-align: right;\">\n",
              "      <th></th>\n",
              "      <th>0</th>\n",
              "      <th>1</th>\n",
              "    </tr>\n",
              "  </thead>\n",
              "  <tbody>\n",
              "    <tr>\n",
              "      <th>0</th>\n",
              "      <td>0.998493</td>\n",
              "      <td>0.001507</td>\n",
              "    </tr>\n",
              "    <tr>\n",
              "      <th>1</th>\n",
              "      <td>0.997059</td>\n",
              "      <td>0.002941</td>\n",
              "    </tr>\n",
              "    <tr>\n",
              "      <th>2</th>\n",
              "      <td>0.989847</td>\n",
              "      <td>0.010153</td>\n",
              "    </tr>\n",
              "    <tr>\n",
              "      <th>3</th>\n",
              "      <td>0.994413</td>\n",
              "      <td>0.005587</td>\n",
              "    </tr>\n",
              "    <tr>\n",
              "      <th>4</th>\n",
              "      <td>0.995455</td>\n",
              "      <td>0.004545</td>\n",
              "    </tr>\n",
              "  </tbody>\n",
              "</table>\n",
              "</div>\n",
              "    <div class=\"colab-df-buttons\">\n",
              "\n",
              "  <div class=\"colab-df-container\">\n",
              "    <button class=\"colab-df-convert\" onclick=\"convertToInteractive('df-0f62b956-6bfb-4cdb-8fb2-7145884a8a94')\"\n",
              "            title=\"Convert this dataframe to an interactive table.\"\n",
              "            style=\"display:none;\">\n",
              "\n",
              "  <svg xmlns=\"http://www.w3.org/2000/svg\" height=\"24px\" viewBox=\"0 -960 960 960\">\n",
              "    <path d=\"M120-120v-720h720v720H120Zm60-500h600v-160H180v160Zm220 220h160v-160H400v160Zm0 220h160v-160H400v160ZM180-400h160v-160H180v160Zm440 0h160v-160H620v160ZM180-180h160v-160H180v160Zm440 0h160v-160H620v160Z\"/>\n",
              "  </svg>\n",
              "    </button>\n",
              "\n",
              "  <style>\n",
              "    .colab-df-container {\n",
              "      display:flex;\n",
              "      gap: 12px;\n",
              "    }\n",
              "\n",
              "    .colab-df-convert {\n",
              "      background-color: #E8F0FE;\n",
              "      border: none;\n",
              "      border-radius: 50%;\n",
              "      cursor: pointer;\n",
              "      display: none;\n",
              "      fill: #1967D2;\n",
              "      height: 32px;\n",
              "      padding: 0 0 0 0;\n",
              "      width: 32px;\n",
              "    }\n",
              "\n",
              "    .colab-df-convert:hover {\n",
              "      background-color: #E2EBFA;\n",
              "      box-shadow: 0px 1px 2px rgba(60, 64, 67, 0.3), 0px 1px 3px 1px rgba(60, 64, 67, 0.15);\n",
              "      fill: #174EA6;\n",
              "    }\n",
              "\n",
              "    .colab-df-buttons div {\n",
              "      margin-bottom: 4px;\n",
              "    }\n",
              "\n",
              "    [theme=dark] .colab-df-convert {\n",
              "      background-color: #3B4455;\n",
              "      fill: #D2E3FC;\n",
              "    }\n",
              "\n",
              "    [theme=dark] .colab-df-convert:hover {\n",
              "      background-color: #434B5C;\n",
              "      box-shadow: 0px 1px 3px 1px rgba(0, 0, 0, 0.15);\n",
              "      filter: drop-shadow(0px 1px 2px rgba(0, 0, 0, 0.3));\n",
              "      fill: #FFFFFF;\n",
              "    }\n",
              "  </style>\n",
              "\n",
              "    <script>\n",
              "      const buttonEl =\n",
              "        document.querySelector('#df-0f62b956-6bfb-4cdb-8fb2-7145884a8a94 button.colab-df-convert');\n",
              "      buttonEl.style.display =\n",
              "        google.colab.kernel.accessAllowed ? 'block' : 'none';\n",
              "\n",
              "      async function convertToInteractive(key) {\n",
              "        const element = document.querySelector('#df-0f62b956-6bfb-4cdb-8fb2-7145884a8a94');\n",
              "        const dataTable =\n",
              "          await google.colab.kernel.invokeFunction('convertToInteractive',\n",
              "                                                    [key], {});\n",
              "        if (!dataTable) return;\n",
              "\n",
              "        const docLinkHtml = 'Like what you see? Visit the ' +\n",
              "          '<a target=\"_blank\" href=https://colab.research.google.com/notebooks/data_table.ipynb>data table notebook</a>'\n",
              "          + ' to learn more about interactive tables.';\n",
              "        element.innerHTML = '';\n",
              "        dataTable['output_type'] = 'display_data';\n",
              "        await google.colab.output.renderOutput(dataTable, element);\n",
              "        const docLink = document.createElement('div');\n",
              "        docLink.innerHTML = docLinkHtml;\n",
              "        element.appendChild(docLink);\n",
              "      }\n",
              "    </script>\n",
              "  </div>\n",
              "\n",
              "\n",
              "<div id=\"df-24356f4c-a59d-4331-8736-db1411dcbfdb\">\n",
              "  <button class=\"colab-df-quickchart\" onclick=\"quickchart('df-24356f4c-a59d-4331-8736-db1411dcbfdb')\"\n",
              "            title=\"Suggest charts\"\n",
              "            style=\"display:none;\">\n",
              "\n",
              "<svg xmlns=\"http://www.w3.org/2000/svg\" height=\"24px\"viewBox=\"0 0 24 24\"\n",
              "     width=\"24px\">\n",
              "    <g>\n",
              "        <path d=\"M19 3H5c-1.1 0-2 .9-2 2v14c0 1.1.9 2 2 2h14c1.1 0 2-.9 2-2V5c0-1.1-.9-2-2-2zM9 17H7v-7h2v7zm4 0h-2V7h2v10zm4 0h-2v-4h2v4z\"/>\n",
              "    </g>\n",
              "</svg>\n",
              "  </button>\n",
              "\n",
              "<style>\n",
              "  .colab-df-quickchart {\n",
              "      --bg-color: #E8F0FE;\n",
              "      --fill-color: #1967D2;\n",
              "      --hover-bg-color: #E2EBFA;\n",
              "      --hover-fill-color: #174EA6;\n",
              "      --disabled-fill-color: #AAA;\n",
              "      --disabled-bg-color: #DDD;\n",
              "  }\n",
              "\n",
              "  [theme=dark] .colab-df-quickchart {\n",
              "      --bg-color: #3B4455;\n",
              "      --fill-color: #D2E3FC;\n",
              "      --hover-bg-color: #434B5C;\n",
              "      --hover-fill-color: #FFFFFF;\n",
              "      --disabled-bg-color: #3B4455;\n",
              "      --disabled-fill-color: #666;\n",
              "  }\n",
              "\n",
              "  .colab-df-quickchart {\n",
              "    background-color: var(--bg-color);\n",
              "    border: none;\n",
              "    border-radius: 50%;\n",
              "    cursor: pointer;\n",
              "    display: none;\n",
              "    fill: var(--fill-color);\n",
              "    height: 32px;\n",
              "    padding: 0;\n",
              "    width: 32px;\n",
              "  }\n",
              "\n",
              "  .colab-df-quickchart:hover {\n",
              "    background-color: var(--hover-bg-color);\n",
              "    box-shadow: 0 1px 2px rgba(60, 64, 67, 0.3), 0 1px 3px 1px rgba(60, 64, 67, 0.15);\n",
              "    fill: var(--button-hover-fill-color);\n",
              "  }\n",
              "\n",
              "  .colab-df-quickchart-complete:disabled,\n",
              "  .colab-df-quickchart-complete:disabled:hover {\n",
              "    background-color: var(--disabled-bg-color);\n",
              "    fill: var(--disabled-fill-color);\n",
              "    box-shadow: none;\n",
              "  }\n",
              "\n",
              "  .colab-df-spinner {\n",
              "    border: 2px solid var(--fill-color);\n",
              "    border-color: transparent;\n",
              "    border-bottom-color: var(--fill-color);\n",
              "    animation:\n",
              "      spin 1s steps(1) infinite;\n",
              "  }\n",
              "\n",
              "  @keyframes spin {\n",
              "    0% {\n",
              "      border-color: transparent;\n",
              "      border-bottom-color: var(--fill-color);\n",
              "      border-left-color: var(--fill-color);\n",
              "    }\n",
              "    20% {\n",
              "      border-color: transparent;\n",
              "      border-left-color: var(--fill-color);\n",
              "      border-top-color: var(--fill-color);\n",
              "    }\n",
              "    30% {\n",
              "      border-color: transparent;\n",
              "      border-left-color: var(--fill-color);\n",
              "      border-top-color: var(--fill-color);\n",
              "      border-right-color: var(--fill-color);\n",
              "    }\n",
              "    40% {\n",
              "      border-color: transparent;\n",
              "      border-right-color: var(--fill-color);\n",
              "      border-top-color: var(--fill-color);\n",
              "    }\n",
              "    60% {\n",
              "      border-color: transparent;\n",
              "      border-right-color: var(--fill-color);\n",
              "    }\n",
              "    80% {\n",
              "      border-color: transparent;\n",
              "      border-right-color: var(--fill-color);\n",
              "      border-bottom-color: var(--fill-color);\n",
              "    }\n",
              "    90% {\n",
              "      border-color: transparent;\n",
              "      border-bottom-color: var(--fill-color);\n",
              "    }\n",
              "  }\n",
              "</style>\n",
              "\n",
              "  <script>\n",
              "    async function quickchart(key) {\n",
              "      const quickchartButtonEl =\n",
              "        document.querySelector('#' + key + ' button');\n",
              "      quickchartButtonEl.disabled = true;  // To prevent multiple clicks.\n",
              "      quickchartButtonEl.classList.add('colab-df-spinner');\n",
              "      try {\n",
              "        const charts = await google.colab.kernel.invokeFunction(\n",
              "            'suggestCharts', [key], {});\n",
              "      } catch (error) {\n",
              "        console.error('Error during call to suggestCharts:', error);\n",
              "      }\n",
              "      quickchartButtonEl.classList.remove('colab-df-spinner');\n",
              "      quickchartButtonEl.classList.add('colab-df-quickchart-complete');\n",
              "    }\n",
              "    (() => {\n",
              "      let quickchartButtonEl =\n",
              "        document.querySelector('#df-24356f4c-a59d-4331-8736-db1411dcbfdb button');\n",
              "      quickchartButtonEl.style.display =\n",
              "        google.colab.kernel.accessAllowed ? 'block' : 'none';\n",
              "    })();\n",
              "  </script>\n",
              "</div>\n",
              "\n",
              "    </div>\n",
              "  </div>\n"
            ],
            "application/vnd.google.colaboratory.intrinsic+json": {
              "type": "dataframe",
              "variable_name": "y_predproba"
            }
          },
          "metadata": {},
          "execution_count": 6
        }
      ],
      "source": [
        "test_identity = pd.read_csv(directory+'test_identity.csv')\n",
        "test_transaction = pd.read_csv(directory+'test_transaction.csv')\n",
        "test_data = pd.merge(test_transaction, test_identity, on='TransactionID', how='left')  # same join applied to training files\n",
        "\n",
        "y_predproba = predictor.predict_proba(test_data)\n",
        "y_predproba.head(5)  # some example predicted fraud-probabilities"
      ]
    },
    {
      "cell_type": "code",
      "source": [
        "predictor.positive_class"
      ],
      "metadata": {
        "colab": {
          "base_uri": "https://localhost:8080/"
        },
        "id": "pUuWiJ9OuUPV",
        "outputId": "cc7f4115-0cd8-4441-c34f-bd431d7921c9"
      },
      "execution_count": null,
      "outputs": [
        {
          "output_type": "execute_result",
          "data": {
            "text/plain": [
              "1"
            ]
          },
          "metadata": {},
          "execution_count": 7
        }
      ]
    },
    {
      "cell_type": "code",
      "source": [
        "predictor.class_labels  # classes in this list correspond to columns of predict_proba() output"
      ],
      "metadata": {
        "colab": {
          "base_uri": "https://localhost:8080/"
        },
        "id": "CRbYrBo3uVAp",
        "outputId": "33196b7a-f1f4-4fb3-83f6-eb5bc134b2d8"
      },
      "execution_count": null,
      "outputs": [
        {
          "output_type": "execute_result",
          "data": {
            "text/plain": [
              "[0, 1]"
            ]
          },
          "metadata": {},
          "execution_count": 8
        }
      ]
    },
    {
      "cell_type": "code",
      "source": [
        "y_predproba = predictor.predict_proba(test_data, as_multiclass=False)"
      ],
      "metadata": {
        "colab": {
          "base_uri": "https://localhost:8080/"
        },
        "id": "VcRZbKr_uXAH",
        "outputId": "83704bcf-f5ae-4f4a-8951-825cd79eaf13"
      },
      "execution_count": null,
      "outputs": [
        {
          "output_type": "stream",
          "name": "stderr",
          "text": [
            "Loading: /content/drive/My Drive/Colab Notebooks/Assignment2/AutoGluonModels/models/CatBoost_BAG_L1_FULL/model.pkl\n",
            "Loading: /content/drive/My Drive/Colab Notebooks/Assignment2/AutoGluonModels/models/LightGBMXT_BAG_L1_FULL/model.pkl\n",
            "Loading: /content/drive/My Drive/Colab Notebooks/Assignment2/AutoGluonModels/models/LightGBM_BAG_L1_FULL/model.pkl\n",
            "Loading: /content/drive/My Drive/Colab Notebooks/Assignment2/AutoGluonModels/models/RandomForestEntr_BAG_L1_FULL/model.pkl\n",
            "Loading: /content/drive/My Drive/Colab Notebooks/Assignment2/AutoGluonModels/models/WeightedEnsemble_L2_FULL/model.pkl\n"
          ]
        }
      ]
    },
    {
      "cell_type": "code",
      "source": [
        "submission = pd.read_csv(directory+'sample_submission.csv')\n",
        "submission['isFraud'] = y_predproba\n",
        "submission.head()\n",
        "submission.to_csv(directory+'my_submission.csv', index=False)"
      ],
      "metadata": {
        "id": "iRhF2HUEuY4C"
      },
      "execution_count": null,
      "outputs": []
    }
  ],
  "metadata": {
    "colab": {
      "provenance": []
    },
    "kernelspec": {
      "display_name": "Python 3",
      "name": "python3"
    },
    "language_info": {
      "name": "python"
    }
  },
  "nbformat": 4,
  "nbformat_minor": 0
}